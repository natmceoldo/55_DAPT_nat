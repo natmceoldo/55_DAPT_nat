{
 "cells": [
  {
   "cell_type": "markdown",
   "metadata": {},
   "source": [
    "# Object-Oriented Paradigm"
   ]
  },
  {
   "cell_type": "markdown",
   "metadata": {},
   "source": [
    "Introduction to object-oriented computer paradigm"
   ]
  },
  {
   "cell_type": "markdown",
   "metadata": {},
   "source": [
    "## Classes"
   ]
  },
  {
   "cell_type": "code",
   "execution_count": 1,
   "metadata": {},
   "outputs": [],
   "source": [
    "#criação de classe\n",
    "class User:\n",
    "    '''\n",
    "        Classe que cria um usuário.\n",
    "    '''\n",
    "    def __init__(self, user_id, location, creation_date):\n",
    "        '''\n",
    "            Id\n",
    "            localização\n",
    "            data de criação\n",
    "        '''\n",
    "        self.user_id=user_id\n",
    "        self.location=location\n",
    "        self.creation_date=creation_date\n",
    "        \n",
    "    def __repr__(self):\n",
    "        '''\n",
    "            Printa a mensagem ao invés do endereço de memória\n",
    "        '''\n",
    "        return f'Esse é o usuário {self.user_id}' "
   ]
  },
  {
   "cell_type": "code",
   "execution_count": 2,
   "metadata": {},
   "outputs": [],
   "source": [
    "#para criar o objeto user_123, que é do tipo User, instancia-se a classe User\n",
    "user_123 = User(123, 'SP', '2021-07-21')"
   ]
  },
  {
   "cell_type": "code",
   "execution_count": 3,
   "metadata": {},
   "outputs": [
    {
     "data": {
      "text/plain": [
       "Esse é o usuário 123"
      ]
     },
     "execution_count": 3,
     "metadata": {},
     "output_type": "execute_result"
    }
   ],
   "source": [
    "user_123"
   ]
  },
  {
   "cell_type": "code",
   "execution_count": 4,
   "metadata": {},
   "outputs": [
    {
     "data": {
      "text/plain": [
       "123"
      ]
     },
     "execution_count": 4,
     "metadata": {},
     "output_type": "execute_result"
    }
   ],
   "source": [
    "user_123.user_id"
   ]
  },
  {
   "cell_type": "code",
   "execution_count": 5,
   "metadata": {},
   "outputs": [
    {
     "data": {
      "text/plain": [
       "'SP'"
      ]
     },
     "execution_count": 5,
     "metadata": {},
     "output_type": "execute_result"
    }
   ],
   "source": [
    "user_123.location"
   ]
  },
  {
   "cell_type": "code",
   "execution_count": 6,
   "metadata": {},
   "outputs": [
    {
     "data": {
      "text/plain": [
       "'2021-07-21'"
      ]
     },
     "execution_count": 6,
     "metadata": {},
     "output_type": "execute_result"
    }
   ],
   "source": [
    "user_123.creation_date"
   ]
  },
  {
   "cell_type": "code",
   "execution_count": 7,
   "metadata": {},
   "outputs": [
    {
     "data": {
      "text/plain": [
       "__main__.User"
      ]
     },
     "execution_count": 7,
     "metadata": {},
     "output_type": "execute_result"
    }
   ],
   "source": [
    "type(user_123)"
   ]
  },
  {
   "cell_type": "code",
   "execution_count": 8,
   "metadata": {},
   "outputs": [],
   "source": [
    "class Admin(User):\n",
    "    '''\n",
    "        Classe que cria um Admin a partir da classe User.\n",
    "    '''\n",
    "    def __init__(self, user_id, location, creation_date):\n",
    "        super().__init__(user_id, location, creation_date)\n",
    "        self.privileges=True"
   ]
  },
  {
   "cell_type": "code",
   "execution_count": 9,
   "metadata": {},
   "outputs": [],
   "source": [
    "admin_123 = Admin(101010, 'RS', \"2021-07-22\")"
   ]
  },
  {
   "cell_type": "code",
   "execution_count": 10,
   "metadata": {},
   "outputs": [
    {
     "data": {
      "text/plain": [
       "Esse é o usuário 101010"
      ]
     },
     "execution_count": 10,
     "metadata": {},
     "output_type": "execute_result"
    }
   ],
   "source": [
    "admin_123"
   ]
  },
  {
   "cell_type": "code",
   "execution_count": 11,
   "metadata": {},
   "outputs": [
    {
     "data": {
      "text/plain": [
       "True"
      ]
     },
     "execution_count": 11,
     "metadata": {},
     "output_type": "execute_result"
    }
   ],
   "source": [
    "admin_123.privileges"
   ]
  },
  {
   "cell_type": "code",
   "execution_count": 12,
   "metadata": {},
   "outputs": [],
   "source": [
    "# Your code here!"
   ]
  },
  {
   "cell_type": "markdown",
   "metadata": {},
   "source": [
    "### What is a class"
   ]
  },
  {
   "cell_type": "markdown",
   "metadata": {},
   "source": [
    "> A data structure to gather together both data and functions. Inside of classes, functions are called `methods` and data information is called `attribute`."
   ]
  },
  {
   "cell_type": "markdown",
   "metadata": {},
   "source": [
    "Suggestion: \n",
    "```\n",
    "Classe: Restaurante\n",
    "\n",
    "Atributos\n",
    "* Nome\n",
    "* Cozinha\n",
    "* Bairro\n",
    "* Descrição\n",
    "* Menu\n",
    "\n",
    "Métodos\n",
    "* Preparar Cardápio\n",
    "* Receber Pessoas\n",
    "* Receber Pedido\n",
    "* Preparar Refeição\n",
    "\n",
    "Classe Filha: Food Truck\n",
    "```"
   ]
  },
  {
   "cell_type": "markdown",
   "metadata": {},
   "source": [
    "### Creating a simple class"
   ]
  },
  {
   "cell_type": "code",
   "execution_count": 13,
   "metadata": {
    "ExecuteTime": {
     "end_time": "2020-11-05T22:47:12.462335Z",
     "start_time": "2020-11-05T22:47:12.452343Z"
    }
   },
   "outputs": [],
   "source": [
    "# pascal case/camel case\n",
    "class Restaurante:\n",
    "    pass"
   ]
  },
  {
   "cell_type": "code",
   "execution_count": 14,
   "metadata": {},
   "outputs": [],
   "source": [
    "restaurante1 = Restaurante()"
   ]
  },
  {
   "cell_type": "code",
   "execution_count": 15,
   "metadata": {},
   "outputs": [
    {
     "data": {
      "text/plain": [
       "<__main__.Restaurante at 0x1e521f7ef70>"
      ]
     },
     "execution_count": 15,
     "metadata": {},
     "output_type": "execute_result"
    }
   ],
   "source": [
    "restaurante1"
   ]
  },
  {
   "cell_type": "code",
   "execution_count": 16,
   "metadata": {},
   "outputs": [
    {
     "data": {
      "text/plain": [
       "__main__.Restaurante"
      ]
     },
     "execution_count": 16,
     "metadata": {},
     "output_type": "execute_result"
    }
   ],
   "source": [
    "type(restaurante1)"
   ]
  },
  {
   "cell_type": "code",
   "execution_count": 17,
   "metadata": {},
   "outputs": [],
   "source": [
    "# Your code here!"
   ]
  },
  {
   "cell_type": "markdown",
   "metadata": {},
   "source": [
    "## Attributes\n",
    "\n",
    "Atributos são como características de uma classe. São como variáveis associadas à alguma classe"
   ]
  },
  {
   "cell_type": "markdown",
   "metadata": {},
   "source": [
    "### Special Functions\n",
    "\n",
    "We have the special function `__init__`.\n",
    "\n",
    "`__init__` is the method that runs when you `call` a class."
   ]
  },
  {
   "cell_type": "code",
   "execution_count": 18,
   "metadata": {},
   "outputs": [],
   "source": [
    "# Your code here!\n",
    "class Restaurante:\n",
    "    def __init__(self):\n",
    "        self.nome = 'Restaurante do Bairro'"
   ]
  },
  {
   "cell_type": "code",
   "execution_count": 19,
   "metadata": {},
   "outputs": [],
   "source": [
    "restaurante1 = Restaurante()"
   ]
  },
  {
   "cell_type": "code",
   "execution_count": 20,
   "metadata": {},
   "outputs": [
    {
     "data": {
      "text/plain": [
       "'Restaurante do Bairro'"
      ]
     },
     "execution_count": 20,
     "metadata": {},
     "output_type": "execute_result"
    }
   ],
   "source": [
    "restaurante1.nome"
   ]
  },
  {
   "cell_type": "code",
   "execution_count": 21,
   "metadata": {},
   "outputs": [],
   "source": [
    "# Your code here!\n",
    "class Restaurante:\n",
    "    def __init__(self, nome, cozinha, bairro, status):\n",
    "        self.nome = nome\n",
    "        self.cozinha = cozinha\n",
    "        self.bairro = bairro\n",
    "        self.status = status"
   ]
  },
  {
   "cell_type": "code",
   "execution_count": 22,
   "metadata": {},
   "outputs": [],
   "source": [
    "restaurante_da_maura = Restaurante('Álvaro de Campos', 'Tradicional Portuguesa', 'Tavira', 'Fechado :(')"
   ]
  },
  {
   "cell_type": "code",
   "execution_count": 23,
   "metadata": {},
   "outputs": [
    {
     "data": {
      "text/plain": [
       "'Álvaro de Campos'"
      ]
     },
     "execution_count": 23,
     "metadata": {},
     "output_type": "execute_result"
    }
   ],
   "source": [
    "restaurante_da_maura.nome"
   ]
  },
  {
   "cell_type": "code",
   "execution_count": 24,
   "metadata": {},
   "outputs": [
    {
     "data": {
      "text/plain": [
       "'Fechado :('"
      ]
     },
     "execution_count": 24,
     "metadata": {},
     "output_type": "execute_result"
    }
   ],
   "source": [
    "restaurante_da_maura.status"
   ]
  },
  {
   "cell_type": "code",
   "execution_count": 25,
   "metadata": {},
   "outputs": [
    {
     "data": {
      "text/plain": [
       "'Tradicional Portuguesa'"
      ]
     },
     "execution_count": 25,
     "metadata": {},
     "output_type": "execute_result"
    }
   ],
   "source": [
    "restaurante_da_maura.cozinha"
   ]
  },
  {
   "cell_type": "code",
   "execution_count": 26,
   "metadata": {},
   "outputs": [
    {
     "data": {
      "text/plain": [
       "'Tavira'"
      ]
     },
     "execution_count": 26,
     "metadata": {},
     "output_type": "execute_result"
    }
   ],
   "source": [
    "restaurante_da_maura.bairro"
   ]
  },
  {
   "cell_type": "code",
   "execution_count": 27,
   "metadata": {},
   "outputs": [],
   "source": [
    "restaurante_bk = Restaurante('Burger King', 'Fast-Food', 'Consolação', 'Aberto')"
   ]
  },
  {
   "cell_type": "code",
   "execution_count": 28,
   "metadata": {},
   "outputs": [
    {
     "data": {
      "text/plain": [
       "'Burger King'"
      ]
     },
     "execution_count": 28,
     "metadata": {},
     "output_type": "execute_result"
    }
   ],
   "source": [
    "restaurante_bk.nome"
   ]
  },
  {
   "cell_type": "code",
   "execution_count": 29,
   "metadata": {},
   "outputs": [
    {
     "data": {
      "text/plain": [
       "'Fast-Food'"
      ]
     },
     "execution_count": 29,
     "metadata": {},
     "output_type": "execute_result"
    }
   ],
   "source": [
    "restaurante_bk.cozinha"
   ]
  },
  {
   "cell_type": "code",
   "execution_count": 30,
   "metadata": {},
   "outputs": [
    {
     "data": {
      "text/plain": [
       "'Consolação'"
      ]
     },
     "execution_count": 30,
     "metadata": {},
     "output_type": "execute_result"
    }
   ],
   "source": [
    "restaurante_bk.bairro"
   ]
  },
  {
   "cell_type": "code",
   "execution_count": 31,
   "metadata": {},
   "outputs": [
    {
     "data": {
      "text/plain": [
       "'Aberto'"
      ]
     },
     "execution_count": 31,
     "metadata": {},
     "output_type": "execute_result"
    }
   ],
   "source": [
    "restaurante_bk.status"
   ]
  },
  {
   "cell_type": "markdown",
   "metadata": {},
   "source": [
    "`__repr__`"
   ]
  },
  {
   "cell_type": "code",
   "execution_count": 32,
   "metadata": {},
   "outputs": [],
   "source": [
    "# Your code here!\n",
    "class Restaurante:\n",
    "    def __init__(self, nome, cozinha, bairro, status):\n",
    "        self.nome = nome\n",
    "        self.cozinha = cozinha\n",
    "        self.bairro = bairro\n",
    "        self.status = status\n",
    "    \n",
    "    def __repr__(self):\n",
    "        if self.status == 'Aberto':\n",
    "            return f'Seja bem-vindo(a) ao restaurante {self.nome}'\n",
    "        else:\n",
    "            return f'{self.nome} está fechado :( retorne mais tarde.'"
   ]
  },
  {
   "cell_type": "code",
   "execution_count": 33,
   "metadata": {},
   "outputs": [],
   "source": [
    "restaurante_bk = Restaurante('Burger King', 'Fast-Food', 'Consolação', 'Aberto')\n",
    "restaurante_da_maura = Restaurante('Álvaro de Campos', 'Tradicional Portuguesa', 'Tavira', 'Fechado :(')"
   ]
  },
  {
   "cell_type": "code",
   "execution_count": 34,
   "metadata": {},
   "outputs": [
    {
     "data": {
      "text/plain": [
       "Seja bem-vindo(a) ao restaurante Burger King"
      ]
     },
     "execution_count": 34,
     "metadata": {},
     "output_type": "execute_result"
    }
   ],
   "source": [
    "restaurante_bk"
   ]
  },
  {
   "cell_type": "code",
   "execution_count": 46,
   "metadata": {},
   "outputs": [
    {
     "data": {
      "text/plain": [
       "Álvaro de Campos está fechado :( retorne mais tarde."
      ]
     },
     "execution_count": 46,
     "metadata": {},
     "output_type": "execute_result"
    }
   ],
   "source": [
    "restaurante_da_maura"
   ]
  },
  {
   "cell_type": "code",
   "execution_count": 54,
   "metadata": {},
   "outputs": [
    {
     "data": {
      "text/plain": [
       "{'nome': 'Burger King',\n",
       " 'cozinha': 'Fast-Food',\n",
       " 'bairro': 'Consolação',\n",
       " 'status': 'Aberto'}"
      ]
     },
     "execution_count": 54,
     "metadata": {},
     "output_type": "execute_result"
    }
   ],
   "source": [
    "restaurante_bk.__dict__"
   ]
  },
  {
   "cell_type": "code",
   "execution_count": 55,
   "metadata": {},
   "outputs": [
    {
     "data": {
      "text/plain": [
       "['nome',\n",
       " 'cozinha',\n",
       " 'bairro',\n",
       " 'status',\n",
       " '__module__',\n",
       " '__init__',\n",
       " '__repr__',\n",
       " 'preparar_cardapio',\n",
       " '__dict__',\n",
       " '__weakref__',\n",
       " '__doc__',\n",
       " '__hash__',\n",
       " '__str__',\n",
       " '__getattribute__',\n",
       " '__setattr__',\n",
       " '__delattr__',\n",
       " '__lt__',\n",
       " '__le__',\n",
       " '__eq__',\n",
       " '__ne__',\n",
       " '__gt__',\n",
       " '__ge__',\n",
       " '__new__',\n",
       " '__reduce_ex__',\n",
       " '__reduce__',\n",
       " '__subclasshook__',\n",
       " '__init_subclass__',\n",
       " '__format__',\n",
       " '__sizeof__',\n",
       " '__dir__',\n",
       " '__class__']"
      ]
     },
     "execution_count": 55,
     "metadata": {},
     "output_type": "execute_result"
    }
   ],
   "source": [
    "restaurante_bk.__dir__()"
   ]
  },
  {
   "cell_type": "markdown",
   "metadata": {},
   "source": [
    "## Methods\n",
    "\n",
    "Métodos são como funções. A diferença é que esta função é específica desta classe"
   ]
  },
  {
   "cell_type": "code",
   "execution_count": 36,
   "metadata": {},
   "outputs": [],
   "source": [
    "# Your code here!\n",
    "class Restaurante:\n",
    "    def __init__(self, nome, cozinha, bairro, status):\n",
    "        self.nome = nome\n",
    "        self.cozinha = cozinha\n",
    "        self.bairro = bairro\n",
    "        self.status = status\n",
    "    \n",
    "    def __repr__(self):\n",
    "        if self.status == 'Aberto':\n",
    "            return f'Seja bem-vindo(a) ao restaurante {self.nome}'\n",
    "        else:\n",
    "            return f'{self.nome} está fechado :( retorne mais tarde.'\n",
    "        \n",
    "    def preparar_cardapio(self):\n",
    "        return f'Preparando o cardápio da cozinha {self.cozinha}'"
   ]
  },
  {
   "cell_type": "code",
   "execution_count": 37,
   "metadata": {},
   "outputs": [],
   "source": [
    "restaurante_bk = Restaurante('Burger King', 'Fast-Food', 'Consolação', 'Aberto')\n",
    "restaurante_da_maura = Restaurante('Álvaro de Campos', 'Tradicional Portuguesa', 'Tavira', 'Fechado :(')"
   ]
  },
  {
   "cell_type": "code",
   "execution_count": null,
   "metadata": {},
   "outputs": [],
   "source": []
  },
  {
   "cell_type": "code",
   "execution_count": 57,
   "metadata": {},
   "outputs": [
    {
     "data": {
      "text/plain": [
       "2"
      ]
     },
     "execution_count": 57,
     "metadata": {},
     "output_type": "execute_result"
    }
   ],
   "source": [
    "distancias_restaurante_bairro_km = {\n",
    "    'Consolação': {'Consolação':0,'Liberdade':2,'Santana':7,'Santo Amaro':10},\n",
    "    'Liberdade': {'Consolação':1,'Liberdade':0,'Santana':5,'Santo Amaro':9}\n",
    "}\n",
    "\n",
    "local_restaurante = 'Consolação'\n",
    "local_user = 'Liberdade'\n",
    "\n",
    "# Your code here!\n",
    "distancias_restaurante_bairro_km[local_restaurante][local_user]"
   ]
  },
  {
   "cell_type": "code",
   "execution_count": 60,
   "metadata": {},
   "outputs": [],
   "source": [
    "# Your code here!\n",
    "def calcular_distancia(local_restaurante, local_user):\n",
    "    distancias_restaurante_bairro_km = {\n",
    "    'Consolação': {'Consolação':0,'Liberdade':2,'Santana':7,'Santo Amaro':10},\n",
    "    'Liberdade': {'Consolação':1,'Liberdade':0,'Santana':5,'Santo Amaro':9}\n",
    "    }\n",
    "    \n",
    "    try:\n",
    "        return distancias_restaurante_bairro_km[local_restaurante][local_user]\n",
    "    except:\n",
    "        return 'Bairros não localizados'"
   ]
  },
  {
   "cell_type": "code",
   "execution_count": 62,
   "metadata": {},
   "outputs": [
    {
     "data": {
      "text/plain": [
       "7"
      ]
     },
     "execution_count": 62,
     "metadata": {},
     "output_type": "execute_result"
    }
   ],
   "source": [
    "calcular_distancia('Consolação', 'Santana')"
   ]
  },
  {
   "cell_type": "code",
   "execution_count": 63,
   "metadata": {},
   "outputs": [
    {
     "data": {
      "text/plain": [
       "'Bairros não localizados'"
      ]
     },
     "execution_count": 63,
     "metadata": {},
     "output_type": "execute_result"
    }
   ],
   "source": [
    "calcular_distancia('asdf', 'qwer')"
   ]
  },
  {
   "cell_type": "code",
   "execution_count": 79,
   "metadata": {},
   "outputs": [],
   "source": [
    "# Your code here!\n",
    "class Restaurante:\n",
    "    def __init__(self, nome, cozinha, bairro, status):\n",
    "        self.nome = nome\n",
    "        self.cozinha = cozinha\n",
    "        self.bairro = bairro\n",
    "        self.status = status\n",
    "    \n",
    "    def __repr__(self):\n",
    "        if self.status == 'Aberto':\n",
    "            return f'Seja bem-vindo(a) ao restaurante {self.nome}'\n",
    "        else:\n",
    "            return f'{self.nome} está fechado :( retorne mais tarde.'\n",
    "        \n",
    "    def preparar_cardapio(self):\n",
    "        return f'Preparando o cardápio da cozinha {self.cozinha}'\n",
    "    \n",
    "    def calcular_distancia(self, local_user):\n",
    "        distancias_restaurante_bairro_km = {\n",
    "        'Consolação': {'Consolação':0,'Liberdade':2,'Santana':7,'Santo Amaro':10},\n",
    "        'Liberdade': {'Consolação':1,'Liberdade':0,'Santana':5,'Santo Amaro':9}\n",
    "        }\n",
    "    \n",
    "        try:\n",
    "            return distancias_restaurante_bairro_km[self.bairro][local_user]\n",
    "        except:\n",
    "            return 'Bairros não localizados'"
   ]
  },
  {
   "cell_type": "code",
   "execution_count": 81,
   "metadata": {},
   "outputs": [],
   "source": [
    "restaurante_bk = Restaurante('Burger King', 'Fast-Food', 'Consolação', 'Aberto')"
   ]
  },
  {
   "cell_type": "code",
   "execution_count": 82,
   "metadata": {},
   "outputs": [
    {
     "data": {
      "text/plain": [
       "2"
      ]
     },
     "execution_count": 82,
     "metadata": {},
     "output_type": "execute_result"
    }
   ],
   "source": [
    "restaurante_bk.calcular_distancia('Liberdade')"
   ]
  },
  {
   "cell_type": "markdown",
   "metadata": {},
   "source": [
    "## Instantiating objects"
   ]
  },
  {
   "cell_type": "code",
   "execution_count": 83,
   "metadata": {},
   "outputs": [],
   "source": [
    "# Your code here!\n",
    "restaurante_1 = Restaurante('Espeto Paulista', 'Churrasco', 'Centro', 'Aberto')\n",
    "restaurante_2 = Restaurante('Rancho', 'Brasileira', 'Centro', 'Aberto')"
   ]
  },
  {
   "cell_type": "markdown",
   "metadata": {},
   "source": [
    "### Resumo \n",
    "\n",
    "Classes são como **moldes** que criam uma **instância** ou um **exemplo** de um objeto que compartilham propriedades (como `nome`,`cor_cabelo`, etc) entre si, porém, se diferenciam pelo valor que estas propriedades tomam (como `nome = 'Fitó'` vs `nome = 'Mc Donalds'`)"
   ]
  },
  {
   "cell_type": "markdown",
   "metadata": {},
   "source": [
    "In order to `call` our class, we see that 1 parameter is always given. We'll soon see that this first argument is always the `object itself`. Why would it pass itself? In that manner, you always are allowed to access all your objects attributes and methods everywhere.\n",
    "\n",
    "So let's add an argument to the `__init__` method"
   ]
  },
  {
   "cell_type": "markdown",
   "metadata": {},
   "source": [
    "When you run `fito.preparar_comida()`, you are effectively running `preparar_comida(fito, )`"
   ]
  },
  {
   "cell_type": "markdown",
   "metadata": {},
   "source": [
    "> As soon as you include the `self` variable in the `__init__()` method, you start to always pass the object it**self** as an argument of all methods."
   ]
  },
  {
   "cell_type": "markdown",
   "metadata": {},
   "source": [
    "# Class Inheritence - Herança"
   ]
  },
  {
   "cell_type": "markdown",
   "metadata": {},
   "source": [
    "Imagine you have created a `Car class` and now you want to create a `Taxi class`.\n",
    "\n",
    "Taxis are just a specific kind of `Car` and, hence, they share the same attributes and methods. \n",
    "\n",
    "However, they have their own different attributes and methods. How can I reuse the classes I have and just make a better class?"
   ]
  },
  {
   "cell_type": "code",
   "execution_count": 42,
   "metadata": {},
   "outputs": [],
   "source": [
    "# Your code here!"
   ]
  },
  {
   "cell_type": "code",
   "execution_count": 84,
   "metadata": {},
   "outputs": [],
   "source": [
    "class SuperClass:\n",
    "    def __init__(self, banana):\n",
    "        self.banana = banana"
   ]
  },
  {
   "cell_type": "code",
   "execution_count": 86,
   "metadata": {},
   "outputs": [],
   "source": [
    "class SubClass(SuperClass):\n",
    "    def __init__(self, banana, blabla):\n",
    "        super().__init__(banana)\n",
    "        self.blabla = blabla"
   ]
  },
  {
   "cell_type": "code",
   "execution_count": 87,
   "metadata": {},
   "outputs": [],
   "source": [
    "# Your code here!\n",
    "sub_class = SubClass(100, 200)"
   ]
  },
  {
   "cell_type": "code",
   "execution_count": 88,
   "metadata": {},
   "outputs": [
    {
     "data": {
      "text/plain": [
       "100"
      ]
     },
     "execution_count": 88,
     "metadata": {},
     "output_type": "execute_result"
    }
   ],
   "source": [
    "sub_class.banana"
   ]
  },
  {
   "cell_type": "code",
   "execution_count": 89,
   "metadata": {},
   "outputs": [
    {
     "data": {
      "text/plain": [
       "200"
      ]
     },
     "execution_count": 89,
     "metadata": {},
     "output_type": "execute_result"
    }
   ],
   "source": [
    "sub_class.blabla"
   ]
  },
  {
   "cell_type": "code",
   "execution_count": 96,
   "metadata": {},
   "outputs": [],
   "source": [
    "individuo1 = SuperClass('maçã')"
   ]
  },
  {
   "cell_type": "code",
   "execution_count": 111,
   "metadata": {},
   "outputs": [],
   "source": [
    "individuo2 = SubClass(individuo1.banana, 'gala')"
   ]
  },
  {
   "cell_type": "code",
   "execution_count": 112,
   "metadata": {},
   "outputs": [
    {
     "data": {
      "text/plain": [
       "'maçã'"
      ]
     },
     "execution_count": 112,
     "metadata": {},
     "output_type": "execute_result"
    }
   ],
   "source": [
    "individuo1.banana"
   ]
  },
  {
   "cell_type": "code",
   "execution_count": 113,
   "metadata": {},
   "outputs": [
    {
     "data": {
      "text/plain": [
       "'maçã'"
      ]
     },
     "execution_count": 113,
     "metadata": {},
     "output_type": "execute_result"
    }
   ],
   "source": [
    "individuo2.banana"
   ]
  },
  {
   "cell_type": "code",
   "execution_count": 114,
   "metadata": {},
   "outputs": [
    {
     "data": {
      "text/plain": [
       "'gala'"
      ]
     },
     "execution_count": 114,
     "metadata": {},
     "output_type": "execute_result"
    }
   ],
   "source": [
    "individuo2.blabla"
   ]
  }
 ],
 "metadata": {
  "kernelspec": {
   "display_name": "Python 3",
   "language": "python",
   "name": "python3"
  },
  "language_info": {
   "codemirror_mode": {
    "name": "ipython",
    "version": 3
   },
   "file_extension": ".py",
   "mimetype": "text/x-python",
   "name": "python",
   "nbconvert_exporter": "python",
   "pygments_lexer": "ipython3",
   "version": "3.9.4"
  },
  "toc": {
   "base_numbering": 1,
   "nav_menu": {},
   "number_sections": true,
   "sideBar": true,
   "skip_h1_title": false,
   "title_cell": "Table of Contents",
   "title_sidebar": "Contents",
   "toc_cell": false,
   "toc_position": {},
   "toc_section_display": true,
   "toc_window_display": false
  },
  "toc-autonumbering": true,
  "toc-showcode": false,
  "toc-showmarkdowntxt": true,
  "varInspector": {
   "cols": {
    "lenName": 16,
    "lenType": 16,
    "lenVar": 40
   },
   "kernels_config": {
    "python": {
     "delete_cmd_postfix": "",
     "delete_cmd_prefix": "del ",
     "library": "var_list.py",
     "varRefreshCmd": "print(var_dic_list())"
    },
    "r": {
     "delete_cmd_postfix": ") ",
     "delete_cmd_prefix": "rm(",
     "library": "var_list.r",
     "varRefreshCmd": "cat(var_dic_list()) "
    }
   },
   "types_to_exclude": [
    "module",
    "function",
    "builtin_function_or_method",
    "instance",
    "_Feature"
   ],
   "window_display": false
  }
 },
 "nbformat": 4,
 "nbformat_minor": 4
}
