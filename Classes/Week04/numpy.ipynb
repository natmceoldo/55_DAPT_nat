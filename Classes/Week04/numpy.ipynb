{
 "cells": [
  {
   "cell_type": "code",
   "execution_count": 1,
   "metadata": {},
   "outputs": [
    {
     "name": "stdout",
     "output_type": "stream",
     "text": [
      "Defaulting to user installation because normal site-packages is not writeable\n",
      "Requirement already satisfied: numpy in c:\\users\\natmc\\appdata\\roaming\\python\\python39\\site-packages (1.21.1)\n"
     ]
    },
    {
     "name": "stderr",
     "output_type": "stream",
     "text": [
      "WARNING: You are using pip version 21.0.1; however, version 21.2.1 is available.\n",
      "You should consider upgrading via the 'c:\\program files\\python39\\python.exe -m pip install --upgrade pip' command.\n"
     ]
    }
   ],
   "source": [
    "!pip install numpy --upgrade"
   ]
  },
  {
   "cell_type": "code",
   "execution_count": 2,
   "metadata": {},
   "outputs": [
    {
     "name": "stdout",
     "output_type": "stream",
     "text": [
      "Defaulting to user installation because normal site-packages is not writeable\n",
      "Requirement already satisfied: matplotlib in c:\\users\\natmc\\appdata\\roaming\\python\\python39\\site-packages (3.4.2)\n",
      "Requirement already satisfied: pillow>=6.2.0 in c:\\users\\natmc\\appdata\\roaming\\python\\python39\\site-packages (from matplotlib) (8.3.1)\n",
      "Requirement already satisfied: pyparsing>=2.2.1 in c:\\users\\natmc\\appdata\\roaming\\python\\python39\\site-packages (from matplotlib) (2.4.7)\n",
      "Requirement already satisfied: python-dateutil>=2.7 in c:\\users\\natmc\\appdata\\roaming\\python\\python39\\site-packages (from matplotlib) (2.8.1)\n",
      "Requirement already satisfied: kiwisolver>=1.0.1 in c:\\users\\natmc\\appdata\\roaming\\python\\python39\\site-packages (from matplotlib) (1.3.1)\n",
      "Requirement already satisfied: cycler>=0.10 in c:\\users\\natmc\\appdata\\roaming\\python\\python39\\site-packages (from matplotlib) (0.10.0)\n",
      "Requirement already satisfied: numpy>=1.16 in c:\\users\\natmc\\appdata\\roaming\\python\\python39\\site-packages (from matplotlib) (1.21.1)\n",
      "Requirement already satisfied: six in c:\\users\\natmc\\appdata\\roaming\\python\\python39\\site-packages (from cycler>=0.10->matplotlib) (1.15.0)\n"
     ]
    },
    {
     "name": "stderr",
     "output_type": "stream",
     "text": [
      "WARNING: You are using pip version 21.0.1; however, version 21.2.1 is available.\n",
      "You should consider upgrading via the 'c:\\program files\\python39\\python.exe -m pip install --upgrade pip' command.\n"
     ]
    }
   ],
   "source": [
    "!pip install matplotlib"
   ]
  },
  {
   "cell_type": "code",
   "execution_count": 3,
   "metadata": {},
   "outputs": [
    {
     "name": "stdout",
     "output_type": "stream",
     "text": [
      "Defaulting to user installation because normal site-packages is not writeable\n",
      "Requirement already satisfied: sklearn in c:\\users\\natmc\\appdata\\roaming\\python\\python39\\site-packages (0.0)\n",
      "Requirement already satisfied: scikit-learn in c:\\users\\natmc\\appdata\\roaming\\python\\python39\\site-packages (from sklearn) (0.24.2)\n",
      "Requirement already satisfied: joblib>=0.11 in c:\\users\\natmc\\appdata\\roaming\\python\\python39\\site-packages (from scikit-learn->sklearn) (1.0.1)\n",
      "Requirement already satisfied: threadpoolctl>=2.0.0 in c:\\users\\natmc\\appdata\\roaming\\python\\python39\\site-packages (from scikit-learn->sklearn) (2.2.0)\n",
      "Requirement already satisfied: numpy>=1.13.3 in c:\\users\\natmc\\appdata\\roaming\\python\\python39\\site-packages (from scikit-learn->sklearn) (1.21.1)\n",
      "Requirement already satisfied: scipy>=0.19.1 in c:\\users\\natmc\\appdata\\roaming\\python\\python39\\site-packages (from scikit-learn->sklearn) (1.7.0)\n"
     ]
    },
    {
     "name": "stderr",
     "output_type": "stream",
     "text": [
      "WARNING: You are using pip version 21.0.1; however, version 21.2.1 is available.\n",
      "You should consider upgrading via the 'c:\\program files\\python39\\python.exe -m pip install --upgrade pip' command.\n"
     ]
    }
   ],
   "source": [
    "!pip install sklearn"
   ]
  },
  {
   "cell_type": "markdown",
   "metadata": {},
   "source": [
    "# Numpy"
   ]
  },
  {
   "cell_type": "code",
   "execution_count": 4,
   "metadata": {
    "ExecuteTime": {
     "end_time": "2020-07-29T00:20:48.588387Z",
     "start_time": "2020-07-29T00:20:48.586387Z"
    }
   },
   "outputs": [],
   "source": [
    "# importing numpy convention\n",
    "import numpy as np"
   ]
  },
  {
   "cell_type": "markdown",
   "metadata": {},
   "source": [
    "---\n",
    "\n",
    "## Why Numpy? \n",
    "\n",
    "https://github.com/numpy/numpy"
   ]
  },
  {
   "cell_type": "markdown",
   "metadata": {},
   "source": [
    "----\n",
    "## What are Numpy Arrays?\n",
    "\n",
    "Numpy arrays are very close to **lists** in python. The main differences for us in Data Analysis are:\n",
    "\n",
    "- There are *LOTS* of new mathematical methods that you can use in numpy arrays;\n",
    "- Operations are much faster (if you are dealing with big data);\n",
    "- Less Memory."
   ]
  },
  {
   "cell_type": "markdown",
   "metadata": {},
   "source": [
    "### 1. How to create an `array`"
   ]
  },
  {
   "cell_type": "code",
   "execution_count": 5,
   "metadata": {},
   "outputs": [
    {
     "name": "stdout",
     "output_type": "stream",
     "text": [
      "[1 2 3]\n"
     ]
    },
    {
     "data": {
      "text/plain": [
       "numpy.ndarray"
      ]
     },
     "execution_count": 5,
     "metadata": {},
     "output_type": "execute_result"
    }
   ],
   "source": [
    "## Creating a numpy array from a list, checking the type\n",
    "array1 = np.array([1, 2, 3])\n",
    "print(array1)\n",
    "type(array1)"
   ]
  },
  {
   "cell_type": "code",
   "execution_count": 6,
   "metadata": {
    "ExecuteTime": {
     "end_time": "2020-07-29T00:35:59.919254Z",
     "start_time": "2020-07-29T00:35:59.916256Z"
    }
   },
   "outputs": [
    {
     "data": {
      "text/plain": [
       "array([0.20954071, 0.37570685, 0.0284965 , 0.75662846, 0.57441317,\n",
       "       0.00533582, 0.95624562, 0.81016899, 0.35360615, 0.18964975])"
      ]
     },
     "execution_count": 6,
     "metadata": {},
     "output_type": "execute_result"
    }
   ],
   "source": [
    "## Creating a random numpy array\n",
    "np_list_random = np.random.random(size=10)\n",
    "np_list_random"
   ]
  },
  {
   "cell_type": "code",
   "execution_count": 7,
   "metadata": {},
   "outputs": [
    {
     "data": {
      "text/plain": [
       "array([[0., 0., 0., 0., 0.],\n",
       "       [0., 0., 0., 0., 0.]])"
      ]
     },
     "execution_count": 7,
     "metadata": {},
     "output_type": "execute_result"
    }
   ],
   "source": [
    "#array de 0\n",
    "np.zeros([2, 5])"
   ]
  },
  {
   "cell_type": "code",
   "execution_count": 8,
   "metadata": {},
   "outputs": [
    {
     "data": {
      "text/plain": [
       "array([[1., 1., 1., 1., 1., 1., 1., 1., 1., 1.]])"
      ]
     },
     "execution_count": 8,
     "metadata": {},
     "output_type": "execute_result"
    }
   ],
   "source": [
    "##arrays de 1\n",
    "np.ones([1, 10])"
   ]
  },
  {
   "cell_type": "code",
   "execution_count": 9,
   "metadata": {},
   "outputs": [
    {
     "data": {
      "text/plain": [
       "array([[10, 10, 10, 10, 10]])"
      ]
     },
     "execution_count": 9,
     "metadata": {},
     "output_type": "execute_result"
    }
   ],
   "source": [
    "#arrays em que vc define qual valor vai usar, nesse ccom valores 10\n",
    "np.full([1, 5], 10)"
   ]
  },
  {
   "cell_type": "code",
   "execution_count": 10,
   "metadata": {},
   "outputs": [
    {
     "name": "stdout",
     "output_type": "stream",
     "text": [
      "[1 2 3 list([1, 2, 3])]\n"
     ]
    },
    {
     "data": {
      "text/plain": [
       "numpy.ndarray"
      ]
     },
     "execution_count": 10,
     "metadata": {},
     "output_type": "execute_result"
    }
   ],
   "source": [
    "## Defining a type\n",
    "object_type_array = np.array([1, 2, 3, [1, 2, 3]], dtype = object)\n",
    "print(object_type_array)\n",
    "type(object_type_array)"
   ]
  },
  {
   "cell_type": "markdown",
   "metadata": {},
   "source": [
    "### 2. `Vectors` or `1-D array`"
   ]
  },
  {
   "cell_type": "code",
   "execution_count": 11,
   "metadata": {
    "ExecuteTime": {
     "end_time": "2020-07-29T00:53:03.207476Z",
     "start_time": "2020-07-29T00:53:03.203475Z"
    }
   },
   "outputs": [],
   "source": [
    "## How to create\n",
    "array = np.array([1, 2, 3])"
   ]
  },
  {
   "cell_type": "code",
   "execution_count": 12,
   "metadata": {
    "ExecuteTime": {
     "end_time": "2020-07-29T00:53:49.013699Z",
     "start_time": "2020-07-29T00:53:49.008703Z"
    }
   },
   "outputs": [
    {
     "data": {
      "text/plain": [
       "(3,)"
      ]
     },
     "execution_count": 12,
     "metadata": {},
     "output_type": "execute_result"
    }
   ],
   "source": [
    "## How to check the shape and size\n",
    "array.shape"
   ]
  },
  {
   "cell_type": "code",
   "execution_count": 13,
   "metadata": {},
   "outputs": [
    {
     "data": {
      "text/plain": [
       "3"
      ]
     },
     "execution_count": 13,
     "metadata": {},
     "output_type": "execute_result"
    }
   ],
   "source": [
    "array.size"
   ]
  },
  {
   "cell_type": "code",
   "execution_count": 14,
   "metadata": {},
   "outputs": [
    {
     "data": {
      "text/plain": [
       "array([2, 3])"
      ]
     },
     "execution_count": 14,
     "metadata": {},
     "output_type": "execute_result"
    }
   ],
   "source": [
    "## How to access values? Like lists, we use indexes\n",
    "array[1:]"
   ]
  },
  {
   "cell_type": "markdown",
   "metadata": {},
   "source": [
    "### 3. `Matrix` or `2-D array`: **row, column**, this is the most important! ;-)\n",
    "\n",
    "- Imagine that rows are the observations of your data set\n",
    "- Imagine that columns are the characteristics of your data"
   ]
  },
  {
   "cell_type": "code",
   "execution_count": 15,
   "metadata": {},
   "outputs": [
    {
     "name": "stdout",
     "output_type": "stream",
     "text": [
      "[[1 2 3]\n",
      " [4 5 6]]\n"
     ]
    }
   ],
   "source": [
    "## How to create: row, column\n",
    "array2 = np.array([[1, 2, 3], [4, 5, 6]])\n",
    "print(array2)"
   ]
  },
  {
   "cell_type": "code",
   "execution_count": 16,
   "metadata": {},
   "outputs": [
    {
     "name": "stdout",
     "output_type": "stream",
     "text": [
      "(2, 3)\n",
      "6\n"
     ]
    }
   ],
   "source": [
    "## How to check the shape and size\n",
    "print(array2.shape)\n",
    "print(array2.size)"
   ]
  },
  {
   "cell_type": "code",
   "execution_count": 17,
   "metadata": {},
   "outputs": [
    {
     "data": {
      "text/plain": [
       "5"
      ]
     },
     "execution_count": 17,
     "metadata": {},
     "output_type": "execute_result"
    }
   ],
   "source": [
    "## How to access values? array2d[row_number, column_number]\n",
    "array2[1,1]"
   ]
  },
  {
   "cell_type": "code",
   "execution_count": 18,
   "metadata": {},
   "outputs": [
    {
     "data": {
      "text/plain": [
       "array([[0.07292596, 0.08295415, 0.39899333, 0.03244814],\n",
       "       [0.8003536 , 0.15258316, 0.60325249, 0.03144852],\n",
       "       [0.83754612, 0.15239541, 0.20983107, 0.05357211],\n",
       "       [0.77698032, 0.0949529 , 0.663168  , 0.13076685],\n",
       "       [0.74501345, 0.29070024, 0.01880692, 0.69005462]])"
      ]
     },
     "execution_count": 18,
     "metadata": {},
     "output_type": "execute_result"
    }
   ],
   "source": [
    "np.random.random(size=(5, 4))"
   ]
  },
  {
   "cell_type": "markdown",
   "metadata": {},
   "source": [
    "### 4. `n-D array`"
   ]
  },
  {
   "cell_type": "code",
   "execution_count": 78,
   "metadata": {
    "ExecuteTime": {
     "end_time": "2020-07-29T00:59:31.320445Z",
     "start_time": "2020-07-29T00:59:31.318444Z"
    }
   },
   "outputs": [
    {
     "data": {
      "text/plain": [
       "array([[[0.47234385, 0.05321294],\n",
       "        [0.66936936, 0.3085263 ],\n",
       "        [0.9141527 , 0.79729654],\n",
       "        [0.38884573, 0.96210176]],\n",
       "\n",
       "       [[0.87369028, 0.18001162],\n",
       "        [0.85845938, 0.94521969],\n",
       "        [0.04639293, 0.05372126],\n",
       "        [0.41267107, 0.52740803]],\n",
       "\n",
       "       [[0.49229974, 0.4163828 ],\n",
       "        [0.07192797, 0.31852711],\n",
       "        [0.20257531, 0.78421871],\n",
       "        [0.9203823 , 0.64970127]],\n",
       "\n",
       "       [[0.7947659 , 0.22741561],\n",
       "        [0.23113297, 0.07179813],\n",
       "        [0.22156131, 0.44286054],\n",
       "        [0.43566733, 0.83482607]],\n",
       "\n",
       "       [[0.23616075, 0.7833492 ],\n",
       "        [0.58951862, 0.07399009],\n",
       "        [0.04563366, 0.78208237],\n",
       "        [0.1217009 , 0.48483814]]])"
      ]
     },
     "execution_count": 78,
     "metadata": {},
     "output_type": "execute_result"
    }
   ],
   "source": [
    "## How to create: row, column\n",
    "array_3D = np.random.random(size=(5, 4, 2))\n",
    "array_3D"
   ]
  },
  {
   "cell_type": "code",
   "execution_count": 79,
   "metadata": {
    "ExecuteTime": {
     "end_time": "2020-07-29T00:59:31.897444Z",
     "start_time": "2020-07-29T00:59:31.894474Z"
    }
   },
   "outputs": [
    {
     "name": "stdout",
     "output_type": "stream",
     "text": [
      "40\n",
      "(5, 4, 2)\n"
     ]
    }
   ],
   "source": [
    "## How to check the shape and size\n",
    "print(array_3D.size)\n",
    "print(array_3D.shape)"
   ]
  },
  {
   "cell_type": "code",
   "execution_count": 80,
   "metadata": {
    "ExecuteTime": {
     "end_time": "2020-07-29T00:59:44.117774Z",
     "start_time": "2020-07-29T00:59:44.113774Z"
    }
   },
   "outputs": [
    {
     "data": {
      "text/plain": [
       "0.9452196931589159"
      ]
     },
     "execution_count": 80,
     "metadata": {},
     "output_type": "execute_result"
    }
   ],
   "source": [
    "## How to access values? array_3d[x_index, y_index, z_index]\n",
    "array_3D[1, 1, 1]"
   ]
  },
  {
   "cell_type": "code",
   "execution_count": 22,
   "metadata": {},
   "outputs": [
    {
     "data": {
      "text/plain": [
       "array([[[[0.56925993, 0.6978419 ],\n",
       "         [0.70463233, 0.69389996],\n",
       "         [0.69434245, 0.51805787],\n",
       "         [0.15237672, 0.53806867]],\n",
       "\n",
       "        [[0.38083403, 0.38873669],\n",
       "         [0.97651274, 0.76039239],\n",
       "         [0.30428982, 0.761112  ],\n",
       "         [0.84027598, 0.86801806]],\n",
       "\n",
       "        [[0.64128432, 0.37573867],\n",
       "         [0.47548824, 0.01524916],\n",
       "         [0.24858787, 0.53100821],\n",
       "         [0.74968558, 0.38096927]],\n",
       "\n",
       "        [[0.30497483, 0.26179675],\n",
       "         [0.3372612 , 0.03478155],\n",
       "         [0.52178738, 0.39857345],\n",
       "         [0.1457306 , 0.4841926 ]],\n",
       "\n",
       "        [[0.0936955 , 0.71979119],\n",
       "         [0.60723812, 0.52667025],\n",
       "         [0.06819803, 0.66728745],\n",
       "         [0.73652832, 0.30037836]]],\n",
       "\n",
       "\n",
       "       [[[0.90650894, 0.84555737],\n",
       "         [0.03456165, 0.82702877],\n",
       "         [0.71465365, 0.28420112],\n",
       "         [0.78774919, 0.99899164]],\n",
       "\n",
       "        [[0.99218419, 0.07131552],\n",
       "         [0.4054142 , 0.7297779 ],\n",
       "         [0.0805671 , 0.96579156],\n",
       "         [0.68304227, 0.19002539]],\n",
       "\n",
       "        [[0.00505929, 0.348768  ],\n",
       "         [0.04116708, 0.89777591],\n",
       "         [0.88632042, 0.93797064],\n",
       "         [0.43977824, 0.83408088]],\n",
       "\n",
       "        [[0.11543825, 0.35101611],\n",
       "         [0.01573998, 0.97355117],\n",
       "         [0.80780974, 0.90589495],\n",
       "         [0.45785169, 0.69685839]],\n",
       "\n",
       "        [[0.72533006, 0.76978223],\n",
       "         [0.35790537, 0.67608061],\n",
       "         [0.06408667, 0.24302384],\n",
       "         [0.12617382, 0.03311321]]]])"
      ]
     },
     "execution_count": 22,
     "metadata": {},
     "output_type": "execute_result"
    }
   ],
   "source": [
    "array_4D = np.random.random(size=(2, 5, 4, 2))\n",
    "array_4D"
   ]
  },
  {
   "cell_type": "markdown",
   "metadata": {},
   "source": [
    "### 5. `lists` vs. `numpy arrays`"
   ]
  },
  {
   "cell_type": "code",
   "execution_count": 23,
   "metadata": {},
   "outputs": [
    {
     "data": {
      "text/plain": [
       "array([4, 5, 6])"
      ]
     },
     "execution_count": 23,
     "metadata": {},
     "output_type": "execute_result"
    }
   ],
   "source": [
    "# sum\n",
    "np.array([1, 2, 3]) + 3"
   ]
  },
  {
   "cell_type": "code",
   "execution_count": 24,
   "metadata": {},
   "outputs": [
    {
     "data": {
      "text/plain": [
       "array([2, 4, 6])"
      ]
     },
     "execution_count": 24,
     "metadata": {},
     "output_type": "execute_result"
    }
   ],
   "source": [
    "np.array([1, 2, 3]) + np.array([1, 2, 3])"
   ]
  },
  {
   "cell_type": "code",
   "execution_count": 25,
   "metadata": {},
   "outputs": [
    {
     "data": {
      "text/plain": [
       "array([3, 6, 9])"
      ]
     },
     "execution_count": 25,
     "metadata": {},
     "output_type": "execute_result"
    }
   ],
   "source": [
    "# multiplication\n",
    "np.array([1, 2, 3]) * 3"
   ]
  },
  {
   "cell_type": "code",
   "execution_count": 26,
   "metadata": {},
   "outputs": [
    {
     "data": {
      "text/plain": [
       "array([[1, 2, 3],\n",
       "       [2, 4, 6],\n",
       "       [3, 6, 9]])"
      ]
     },
     "execution_count": 26,
     "metadata": {},
     "output_type": "execute_result"
    }
   ],
   "source": [
    "np.array([1, 2, 3]) * np.array([[1],[2],[3]])"
   ]
  },
  {
   "cell_type": "code",
   "execution_count": 27,
   "metadata": {},
   "outputs": [
    {
     "data": {
      "text/plain": [
       "array([1, 4, 9])"
      ]
     },
     "execution_count": 27,
     "metadata": {},
     "output_type": "execute_result"
    }
   ],
   "source": [
    "np.array([1, 2, 3]) * np.array([1, 2, 3])"
   ]
  },
  {
   "cell_type": "code",
   "execution_count": 28,
   "metadata": {},
   "outputs": [
    {
     "data": {
      "text/plain": [
       "array([14])"
      ]
     },
     "execution_count": 28,
     "metadata": {},
     "output_type": "execute_result"
    }
   ],
   "source": [
    "np.dot(np.array([1, 2, 3]), np.array([[1],[2],[3]]))"
   ]
  },
  {
   "cell_type": "code",
   "execution_count": 29,
   "metadata": {},
   "outputs": [],
   "source": [
    "# comparisons"
   ]
  },
  {
   "cell_type": "code",
   "execution_count": 30,
   "metadata": {},
   "outputs": [],
   "source": [
    "# 3-D to 1-D"
   ]
  },
  {
   "cell_type": "markdown",
   "metadata": {},
   "source": [
    "### 6. The `axis` concept - very useful\n",
    "\n",
    "- The `axis` concept: \n",
    "    - axis = 0, first axis == `rows`\n",
    "        - When we set axis=0, the function will **collapses** the rows and calculates the function\n",
    "        \n",
    "    - axis = 1, first axis == `columns`\n",
    "        - When we set axis=1, the function will **collapses** the columns and calculates the function"
   ]
  },
  {
   "cell_type": "markdown",
   "metadata": {},
   "source": [
    "#### 6.1 Some examples with mathematical operations\n",
    "\n",
    "**Mean**  \n",
    "$$ \\bar{x} = \\frac{1}{N}\\left(\\sum_{i=0}^{N-1} x_i\\right)  $$"
   ]
  },
  {
   "cell_type": "code",
   "execution_count": 31,
   "metadata": {
    "ExecuteTime": {
     "end_time": "2020-07-29T01:33:21.195925Z",
     "start_time": "2020-07-29T01:33:21.191895Z"
    }
   },
   "outputs": [],
   "source": [
    "# mean for each column?\n",
    "array3 = np.array([[10, 20], [30, 40]])"
   ]
  },
  {
   "cell_type": "code",
   "execution_count": 32,
   "metadata": {},
   "outputs": [
    {
     "data": {
      "text/plain": [
       "array([40, 60])"
      ]
     },
     "execution_count": 32,
     "metadata": {},
     "output_type": "execute_result"
    }
   ],
   "source": [
    "array3.sum(axis=0)"
   ]
  },
  {
   "cell_type": "code",
   "execution_count": 33,
   "metadata": {
    "ExecuteTime": {
     "end_time": "2020-07-29T01:33:29.657800Z",
     "start_time": "2020-07-29T01:33:29.654834Z"
    }
   },
   "outputs": [
    {
     "data": {
      "text/plain": [
       "array([20., 30.])"
      ]
     },
     "execution_count": 33,
     "metadata": {},
     "output_type": "execute_result"
    }
   ],
   "source": [
    "# mean for each row?\n",
    "array3.mean(axis=0)"
   ]
  },
  {
   "cell_type": "code",
   "execution_count": 34,
   "metadata": {},
   "outputs": [
    {
     "data": {
      "text/plain": [
       "array([10., 10.])"
      ]
     },
     "execution_count": 34,
     "metadata": {},
     "output_type": "execute_result"
    }
   ],
   "source": [
    "array3.std(axis=0)"
   ]
  },
  {
   "cell_type": "code",
   "execution_count": 35,
   "metadata": {},
   "outputs": [
    {
     "data": {
      "text/plain": [
       "array([[10, 20],\n",
       "       [30, 40],\n",
       "       [10, 20],\n",
       "       [30, 40]])"
      ]
     },
     "execution_count": 35,
     "metadata": {},
     "output_type": "execute_result"
    }
   ],
   "source": [
    "np.concatenate([array3, array3], axis=0)"
   ]
  },
  {
   "cell_type": "code",
   "execution_count": 36,
   "metadata": {},
   "outputs": [
    {
     "data": {
      "text/plain": [
       "array([[10, 20, 10, 20],\n",
       "       [30, 40, 30, 40]])"
      ]
     },
     "execution_count": 36,
     "metadata": {},
     "output_type": "execute_result"
    }
   ],
   "source": [
    "np.concatenate([array3, array3], axis=1)"
   ]
  },
  {
   "cell_type": "code",
   "execution_count": 81,
   "metadata": {},
   "outputs": [
    {
     "data": {
      "text/plain": [
       "array([[[1, 2],\n",
       "        [3, 4]],\n",
       "\n",
       "       [[5, 6],\n",
       "        [7, 8]]])"
      ]
     },
     "execution_count": 81,
     "metadata": {},
     "output_type": "execute_result"
    }
   ],
   "source": [
    "array_3D_2 = np.array([[[1, 2], [3, 4]], [[5, 6], [7,8]]])\n",
    "array_3D_2"
   ]
  },
  {
   "cell_type": "code",
   "execution_count": 85,
   "metadata": {},
   "outputs": [
    {
     "data": {
      "text/plain": [
       "array([[ 6,  8],\n",
       "       [10, 12]])"
      ]
     },
     "execution_count": 85,
     "metadata": {},
     "output_type": "execute_result"
    }
   ],
   "source": [
    "array_3D_2.sum(axis=0)"
   ]
  },
  {
   "cell_type": "code",
   "execution_count": 86,
   "metadata": {},
   "outputs": [
    {
     "data": {
      "text/plain": [
       "array([[ 4,  6],\n",
       "       [12, 14]])"
      ]
     },
     "execution_count": 86,
     "metadata": {},
     "output_type": "execute_result"
    }
   ],
   "source": [
    "array_3D_2.sum(axis=1)"
   ]
  },
  {
   "cell_type": "code",
   "execution_count": 87,
   "metadata": {},
   "outputs": [
    {
     "data": {
      "text/plain": [
       "array([[ 3,  7],\n",
       "       [11, 15]])"
      ]
     },
     "execution_count": 87,
     "metadata": {},
     "output_type": "execute_result"
    }
   ],
   "source": [
    "array_3D_2.sum(axis=2)"
   ]
  },
  {
   "cell_type": "markdown",
   "metadata": {},
   "source": [
    "### 7. Operations between `np.arrays`"
   ]
  },
  {
   "cell_type": "code",
   "execution_count": 37,
   "metadata": {},
   "outputs": [],
   "source": [
    "# code here!"
   ]
  },
  {
   "cell_type": "markdown",
   "metadata": {},
   "source": [
    "### 8. Transpose Matrix"
   ]
  },
  {
   "cell_type": "code",
   "execution_count": 48,
   "metadata": {},
   "outputs": [
    {
     "data": {
      "text/plain": [
       "array([[0.68158117, 0.3480294 ],\n",
       "       [0.62104738, 0.38469668]])"
      ]
     },
     "execution_count": 48,
     "metadata": {},
     "output_type": "execute_result"
    }
   ],
   "source": [
    "# code here!\n",
    "array = np.random.random(size=(2, 2,))\n",
    "array"
   ]
  },
  {
   "cell_type": "code",
   "execution_count": 49,
   "metadata": {},
   "outputs": [
    {
     "data": {
      "text/plain": [
       "array([[0.68158117, 0.62104738],\n",
       "       [0.3480294 , 0.38469668]])"
      ]
     },
     "execution_count": 49,
     "metadata": {},
     "output_type": "execute_result"
    }
   ],
   "source": [
    "array.transpose()"
   ]
  },
  {
   "cell_type": "markdown",
   "metadata": {},
   "source": [
    "### 9. Reshaping arrays"
   ]
  },
  {
   "cell_type": "code",
   "execution_count": 50,
   "metadata": {},
   "outputs": [
    {
     "data": {
      "text/plain": [
       "4"
      ]
     },
     "execution_count": 50,
     "metadata": {},
     "output_type": "execute_result"
    }
   ],
   "source": [
    "array.size"
   ]
  },
  {
   "cell_type": "code",
   "execution_count": 51,
   "metadata": {},
   "outputs": [
    {
     "data": {
      "text/plain": [
       "array([[0.68158117],\n",
       "       [0.3480294 ],\n",
       "       [0.62104738],\n",
       "       [0.38469668]])"
      ]
     },
     "execution_count": 51,
     "metadata": {},
     "output_type": "execute_result"
    }
   ],
   "source": [
    "array.reshape((4, 1)) #necessário garantir que o reshape tenha espaço suficiente para todos os elementos da array original"
   ]
  },
  {
   "cell_type": "code",
   "execution_count": 52,
   "metadata": {},
   "outputs": [
    {
     "data": {
      "text/plain": [
       "array([[0.68158117, 0.3480294 ],\n",
       "       [0.62104738, 0.38469668]])"
      ]
     },
     "execution_count": 52,
     "metadata": {},
     "output_type": "execute_result"
    }
   ],
   "source": [
    "array.reshape(2, 2)"
   ]
  },
  {
   "cell_type": "code",
   "execution_count": 53,
   "metadata": {},
   "outputs": [
    {
     "data": {
      "text/plain": [
       "array([0.68158117, 0.3480294 , 0.62104738, 0.38469668])"
      ]
     },
     "execution_count": 53,
     "metadata": {},
     "output_type": "execute_result"
    }
   ],
   "source": [
    "array.reshape (4, )"
   ]
  },
  {
   "cell_type": "code",
   "execution_count": 39,
   "metadata": {},
   "outputs": [
    {
     "data": {
      "text/plain": [
       "array([[[ 2, 19, 13],\n",
       "        [ 3, 18, 13],\n",
       "        [ 7, 20, 13],\n",
       "        ...,\n",
       "        [ 1, 77, 64],\n",
       "        [ 0, 76, 64],\n",
       "        [ 0, 75, 63]],\n",
       "\n",
       "       [[ 1, 18, 12],\n",
       "        [ 3, 18, 13],\n",
       "        [ 7, 20, 13],\n",
       "        ...,\n",
       "        [ 0, 76, 64],\n",
       "        [ 1, 74, 65],\n",
       "        [ 1, 74, 65]],\n",
       "\n",
       "       [[ 2, 17, 12],\n",
       "        [ 6, 19, 12],\n",
       "        [ 7, 20, 13],\n",
       "        ...,\n",
       "        [ 1, 74, 65],\n",
       "        [ 1, 74, 67],\n",
       "        [ 1, 74, 67]],\n",
       "\n",
       "       ...,\n",
       "\n",
       "       [[ 0, 46, 40],\n",
       "        [ 1, 48, 40],\n",
       "        [ 1, 47, 37],\n",
       "        ...,\n",
       "        [ 5, 44, 26],\n",
       "        [ 6, 43, 26],\n",
       "        [ 7, 44, 27]],\n",
       "\n",
       "       [[ 0, 47, 41],\n",
       "        [ 1, 48, 40],\n",
       "        [ 1, 47, 37],\n",
       "        ...,\n",
       "        [ 6, 45, 27],\n",
       "        [ 7, 44, 27],\n",
       "        [ 7, 44, 27]],\n",
       "\n",
       "       [[ 0, 47, 41],\n",
       "        [ 1, 48, 40],\n",
       "        [ 0, 46, 36],\n",
       "        ...,\n",
       "        [ 7, 46, 28],\n",
       "        [ 8, 45, 28],\n",
       "        [ 9, 43, 27]]], dtype=uint8)"
      ]
     },
     "execution_count": 39,
     "metadata": {},
     "output_type": "execute_result"
    }
   ],
   "source": [
    "from sklearn.datasets import load_sample_image\n",
    "image = load_sample_image('flower.jpg')\n",
    "image"
   ]
  },
  {
   "cell_type": "code",
   "execution_count": 62,
   "metadata": {},
   "outputs": [
    {
     "data": {
      "text/plain": [
       "(427, 640, 3)"
      ]
     },
     "execution_count": 62,
     "metadata": {},
     "output_type": "execute_result"
    }
   ],
   "source": [
    "image.shape"
   ]
  },
  {
   "cell_type": "code",
   "execution_count": 66,
   "metadata": {},
   "outputs": [],
   "source": [
    "import matplotlib.pyplot as plt"
   ]
  },
  {
   "cell_type": "code",
   "execution_count": 67,
   "metadata": {},
   "outputs": [
    {
     "data": {
      "text/plain": [
       "<matplotlib.image.AxesImage at 0x2ad4c03f850>"
      ]
     },
     "execution_count": 67,
     "metadata": {},
     "output_type": "execute_result"
    },
    {
     "data": {
      "image/png": "[encoded data removed]",
      "text/plain": [
       "<Figure size 432x288 with 1 Axes>"
      ]
     },
     "metadata": {
      "needs_background": "light"
     },
     "output_type": "display_data"
    }
   ],
   "source": [
    "plt.imshow(image)"
   ]
  }
 ],
 "metadata": {
  "kernelspec": {
   "display_name": "Python 3",
   "language": "python",
   "name": "python3"
  },
  "language_info": {
   "codemirror_mode": {
    "name": "ipython",
    "version": 3
   },
   "file_extension": ".py",
   "mimetype": "text/x-python",
   "name": "python",
   "nbconvert_exporter": "python",
   "pygments_lexer": "ipython3",
   "version": "3.9.4"
  },
  "toc": {
   "base_numbering": 1,
   "nav_menu": {},
   "number_sections": true,
   "sideBar": true,
   "skip_h1_title": false,
   "title_cell": "Table of Contents",
   "title_sidebar": "Contents",
   "toc_cell": false,
   "toc_position": {},
   "toc_section_display": true,
   "toc_window_display": false
  }
 },
 "nbformat": 4,
 "nbformat_minor": 4
}
