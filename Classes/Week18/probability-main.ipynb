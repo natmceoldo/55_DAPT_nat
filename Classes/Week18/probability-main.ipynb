{
 "cells": [
  {
   "cell_type": "code",
   "execution_count": 1,
   "id": "specified-portland",
   "metadata": {},
   "outputs": [],
   "source": [
    "import pandas as pd\n",
    "import matplotlib.pyplot as plt\n",
    "import seaborn as sns\n",
    "import numpy as np"
   ]
  },
  {
   "cell_type": "code",
   "execution_count": 2,
   "id": "deadly-royal",
   "metadata": {},
   "outputs": [],
   "source": [
    "%matplotlib inline"
   ]
  },
  {
   "cell_type": "markdown",
   "id": "compliant-rugby",
   "metadata": {},
   "source": [
    "# Probability\n",
    "---\n",
    "Em nenhum outro ramo da matemática é tão fácil para um especialista cometer erros como na teoria da probabilidade (!)\n",
    "\n",
    "## Definition\n",
    "\n",
    "### Sample Space\n",
    "\n",
    "All the possible outcomes of an random process (or experiment). Examples:\n",
    "* Flip of a coin: Ω = {'Cara','Coroa'}\n",
    "* Roll of a dice: Ω = {1,2,3,4,5,6}\n",
    "    \n",
    "Omega is the nomenclature for a sample space: <b> Ω = {} </b>\n",
    "\n",
    "### Event\n",
    "\n",
    "Subset of our sample space (or outcome) resulted from a random process:\n",
    "- even number of dice $\\rightarrow $ <b> A = {2, 4, 6} </b>\n",
    "\n",
    "### Probability\n",
    "\n",
    "The probability of an outcome is the proportion of times the outcome would occur if we observed the random process an **infinite number of times**.\n",
    "\n",
    "$$P(event) = \\frac{\\text{number of outcomes of an event}}{\\text{number of outcomes of the sample space}}$$\n",
    "\n",
    "What is the probability of the entire sample space?\n",
    "\n",
    "$$P(A) = \\frac{len(Ω)}{len(Ω)} = 1 = 100\\% $$"
   ]
  },
  {
   "cell_type": "markdown",
   "id": "verbal-douglas",
   "metadata": {},
   "source": [
    "### Using Python to Simulate Scenarios\n",
    "##### 1. Likelihood of getting an even number when rolling a dice"
   ]
  },
  {
   "cell_type": "code",
   "execution_count": 3,
   "id": "foster-carol",
   "metadata": {},
   "outputs": [],
   "source": [
    "# sample space\n",
    "dice_side = [1, 2, 3, 4, 5, 6]"
   ]
  },
  {
   "cell_type": "code",
   "execution_count": 4,
   "id": "comprehensive-administrator",
   "metadata": {},
   "outputs": [
    {
     "data": {
      "text/plain": [
       "array([4, 4, 1, 3, 1, 5, 4, 4, 2, 3, 5, 3, 6, 2, 6, 4, 4, 4, 3, 5, 2, 3,\n",
       "       5, 3, 6, 6, 4, 4, 4, 5, 2, 1, 1, 5, 4, 1, 3, 4, 5, 1, 3, 5, 3, 1,\n",
       "       4, 3, 2, 1, 3, 4, 2, 6, 6, 1, 6, 5, 5, 4, 5, 6, 5, 5, 6, 5, 4, 4,\n",
       "       3, 1, 2, 1, 5, 4, 1, 1, 3, 2, 3, 3, 6, 1, 3, 5, 1, 1, 4, 1, 2, 5,\n",
       "       6, 6, 2, 5, 3, 1, 5, 5, 3, 1, 5, 4, 2, 2, 6, 1, 3, 2, 1, 6, 2, 2,\n",
       "       3, 6, 1, 1, 5, 5, 2, 2, 5, 3, 6, 2, 4, 1, 4, 2, 2, 4, 6, 2, 4, 6,\n",
       "       1, 1, 1, 2, 2, 5, 1, 5, 2, 6, 2, 6, 2, 2, 4, 3, 1, 1, 4, 2, 3, 3,\n",
       "       4, 5, 1, 1, 5, 2, 1, 3, 6, 6, 2, 1, 2, 6, 1, 4, 5, 2, 5, 3, 1, 5,\n",
       "       1, 4, 1, 1, 5, 2, 3, 3, 2, 3, 2, 2, 5, 6, 3, 3, 5, 3, 2, 5, 1, 4,\n",
       "       2, 1, 6, 5, 2, 4, 2, 6, 5, 6, 5, 5, 5, 1, 3, 4, 6, 2, 3, 2, 5, 3,\n",
       "       3, 2, 6, 6, 2, 3, 6, 5, 2, 3, 4, 2, 3, 3, 2, 4, 1, 6, 5, 3, 2, 5,\n",
       "       3, 5, 3, 4, 4, 4, 6, 1, 1, 6, 2, 5, 3, 6, 3, 1, 3, 2, 4, 5, 4, 3,\n",
       "       4, 6, 1, 5, 4, 1, 1, 6, 4, 1, 4, 3, 5, 1, 6, 1, 3, 2, 4, 5, 2, 6,\n",
       "       1, 6, 3, 6, 3, 1, 1, 6, 4, 1, 4, 5, 5, 5, 4, 4, 3, 5, 2, 5, 6, 3,\n",
       "       3, 1, 2, 6, 4, 6, 3, 3, 2, 5, 3, 2, 1, 5, 1, 4, 2, 6, 3, 4, 5, 2,\n",
       "       6, 5, 5, 1, 1, 1, 1, 2, 4, 6, 2, 1, 4, 6, 5, 1, 5, 3, 2, 2, 1, 1,\n",
       "       4, 5, 6, 1, 4, 5, 2, 6, 2, 4, 6, 3, 5, 4, 4, 3, 3, 4, 1, 1, 6, 2,\n",
       "       3, 3, 2, 2, 6, 2, 5, 6, 3, 4, 3, 5, 1, 4, 1, 5, 3, 2, 6, 4, 5, 4,\n",
       "       1, 3, 4, 4, 6, 1, 1, 1, 1, 2, 1, 1, 4, 5, 4, 5, 5, 2, 2, 2, 2, 5,\n",
       "       3, 2, 5, 4, 4, 1, 5, 4, 5, 6, 6, 2, 3, 2, 3, 2, 2, 2, 4, 6, 1, 3,\n",
       "       6, 3, 6, 4, 3, 3, 1, 5, 6, 5, 5, 6, 6, 2, 1, 1, 1, 6, 2, 2, 2, 2,\n",
       "       2, 1, 6, 6, 5, 2, 1, 4, 5, 1, 6, 6, 2, 2, 6, 4, 2, 5, 1, 4, 2, 3,\n",
       "       4, 5, 4, 2, 5, 4, 1, 5, 1, 6, 2, 6, 4, 2, 3, 5, 1, 4, 1, 6, 1, 2,\n",
       "       4, 5, 5, 5, 5, 6, 5, 6, 3, 6, 2, 2, 1, 5, 6, 2, 2, 4, 5, 6, 6, 6,\n",
       "       1, 5, 1, 2, 4, 1, 6, 6, 5, 2, 3, 3, 6, 5, 1, 4, 1, 4, 3, 4, 3, 1,\n",
       "       4, 4, 2, 3, 4, 1, 2, 1, 4, 6, 2, 6, 5, 5, 1, 1, 4, 5, 3, 4, 5, 6,\n",
       "       3, 5, 5, 1, 1, 1, 5, 1, 6, 2, 5, 2, 1, 2, 1, 1, 6, 3, 3, 5, 4, 1,\n",
       "       3, 2, 3, 6, 6, 1, 3, 6, 4, 2, 2, 1, 3, 1, 1, 3, 4, 4, 1, 1, 4, 2,\n",
       "       6, 5, 3, 5, 5, 5, 1, 2, 2, 3, 1, 2, 1, 2, 1, 2, 3, 2, 4, 4, 2, 3,\n",
       "       3, 6, 4, 5, 6, 3, 3, 1, 1, 6, 3, 5, 4, 2, 3, 3, 1, 1, 2, 3, 3, 5,\n",
       "       6, 5, 4, 1, 5, 2, 4, 2, 3, 1, 2, 1, 2, 5, 6, 3, 6, 4, 5, 2, 4, 6,\n",
       "       6, 3, 4, 4, 4, 6, 2, 1, 3, 2, 4, 1, 3, 5, 5, 5, 1, 5, 2, 1, 1, 2,\n",
       "       3, 2, 5, 6, 2, 6, 6, 1, 6, 5, 6, 4, 2, 4, 5, 5, 6, 2, 6, 2, 3, 6,\n",
       "       3, 4, 4, 1, 6, 3, 2, 5, 3, 5, 4, 6, 6, 5, 6, 2, 5, 1, 4, 3, 6, 4,\n",
       "       1, 6, 4, 6, 4, 6, 3, 6, 2, 4, 3, 3, 5, 6, 1, 1, 6, 1, 3, 4, 1, 3,\n",
       "       5, 5, 5, 4, 6, 6, 5, 2, 4, 4, 4, 3, 4, 5, 1, 5, 5, 5, 4, 2, 2, 4,\n",
       "       3, 5, 3, 4, 3, 6, 4, 6, 4, 6, 1, 2, 2, 4, 6, 5, 2, 5, 3, 1, 4, 2,\n",
       "       5, 1, 1, 2, 1, 4, 5, 1, 5, 4, 2, 3, 5, 4, 6, 4, 6, 6, 6, 1, 3, 3,\n",
       "       2, 1, 4, 3, 6, 4, 3, 2, 6, 6, 2, 2, 2, 2, 1, 2, 5, 5, 5, 3, 2, 4,\n",
       "       1, 4, 5, 5, 6, 4, 2, 1, 4, 1, 6, 5, 2, 6, 1, 1, 5, 6, 1, 5, 5, 5,\n",
       "       1, 2, 1, 6, 2, 3, 4, 5, 1, 2, 3, 5, 1, 6, 3, 4, 2, 1, 5, 4, 6, 4,\n",
       "       2, 1, 4, 1, 1, 4, 6, 1, 6, 5, 5, 3, 6, 6, 3, 3, 4, 5, 3, 3, 4, 6,\n",
       "       5, 4, 5, 2, 6, 2, 1, 4, 3, 3, 2, 3, 3, 2, 2, 5, 3, 2, 6, 4, 3, 3,\n",
       "       2, 5, 5, 4, 1, 1, 5, 4, 1, 6, 5, 5, 5, 4, 2, 4, 5, 6, 6, 2, 2, 2,\n",
       "       1, 2, 1, 1, 4, 4, 3, 4, 3, 3, 6, 2, 2, 6, 4, 6, 5, 4, 4, 3, 4, 1,\n",
       "       5, 6, 3, 3, 3, 2, 6, 4, 3, 4])"
      ]
     },
     "execution_count": 4,
     "metadata": {},
     "output_type": "execute_result"
    }
   ],
   "source": [
    "# random process (executed 10 times)\n",
    "# random process executed one time -> sample point\n",
    "dice_rolls = np.random.choice(dice_side, size=1000)\n",
    "dice_rolls"
   ]
  },
  {
   "cell_type": "code",
   "execution_count": 5,
   "id": "diagnostic-provider",
   "metadata": {},
   "outputs": [
    {
     "data": {
      "text/plain": [
       "[True,\n",
       " False,\n",
       " True,\n",
       " True,\n",
       " False,\n",
       " False,\n",
       " False,\n",
       " False,\n",
       " True,\n",
       " False,\n",
       " False,\n",
       " False,\n",
       " False,\n",
       " True,\n",
       " True,\n",
       " True,\n",
       " False,\n",
       " False,\n",
       " True,\n",
       " False,\n",
       " True,\n",
       " True,\n",
       " False,\n",
       " False,\n",
       " False,\n",
       " False,\n",
       " False,\n",
       " False,\n",
       " False,\n",
       " True,\n",
       " True,\n",
       " True,\n",
       " True,\n",
       " True,\n",
       " True,\n",
       " False,\n",
       " True,\n",
       " False,\n",
       " True,\n",
       " False,\n",
       " True,\n",
       " True,\n",
       " False,\n",
       " False,\n",
       " False,\n",
       " False,\n",
       " False,\n",
       " True,\n",
       " False,\n",
       " True,\n",
       " True,\n",
       " True,\n",
       " True,\n",
       " True,\n",
       " False,\n",
       " False,\n",
       " True,\n",
       " False,\n",
       " False,\n",
       " False,\n",
       " True,\n",
       " False,\n",
       " False,\n",
       " False,\n",
       " False,\n",
       " True,\n",
       " True,\n",
       " True,\n",
       " False,\n",
       " False,\n",
       " True,\n",
       " True,\n",
       " False,\n",
       " True,\n",
       " True,\n",
       " True,\n",
       " False,\n",
       " False,\n",
       " True,\n",
       " True,\n",
       " False,\n",
       " False,\n",
       " False,\n",
       " False,\n",
       " False,\n",
       " False,\n",
       " True,\n",
       " True,\n",
       " True,\n",
       " False,\n",
       " False,\n",
       " True,\n",
       " True,\n",
       " False,\n",
       " False,\n",
       " True,\n",
       " True,\n",
       " True,\n",
       " False,\n",
       " False,\n",
       " False,\n",
       " False,\n",
       " True,\n",
       " True,\n",
       " True,\n",
       " False,\n",
       " True,\n",
       " True,\n",
       " True,\n",
       " True,\n",
       " True,\n",
       " True,\n",
       " False,\n",
       " False,\n",
       " True,\n",
       " True,\n",
       " False,\n",
       " True,\n",
       " True,\n",
       " True,\n",
       " True,\n",
       " True,\n",
       " True,\n",
       " True,\n",
       " True,\n",
       " True,\n",
       " True,\n",
       " False,\n",
       " True,\n",
       " False,\n",
       " True,\n",
       " True,\n",
       " True,\n",
       " False,\n",
       " False,\n",
       " True,\n",
       " False,\n",
       " True,\n",
       " False,\n",
       " True,\n",
       " True,\n",
       " False,\n",
       " True,\n",
       " False,\n",
       " True,\n",
       " False,\n",
       " True,\n",
       " True,\n",
       " False,\n",
       " False,\n",
       " False,\n",
       " True,\n",
       " False,\n",
       " True,\n",
       " True,\n",
       " False,\n",
       " True,\n",
       " False,\n",
       " True,\n",
       " True,\n",
       " True,\n",
       " True,\n",
       " True,\n",
       " True,\n",
       " True,\n",
       " False,\n",
       " False,\n",
       " False,\n",
       " False,\n",
       " True,\n",
       " False,\n",
       " True,\n",
       " True,\n",
       " True,\n",
       " True,\n",
       " False,\n",
       " False,\n",
       " True,\n",
       " True,\n",
       " False,\n",
       " False,\n",
       " False,\n",
       " False,\n",
       " False,\n",
       " False,\n",
       " False,\n",
       " True,\n",
       " True,\n",
       " True,\n",
       " False,\n",
       " True,\n",
       " False,\n",
       " False,\n",
       " False,\n",
       " True,\n",
       " False,\n",
       " True,\n",
       " False,\n",
       " True,\n",
       " False,\n",
       " False,\n",
       " False,\n",
       " False,\n",
       " True,\n",
       " False,\n",
       " False,\n",
       " False,\n",
       " True,\n",
       " True,\n",
       " True,\n",
       " True,\n",
       " True,\n",
       " False,\n",
       " False,\n",
       " True,\n",
       " True,\n",
       " True,\n",
       " False,\n",
       " False,\n",
       " False,\n",
       " True,\n",
       " True,\n",
       " False,\n",
       " True,\n",
       " False,\n",
       " False,\n",
       " False,\n",
       " True,\n",
       " True,\n",
       " True,\n",
       " True,\n",
       " True,\n",
       " False,\n",
       " False,\n",
       " False,\n",
       " False,\n",
       " True,\n",
       " True,\n",
       " False,\n",
       " False,\n",
       " False,\n",
       " False,\n",
       " True,\n",
       " False,\n",
       " False,\n",
       " True,\n",
       " True,\n",
       " False,\n",
       " True,\n",
       " False,\n",
       " True,\n",
       " False,\n",
       " True,\n",
       " False,\n",
       " False,\n",
       " True,\n",
       " False,\n",
       " False,\n",
       " True,\n",
       " True,\n",
       " True,\n",
       " True,\n",
       " True,\n",
       " True,\n",
       " True,\n",
       " False,\n",
       " True,\n",
       " True,\n",
       " True,\n",
       " False,\n",
       " False,\n",
       " False,\n",
       " False,\n",
       " True,\n",
       " False,\n",
       " True,\n",
       " True,\n",
       " True,\n",
       " False,\n",
       " True,\n",
       " True,\n",
       " True,\n",
       " True,\n",
       " True,\n",
       " True,\n",
       " False,\n",
       " False,\n",
       " True,\n",
       " True,\n",
       " False,\n",
       " True,\n",
       " True,\n",
       " True,\n",
       " True,\n",
       " False,\n",
       " True,\n",
       " False,\n",
       " False,\n",
       " False,\n",
       " True,\n",
       " True,\n",
       " True,\n",
       " True,\n",
       " False,\n",
       " True,\n",
       " False,\n",
       " True,\n",
       " True,\n",
       " True,\n",
       " False,\n",
       " True,\n",
       " False,\n",
       " False,\n",
       " False,\n",
       " False,\n",
       " False,\n",
       " True,\n",
       " True,\n",
       " False,\n",
       " False,\n",
       " True,\n",
       " False,\n",
       " True,\n",
       " True,\n",
       " True,\n",
       " True,\n",
       " False,\n",
       " False,\n",
       " True,\n",
       " False,\n",
       " False,\n",
       " True,\n",
       " False,\n",
       " True,\n",
       " False,\n",
       " False,\n",
       " False,\n",
       " False,\n",
       " False,\n",
       " True,\n",
       " True,\n",
       " False,\n",
       " False,\n",
       " True,\n",
       " True,\n",
       " False,\n",
       " True,\n",
       " False,\n",
       " False,\n",
       " False,\n",
       " False,\n",
       " False,\n",
       " True,\n",
       " True,\n",
       " True,\n",
       " True,\n",
       " False,\n",
       " False,\n",
       " False,\n",
       " False,\n",
       " False,\n",
       " True,\n",
       " False,\n",
       " False,\n",
       " False,\n",
       " True,\n",
       " True,\n",
       " False,\n",
       " False,\n",
       " False,\n",
       " False,\n",
       " False,\n",
       " False,\n",
       " False,\n",
       " False,\n",
       " False,\n",
       " False,\n",
       " False,\n",
       " False,\n",
       " True,\n",
       " False,\n",
       " False,\n",
       " False,\n",
       " True,\n",
       " True,\n",
       " False,\n",
       " False,\n",
       " True,\n",
       " False,\n",
       " True,\n",
       " False,\n",
       " True,\n",
       " True,\n",
       " True,\n",
       " False,\n",
       " True,\n",
       " False,\n",
       " True,\n",
       " False,\n",
       " True,\n",
       " True,\n",
       " True,\n",
       " True,\n",
       " True,\n",
       " False,\n",
       " False,\n",
       " False,\n",
       " False,\n",
       " False,\n",
       " True,\n",
       " False,\n",
       " False,\n",
       " True,\n",
       " True,\n",
       " False,\n",
       " True,\n",
       " False,\n",
       " True,\n",
       " True,\n",
       " False,\n",
       " False,\n",
       " True,\n",
       " False,\n",
       " False,\n",
       " True,\n",
       " False,\n",
       " True,\n",
       " True,\n",
       " False,\n",
       " True,\n",
       " False,\n",
       " True,\n",
       " True,\n",
       " False,\n",
       " True,\n",
       " True,\n",
       " True,\n",
       " True,\n",
       " True,\n",
       " False,\n",
       " False,\n",
       " True,\n",
       " False,\n",
       " True,\n",
       " False,\n",
       " True,\n",
       " True,\n",
       " True,\n",
       " False,\n",
       " True,\n",
       " False,\n",
       " True,\n",
       " False,\n",
       " False,\n",
       " False,\n",
       " True,\n",
       " False,\n",
       " False,\n",
       " True,\n",
       " False,\n",
       " False,\n",
       " False,\n",
       " False,\n",
       " True,\n",
       " True,\n",
       " True,\n",
       " False,\n",
       " True,\n",
       " True,\n",
       " True,\n",
       " True,\n",
       " False,\n",
       " False,\n",
       " True,\n",
       " True,\n",
       " False,\n",
       " True,\n",
       " False,\n",
       " True,\n",
       " False,\n",
       " False,\n",
       " True,\n",
       " True,\n",
       " True,\n",
       " False,\n",
       " True,\n",
       " False,\n",
       " True,\n",
       " False,\n",
       " False,\n",
       " False,\n",
       " True,\n",
       " False,\n",
       " False,\n",
       " False,\n",
       " True,\n",
       " False,\n",
       " True,\n",
       " True,\n",
       " True,\n",
       " False,\n",
       " True,\n",
       " False,\n",
       " False,\n",
       " False,\n",
       " True,\n",
       " False,\n",
       " False,\n",
       " True,\n",
       " False,\n",
       " False,\n",
       " False,\n",
       " True,\n",
       " False,\n",
       " False,\n",
       " False,\n",
       " False,\n",
       " True,\n",
       " False,\n",
       " True,\n",
       " True,\n",
       " True,\n",
       " False,\n",
       " False,\n",
       " False,\n",
       " True,\n",
       " False,\n",
       " False,\n",
       " True,\n",
       " True,\n",
       " False,\n",
       " True,\n",
       " False,\n",
       " True,\n",
       " False,\n",
       " True,\n",
       " True,\n",
       " True,\n",
       " False,\n",
       " False,\n",
       " True,\n",
       " False,\n",
       " True,\n",
       " False,\n",
       " False,\n",
       " False,\n",
       " True,\n",
       " True,\n",
       " False,\n",
       " False,\n",
       " True,\n",
       " True,\n",
       " True,\n",
       " False,\n",
       " False,\n",
       " True,\n",
       " True,\n",
       " False,\n",
       " False,\n",
       " False,\n",
       " False,\n",
       " False,\n",
       " False,\n",
       " True,\n",
       " False,\n",
       " True,\n",
       " True,\n",
       " False,\n",
       " True,\n",
       " True,\n",
       " False,\n",
       " False,\n",
       " False,\n",
       " False,\n",
       " False,\n",
       " True,\n",
       " False,\n",
       " False,\n",
       " False,\n",
       " False,\n",
       " False,\n",
       " True,\n",
       " False,\n",
       " False,\n",
       " False,\n",
       " False,\n",
       " False,\n",
       " True,\n",
       " True,\n",
       " False,\n",
       " False,\n",
       " False,\n",
       " False,\n",
       " False,\n",
       " True,\n",
       " True,\n",
       " True,\n",
       " False,\n",
       " False,\n",
       " False,\n",
       " True,\n",
       " False,\n",
       " False,\n",
       " False,\n",
       " True,\n",
       " True,\n",
       " True,\n",
       " False,\n",
       " False,\n",
       " True,\n",
       " False,\n",
       " True,\n",
       " True,\n",
       " True,\n",
       " False,\n",
       " False,\n",
       " False,\n",
       " True,\n",
       " False,\n",
       " False,\n",
       " False,\n",
       " False,\n",
       " True,\n",
       " False,\n",
       " False,\n",
       " True,\n",
       " False,\n",
       " False,\n",
       " True,\n",
       " True,\n",
       " False,\n",
       " True,\n",
       " False,\n",
       " False,\n",
       " True,\n",
       " False,\n",
       " True,\n",
       " True,\n",
       " True,\n",
       " True,\n",
       " True,\n",
       " True,\n",
       " True,\n",
       " True,\n",
       " True,\n",
       " True,\n",
       " False,\n",
       " False,\n",
       " True,\n",
       " False,\n",
       " False,\n",
       " True,\n",
       " False,\n",
       " True,\n",
       " True,\n",
       " False,\n",
       " False,\n",
       " True,\n",
       " True,\n",
       " False,\n",
       " False,\n",
       " True,\n",
       " True,\n",
       " True,\n",
       " False,\n",
       " False,\n",
       " True,\n",
       " False,\n",
       " True,\n",
       " True,\n",
       " False,\n",
       " False,\n",
       " False,\n",
       " True,\n",
       " True,\n",
       " True,\n",
       " True,\n",
       " False,\n",
       " False,\n",
       " True,\n",
       " False,\n",
       " True,\n",
       " False,\n",
       " False,\n",
       " True,\n",
       " False,\n",
       " False,\n",
       " True,\n",
       " True,\n",
       " True,\n",
       " True,\n",
       " False,\n",
       " False,\n",
       " False,\n",
       " True,\n",
       " False,\n",
       " False,\n",
       " False,\n",
       " False,\n",
       " False,\n",
       " True,\n",
       " True,\n",
       " False,\n",
       " False,\n",
       " True,\n",
       " False,\n",
       " False,\n",
       " False,\n",
       " False,\n",
       " False,\n",
       " False,\n",
       " True,\n",
       " False,\n",
       " False,\n",
       " True,\n",
       " False,\n",
       " False,\n",
       " False,\n",
       " False,\n",
       " False,\n",
       " True,\n",
       " False,\n",
       " True,\n",
       " False,\n",
       " True,\n",
       " True,\n",
       " True,\n",
       " False,\n",
       " False,\n",
       " False,\n",
       " True,\n",
       " False,\n",
       " True,\n",
       " False,\n",
       " False,\n",
       " True,\n",
       " False,\n",
       " False,\n",
       " False,\n",
       " False,\n",
       " False,\n",
       " True,\n",
       " True,\n",
       " True,\n",
       " False,\n",
       " False,\n",
       " False,\n",
       " True,\n",
       " False,\n",
       " True,\n",
       " True,\n",
       " True,\n",
       " True,\n",
       " False,\n",
       " False,\n",
       " False,\n",
       " True,\n",
       " True,\n",
       " True,\n",
       " True,\n",
       " False,\n",
       " False,\n",
       " True,\n",
       " True,\n",
       " False,\n",
       " True,\n",
       " False,\n",
       " True,\n",
       " False,\n",
       " False,\n",
       " False,\n",
       " True,\n",
       " True,\n",
       " False,\n",
       " False,\n",
       " False,\n",
       " False,\n",
       " True,\n",
       " True,\n",
       " True,\n",
       " True,\n",
       " False,\n",
       " False,\n",
       " False,\n",
       " True,\n",
       " True,\n",
       " False,\n",
       " True,\n",
       " False,\n",
       " True,\n",
       " True,\n",
       " False,\n",
       " False,\n",
       " False,\n",
       " False,\n",
       " True,\n",
       " False,\n",
       " False,\n",
       " False,\n",
       " False,\n",
       " False,\n",
       " True,\n",
       " True,\n",
       " False,\n",
       " True,\n",
       " True,\n",
       " True,\n",
       " True,\n",
       " False,\n",
       " False,\n",
       " False,\n",
       " True,\n",
       " False,\n",
       " True,\n",
       " False,\n",
       " True,\n",
       " True,\n",
       " True,\n",
       " True,\n",
       " True,\n",
       " True,\n",
       " True,\n",
       " False,\n",
       " False,\n",
       " True,\n",
       " True,\n",
       " True,\n",
       " False,\n",
       " True,\n",
       " False,\n",
       " True,\n",
       " True,\n",
       " True,\n",
       " True,\n",
       " True,\n",
       " False,\n",
       " False,\n",
       " False,\n",
       " True,\n",
       " True,\n",
       " False,\n",
       " False,\n",
       " False,\n",
       " True,\n",
       " True,\n",
       " False,\n",
       " True,\n",
       " True,\n",
       " True,\n",
       " False,\n",
       " True,\n",
       " True,\n",
       " False,\n",
       " True,\n",
       " False,\n",
       " True,\n",
       " True,\n",
       " False,\n",
       " True,\n",
       " False,\n",
       " False,\n",
       " True,\n",
       " True,\n",
       " True,\n",
       " True,\n",
       " True,\n",
       " False,\n",
       " True,\n",
       " True,\n",
       " False,\n",
       " False,\n",
       " False,\n",
       " False,\n",
       " True,\n",
       " False,\n",
       " False,\n",
       " False,\n",
       " True,\n",
       " True,\n",
       " True,\n",
       " True,\n",
       " False,\n",
       " False,\n",
       " False,\n",
       " False,\n",
       " False,\n",
       " True,\n",
       " True,\n",
       " True,\n",
       " True,\n",
       " True,\n",
       " True,\n",
       " False,\n",
       " True,\n",
       " True,\n",
       " True,\n",
       " False,\n",
       " False,\n",
       " True,\n",
       " True,\n",
       " True,\n",
       " True,\n",
       " True,\n",
       " False,\n",
       " True,\n",
       " False,\n",
       " True,\n",
       " False,\n",
       " True,\n",
       " False,\n",
       " False,\n",
       " False,\n",
       " False,\n",
       " False,\n",
       " False,\n",
       " True,\n",
       " False,\n",
       " False,\n",
       " False,\n",
       " False,\n",
       " False,\n",
       " True,\n",
       " False,\n",
       " False,\n",
       " False,\n",
       " True,\n",
       " False,\n",
       " False,\n",
       " True,\n",
       " False,\n",
       " True,\n",
       " True,\n",
       " False,\n",
       " True,\n",
       " False,\n",
       " True,\n",
       " False,\n",
       " False,\n",
       " False,\n",
       " False,\n",
       " True,\n",
       " False,\n",
       " False,\n",
       " True,\n",
       " False,\n",
       " False,\n",
       " True,\n",
       " True,\n",
       " True,\n",
       " False,\n",
       " False,\n",
       " False,\n",
       " True,\n",
       " True,\n",
       " False,\n",
       " True,\n",
       " True,\n",
       " True,\n",
       " False,\n",
       " True,\n",
       " False,\n",
       " False,\n",
       " False,\n",
       " False,\n",
       " True,\n",
       " True,\n",
       " True,\n",
       " True,\n",
       " True,\n",
       " False,\n",
       " True,\n",
       " False,\n",
       " True,\n",
       " True,\n",
       " True,\n",
       " False,\n",
       " False,\n",
       " False,\n",
       " False,\n",
       " False,\n",
       " False,\n",
       " True,\n",
       " True,\n",
       " False,\n",
       " True,\n",
       " True,\n",
       " False,\n",
       " True,\n",
       " True,\n",
       " True,\n",
       " True,\n",
       " False,\n",
       " False,\n",
       " False,\n",
       " False,\n",
       " True,\n",
       " True,\n",
       " False,\n",
       " True,\n",
       " True]"
      ]
     },
     "execution_count": 5,
     "metadata": {},
     "output_type": "execute_result"
    }
   ],
   "source": [
    "# check if the outcome from a random process is even \n",
    "is_even = lambda x: True if x % 2 == 0 else False\n",
    "list(map(is_even, dice_rolls))"
   ]
  },
  {
   "cell_type": "code",
   "execution_count": 6,
   "id": "considerable-awareness",
   "metadata": {},
   "outputs": [
    {
     "data": {
      "text/plain": [
       "0.484"
      ]
     },
     "execution_count": 6,
     "metadata": {},
     "output_type": "execute_result"
    }
   ],
   "source": [
    "# Checking the probability\n",
    "np.mean(list(map(is_even, dice_rolls)))"
   ]
  },
  {
   "cell_type": "code",
   "execution_count": 7,
   "id": "apart-agenda",
   "metadata": {},
   "outputs": [],
   "source": [
    "probs1 = list()\n",
    "for size in range(1, 800):\n",
    "    dice_rolls = np.random.choice(dice_side, size=size)\n",
    "    is_even = lambda x: True if x % 2 == 0 else False\n",
    "    probs1.append(np.mean(list(map(is_even, dice_rolls))))"
   ]
  },
  {
   "cell_type": "code",
   "execution_count": 8,
   "id": "driving-proxy",
   "metadata": {},
   "outputs": [
    {
     "data": {
      "text/plain": [
       "(0.0, 1.0)"
      ]
     },
     "execution_count": 8,
     "metadata": {},
     "output_type": "execute_result"
    },
    {
     "data": {
      "image/png": "[encoded data removed]",
      "text/plain": [
       "<Figure size 1440x720 with 1 Axes>"
      ]
     },
     "metadata": {
      "needs_background": "light"
     },
     "output_type": "display_data"
    }
   ],
   "source": [
    "# As more observations are collected, the proportion of occurences with a particular outcome converges to the probability of that outcome.    \n",
    "\n",
    "import matplotlib.pyplot as plt\n",
    "\n",
    "fig, ax = plt.subplots(figsize=(20,10))\n",
    "\n",
    "plt.plot(probs1, color='cadetblue')\n",
    "ax.set_title('Law of Large Numbers')\n",
    "ax.set_ylim(0,1)"
   ]
  },
  {
   "cell_type": "markdown",
   "id": "advanced-rainbow",
   "metadata": {},
   "source": [
    "##### 2. Likelihood of getting odd numbers or 6 when rolling a dice\n",
    "\n",
    "A = {1, 3, 5}<br>\n",
    "B = {6}\n",
    "\n",
    "$ A ∩ B = \\{\\} $\n",
    "\n",
    "* Mutually exclusive (or disjoint) outcomes\n",
    "* **Addition Rule:** `P(A or B) = P(A) + P(B)`"
   ]
  },
  {
   "cell_type": "code",
   "execution_count": 9,
   "id": "economic-fusion",
   "metadata": {},
   "outputs": [],
   "source": [
    "probs2 = list()\n",
    "for size in range(1, 800):\n",
    "    dice_rolls = np.random.choice(dice_side, size=size)\n",
    "    check = lambda x: True if (x % 2 != 0) or (x == 6) else False\n",
    "    probs2.append(np.mean(list(map(check, dice_rolls))))"
   ]
  },
  {
   "cell_type": "code",
   "execution_count": 10,
   "id": "conservative-coalition",
   "metadata": {},
   "outputs": [
    {
     "data": {
      "text/plain": [
       "(0.0, 1.0)"
      ]
     },
     "execution_count": 10,
     "metadata": {},
     "output_type": "execute_result"
    },
    {
     "data": {
      "image/png": "[encoded data removed]",
      "text/plain": [
       "<Figure size 1440x720 with 1 Axes>"
      ]
     },
     "metadata": {
      "needs_background": "light"
     },
     "output_type": "display_data"
    }
   ],
   "source": [
    "import matplotlib.pyplot as plt\n",
    "\n",
    "fig, ax = plt.subplots(figsize=(20,10))\n",
    "\n",
    "plt.plot(probs2, color='mediumpurple')\n",
    "ax.set_title('Law of Large Numbers')\n",
    "ax.set_ylim(0, 1)"
   ]
  },
  {
   "cell_type": "markdown",
   "id": "ancient-tolerance",
   "metadata": {},
   "source": [
    "##### 3. Likelihood of getting an even number OR a number less than 4 when rolling a dice\n",
    "\n",
    "A = {2, 4, 6} <br>\n",
    "C = {1, 2, 3}\n",
    "\n",
    "$ A ∩ C = \\{2\\} $\n",
    "\n",
    "* Probabilities when events are not disjoint\n",
    "* **General Addition Rule:** `P(A or C) = P(A) + P(C) - P(A and C)`"
   ]
  },
  {
   "cell_type": "code",
   "execution_count": 11,
   "id": "signal-petroleum",
   "metadata": {},
   "outputs": [],
   "source": [
    "probs3 = list()\n",
    "for size in range(1, 800):\n",
    "    dice_rolls = np.random.choice(dice_side, size=size)\n",
    "    check = lambda x: True if (x % 2 == 0) or (x < 4) else False\n",
    "    probs3.append(np.mean(list(map(check, dice_rolls))))"
   ]
  },
  {
   "cell_type": "code",
   "execution_count": 12,
   "id": "armed-jenny",
   "metadata": {},
   "outputs": [
    {
     "data": {
      "text/plain": [
       "(0.0, 1.0)"
      ]
     },
     "execution_count": 12,
     "metadata": {},
     "output_type": "execute_result"
    },
    {
     "data": {
      "image/png": "[encoded data removed]",
      "text/plain": [
       "<Figure size 1440x720 with 1 Axes>"
      ]
     },
     "metadata": {
      "needs_background": "light"
     },
     "output_type": "display_data"
    }
   ],
   "source": [
    "import matplotlib.pyplot as plt\n",
    "\n",
    "fig, ax = plt.subplots(figsize=(20,10))\n",
    "\n",
    "plt.plot(probs3, color='salmon')\n",
    "ax.set_title('Law of Large Numbers')\n",
    "ax.set_ylim(0, 1)"
   ]
  },
  {
   "cell_type": "markdown",
   "id": "joined-commission",
   "metadata": {},
   "source": [
    "##### 4. Probability that a dice roll is less than 3 given that it is odd\n",
    "\n",
    "A = {1,2}<BR>\n",
    "B = {1,3,5}\n",
    "\n",
    "- A ∩ B = {1}\n",
    "    \n",
    "$$ P(A|B) = \\frac{P(𝐴∩𝐵)}{P(B)} = \\frac{1}{3} $$\n",
    "\n",
    "* A: outcome of interest, B: condition\n",
    "* If a probability is based on a single variable, it is a **marginal probability**. The probability of outcomes for two or more variables or processes is called a **joint probability**.\n",
    "* Contingency table summarizing probabilities:\n",
    "    \n",
    "| | **less than 3** | not less than 3 | total\n",
    "|--|--|--|--|\n",
    "| it is odd  | 1 | 2 | **3** | \n",
    "| it is even | 1 | 2 | **3** |\n",
    "| **total** | **2** | **4** | **6** | "
   ]
  },
  {
   "cell_type": "markdown",
   "id": "armed-silver",
   "metadata": {},
   "source": [
    "##### Mounty Hall Simulation: An example of conditional probability\n",
    "https://clearthinking.co/the-monty-hall-problem-comes-to-the-cover-of-hbr/"
   ]
  },
  {
   "cell_type": "code",
   "execution_count": 13,
   "id": "cheap-vault",
   "metadata": {},
   "outputs": [],
   "source": [
    "def mounty_hall(decision):\n",
    "    choices = [1,2,3]\n",
    "\n",
    "    your_choice = np.random.choice(choices) # minha escolha\n",
    "    premium = np.random.choice(choices) # onde está o prêmio\n",
    "    cabras = [item for item in choices if item != premium] # determina as cabras com base no que escolhi\n",
    "    \n",
    "    # seleciona uma porta para abrir com cabra excluindo a sua porta de escolha\n",
    "    door_to_open = np.random.choice([door for door in cabras if door != your_choice])\n",
    "    \n",
    "    # remove essa porta aberta das escolhas possíveis\n",
    "    choices.remove(door_to_open)\n",
    "    doors_remaining = choices\n",
    "    \n",
    "    # porta remanescente caso eu mude de ideia\n",
    "    doors_remaining.remove(your_choice)\n",
    "    \n",
    "    # se eu mudar, fico com a porta remanescente, se não, fica com minha porta inicial\n",
    "    if decision == 'switch':\n",
    "        final_choice = doors_remaining\n",
    "    else:\n",
    "        final_choice = your_choice\n",
    "    \n",
    "    # se minha escolha final for igual a porta do premio, ganhei!\n",
    "    if final_choice == premium:\n",
    "        return True\n",
    "    else:\n",
    "        return False"
   ]
  },
  {
   "cell_type": "code",
   "execution_count": 14,
   "id": "confidential-document",
   "metadata": {},
   "outputs": [
    {
     "data": {
      "text/plain": [
       "0.67875"
      ]
     },
     "execution_count": 14,
     "metadata": {},
     "output_type": "execute_result"
    }
   ],
   "source": [
    "np.mean([mounty_hall('switch') for i in range(800)])"
   ]
  },
  {
   "cell_type": "markdown",
   "id": "emotional-hundred",
   "metadata": {},
   "source": [
    "# Distributions of random variables"
   ]
  },
  {
   "cell_type": "markdown",
   "id": "middle-bride",
   "metadata": {},
   "source": [
    "## 1. Binomial Distribution\n",
    "\n",
    "https://docs.scipy.org/doc/scipy/reference/generated/scipy.stats.binom.html\n",
    "\n",
    "What is the probability of a rocket launch to succeed 5 in 10 launchs if a probability of success of a launch of 70%?"
   ]
  },
  {
   "cell_type": "code",
   "execution_count": 5,
   "id": "current-planning",
   "metadata": {},
   "outputs": [
    {
     "data": {
      "text/plain": [
       "<scipy.stats._distn_infrastructure.rv_frozen at 0x2e82ba473d0>"
      ]
     },
     "execution_count": 5,
     "metadata": {},
     "output_type": "execute_result"
    }
   ],
   "source": [
    "from scipy.stats import binom\n",
    "\n",
    "# 10 launchs\n",
    "# 0.7 chance of success\n",
    "\n",
    "dist = binom(10, 0.7) # probabilidade de sucesso para os 10 foguetes!\n",
    "dist"
   ]
  },
  {
   "cell_type": "markdown",
   "id": "preceding-tribune",
   "metadata": {},
   "source": [
    "[Probability Mass Function](https://en.wikipedia.org/wiki/Probability_mass_function) (PMF): A function that gives the probability that a discrete random variable is <b> exactly </b> equal a  specific value."
   ]
  },
  {
   "cell_type": "code",
   "execution_count": 16,
   "id": "personal-kansas",
   "metadata": {},
   "outputs": [
    {
     "data": {
      "text/plain": [
       "0.10291934519999998"
      ]
     },
     "execution_count": 16,
     "metadata": {},
     "output_type": "execute_result"
    }
   ],
   "source": [
    "dist.pmf(5)"
   ]
  },
  {
   "cell_type": "code",
   "execution_count": 17,
   "id": "hollow-christopher",
   "metadata": {},
   "outputs": [
    {
     "data": {
      "text/plain": [
       "<AxesSubplot:>"
      ]
     },
     "execution_count": 17,
     "metadata": {},
     "output_type": "execute_result"
    },
    {
     "data": {
      "image/png": "[encoded data removed]",
      "text/plain": [
       "<Figure size 432x288 with 1 Axes>"
      ]
     },
     "metadata": {
      "needs_background": "light"
     },
     "output_type": "display_data"
    }
   ],
   "source": [
    "sns.barplot(x=np.arange(0,11), \n",
    "            y=dist.pmf(np.arange(0,11)), # plotei as 10 probabilidades, uma pra cada sucesso para acontecer exatamente aquele evento.\n",
    "            color='purple')"
   ]
  },
  {
   "cell_type": "markdown",
   "id": "suffering-diversity",
   "metadata": {},
   "source": [
    "[Cumulative Density Function](https://en.wikipedia.org/wiki/Cumulative_distribution_function) "
   ]
  },
  {
   "cell_type": "code",
   "execution_count": 18,
   "id": "thick-trunk",
   "metadata": {},
   "outputs": [
    {
     "data": {
      "text/plain": [
       "0.9526510126000001"
      ]
     },
     "execution_count": 18,
     "metadata": {},
     "output_type": "execute_result"
    }
   ],
   "source": [
    "dist.pmf(5)+dist.pmf(6)+dist.pmf(7)+dist.pmf(8)+dist.pmf(9)+dist.pmf(10)"
   ]
  },
  {
   "cell_type": "code",
   "execution_count": 19,
   "id": "vietnamese-history",
   "metadata": {},
   "outputs": [
    {
     "data": {
      "text/plain": [
       "<AxesSubplot:>"
      ]
     },
     "execution_count": 19,
     "metadata": {},
     "output_type": "execute_result"
    },
    {
     "data": {
      "image/png": "[encoded data removed]",
      "text/plain": [
       "<Figure size 432x288 with 1 Axes>"
      ]
     },
     "metadata": {
      "needs_background": "light"
     },
     "output_type": "display_data"
    }
   ],
   "source": [
    "sns.barplot(x=np.arange(0,11), \n",
    "            y=dist.cdf(np.arange(0,11)),\n",
    "            color='purple')"
   ]
  },
  {
   "cell_type": "code",
   "execution_count": 20,
   "id": "stopped-comfort",
   "metadata": {},
   "outputs": [
    {
     "data": {
      "text/plain": [
       "0.9526510126"
      ]
     },
     "execution_count": 20,
     "metadata": {},
     "output_type": "execute_result"
    }
   ],
   "source": [
    "1-dist.cdf(4)"
   ]
  },
  {
   "cell_type": "markdown",
   "id": "primary-stanford",
   "metadata": {},
   "source": [
    "## 2. Geometric Distribution\n",
    "**How many trials it takes to observe a _success_?** \n",
    "\n",
    "https://docs.scipy.org/doc/scipy/reference/generated/scipy.stats.geom.html\n",
    "\n",
    "The probability that it will take exactly 5 trials to get a first success for a 80% biased coin."
   ]
  },
  {
   "cell_type": "code",
   "execution_count": 13,
   "id": "terminal-encyclopedia",
   "metadata": {},
   "outputs": [
    {
     "data": {
      "text/plain": [
       "0.001279999999999999"
      ]
     },
     "execution_count": 13,
     "metadata": {},
     "output_type": "execute_result"
    }
   ],
   "source": [
    "from scipy.stats import geom\n",
    "dist = geom(0.8)\n",
    "\n",
    "dist.pmf(5)"
   ]
  },
  {
   "cell_type": "code",
   "execution_count": 8,
   "id": "amino-philosophy",
   "metadata": {},
   "outputs": [
    {
     "data": {
      "text/plain": [
       "<AxesSubplot:>"
      ]
     },
     "execution_count": 8,
     "metadata": {},
     "output_type": "execute_result"
    },
    {
     "data": {
      "image/png": "[encoded data removed]",
      "text/plain": [
       "<Figure size 432x288 with 1 Axes>"
      ]
     },
     "metadata": {
      "needs_background": "light"
     },
     "output_type": "display_data"
    }
   ],
   "source": [
    "sns.barplot(x=np.arange(0,11), \n",
    "            y=dist.pmf(np.arange(0,11)),\n",
    "            color='purple')"
   ]
  },
  {
   "cell_type": "code",
   "execution_count": 9,
   "id": "hidden-nudist",
   "metadata": {},
   "outputs": [
    {
     "data": {
      "text/plain": [
       "0.99968"
      ]
     },
     "execution_count": 9,
     "metadata": {},
     "output_type": "execute_result"
    }
   ],
   "source": [
    "dist.cdf(5)"
   ]
  },
  {
   "cell_type": "code",
   "execution_count": 14,
   "id": "careful-index",
   "metadata": {},
   "outputs": [
    {
     "data": {
      "text/plain": [
       "<AxesSubplot:>"
      ]
     },
     "execution_count": 14,
     "metadata": {},
     "output_type": "execute_result"
    },
    {
     "data": {
      "image/png": "[encoded data removed]",
      "text/plain": [
       "<Figure size 432x288 with 1 Axes>"
      ]
     },
     "metadata": {
      "needs_background": "light"
     },
     "output_type": "display_data"
    }
   ],
   "source": [
    "sns.barplot(x=np.arange(0,11), \n",
    "            y=dist.cdf(np.arange(0,11)),\n",
    "            color='purple')"
   ]
  },
  {
   "cell_type": "markdown",
   "id": "living-american",
   "metadata": {},
   "source": [
    "## 3. Poisson Distribution\n",
    "\n",
    "https://docs.scipy.org/doc/scipy/reference/generated/scipy.stats.poisson.html\n",
    "\n",
    "The Poisson distribution is popular for modeling the number of times an event occurs in an interval of time or space.\n",
    "\n",
    "[Pratical Case](http://lineardigressions.com/episodes/2018/10/21/better-know-a-distribution-the-poisson-distribution): Google Crawler\n",
    "\n",
    "Imagine you have a dataset and discover that the average number of clients in a fast food is ~5 a minute. What is the <b>probability of the fast food receiving 7 new clients</b> on the next minute? \n",
    "\n",
    "Conditions for Poisson Distribution:\n",
    "\n",
    "* An event can occur any number of times during a time period.\n",
    "* Events occur independently. \n",
    "* The rate of occurrence is constant; that is, the rate does not change based on time.\n",
    "* The probability of an event occurring is proportional to the length of the time period. "
   ]
  },
  {
   "cell_type": "code",
   "execution_count": 15,
   "id": "express-grocery",
   "metadata": {},
   "outputs": [],
   "source": [
    "from scipy.stats import poisson"
   ]
  },
  {
   "cell_type": "code",
   "execution_count": 16,
   "id": "aggressive-webster",
   "metadata": {},
   "outputs": [],
   "source": [
    "average = 5\n",
    "dist = poisson(average)"
   ]
  },
  {
   "cell_type": "code",
   "execution_count": 17,
   "id": "ethical-print",
   "metadata": {},
   "outputs": [
    {
     "data": {
      "text/plain": [
       "0.17546736976785068"
      ]
     },
     "execution_count": 17,
     "metadata": {},
     "output_type": "execute_result"
    }
   ],
   "source": [
    "dist.pmf(5)"
   ]
  },
  {
   "cell_type": "code",
   "execution_count": 18,
   "id": "clear-spotlight",
   "metadata": {},
   "outputs": [
    {
     "data": {
      "text/plain": [
       "<AxesSubplot:>"
      ]
     },
     "execution_count": 18,
     "metadata": {},
     "output_type": "execute_result"
    },
    {
     "data": {
      "image/png": "[encoded data removed]",
      "text/plain": [
       "<Figure size 432x288 with 1 Axes>"
      ]
     },
     "metadata": {
      "needs_background": "light"
     },
     "output_type": "display_data"
    }
   ],
   "source": [
    "sns.barplot(x=np.arange(0,11), \n",
    "            y=dist.pmf(np.arange(0,11)),\n",
    "            color='purple')"
   ]
  },
  {
   "cell_type": "code",
   "execution_count": 19,
   "id": "capable-framing",
   "metadata": {},
   "outputs": [
    {
     "data": {
      "text/plain": [
       "0.8666283259299925"
      ]
     },
     "execution_count": 19,
     "metadata": {},
     "output_type": "execute_result"
    }
   ],
   "source": [
    "dist.cdf(7)"
   ]
  },
  {
   "cell_type": "code",
   "execution_count": 20,
   "id": "single-deadline",
   "metadata": {},
   "outputs": [
    {
     "data": {
      "text/plain": [
       "<AxesSubplot:>"
      ]
     },
     "execution_count": 20,
     "metadata": {},
     "output_type": "execute_result"
    },
    {
     "data": {
      "image/png": "[encoded data removed]",
      "text/plain": [
       "<Figure size 432x288 with 1 Axes>"
      ]
     },
     "metadata": {
      "needs_background": "light"
     },
     "output_type": "display_data"
    }
   ],
   "source": [
    "sns.barplot(x=np.arange(0,11), \n",
    "            y=dist.cdf(np.arange(0,11)),\n",
    "            color='purple')"
   ]
  },
  {
   "cell_type": "markdown",
   "id": "genetic-battery",
   "metadata": {},
   "source": [
    "## 4. Normal Distribution\n",
    "Next!"
   ]
  },
  {
   "cell_type": "code",
   "execution_count": null,
   "id": "black-extension",
   "metadata": {},
   "outputs": [],
   "source": []
  }
 ],
 "metadata": {
  "kernelspec": {
   "display_name": "Python 3",
   "language": "python",
   "name": "python3"
  },
  "language_info": {
   "codemirror_mode": {
    "name": "ipython",
    "version": 3
   },
   "file_extension": ".py",
   "mimetype": "text/x-python",
   "name": "python",
   "nbconvert_exporter": "python",
   "pygments_lexer": "ipython3",
   "version": "3.9.4"
  }
 },
 "nbformat": 4,
 "nbformat_minor": 5
}
