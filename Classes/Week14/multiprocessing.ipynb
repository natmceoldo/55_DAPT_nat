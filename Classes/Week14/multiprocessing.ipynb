{
 "cells": [
  {
   "cell_type": "code",
   "execution_count": null,
   "id": "aquatic-january",
   "metadata": {},
   "outputs": [],
   "source": [
    "import pandas as pd\n",
    "import numpy as np"
   ]
  },
  {
   "cell_type": "markdown",
   "id": "alleged-anniversary",
   "metadata": {},
   "source": [
    "# Parallelism"
   ]
  },
  {
   "cell_type": "code",
   "execution_count": null,
   "id": "informed-sewing",
   "metadata": {},
   "outputs": [],
   "source": [
    "def my_sleep(x):\n",
    "    '''\n",
    "    Sleeps for x-seconds and returns the result x\n",
    "    '''\n",
    "    \n",
    "    import time\n",
    "\n",
    "    print(f'Sleeping for {x} seconds.')\n",
    "    time.sleep(x)\n",
    "    \n",
    "    print(f'Returning {x}')\n",
    "    return x"
   ]
  },
  {
   "cell_type": "code",
   "execution_count": null,
   "id": "hungry-marker",
   "metadata": {},
   "outputs": [],
   "source": [
    "# your code here!"
   ]
  },
  {
   "cell_type": "markdown",
   "id": "greenhouse-collaboration",
   "metadata": {},
   "source": [
    "# Serial Code"
   ]
  },
  {
   "cell_type": "code",
   "execution_count": null,
   "id": "romance-houston",
   "metadata": {},
   "outputs": [],
   "source": [
    "# your code here!"
   ]
  },
  {
   "cell_type": "markdown",
   "id": "experimental-president",
   "metadata": {},
   "source": [
    "## Some Resources\n",
    "### `tqdm`"
   ]
  },
  {
   "cell_type": "code",
   "execution_count": null,
   "id": "super-guide",
   "metadata": {},
   "outputs": [],
   "source": [
    "from tqdm.auto import tqdm"
   ]
  },
  {
   "cell_type": "code",
   "execution_count": null,
   "id": "reverse-sympathy",
   "metadata": {},
   "outputs": [],
   "source": [
    "# your code here!"
   ]
  },
  {
   "cell_type": "markdown",
   "id": "southwest-campbell",
   "metadata": {},
   "source": [
    "### `%%time`\n",
    "some magic commands https://ipython.readthedocs.io/en/stable/interactive/magics.html"
   ]
  },
  {
   "cell_type": "code",
   "execution_count": null,
   "id": "vietnamese-command",
   "metadata": {},
   "outputs": [],
   "source": [
    "# your code here!"
   ]
  },
  {
   "cell_type": "markdown",
   "id": "purple-bangladesh",
   "metadata": {},
   "source": [
    "* **CPU times:** Time spent in user code and the amount of time spent in kernel code\n",
    "* **Wall time:** Time between the start of process and now. greater than CPU times because there is a time that the process waits to run\n",
    "https://stackoverflow.com/questions/7335920/what-specifically-are-wall-clock-time-user-cpu-time-and-system-cpu-time-in-uni"
   ]
  },
  {
   "cell_type": "code",
   "execution_count": null,
   "id": "massive-setting",
   "metadata": {},
   "outputs": [],
   "source": [
    "# your code here!"
   ]
  },
  {
   "cell_type": "markdown",
   "id": "nearby-heavy",
   "metadata": {},
   "source": [
    "If you require a list of results almost always use a list comprehension. If no results are required, using a simple loop is simpler to read and faster to run. Never use the builtin map, unless its more aesthetically appealing for that piece of code and your application does not need the speed improvement.\n",
    "https://leadsift.com/loop-map-list-comprehension/"
   ]
  },
  {
   "cell_type": "markdown",
   "id": "absolute-thermal",
   "metadata": {},
   "source": [
    "# Parallel Code"
   ]
  },
  {
   "cell_type": "markdown",
   "id": "continued-correlation",
   "metadata": {},
   "source": [
    "## Multiprocessing Lib"
   ]
  },
  {
   "cell_type": "code",
   "execution_count": null,
   "id": "veterinary-daisy",
   "metadata": {},
   "outputs": [],
   "source": [
    "from multiprocessing import Pool, cpu_count"
   ]
  },
  {
   "cell_type": "code",
   "execution_count": null,
   "id": "broken-receipt",
   "metadata": {},
   "outputs": [],
   "source": [
    "cpu_count()"
   ]
  },
  {
   "cell_type": "code",
   "execution_count": null,
   "id": "possible-howard",
   "metadata": {},
   "outputs": [],
   "source": [
    "# You have to create a pool of `n` process."
   ]
  },
  {
   "cell_type": "markdown",
   "id": "treated-internet",
   "metadata": {},
   "source": [
    "We'll `use the magic function` here to measure the velocity of this code in parallel."
   ]
  },
  {
   "cell_type": "code",
   "execution_count": null,
   "id": "automated-bullet",
   "metadata": {},
   "outputs": [],
   "source": [
    "# your code here!"
   ]
  },
  {
   "cell_type": "markdown",
   "id": "medieval-movie",
   "metadata": {},
   "source": [
    "**If you are getting no results... This happens because multiprocessing not always (?) work in Jupyter Notebooks.**\n",
    "\n",
    "_Some versions of linux or macbooks may handle it well (yay unix)_. But certainly it doesn't work for Windows.\n",
    "\n",
    "**What should we do then? Two solutions.**\n",
    "\n",
    "1. We have to write our functions inside a `.py` file.\n",
    "\n",
    "2. Install `multiprocess` (note it is different from Python's `multiprocessing` module)"
   ]
  },
  {
   "cell_type": "code",
   "execution_count": null,
   "id": "thousand-commons",
   "metadata": {},
   "outputs": [],
   "source": [
    "# your code here!"
   ]
  },
  {
   "cell_type": "markdown",
   "id": "spanish-nurse",
   "metadata": {},
   "source": [
    "Using multiprocess instead of multiprocessing"
   ]
  },
  {
   "cell_type": "code",
   "execution_count": null,
   "id": "lovely-superior",
   "metadata": {},
   "outputs": [],
   "source": [
    "!pip3 install multiprocess"
   ]
  },
  {
   "cell_type": "code",
   "execution_count": null,
   "id": "organized-beaver",
   "metadata": {},
   "outputs": [],
   "source": [
    "# multiprocess is a fork of multiprocessing https://pypi.org/project/multiprocess/"
   ]
  },
  {
   "cell_type": "code",
   "execution_count": null,
   "id": "conscious-tutorial",
   "metadata": {},
   "outputs": [],
   "source": [
    "# your code here!"
   ]
  },
  {
   "cell_type": "code",
   "execution_count": null,
   "id": "weird-publisher",
   "metadata": {},
   "outputs": [],
   "source": [
    "# your code here!"
   ]
  },
  {
   "cell_type": "code",
   "execution_count": null,
   "id": "above-cosmetic",
   "metadata": {},
   "outputs": [],
   "source": [
    "# your code here!"
   ]
  },
  {
   "cell_type": "markdown",
   "id": "expressed-administrator",
   "metadata": {},
   "source": [
    "# Running Asynchronous Code\n",
    "## What is asynchrony?\n",
    "[An Introduction to Asynchronous Programming in Python](https://medium.com/velotio-perspectives/an-introduction-to-asynchronous-programming-in-python-af0189a88bbb#:~:text=Asynchronous%20programming%20is%20a%20type,failure%20of%20the%20worker%20thread.)\n",
    "\n",
    "- `result.ready()`\n",
    "- `result.wait()`\n",
    "- `result.get()`"
   ]
  },
  {
   "cell_type": "code",
   "execution_count": null,
   "id": "unauthorized-surname",
   "metadata": {},
   "outputs": [],
   "source": [
    "# your code here!"
   ]
  },
  {
   "cell_type": "markdown",
   "id": "median-injury",
   "metadata": {},
   "source": [
    "# CPU intensive computations"
   ]
  },
  {
   "cell_type": "code",
   "execution_count": null,
   "id": "executed-undergraduate",
   "metadata": {},
   "outputs": [],
   "source": [
    "# your code here!"
   ]
  },
  {
   "cell_type": "markdown",
   "id": "central-sweden",
   "metadata": {},
   "source": [
    "**Usually, for CPU intensive computations, Pool.map won't speed up your code.**\n",
    "\n",
    "Why? It will spend more time managing process, replicating data and sending data to other process than actually computing it.\n"
   ]
  },
  {
   "cell_type": "markdown",
   "id": "twenty-heaven",
   "metadata": {},
   "source": [
    "### Cython"
   ]
  },
  {
   "cell_type": "markdown",
   "id": "differential-sperm",
   "metadata": {},
   "source": [
    "With Cython, we start from a regular Python program and we add annotations about the type of the variables. Then, Cython translates that code to C and compiles the result into a Python extension module. Finally, we can use this compiled module in any Python program.\n",
    "\n",
    "While dynamic typing comes with a performance cost in Python, statically-typed variables in Cython generally lead to faster code execution.\n",
    "\n",
    "[Accelerating Python code with Cython](https://ipython-books.github.io/55-accelerating-python-code-with-cython/#:~:text=%E2%96%B6%20Get%20the%20Jupyter%20notebook,into%20a%20Python%20extension%20module.)"
   ]
  },
  {
   "cell_type": "code",
   "execution_count": null,
   "id": "hydraulic-hayes",
   "metadata": {},
   "outputs": [],
   "source": [
    "!pip3 install Cython"
   ]
  },
  {
   "cell_type": "code",
   "execution_count": null,
   "id": "upper-qatar",
   "metadata": {},
   "outputs": [],
   "source": [
    "# your code here!"
   ]
  },
  {
   "cell_type": "markdown",
   "id": "forty-tuesday",
   "metadata": {},
   "source": [
    "## Beautiful Soup Example"
   ]
  },
  {
   "cell_type": "code",
   "execution_count": null,
   "id": "wireless-litigation",
   "metadata": {},
   "outputs": [],
   "source": [
    "# your code here!"
   ]
  }
 ],
 "metadata": {
  "kernelspec": {
   "display_name": "Python 3",
   "language": "python",
   "name": "python3"
  },
  "language_info": {
   "codemirror_mode": {
    "name": "ipython",
    "version": 3
   },
   "file_extension": ".py",
   "mimetype": "text/x-python",
   "name": "python",
   "nbconvert_exporter": "python",
   "pygments_lexer": "ipython3",
   "version": "3.7.10"
  }
 },
 "nbformat": 4,
 "nbformat_minor": 5
}
