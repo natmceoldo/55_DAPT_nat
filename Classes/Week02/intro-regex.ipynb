{
 "cells": [
  {
   "cell_type": "markdown",
   "metadata": {},
   "source": [
    "# REGular EXpression - INTRO TO REGEX"
   ]
  },
  {
   "cell_type": "code",
   "execution_count": 1,
   "metadata": {
    "ExecuteTime": {
     "end_time": "2020-10-28T00:51:13.239846Z",
     "start_time": "2020-10-28T00:51:13.225852Z"
    }
   },
   "outputs": [],
   "source": [
    "# your code here!\n",
    "import re"
   ]
  },
  {
   "cell_type": "markdown",
   "metadata": {},
   "source": [
    "1. `re.search`: Returns the first instance of an expression in a string.\n",
    "2. `re.findall`: Finds all instances of an expression in a string and returns them as a list.\n",
    "3. `re.split`: Splits a string based on a specified delimiter.\n",
    "4. `re.sub`: Substitutes a string/substring with another."
   ]
  },
  {
   "cell_type": "markdown",
   "metadata": {},
   "source": [
    "Website to visually see what your regular expressions look like:\n",
    "* https://regexper.com/\n",
    "* https://regexr.com/"
   ]
  },
  {
   "cell_type": "code",
   "execution_count": 4,
   "metadata": {
    "ExecuteTime": {
     "end_time": "2020-07-16T00:24:35.903831Z",
     "start_time": "2020-07-16T00:24:35.899843Z"
    }
   },
   "outputs": [
    {
     "data": {
      "text/plain": [
       "['neighbor']"
      ]
     },
     "execution_count": 4,
     "metadata": {},
     "output_type": "execute_result"
    }
   ],
   "source": [
    "text = 'My neighbor, Mr. Rogers, has 5 dogs.'\n",
    "pattern = 'neighbor'\n",
    "\n",
    "re.findall(pattern, text)"
   ]
  },
  {
   "cell_type": "code",
   "execution_count": 5,
   "metadata": {
    "ExecuteTime": {
     "end_time": "2020-07-16T00:25:08.512355Z",
     "start_time": "2020-07-16T00:25:08.507369Z"
    }
   },
   "outputs": [
    {
     "data": {
      "text/plain": [
       "['dog', 'dog']"
      ]
     },
     "execution_count": 5,
     "metadata": {},
     "output_type": "execute_result"
    }
   ],
   "source": [
    "text = 'My neighbor, Mr. Rogers, has 5 dogs. I love those dogs.'\n",
    "pattern = 'dog'\n",
    "\n",
    "re.findall(pattern, text)"
   ]
  },
  {
   "cell_type": "code",
   "execution_count": 11,
   "metadata": {
    "ExecuteTime": {
     "end_time": "2020-07-16T00:25:42.934175Z",
     "start_time": "2020-07-16T00:25:42.929186Z"
    }
   },
   "outputs": [
    {
     "data": {
      "text/plain": [
       "[]"
      ]
     },
     "execution_count": 11,
     "metadata": {},
     "output_type": "execute_result"
    }
   ],
   "source": [
    "text = 'My neighbor, Mr. Rogers, has 5 dogs. I love those dogs.'\n",
    "pattern = 'cat'\n",
    "\n",
    "re.findall(pattern, text)"
   ]
  },
  {
   "cell_type": "markdown",
   "metadata": {},
   "source": [
    "## Introducing Sets"
   ]
  },
  {
   "cell_type": "code",
   "execution_count": 12,
   "metadata": {
    "ExecuteTime": {
     "end_time": "2020-07-16T00:27:30.345050Z",
     "start_time": "2020-07-16T00:27:30.340064Z"
    }
   },
   "outputs": [
    {
     "data": {
      "text/plain": [
       "['n', 'e', 'i', 'g', 'h', 'g', 'e', 'h', 'g']"
      ]
     },
     "execution_count": 12,
     "metadata": {},
     "output_type": "execute_result"
    }
   ],
   "source": [
    "text = 'My neighbor, Mr. Rogers, has 5 dogs.'\n",
    "pattern = '[neigh]'\n",
    "\n",
    "re.findall(pattern, text)"
   ]
  },
  {
   "cell_type": "code",
   "execution_count": 19,
   "metadata": {
    "ExecuteTime": {
     "end_time": "2020-07-16T00:29:49.830428Z",
     "start_time": "2020-07-16T00:29:49.826438Z"
    }
   },
   "outputs": [
    {
     "data": {
      "text/plain": [
       "['Rogers', 'rogers']"
      ]
     },
     "execution_count": 19,
     "metadata": {},
     "output_type": "execute_result"
    }
   ],
   "source": [
    "text = 'My neighbor, Mr. Rogers, has 5 rogers.'\n",
    "pattern = '[Rr]ogers'\n",
    "\n",
    "re.findall(pattern, text)"
   ]
  },
  {
   "cell_type": "code",
   "execution_count": 22,
   "metadata": {
    "ExecuteTime": {
     "end_time": "2020-07-16T00:32:08.016766Z",
     "start_time": "2020-07-16T00:32:08.012777Z"
    }
   },
   "outputs": [
    {
     "data": {
      "text/plain": [
       "<re.Match object; span=(17, 23), match='Rogers'>"
      ]
     },
     "execution_count": 22,
     "metadata": {},
     "output_type": "execute_result"
    }
   ],
   "source": [
    "# your code here!\n",
    "re.search(pattern, text)"
   ]
  },
  {
   "cell_type": "code",
   "execution_count": 29,
   "metadata": {
    "ExecuteTime": {
     "end_time": "2020-07-16T00:31:43.173622Z",
     "start_time": "2020-07-16T00:31:43.168663Z"
    }
   },
   "outputs": [
    {
     "data": {
      "text/plain": [
       "'Joseph neighbor, Mr. Joseph, has 5 Joseph.'"
      ]
     },
     "execution_count": 29,
     "metadata": {},
     "output_type": "execute_result"
    }
   ],
   "source": [
    "text = 'My neighbor, Mr. Rogers, has 5 rogers.'\n",
    "\n",
    "pattern = '[Rr]ogers|My'\n",
    "\n",
    "re.sub(pattern, 'Joseph', text)"
   ]
  },
  {
   "cell_type": "code",
   "execution_count": 30,
   "metadata": {
    "ExecuteTime": {
     "end_time": "2020-07-16T00:41:39.007719Z",
     "start_time": "2020-07-16T00:41:39.002732Z"
    }
   },
   "outputs": [
    {
     "data": {
      "text/plain": [
       "['Sáo Paulo',\n",
       " 'São Paulo',\n",
       " 'Sao Paulo',\n",
       " 'Sao Paolo',\n",
       " 'San Pablo',\n",
       " 'sao paulo',\n",
       " 'sao Paulo',\n",
       " 'são Paulo',\n",
       " 'sao-paulo',\n",
       " 'são paulo',\n",
       " 'São Paulo']"
      ]
     },
     "execution_count": 30,
     "metadata": {},
     "output_type": "execute_result"
    }
   ],
   "source": [
    "text = 'Sáo Paulo São Paulo Sao Paulo Sao Paolo San Pablo sao paulo sao Paulo são Paulo sao-paulo são paulo São Paulo Saon Paulo'\n",
    "\n",
    "pattern ='[Ss][aáã][on][ -][Pp][aáã][buo]lo'\n",
    "\n",
    "re.findall(pattern, text)"
   ]
  },
  {
   "cell_type": "markdown",
   "metadata": {},
   "source": [
    "# Pattern sets:\n",
    "\n",
    "Range\n",
    "\n",
    "1. [a-z]: Any lowercase letter between a and z.\n",
    "2. [A-Z]: Any uppercase letter between A and Z.\n",
    "3. [0-9]: Any numeric character between 0 and 9."
   ]
  },
  {
   "cell_type": "code",
   "execution_count": 51,
   "metadata": {
    "ExecuteTime": {
     "end_time": "2020-07-16T00:44:34.046812Z",
     "start_time": "2020-07-16T00:44:34.041826Z"
    },
    "scrolled": true
   },
   "outputs": [
    {
     "data": {
      "text/plain": [
       "['My', 'Mr', 'Ro']"
      ]
     },
     "execution_count": 51,
     "metadata": {},
     "output_type": "execute_result"
    }
   ],
   "source": [
    "text = 'My neighbor, Mr. Rogers, has 5 rogers.'\n",
    "pattern = '[A-Z][a-z]'\n",
    "\n",
    "re.findall(pattern, text)"
   ]
  },
  {
   "cell_type": "code",
   "execution_count": 56,
   "metadata": {},
   "outputs": [
    {
     "data": {
      "text/plain": [
       "['5.7']"
      ]
     },
     "execution_count": 56,
     "metadata": {},
     "output_type": "execute_result"
    }
   ],
   "source": [
    "text = 'My neighbor, Mr. Rogers, has 5.7 rogers.'\n",
    "pattern = '[0-9].[0-9]'\n",
    "\n",
    "re.findall(pattern, text)"
   ]
  },
  {
   "cell_type": "code",
   "execution_count": 62,
   "metadata": {
    "ExecuteTime": {
     "end_time": "2020-07-16T00:47:19.974455Z",
     "start_time": "2020-07-16T00:47:19.970465Z"
    },
    "tags": []
   },
   "outputs": [
    {
     "name": "stdout",
     "output_type": "stream",
     "text": [
      "['M', 'y', 'n', 'e', 'i', 'g', 'h', 'b', 'o', 'r', 'M', 'r', 'R', 'o', 'g', 'e', 'r', 's', 'h', 'a', 's', '5', 'r', 'o', 'g', 'e', 'r', 's']\n"
     ]
    }
   ],
   "source": [
    "# you can concatenate ranges\n",
    "text = 'My neighbor, Mr. Rogers, has 5 rogers.'\n",
    "pattern = '[A-Za-z0-9]'\n",
    "\n",
    "print(re.findall(pattern, text))\n",
    "\n",
    "# your code here!"
   ]
  },
  {
   "cell_type": "markdown",
   "metadata": {},
   "source": [
    "The opposite: \n",
    "- `^` matches everything except the pattern "
   ]
  },
  {
   "cell_type": "code",
   "execution_count": 65,
   "metadata": {
    "ExecuteTime": {
     "end_time": "2020-07-16T00:50:11.666620Z",
     "start_time": "2020-07-16T00:50:11.661633Z"
    }
   },
   "outputs": [
    {
     "data": {
      "text/plain": [
       "[' ', ',', ' ', '.', ' ', ',', ' ', ' ', ' ', '.', ' ', 'π']"
      ]
     },
     "execution_count": 65,
     "metadata": {},
     "output_type": "execute_result"
    }
   ],
   "source": [
    "text = 'My neighbor, Mr. Rogers, has 5 rogers. π'\n",
    "pattern = '[^A-Za-z0-9]'\n",
    "\n",
    "re.findall(pattern, text)"
   ]
  },
  {
   "cell_type": "markdown",
   "metadata": {},
   "source": [
    "# Meta Characters:\n",
    "\n",
    "Characters that don't mean what they are.\n",
    "\n",
    "1. `\\w`: Any alphanumeric character.\n",
    "3. `\\d`: Any numeric character.\n",
    "7. `.` : Any character except newline (\\n)."
   ]
  },
  {
   "cell_type": "code",
   "execution_count": 84,
   "metadata": {
    "ExecuteTime": {
     "end_time": "2020-07-16T01:09:19.738308Z",
     "start_time": "2020-07-16T01:09:19.734318Z"
    }
   },
   "outputs": [],
   "source": [
    "text = 'My neighbor, Mr. Rogers, ] has 5 - dogs 10. α π \\d'"
   ]
  },
  {
   "cell_type": "code",
   "execution_count": 77,
   "metadata": {
    "ExecuteTime": {
     "end_time": "2020-07-16T01:10:33.289047Z",
     "start_time": "2020-07-16T01:10:33.285057Z"
    }
   },
   "outputs": [
    {
     "name": "stdout",
     "output_type": "stream",
     "text": [
      "['M', 'y', 'n', 'e', 'i', 'g', 'h', 'b', 'o', 'r', 'M', 'r', 'R', 'o', 'g', 'e', 'r', 's', 'h', 'a', 's', '5', 'd', 'o', 'g', 's', '1', '0', 'α', 'π', 'd']\n"
     ]
    }
   ],
   "source": [
    "# your code here!\n",
    "pattern = '\\w'\n",
    "print(re.findall(pattern, text))"
   ]
  },
  {
   "cell_type": "code",
   "execution_count": 88,
   "metadata": {},
   "outputs": [
    {
     "name": "stdout",
     "output_type": "stream",
     "text": [
      "['5', '1', '0']\n"
     ]
    }
   ],
   "source": [
    "# your code here!\n",
    "#pattern = r'\\\\d'\n",
    "pattern = '\\d'\n",
    "print(re.findall(pattern, text))"
   ]
  },
  {
   "cell_type": "code",
   "execution_count": 80,
   "metadata": {},
   "outputs": [
    {
     "name": "stdout",
     "output_type": "stream",
     "text": [
      "['M', 'y', ' ', 'n', 'e', 'i', 'g', 'h', 'b', 'o', 'r', ',', ' ', 'M', 'r', '.', ' ', 'R', 'o', 'g', 'e', 'r', 's', ',', ' ', ']', ' ', 'h', 'a', 's', ' ', '5', ' ', '-', ' ', 'd', 'o', 'g', 's', ' ', '1', '0', '.', ' ', 'α', ' ', 'π', ' ', '\\\\', 'd']\n"
     ]
    }
   ],
   "source": [
    "# your code here!\n",
    "pattern = '.'\n",
    "print(re.findall(pattern, text))"
   ]
  },
  {
   "cell_type": "markdown",
   "metadata": {},
   "source": [
    "## Quantifiers"
   ]
  },
  {
   "cell_type": "markdown",
   "metadata": {},
   "source": [
    "1. `*`: 0 or more\n",
    "2. `?`: 0 or 1\n",
    "3. `+`: 1 or more"
   ]
  },
  {
   "cell_type": "code",
   "execution_count": 89,
   "metadata": {
    "ExecuteTime": {
     "end_time": "2020-07-16T01:12:53.655445Z",
     "start_time": "2020-07-16T01:12:53.651455Z"
    }
   },
   "outputs": [],
   "source": [
    "text = '''My neighbor, Mr. Rogers, has 5 - dogs and 100 cats and β sheeps.'''"
   ]
  },
  {
   "cell_type": "code",
   "execution_count": 92,
   "metadata": {
    "ExecuteTime": {
     "end_time": "2020-07-16T01:17:53.516694Z",
     "start_time": "2020-07-16T01:17:53.512732Z"
    }
   },
   "outputs": [
    {
     "data": {
      "text/plain": [
       "['5', '100']"
      ]
     },
     "execution_count": 92,
     "metadata": {},
     "output_type": "execute_result"
    }
   ],
   "source": [
    "# your code here!\n",
    "pattern = '\\d+'\n",
    "\n",
    "re.findall(pattern, text)"
   ]
  },
  {
   "cell_type": "code",
   "execution_count": 95,
   "metadata": {},
   "outputs": [
    {
     "data": {
      "text/plain": [
       "['- dogs and 100 cats and β sheeps.']"
      ]
     },
     "execution_count": 95,
     "metadata": {},
     "output_type": "execute_result"
    }
   ],
   "source": [
    "re.findall('-.*', text)"
   ]
  },
  {
   "cell_type": "code",
   "execution_count": 96,
   "metadata": {},
   "outputs": [
    {
     "data": {
      "text/plain": [
       "[]"
      ]
     },
     "execution_count": 96,
     "metadata": {},
     "output_type": "execute_result"
    }
   ],
   "source": [
    "text = '''My neighbor, Mr. Rogers, has 5 -'''\n",
    "re.findall('-.+', text)"
   ]
  },
  {
   "cell_type": "code",
   "execution_count": 126,
   "metadata": {},
   "outputs": [
    {
     "name": "stdout",
     "output_type": "stream",
     "text": [
      "['dogs', 'doooooooooooogs', 'dooogs']\n",
      "['doooooo']\n"
     ]
    }
   ],
   "source": [
    "text = '''My neighbor, Mr. Rogers, has 5 - dogs and 100 cats and β sheeps. doooooooooooogs dooogs'''\n",
    "\n",
    "print(re.findall('do.\\w+', text))\n",
    "print(re.findall('do.\\w{4}', text))"
   ]
  },
  {
   "cell_type": "code",
   "execution_count": 128,
   "metadata": {
    "ExecuteTime": {
     "end_time": "2020-07-16T01:29:01.388057Z",
     "start_time": "2020-07-16T01:29:01.383069Z"
    }
   },
   "outputs": [
    {
     "data": {
      "text/plain": [
       "['Sáo Paulo',\n",
       " 'São Paulo',\n",
       " 'Sao Paulo',\n",
       " 'Sao Paolo',\n",
       " 'sao paulo',\n",
       " 'sao Paulo',\n",
       " 'são Paulo',\n",
       " 'são paulo',\n",
       " 'SãoPaulo',\n",
       " 'Saon Paulo']"
      ]
     },
     "execution_count": 128,
     "metadata": {},
     "output_type": "execute_result"
    }
   ],
   "source": [
    "text = 'Sáo Paulo São Paulo Sao Paulo Sao Paolo San Pablo sao paulo sao Paulo são Paulo sao-paulo são paulo São SãoPaulo Saon Paulo'\n",
    "\n",
    "pattern = '[Ss][aãáàâä][o]n? ?[Pp][aãáàâä][uob]lo'\n",
    "\n",
    "re.findall(pattern, text)"
   ]
  },
  {
   "cell_type": "code",
   "execution_count": 129,
   "metadata": {
    "ExecuteTime": {
     "end_time": "2020-07-16T01:29:27.109751Z",
     "start_time": "2020-07-16T01:29:27.104765Z"
    }
   },
   "outputs": [
    {
     "data": {
      "text/plain": [
       "['colour', 'color']"
      ]
     },
     "execution_count": 129,
     "metadata": {},
     "output_type": "execute_result"
    }
   ],
   "source": [
    "text = 'This colonel has the colour or color blue'\n",
    "\n",
    "# your code here!\n",
    "pattern = 'colou?r'\n",
    "re.findall(pattern, text)"
   ]
  },
  {
   "cell_type": "code",
   "execution_count": 130,
   "metadata": {
    "ExecuteTime": {
     "end_time": "2020-07-16T01:29:53.062177Z",
     "start_time": "2020-07-16T01:29:53.058188Z"
    }
   },
   "outputs": [
    {
     "data": {
      "text/plain": [
       "['apples', 'apple']"
      ]
     },
     "execution_count": 130,
     "metadata": {},
     "output_type": "execute_result"
    }
   ],
   "source": [
    "text = 'These apples are beautiful and the apple is blue.'\n",
    "\n",
    "# your code here!\n",
    "pattern = 'apples?'\n",
    "re.findall(pattern, text)"
   ]
  },
  {
   "cell_type": "markdown",
   "metadata": {},
   "source": [
    "# Other methods for regular expressions"
   ]
  },
  {
   "cell_type": "code",
   "execution_count": 143,
   "metadata": {
    "ExecuteTime": {
     "end_time": "2020-07-16T01:31:52.289486Z",
     "start_time": "2020-07-16T01:31:52.286494Z"
    }
   },
   "outputs": [],
   "source": [
    "text = 'My neighbor, Mr. Rogers, ] has 5 - rogers 1000,'"
   ]
  },
  {
   "cell_type": "code",
   "execution_count": 132,
   "metadata": {
    "ExecuteTime": {
     "end_time": "2020-07-16T01:32:32.740398Z",
     "start_time": "2020-07-16T01:32:32.736408Z"
    }
   },
   "outputs": [
    {
     "data": {
      "text/plain": [
       "['My neighbor, Mr. ', ', ] has 5 - ', ' 1000,']"
      ]
     },
     "execution_count": 132,
     "metadata": {},
     "output_type": "execute_result"
    }
   ],
   "source": [
    "# your code here!\n",
    "re.split('[Rr]ogers', text)"
   ]
  },
  {
   "cell_type": "code",
   "execution_count": 133,
   "metadata": {},
   "outputs": [
    {
     "data": {
      "text/plain": [
       "3"
      ]
     },
     "execution_count": 133,
     "metadata": {},
     "output_type": "execute_result"
    }
   ],
   "source": [
    "len(re.split('[Rr]ogers', text))"
   ]
  },
  {
   "cell_type": "code",
   "execution_count": 134,
   "metadata": {},
   "outputs": [
    {
     "data": {
      "text/plain": [
       "'My neighbor, Mr. '"
      ]
     },
     "execution_count": 134,
     "metadata": {},
     "output_type": "execute_result"
    }
   ],
   "source": [
    "re.split('[Rr]ogers', text)[0]"
   ]
  },
  {
   "cell_type": "code",
   "execution_count": 135,
   "metadata": {},
   "outputs": [
    {
     "data": {
      "text/plain": [
       "', ] has 5 - '"
      ]
     },
     "execution_count": 135,
     "metadata": {},
     "output_type": "execute_result"
    }
   ],
   "source": [
    "re.split('[Rr]ogers', text)[1]"
   ]
  },
  {
   "cell_type": "code",
   "execution_count": 149,
   "metadata": {},
   "outputs": [
    {
     "data": {
      "text/plain": [
       "' 1000,'"
      ]
     },
     "execution_count": 149,
     "metadata": {},
     "output_type": "execute_result"
    }
   ],
   "source": [
    "re.split('[Rr]ogers', text)[2]"
   ]
  }
 ],
 "metadata": {
  "kernelspec": {
   "display_name": "Python 3",
   "language": "python",
   "name": "python3"
  },
  "language_info": {
   "codemirror_mode": {
    "name": "ipython",
    "version": 3
   },
   "file_extension": ".py",
   "mimetype": "text/x-python",
   "name": "python",
   "nbconvert_exporter": "python",
   "pygments_lexer": "ipython3",
   "version": "3.9.4"
  },
  "toc": {
   "base_numbering": 1,
   "nav_menu": {},
   "number_sections": true,
   "sideBar": true,
   "skip_h1_title": false,
   "title_cell": "Table of Contents",
   "title_sidebar": "Contents",
   "toc_cell": false,
   "toc_position": {},
   "toc_section_display": true,
   "toc_window_display": false
  },
  "varInspector": {
   "cols": {
    "lenName": 16,
    "lenType": 16,
    "lenVar": 40
   },
   "kernels_config": {
    "python": {
     "delete_cmd_postfix": "",
     "delete_cmd_prefix": "del ",
     "library": "var_list.py",
     "varRefreshCmd": "print(var_dic_list())"
    },
    "r": {
     "delete_cmd_postfix": ") ",
     "delete_cmd_prefix": "rm(",
     "library": "var_list.r",
     "varRefreshCmd": "cat(var_dic_list()) "
    }
   },
   "types_to_exclude": [
    "module",
    "function",
    "builtin_function_or_method",
    "instance",
    "_Feature"
   ],
   "window_display": false
  }
 },
 "nbformat": 4,
 "nbformat_minor": 4
}
