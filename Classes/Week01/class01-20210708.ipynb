{
 "cells": [
  {
   "cell_type": "markdown",
   "id": "dc642810",
   "metadata": {},
   "source": [
    "# Atalhos:\n",
    "## Modo de inserção \n",
    "**shift+enter:** executa código da célula\\\n",
    "**Esc:** saí do modo de inserção e entra no modo de comando\\\n",
    "**shift+tab:** abre docstring de função\\\n",
    "\n",
    "## Modo de comando:\n",
    "**a**: cria célula acima (above)\\\n",
    "**b:** cria célula abaixo (below)\\\n",
    "**dd:** deleta célula selecionada\\\n",
    "**shift+m:** une as células\\\n",
    "**m:** transforma a célula para tipo markdown\\\n",
    "**z:** refaz célula deletada"
   ]
  },
  {
   "cell_type": "code",
   "execution_count": 3,
   "id": "6a1d7e4d",
   "metadata": {},
   "outputs": [
    {
     "name": "stdout",
     "output_type": "stream",
     "text": [
      "Hello World!\n",
      "Hello Again\n"
     ]
    }
   ],
   "source": [
    "print(\"Hello World!\")\n",
    "print(\"Hello Again\")"
   ]
  },
  {
   "cell_type": "markdown",
   "id": "d8c6c50b",
   "metadata": {},
   "source": [
    "# Markdown\n",
    "**negrito**\\\n",
    "_itálico_\\\n",
    "\n",
    "* bullet points\\\n",
    "\n",
    "1. lista ordenada\n",
    "1. lista ordenada\n",
    "\\\n",
    "\n",
    "> Citação\n",
    "\n",
    "``` python\n",
    "\n",
    "# fonte de código com syntax highlighting de python\n",
    "x = 1\n",
    "\n",
    "```\n",
    "\n",
    "[link com mais exemplos](https://pandao.github.io/editor.md/en.html)"
   ]
  },
  {
   "cell_type": "markdown",
   "id": "b848e5b4",
   "metadata": {},
   "source": [
    "---\n",
    "# Python Recap\n",
    "## Variable Assignment"
   ]
  },
  {
   "cell_type": "code",
   "execution_count": 4,
   "id": "11937a37",
   "metadata": {},
   "outputs": [
    {
     "data": {
      "text/plain": [
       "1"
      ]
     },
     "execution_count": 4,
     "metadata": {},
     "output_type": "execute_result"
    }
   ],
   "source": [
    "valor = 1\n",
    "valor"
   ]
  },
  {
   "cell_type": "code",
   "execution_count": 5,
   "id": "0f279c77",
   "metadata": {},
   "outputs": [
    {
     "name": "stdout",
     "output_type": "stream",
     "text": [
      "1\n",
      "2\n"
     ]
    }
   ],
   "source": [
    "valor1, valor2 = 1, 2\n",
    "print(valor1)\n",
    "print(valor2)"
   ]
  },
  {
   "cell_type": "markdown",
   "id": "4abdd7e5",
   "metadata": {},
   "source": [
    "## Print Function "
   ]
  },
  {
   "cell_type": "code",
   "execution_count": 7,
   "id": "1382644b",
   "metadata": {},
   "outputs": [
    {
     "name": "stdout",
     "output_type": "stream",
     "text": [
      "Oi\n"
     ]
    }
   ],
   "source": [
    "print('Oi')"
   ]
  },
  {
   "cell_type": "code",
   "execution_count": 8,
   "id": "54e30043",
   "metadata": {},
   "outputs": [
    {
     "name": "stdout",
     "output_type": "stream",
     "text": [
      "1\n"
     ]
    }
   ],
   "source": [
    "print(valor1)"
   ]
  },
  {
   "cell_type": "code",
   "execution_count": 10,
   "id": "45b6bc0a",
   "metadata": {},
   "outputs": [
    {
     "data": {
      "text/plain": [
       "'Oi, \\n meu nome é Natália'"
      ]
     },
     "execution_count": 10,
     "metadata": {},
     "output_type": "execute_result"
    }
   ],
   "source": [
    "'Oi, \\n meu nome é Natália'"
   ]
  },
  {
   "cell_type": "code",
   "execution_count": 17,
   "id": "b9ccf84f",
   "metadata": {},
   "outputs": [
    {
     "name": "stdout",
     "output_type": "stream",
     "text": [
      "Oi,\n",
      " meu nome é Natália\n"
     ]
    }
   ],
   "source": [
    "print ('Oi,\\n meu nome é Natália') #na função print, o \"\\n\" pula linha\n",
    "# utiliza-se barra invertida para caracteres especiais ou \"escapes codes\"\n",
    "# deve-se utilizar com cautela, pois dependendo do sistema operacional, função, esse tipo de código pode fazer \"quebras\".\n",
    "#utilizar somente quando souber o que vem depois da \"\\\" faz."
   ]
  },
  {
   "cell_type": "markdown",
   "id": "0cf88c96",
   "metadata": {},
   "source": [
    "## Strings"
   ]
  },
  {
   "cell_type": "code",
   "execution_count": 20,
   "id": "42f34500",
   "metadata": {},
   "outputs": [
    {
     "name": "stdout",
     "output_type": "stream",
     "text": [
      "Oi meu nome é Natália :D\n"
     ]
    }
   ],
   "source": [
    "nome = 'Natália'\n",
    "smile = ':D'\n",
    "print('Oi meu nome é', nome, smile)"
   ]
  },
  {
   "cell_type": "code",
   "execution_count": 21,
   "id": "5daf597e",
   "metadata": {},
   "outputs": [
    {
     "data": {
      "text/plain": [
       "'Oi, meu nome é Natália :D'"
      ]
     },
     "execution_count": 21,
     "metadata": {},
     "output_type": "execute_result"
    }
   ],
   "source": [
    "'Oi, meu nome é {} {}'.format(nome, smile)"
   ]
  },
  {
   "cell_type": "code",
   "execution_count": 22,
   "id": "6524937d",
   "metadata": {},
   "outputs": [
    {
     "name": "stdout",
     "output_type": "stream",
     "text": [
      "Oi, meu nome é Natália, :D\n"
     ]
    }
   ],
   "source": [
    "#f-string: a forma mais usual e considerada elegante\n",
    "print(f'Oi, meu nome é {nome}, {smile}')"
   ]
  },
  {
   "cell_type": "code",
   "execution_count": 24,
   "id": "bfcb1236",
   "metadata": {},
   "outputs": [],
   "source": [
    "date = '2021-07-08'"
   ]
  },
  {
   "cell_type": "code",
   "execution_count": 28,
   "id": "c2bfddd5",
   "metadata": {},
   "outputs": [
    {
     "data": {
      "text/plain": [
       "'\\n\\nselect\\n    *\\nfrom\\n    table\\nwhere\\n    dt>=2021-07-08\\n\\n'"
      ]
     },
     "execution_count": 28,
     "metadata": {},
     "output_type": "execute_result"
    }
   ],
   "source": [
    "query = f'''\n",
    "\n",
    "select\n",
    "    *\n",
    "from\n",
    "    table\n",
    "where\n",
    "    dt>={date}\n",
    "\n",
    "'''\n",
    "query"
   ]
  },
  {
   "cell_type": "code",
   "execution_count": 26,
   "id": "f906a342",
   "metadata": {},
   "outputs": [
    {
     "name": "stdout",
     "output_type": "stream",
     "text": [
      "\n",
      "\n",
      "select\n",
      "    *\n",
      "from\n",
      "    table\n",
      "where\n",
      "    dt>=2021-07-08\n",
      "\n",
      "\n"
     ]
    }
   ],
   "source": [
    "print(query)"
   ]
  },
  {
   "cell_type": "code",
   "execution_count": 27,
   "id": "ac84e87d",
   "metadata": {},
   "outputs": [
    {
     "data": {
      "text/plain": [
       "str"
      ]
     },
     "execution_count": 27,
     "metadata": {},
     "output_type": "execute_result"
    }
   ],
   "source": [
    "type(query)"
   ]
  },
  {
   "cell_type": "code",
   "execution_count": 32,
   "id": "31f806a6",
   "metadata": {},
   "outputs": [
    {
     "data": {
      "text/plain": [
       "True"
      ]
     },
     "execution_count": 32,
     "metadata": {},
     "output_type": "execute_result"
    }
   ],
   "source": [
    "isinstance(query, str) #é verdadeiro que essa query é string?\n",
    "#isinstance é uma função que retorna valor booleano"
   ]
  },
  {
   "cell_type": "markdown",
   "id": "92e93ea6",
   "metadata": {},
   "source": [
    "-----\n",
    "# Loops"
   ]
  },
  {
   "cell_type": "code",
   "execution_count": 33,
   "id": "3574e884",
   "metadata": {},
   "outputs": [
    {
     "name": "stdout",
     "output_type": "stream",
     "text": [
      "eu não vou dormir na aula!\n",
      "eu não vou dormir na aula!\n",
      "eu não vou dormir na aula!\n",
      "eu não vou dormir na aula!\n",
      "eu não vou dormir na aula!\n"
     ]
    }
   ],
   "source": [
    "#for statement\n",
    "for i in range(0,5):\n",
    "    print('eu não vou dormir na aula!')"
   ]
  },
  {
   "cell_type": "code",
   "execution_count": 41,
   "id": "96689540",
   "metadata": {},
   "outputs": [
    {
     "name": "stdout",
     "output_type": "stream",
     "text": [
      "eun não vou dormir na aula!!\n",
      "eun não vou dormir na aula!!\n",
      "eun não vou dormir na aula!!\n",
      "eun não vou dormir na aula!!\n",
      "eun não vou dormir na aula!!\n"
     ]
    }
   ],
   "source": [
    "#while statement\n",
    "number = 0\n",
    "while number < 5:\n",
    "    print(\"eun não vou dormir na aula!!\")\n",
    "    number += 1"
   ]
  },
  {
   "cell_type": "markdown",
   "id": "bf928312",
   "metadata": {},
   "source": [
    "---\n",
    "# If Statement "
   ]
  },
  {
   "cell_type": "code",
   "execution_count": 42,
   "id": "27aca687",
   "metadata": {},
   "outputs": [],
   "source": [
    "valor1 = 1\n",
    "valor2 = 2"
   ]
  },
  {
   "cell_type": "code",
   "execution_count": 45,
   "id": "671f9086",
   "metadata": {},
   "outputs": [
    {
     "data": {
      "text/plain": [
       "False"
      ]
     },
     "execution_count": 45,
     "metadata": {},
     "output_type": "execute_result"
    }
   ],
   "source": [
    "#Igualdade\n",
    "valor1==valor2"
   ]
  },
  {
   "cell_type": "code",
   "execution_count": 46,
   "id": "5f82376c",
   "metadata": {},
   "outputs": [
    {
     "data": {
      "text/plain": [
       "True"
      ]
     },
     "execution_count": 46,
     "metadata": {},
     "output_type": "execute_result"
    }
   ],
   "source": [
    "#desigualdade\n",
    "valor1!=valor2"
   ]
  },
  {
   "cell_type": "code",
   "execution_count": 47,
   "id": "869caf04",
   "metadata": {},
   "outputs": [
    {
     "data": {
      "text/plain": [
       "True"
      ]
     },
     "execution_count": 47,
     "metadata": {},
     "output_type": "execute_result"
    }
   ],
   "source": [
    "'ab'<'cd'"
   ]
  },
  {
   "cell_type": "code",
   "execution_count": 48,
   "id": "4087acd0",
   "metadata": {},
   "outputs": [
    {
     "data": {
      "text/plain": [
       "True"
      ]
     },
     "execution_count": 48,
     "metadata": {},
     "output_type": "execute_result"
    }
   ],
   "source": [
    "True & True"
   ]
  },
  {
   "cell_type": "code",
   "execution_count": 49,
   "id": "b1d4b4fb",
   "metadata": {},
   "outputs": [
    {
     "data": {
      "text/plain": [
       "True"
      ]
     },
     "execution_count": 49,
     "metadata": {},
     "output_type": "execute_result"
    }
   ],
   "source": [
    "True | False"
   ]
  },
  {
   "cell_type": "code",
   "execution_count": 51,
   "id": "28e3f795",
   "metadata": {},
   "outputs": [
    {
     "data": {
      "text/plain": [
       "False"
      ]
     },
     "execution_count": 51,
     "metadata": {},
     "output_type": "execute_result"
    }
   ],
   "source": [
    "not True"
   ]
  },
  {
   "cell_type": "code",
   "execution_count": 52,
   "id": "5570d109",
   "metadata": {},
   "outputs": [
    {
     "name": "stdout",
     "output_type": "stream",
     "text": [
      "True\n",
      "False\n"
     ]
    }
   ],
   "source": [
    "print(True ^ False)\n",
    "print(True ^ True)"
   ]
  },
  {
   "cell_type": "code",
   "execution_count": 66,
   "id": "f9b14df5",
   "metadata": {},
   "outputs": [
    {
     "name": "stdout",
     "output_type": "stream",
     "text": [
      "nome correto é: Natália\n"
     ]
    }
   ],
   "source": [
    "if (valor1==1) & (nome=='Mat'):\n",
    "    print(f'nome: {nome}')\n",
    "else:\n",
    "    print(f'nome correto é: {nome}')"
   ]
  }
 ],
 "metadata": {
  "kernelspec": {
   "display_name": "Python 3",
   "language": "python",
   "name": "python3"
  },
  "language_info": {
   "codemirror_mode": {
    "name": "ipython",
    "version": 3
   },
   "file_extension": ".py",
   "mimetype": "text/x-python",
   "name": "python",
   "nbconvert_exporter": "python",
   "pygments_lexer": "ipython3",
   "version": "3.9.4"
  }
 },
 "nbformat": 4,
 "nbformat_minor": 5
}
