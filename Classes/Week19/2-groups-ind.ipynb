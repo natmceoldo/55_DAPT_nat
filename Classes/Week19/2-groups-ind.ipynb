{
 "cells": [
  {
   "cell_type": "code",
   "execution_count": 1,
   "id": "treated-front",
   "metadata": {},
   "outputs": [],
   "source": [
    "import pandas as pd\n",
    "from scipy import stats\n",
    "import seaborn as sns\n",
    "import matplotlib.pyplot as plt"
   ]
  },
  {
   "cell_type": "code",
   "execution_count": 2,
   "id": "applicable-universal",
   "metadata": {},
   "outputs": [
    {
     "data": {
      "text/html": [
       "<div>\n",
       "<style scoped>\n",
       "    .dataframe tbody tr th:only-of-type {\n",
       "        vertical-align: middle;\n",
       "    }\n",
       "\n",
       "    .dataframe tbody tr th {\n",
       "        vertical-align: top;\n",
       "    }\n",
       "\n",
       "    .dataframe thead th {\n",
       "        text-align: right;\n",
       "    }\n",
       "</style>\n",
       "<table border=\"1\" class=\"dataframe\">\n",
       "  <thead>\n",
       "    <tr style=\"text-align: right;\">\n",
       "      <th></th>\n",
       "      <th>instant</th>\n",
       "      <th>dteday</th>\n",
       "      <th>season</th>\n",
       "      <th>yr</th>\n",
       "      <th>mnth</th>\n",
       "      <th>holiday</th>\n",
       "      <th>weekday</th>\n",
       "      <th>workingday</th>\n",
       "      <th>weathersit</th>\n",
       "      <th>temp</th>\n",
       "      <th>atemp</th>\n",
       "      <th>hum</th>\n",
       "      <th>windspeed</th>\n",
       "      <th>casual</th>\n",
       "      <th>registered</th>\n",
       "      <th>cnt</th>\n",
       "    </tr>\n",
       "  </thead>\n",
       "  <tbody>\n",
       "    <tr>\n",
       "      <th>0</th>\n",
       "      <td>1</td>\n",
       "      <td>2011-01-01</td>\n",
       "      <td>1</td>\n",
       "      <td>0</td>\n",
       "      <td>1</td>\n",
       "      <td>0</td>\n",
       "      <td>6</td>\n",
       "      <td>0</td>\n",
       "      <td>2</td>\n",
       "      <td>0.344167</td>\n",
       "      <td>0.363625</td>\n",
       "      <td>0.805833</td>\n",
       "      <td>0.160446</td>\n",
       "      <td>331</td>\n",
       "      <td>654</td>\n",
       "      <td>985</td>\n",
       "    </tr>\n",
       "    <tr>\n",
       "      <th>1</th>\n",
       "      <td>2</td>\n",
       "      <td>2011-01-02</td>\n",
       "      <td>1</td>\n",
       "      <td>0</td>\n",
       "      <td>1</td>\n",
       "      <td>0</td>\n",
       "      <td>0</td>\n",
       "      <td>0</td>\n",
       "      <td>2</td>\n",
       "      <td>0.363478</td>\n",
       "      <td>0.353739</td>\n",
       "      <td>0.696087</td>\n",
       "      <td>0.248539</td>\n",
       "      <td>131</td>\n",
       "      <td>670</td>\n",
       "      <td>801</td>\n",
       "    </tr>\n",
       "    <tr>\n",
       "      <th>2</th>\n",
       "      <td>3</td>\n",
       "      <td>2011-01-03</td>\n",
       "      <td>1</td>\n",
       "      <td>0</td>\n",
       "      <td>1</td>\n",
       "      <td>0</td>\n",
       "      <td>1</td>\n",
       "      <td>1</td>\n",
       "      <td>1</td>\n",
       "      <td>0.196364</td>\n",
       "      <td>0.189405</td>\n",
       "      <td>0.437273</td>\n",
       "      <td>0.248309</td>\n",
       "      <td>120</td>\n",
       "      <td>1229</td>\n",
       "      <td>1349</td>\n",
       "    </tr>\n",
       "    <tr>\n",
       "      <th>3</th>\n",
       "      <td>4</td>\n",
       "      <td>2011-01-04</td>\n",
       "      <td>1</td>\n",
       "      <td>0</td>\n",
       "      <td>1</td>\n",
       "      <td>0</td>\n",
       "      <td>2</td>\n",
       "      <td>1</td>\n",
       "      <td>1</td>\n",
       "      <td>0.200000</td>\n",
       "      <td>0.212122</td>\n",
       "      <td>0.590435</td>\n",
       "      <td>0.160296</td>\n",
       "      <td>108</td>\n",
       "      <td>1454</td>\n",
       "      <td>1562</td>\n",
       "    </tr>\n",
       "    <tr>\n",
       "      <th>4</th>\n",
       "      <td>5</td>\n",
       "      <td>2011-01-05</td>\n",
       "      <td>1</td>\n",
       "      <td>0</td>\n",
       "      <td>1</td>\n",
       "      <td>0</td>\n",
       "      <td>3</td>\n",
       "      <td>1</td>\n",
       "      <td>1</td>\n",
       "      <td>0.226957</td>\n",
       "      <td>0.229270</td>\n",
       "      <td>0.436957</td>\n",
       "      <td>0.186900</td>\n",
       "      <td>82</td>\n",
       "      <td>1518</td>\n",
       "      <td>1600</td>\n",
       "    </tr>\n",
       "  </tbody>\n",
       "</table>\n",
       "</div>"
      ],
      "text/plain": [
       "   instant      dteday  season  yr  mnth  holiday  weekday  workingday  \\\n",
       "0        1  2011-01-01       1   0     1        0        6           0   \n",
       "1        2  2011-01-02       1   0     1        0        0           0   \n",
       "2        3  2011-01-03       1   0     1        0        1           1   \n",
       "3        4  2011-01-04       1   0     1        0        2           1   \n",
       "4        5  2011-01-05       1   0     1        0        3           1   \n",
       "\n",
       "   weathersit      temp     atemp       hum  windspeed  casual  registered  \\\n",
       "0           2  0.344167  0.363625  0.805833   0.160446     331         654   \n",
       "1           2  0.363478  0.353739  0.696087   0.248539     131         670   \n",
       "2           1  0.196364  0.189405  0.437273   0.248309     120        1229   \n",
       "3           1  0.200000  0.212122  0.590435   0.160296     108        1454   \n",
       "4           1  0.226957  0.229270  0.436957   0.186900      82        1518   \n",
       "\n",
       "    cnt  \n",
       "0   985  \n",
       "1   801  \n",
       "2  1349  \n",
       "3  1562  \n",
       "4  1600  "
      ]
     },
     "execution_count": 2,
     "metadata": {},
     "output_type": "execute_result"
    }
   ],
   "source": [
    "df = pd.read_csv('data/day.csv')\n",
    "\n",
    "df.head()"
   ]
  },
  {
   "cell_type": "code",
   "execution_count": 3,
   "id": "round-greece",
   "metadata": {},
   "outputs": [],
   "source": [
    "df = df.loc[:, ['dteday', \n",
    "                'workingday', \n",
    "                'casual', \n",
    "                'registered', \n",
    "                'cnt']]"
   ]
  },
  {
   "cell_type": "code",
   "execution_count": 4,
   "id": "balanced-winter",
   "metadata": {},
   "outputs": [
    {
     "data": {
      "text/plain": [
       "casual         848.176471\n",
       "registered    3656.172367\n",
       "cnt           4504.348837\n",
       "dtype: float64"
      ]
     },
     "execution_count": 4,
     "metadata": {},
     "output_type": "execute_result"
    }
   ],
   "source": [
    "# Por dia, em média, 4.504 bicicletas são alugadas.\n",
    "# Falando sobre tipos de usuários, por dia, em média, 848 são usuários casuais\n",
    "# e 3656 são usuários registrados.\n",
    "\n",
    "df[['casual', 'registered', 'cnt']].mean()"
   ]
  },
  {
   "cell_type": "code",
   "execution_count": 5,
   "id": "mature-county",
   "metadata": {},
   "outputs": [
    {
     "data": {
      "text/plain": [
       "casual         713.0\n",
       "registered    3662.0\n",
       "cnt           4548.0\n",
       "dtype: float64"
      ]
     },
     "execution_count": 5,
     "metadata": {},
     "output_type": "execute_result"
    }
   ],
   "source": [
    "# Olhando para mediana não vemos uma distorção muito grande em relação à média.\n",
    "# Em 50% dos dias tivemos o aluguel de 4.548 bicicletas. \n",
    "# Pelo fato da mediana ter valor maior que a média, \n",
    "# significa que nossa distribuição de aluguel de bicicletas diárias\n",
    "# tem uma leve calda para a esquerda.\n",
    "\n",
    "df[['casual', 'registered', 'cnt']].median()"
   ]
  },
  {
   "cell_type": "markdown",
   "id": "painted-plane",
   "metadata": {},
   "source": [
    "## Business Question #1 \n",
    "\n",
    "**Is demand for bicycle rental _different_ between workdays and weekends?**"
   ]
  },
  {
   "cell_type": "code",
   "execution_count": 6,
   "id": "basic-breath",
   "metadata": {},
   "outputs": [
    {
     "data": {
      "text/html": [
       "<div>\n",
       "<style scoped>\n",
       "    .dataframe tbody tr th:only-of-type {\n",
       "        vertical-align: middle;\n",
       "    }\n",
       "\n",
       "    .dataframe tbody tr th {\n",
       "        vertical-align: top;\n",
       "    }\n",
       "\n",
       "    .dataframe thead th {\n",
       "        text-align: right;\n",
       "    }\n",
       "</style>\n",
       "<table border=\"1\" class=\"dataframe\">\n",
       "  <thead>\n",
       "    <tr style=\"text-align: right;\">\n",
       "      <th>workingday</th>\n",
       "      <th>0</th>\n",
       "      <th>1</th>\n",
       "    </tr>\n",
       "  </thead>\n",
       "  <tbody>\n",
       "    <tr>\n",
       "      <th>count</th>\n",
       "      <td>231.000000</td>\n",
       "      <td>500.000000</td>\n",
       "    </tr>\n",
       "    <tr>\n",
       "      <th>mean</th>\n",
       "      <td>4330.168831</td>\n",
       "      <td>4584.820000</td>\n",
       "    </tr>\n",
       "    <tr>\n",
       "      <th>std</th>\n",
       "      <td>2052.141245</td>\n",
       "      <td>1878.415583</td>\n",
       "    </tr>\n",
       "    <tr>\n",
       "      <th>min</th>\n",
       "      <td>605.000000</td>\n",
       "      <td>22.000000</td>\n",
       "    </tr>\n",
       "    <tr>\n",
       "      <th>25%</th>\n",
       "      <td>2710.500000</td>\n",
       "      <td>3344.250000</td>\n",
       "    </tr>\n",
       "    <tr>\n",
       "      <th>50%</th>\n",
       "      <td>4459.000000</td>\n",
       "      <td>4582.000000</td>\n",
       "    </tr>\n",
       "    <tr>\n",
       "      <th>75%</th>\n",
       "      <td>5907.500000</td>\n",
       "      <td>5987.500000</td>\n",
       "    </tr>\n",
       "    <tr>\n",
       "      <th>max</th>\n",
       "      <td>8714.000000</td>\n",
       "      <td>8362.000000</td>\n",
       "    </tr>\n",
       "  </tbody>\n",
       "</table>\n",
       "</div>"
      ],
      "text/plain": [
       "workingday            0            1\n",
       "count        231.000000   500.000000\n",
       "mean        4330.168831  4584.820000\n",
       "std         2052.141245  1878.415583\n",
       "min          605.000000    22.000000\n",
       "25%         2710.500000  3344.250000\n",
       "50%         4459.000000  4582.000000\n",
       "75%         5907.500000  5987.500000\n",
       "max         8714.000000  8362.000000"
      ]
     },
     "execution_count": 6,
     "metadata": {},
     "output_type": "execute_result"
    }
   ],
   "source": [
    "# Ao olhar para as médias, percebemos que sim, os valores são diferentes.\n",
    "# Neste caso, a demanda durante os dias da semana é maior.\n",
    "# Observamos o mesmo fenômeno ao observar as medianas.\n",
    "\n",
    "df.groupby('workingday').cnt.describe().T"
   ]
  },
  {
   "cell_type": "code",
   "execution_count": 7,
   "id": "intermediate-shanghai",
   "metadata": {},
   "outputs": [
    {
     "data": {
      "text/plain": [
       "<AxesSubplot:title={'center':'cnt'}, xlabel='workingday'>"
      ]
     },
     "execution_count": 7,
     "metadata": {},
     "output_type": "execute_result"
    },
    {
     "data": {
      "image/png": "[encoded data removed]",
      "text/plain": [
       "<Figure size 576x432 with 1 Axes>"
      ]
     },
     "metadata": {
      "needs_background": "light"
     },
     "output_type": "display_data"
    }
   ],
   "source": [
    "# Aí, vem a pergunta pulo-do-gato: Esse diferença é estatisticamente significativa?\n",
    "# Ou seja, qual a probabilidade de termos obtido essa diferença por acaso? \n",
    "# Ou também: Qual a probabilidade de se obter essa diferença? É alta?\n",
    "# Se for uma probabilidade alta, podemos dizer que essas são amostras que vem da mesma população, \n",
    "# e não de populações com caractéristicas diferentes.\n",
    "\n",
    "df.boxplot(column=['cnt'], \n",
    "           by='workingday', figsize=(8, 6)\n",
    "          )"
   ]
  },
  {
   "cell_type": "markdown",
   "id": "mathematical-spokesman",
   "metadata": {},
   "source": [
    "## Hypothesis #1\n",
    "\n",
    "<b>Null hypothesis (H0):</b> u1 = u2, which translates to the mean of `sample_01` is equal to the mean of `sample 02`\n",
    "\n",
    "<b>Alternative hypothesis (H1):</b> u1 != u2, which translates to the means of `sample01` is not equal to `sample 02`\n",
    "\n",
    "## Test #1\n",
    "* 2 independent groups: count on workdays and weekends\n",
    "* if `normality `-> `t-test` (checking variances!)\n",
    "* else -> `mann-whitney`\n",
    "* signficance level: 5%"
   ]
  },
  {
   "cell_type": "code",
   "execution_count": 8,
   "id": "little-chuck",
   "metadata": {},
   "outputs": [],
   "source": [
    "sample_01 = df.query('workingday == 1').reset_index(drop=True)\n",
    "sample_02 = df.query('workingday == 0').reset_index(drop=True)"
   ]
  },
  {
   "cell_type": "code",
   "execution_count": 9,
   "id": "intelligent-congress",
   "metadata": {},
   "outputs": [
    {
     "data": {
      "text/plain": [
       "((500, 5), (231, 5))"
      ]
     },
     "execution_count": 9,
     "metadata": {},
     "output_type": "execute_result"
    }
   ],
   "source": [
    "sample_01.shape, sample_02.shape"
   ]
  },
  {
   "cell_type": "code",
   "execution_count": 10,
   "id": "magnetic-journal",
   "metadata": {},
   "outputs": [
    {
     "data": {
      "text/plain": [
       "((231, 5), (231, 5))"
      ]
     },
     "execution_count": 10,
     "metadata": {},
     "output_type": "execute_result"
    }
   ],
   "source": [
    "# take a sample of the size of the smallest to compare.\n",
    "\n",
    "sample_01 = sample_01.sample(231,random_state=42).reset_index(drop=True)\n",
    "\n",
    "sample_01.shape, sample_02.shape"
   ]
  },
  {
   "cell_type": "code",
   "execution_count": 11,
   "id": "elder-morris",
   "metadata": {},
   "outputs": [
    {
     "data": {
      "text/plain": [
       "Ttest_indResult(statistic=0.7125247222345579, pvalue=0.476501159234212)"
      ]
     },
     "execution_count": 11,
     "metadata": {},
     "output_type": "execute_result"
    }
   ],
   "source": [
    "# teste paramétrico\n",
    "stats.ttest_ind(sample_01['cnt'], sample_02['cnt'])"
   ]
  },
  {
   "cell_type": "code",
   "execution_count": 12,
   "id": "historical-dakota",
   "metadata": {},
   "outputs": [
    {
     "data": {
      "text/plain": [
       "Ttest_indResult(statistic=0.7125247222345579, pvalue=0.47650494875175897)"
      ]
     },
     "execution_count": 12,
     "metadata": {},
     "output_type": "execute_result"
    }
   ],
   "source": [
    "stats.ttest_ind(sample_01['cnt'], sample_02['cnt'], equal_var=False)"
   ]
  },
  {
   "cell_type": "code",
   "execution_count": 13,
   "id": "comparative-austin",
   "metadata": {},
   "outputs": [
    {
     "data": {
      "text/plain": [
       "MannwhitneyuResult(statistic=27648.5, pvalue=0.5001342759408872)"
      ]
     },
     "execution_count": 13,
     "metadata": {},
     "output_type": "execute_result"
    }
   ],
   "source": [
    "# teste não-paramétrico\n",
    "stats.mannwhitneyu(sample_01['cnt'], sample_02['cnt'])"
   ]
  },
  {
   "cell_type": "code",
   "execution_count": null,
   "id": "light-tribute",
   "metadata": {},
   "outputs": [],
   "source": [
    "# Pelos dois testes executados, conseguimos observar que a diferença\n",
    "# entre o aluguel de bicicletas durante a semana e finais de semana \n",
    "# não é estatisticamente significativo, pois para o `significance level` \n",
    "# de 5% ambos recaem num valor superior."
   ]
  },
  {
   "cell_type": "markdown",
   "id": "skilled-insured",
   "metadata": {},
   "source": [
    "## Checking Assumptions\n",
    "\n",
    "### Homogeneity of variance (Homoscedasticity)\n",
    "\n",
    "- T-tests and ANOVA (analysis of variances) <u>assumes</u> that the samples to be compared <b>have same variance</b> (i.e, they have homogeneity of variance). In reality, t and F statistics (the statistics used by these tests) are actually robust to violations in this assumption if the samples have <b>roughly the same size</b>.\n",
    "\n",
    "\n",
    "- The most common assessment for homogeneity of variance is <u>Levene's test</u>. The Levene's test uses an F-test to test the null hypothesis that the variance is equal across groups. This means: if we perform Levene's test and obtain a p value less than .05, it indicates that we can <u> reject the hypothesis that variance is equal across groups </u>, hence a violation of the homscedasticity assumption.\n",
    "\n",
    "\n",
    "https://docs.scipy.org/doc/scipy-0.14.0/reference/generated/scipy.stats.levene.html"
   ]
  },
  {
   "cell_type": "code",
   "execution_count": 14,
   "id": "silver-ottawa",
   "metadata": {},
   "outputs": [
    {
     "data": {
      "text/plain": [
       "3428633.241031432"
      ]
     },
     "execution_count": 14,
     "metadata": {},
     "output_type": "execute_result"
    }
   ],
   "source": [
    "sample_01['cnt'].var()"
   ]
  },
  {
   "cell_type": "code",
   "execution_count": 15,
   "id": "restricted-courtesy",
   "metadata": {},
   "outputs": [
    {
     "data": {
      "text/plain": [
       "4211283.688763411"
      ]
     },
     "execution_count": 15,
     "metadata": {},
     "output_type": "execute_result"
    }
   ],
   "source": [
    "sample_02['cnt'].var()"
   ]
  },
  {
   "cell_type": "code",
   "execution_count": 16,
   "id": "sized-bradford",
   "metadata": {},
   "outputs": [
    {
     "data": {
      "text/plain": [
       "LeveneResult(statistic=3.979889033842622, pvalue=0.04663610361247089)"
      ]
     },
     "execution_count": 16,
     "metadata": {},
     "output_type": "execute_result"
    }
   ],
   "source": [
    "# we want to check whether the variable `cnt` in our dataframe have same variance across samples:\n",
    "\n",
    "\n",
    "# hipotese nula do teste de levene é \n",
    "# H0: as variâncias entre as amostras são iguais\n",
    "# H1: as variâncias entre as amostras são diferentes\n",
    "\n",
    "stats.levene(sample_01['cnt'], sample_02['cnt'])"
   ]
  },
  {
   "cell_type": "code",
   "execution_count": null,
   "id": "pending-supervisor",
   "metadata": {},
   "outputs": [],
   "source": [
    "# Como pvalue < 0.05, novamente, posso rejeitar a hipótese de que as variâncias são iguais."
   ]
  },
  {
   "cell_type": "markdown",
   "id": "editorial-combat",
   "metadata": {},
   "source": [
    "### Normal distribution  of residuals\n",
    "\n",
    "Another important assumption of these tests we are performing is: the residuals between the groups needs to be normally distributed - that is, if we subtract the sample values, we need to obtain a gaussian distribution.\n",
    "\n",
    "#### Checking difference between two pair points\n"
   ]
  },
  {
   "cell_type": "code",
   "execution_count": 17,
   "id": "structural-sierra",
   "metadata": {},
   "outputs": [
    {
     "data": {
      "image/png": "[encoded data removed]",
      "text/plain": [
       "<Figure size 360x360 with 1 Axes>"
      ]
     },
     "metadata": {
      "needs_background": "light"
     },
     "output_type": "display_data"
    }
   ],
   "source": [
    "from sklearn.preprocessing import scale\n",
    "diff = scale(sample_01['cnt'] - sample_02['cnt'])\n",
    "\n",
    "sns.displot(diff);"
   ]
  },
  {
   "cell_type": "code",
   "execution_count": 18,
   "id": "contained-mobile",
   "metadata": {},
   "outputs": [
    {
     "data": {
      "image/png": "[encoded data removed]",
      "text/plain": [
       "<Figure size 864x576 with 1 Axes>"
      ]
     },
     "metadata": {
      "needs_background": "light"
     },
     "output_type": "display_data"
    }
   ],
   "source": [
    "plt.figure(figsize=(12, 8))\n",
    "\n",
    "stats.probplot(diff, plot=plt, dist='norm')\n",
    "\n",
    "plt.show()"
   ]
  },
  {
   "cell_type": "markdown",
   "id": "involved-nitrogen",
   "metadata": {},
   "source": [
    "#### Checking normal distribution by `shapiro method`\n",
    "\n",
    "The `shapiro-wilk` test is a statistical test that numerically accesses whether a distribution of a sample comes from a population that had a gaussian distribution.\n",
    "\n",
    "**The null-hypothesis of the `shapiro-wilk` test is, thus, that your sample comes from a normal distribution.**\n",
    "\n",
    "If the p-value is greater than 0.05, it means you cannot reject the hypothesis that the sample comes from a population that has a normal distribution.\n",
    "\n",
    "https://docs.scipy.org/doc/scipy/reference/generated/scipy.stats.shapiro.html\n",
    "\n",
    "https://stats.stackexchange.com/questions/15696/interpretation-of-shapiro-wilk-test"
   ]
  },
  {
   "cell_type": "code",
   "execution_count": 19,
   "id": "liquid-sequence",
   "metadata": {},
   "outputs": [
    {
     "data": {
      "text/plain": [
       "ShapiroResult(statistic=0.9917702674865723, pvalue=0.22145463526248932)"
      ]
     },
     "execution_count": 19,
     "metadata": {},
     "output_type": "execute_result"
    }
   ],
   "source": [
    "stats.shapiro(diff)"
   ]
  },
  {
   "cell_type": "markdown",
   "id": "eleven-terrace",
   "metadata": {},
   "source": [
    "## Business Question #2\n",
    "\n",
    "**Is demand for bicycle rental on workdays greater than demand on weekends?**"
   ]
  },
  {
   "cell_type": "code",
   "execution_count": 20,
   "id": "fourth-roman",
   "metadata": {},
   "outputs": [
    {
     "data": {
      "text/plain": [
       "Ttest_indResult(statistic=0.7125247222345579, pvalue=0.23825247437587949)"
      ]
     },
     "execution_count": 20,
     "metadata": {},
     "output_type": "execute_result"
    }
   ],
   "source": [
    "stats.ttest_ind(sample_01['cnt'], \n",
    "                sample_02['cnt'], \n",
    "                equal_var=False,\n",
    "                alternative='greater' #one tailed test\n",
    "           )"
   ]
  },
  {
   "cell_type": "markdown",
   "id": "asian-incidence",
   "metadata": {},
   "source": [
    "## Business Question #3\n",
    "Does registered users use the service of bike rental more than casual users?"
   ]
  },
  {
   "cell_type": "code",
   "execution_count": 21,
   "id": "worth-amplifier",
   "metadata": {},
   "outputs": [
    {
     "data": {
      "text/plain": [
       "<AxesSubplot:>"
      ]
     },
     "execution_count": 21,
     "metadata": {},
     "output_type": "execute_result"
    },
    {
     "data": {
      "image/png": "[encoded data removed]",
      "text/plain": [
       "<Figure size 576x432 with 1 Axes>"
      ]
     },
     "metadata": {
      "needs_background": "light"
     },
     "output_type": "display_data"
    }
   ],
   "source": [
    "df.boxplot(column=['casual', 'registered'], figsize=(8, 6))"
   ]
  },
  {
   "cell_type": "code",
   "execution_count": 22,
   "id": "twenty-tissue",
   "metadata": {},
   "outputs": [
    {
     "data": {
      "text/plain": [
       "Ttest_indResult(statistic=44.53675092663381, pvalue=1.2697038750164425e-274)"
      ]
     },
     "execution_count": 22,
     "metadata": {},
     "output_type": "execute_result"
    }
   ],
   "source": [
    "stats.ttest_ind(df['registered'],\n",
    "                df['casual'], \n",
    "                alternative='greater'\n",
    "           )"
   ]
  },
  {
   "cell_type": "code",
   "execution_count": 23,
   "id": "political-wings",
   "metadata": {},
   "outputs": [
    {
     "data": {
      "text/plain": [
       "MannwhitneyuResult(statistic=509204.0, pvalue=7.638175147993202e-198)"
      ]
     },
     "execution_count": 23,
     "metadata": {},
     "output_type": "execute_result"
    }
   ],
   "source": [
    "# teste não-paramétrico\n",
    "stats.mannwhitneyu(df['registered'], \n",
    "                   df['casual'],\n",
    "                  alternative='greater')"
   ]
  }
 ],
 "metadata": {
  "kernelspec": {
   "display_name": "Python 3",
   "language": "python",
   "name": "python3"
  },
  "language_info": {
   "codemirror_mode": {
    "name": "ipython",
    "version": 3
   },
   "file_extension": ".py",
   "mimetype": "text/x-python",
   "name": "python",
   "nbconvert_exporter": "python",
   "pygments_lexer": "ipython3",
   "version": "3.9.4"
  }
 },
 "nbformat": 4,
 "nbformat_minor": 5
}
