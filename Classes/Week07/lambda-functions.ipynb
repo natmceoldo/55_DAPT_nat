{
 "cells": [
  {
   "cell_type": "code",
   "execution_count": 3,
   "metadata": {
    "ExecuteTime": {
     "end_time": "2020-11-02T00:56:54.511934Z",
     "start_time": "2020-11-02T00:56:47.853425Z"
    }
   },
   "outputs": [],
   "source": [
    "import re\n",
    "import numpy as np\n",
    "import pandas as pd"
   ]
  },
  {
   "cell_type": "markdown",
   "metadata": {},
   "source": [
    "# Recap Function Definitions"
   ]
  },
  {
   "cell_type": "markdown",
   "metadata": {},
   "source": [
    "Broken into tokens:\n",
    "\n",
    "> <b>def </b>\n",
    "- Tell python that you're starting to create a function\n",
    "\n",
    "> <b>function_name</b>\n",
    "- you give that function a name for a future call\n",
    "\n",
    "> <b>(</b>\n",
    "- Open parenthesis to give arguments (or variables) that you'll use in that functions. These helps you parametrize code.\n",
    "\n",
    "> <b>[OPTIONAL] arg1, arg2, arg3, ... </b>\n",
    "- The arguments of that function\n",
    "\n",
    "> <b>)</b>\n",
    "- CLose parenthesis to say you're done creating arguments\n",
    "\n",
    "> <b>:</b>\n",
    "- colon to say you're about to start a `code block`\n",
    "\n",
    "> <b>code block</b>\n",
    "- where you effectively do something with (or without) the arguments\n",
    "\n",
    "> <b>return</b>\n",
    "- The return statement tells you're done with the function. Whether you'll return something from that or not is optional\n",
    "\n",
    "> <b>[OPTIONAL] something</b>\n",
    "- The `something` you're allowed to retur.\n",
    "\n"
   ]
  },
  {
   "cell_type": "code",
   "execution_count": 2,
   "metadata": {
    "ExecuteTime": {
     "end_time": "2020-08-31T14:01:07.253951Z",
     "start_time": "2020-08-31T14:01:07.244949Z"
    },
    "scrolled": true
   },
   "outputs": [
    {
     "data": {
      "text/plain": [
       "<function __main__.function_name(arg1)>"
      ]
     },
     "execution_count": 2,
     "metadata": {},
     "output_type": "execute_result"
    }
   ],
   "source": [
    "def function_name(arg1):\n",
    "    something = arg1 + 10\n",
    "    return something\n",
    "\n",
    "function_name"
   ]
  },
  {
   "cell_type": "code",
   "execution_count": 3,
   "metadata": {},
   "outputs": [
    {
     "data": {
      "text/plain": [
       "20"
      ]
     },
     "execution_count": 3,
     "metadata": {},
     "output_type": "execute_result"
    }
   ],
   "source": [
    "# Fazer teste unitário utilizando `function_name`\n",
    "function_name(10)"
   ]
  },
  {
   "cell_type": "code",
   "execution_count": 4,
   "metadata": {
    "ExecuteTime": {
     "end_time": "2020-08-31T14:01:29.608944Z",
     "start_time": "2020-08-31T14:01:29.604946Z"
    }
   },
   "outputs": [
    {
     "data": {
      "text/plain": [
       "30"
      ]
     },
     "execution_count": 4,
     "metadata": {},
     "output_type": "execute_result"
    }
   ],
   "source": [
    "# Fazer outro teste unitário utilizando `function_name`\n",
    "function_name(20)"
   ]
  },
  {
   "cell_type": "markdown",
   "metadata": {},
   "source": [
    "# What is a Lambda Function?\n",
    "\n",
    "https://realpython.com/python-lambda/\n",
    "\n",
    "\n",
    "> Named after `lambda calculus`.\n",
    "\n",
    "> Usually refers to `anonymous functions`"
   ]
  },
  {
   "cell_type": "markdown",
   "metadata": {},
   "source": [
    "## How to define lambda functions?"
   ]
  },
  {
   "cell_type": "code",
   "execution_count": 5,
   "metadata": {
    "ExecuteTime": {
     "end_time": "2020-08-31T14:02:06.407529Z",
     "start_time": "2020-08-31T14:02:06.404529Z"
    }
   },
   "outputs": [],
   "source": [
    "# Escrever uma função que obtém um valor e retorna sua metade\n",
    "def half(x):\n",
    "    return x/2"
   ]
  },
  {
   "cell_type": "code",
   "execution_count": 6,
   "metadata": {
    "ExecuteTime": {
     "end_time": "2020-08-31T14:03:20.982794Z",
     "start_time": "2020-08-31T14:03:20.979795Z"
    }
   },
   "outputs": [
    {
     "data": {
      "text/plain": [
       "<function __main__.<lambda>(x)>"
      ]
     },
     "execution_count": 6,
     "metadata": {},
     "output_type": "execute_result"
    }
   ],
   "source": [
    "# Escrever uma função lambda que obtém um valor e retorna sua metade\n",
    "lambda x: x/2"
   ]
  },
  {
   "cell_type": "code",
   "execution_count": 7,
   "metadata": {
    "ExecuteTime": {
     "end_time": "2020-08-31T14:03:47.259308Z",
     "start_time": "2020-08-31T14:03:47.255305Z"
    }
   },
   "outputs": [
    {
     "data": {
      "text/plain": [
       "<function __main__.<lambda>(y)>"
      ]
     },
     "execution_count": 7,
     "metadata": {},
     "output_type": "execute_result"
    }
   ],
   "source": [
    "# Escrever uma função lambda que obtém um valor e soma 10\n",
    "lambda y: y+10"
   ]
  },
  {
   "cell_type": "markdown",
   "metadata": {},
   "source": [
    "## Some ways to call a lambda function"
   ]
  },
  {
   "cell_type": "markdown",
   "metadata": {},
   "source": [
    "### Example 1"
   ]
  },
  {
   "cell_type": "code",
   "execution_count": 8,
   "metadata": {
    "ExecuteTime": {
     "end_time": "2020-08-31T14:04:21.604035Z",
     "start_time": "2020-08-31T14:04:21.600035Z"
    }
   },
   "outputs": [
    {
     "data": {
      "text/plain": [
       "40"
      ]
     },
     "execution_count": 8,
     "metadata": {},
     "output_type": "execute_result"
    }
   ],
   "source": [
    "# Escrever uma função lambda que soma 10 \n",
    "# Passar como parâmetro o valor 30 (fazer teste com outros números)\n",
    "(lambda arg1: arg1+10)(30)"
   ]
  },
  {
   "cell_type": "markdown",
   "metadata": {},
   "source": [
    "### Example 2"
   ]
  },
  {
   "cell_type": "code",
   "execution_count": 9,
   "metadata": {
    "ExecuteTime": {
     "end_time": "2020-08-31T14:04:55.346746Z",
     "start_time": "2020-08-31T14:04:55.342749Z"
    }
   },
   "outputs": [],
   "source": [
    "# Atribuir essa função lambda a uma variável\n",
    "func1 = lambda arg1: arg1+10"
   ]
  },
  {
   "cell_type": "code",
   "execution_count": 10,
   "metadata": {
    "ExecuteTime": {
     "end_time": "2020-08-31T14:05:01.297539Z",
     "start_time": "2020-08-31T14:05:01.293538Z"
    }
   },
   "outputs": [
    {
     "data": {
      "text/plain": [
       "20"
      ]
     },
     "execution_count": 10,
     "metadata": {},
     "output_type": "execute_result"
    }
   ],
   "source": [
    "# Passar um valor para essa função\n",
    "func1(10)"
   ]
  },
  {
   "cell_type": "markdown",
   "metadata": {},
   "source": [
    "### Example 3"
   ]
  },
  {
   "cell_type": "code",
   "execution_count": 11,
   "metadata": {
    "ExecuteTime": {
     "end_time": "2020-11-02T00:58:42.244854Z",
     "start_time": "2020-11-02T00:58:42.222865Z"
    }
   },
   "outputs": [],
   "source": [
    "# atribuir à variável example_list os valores [1,4,5,8]\n",
    "example_list = [1, 4, 5, 8]"
   ]
  },
  {
   "cell_type": "code",
   "execution_count": 13,
   "metadata": {
    "ExecuteTime": {
     "end_time": "2020-08-31T14:06:21.453324Z",
     "start_time": "2020-08-31T14:06:21.450322Z"
    }
   },
   "outputs": [
    {
     "data": {
      "text/plain": [
       "<map at 0x1eb5cfb6280>"
      ]
     },
     "execution_count": 13,
     "metadata": {},
     "output_type": "execute_result"
    }
   ],
   "source": [
    "# utilizar o map para aplicar a função half à lista que acabamos de criar\n",
    "map(half, example_list)\n",
    "\n",
    "#lazy evaluation"
   ]
  },
  {
   "cell_type": "code",
   "execution_count": 14,
   "metadata": {},
   "outputs": [
    {
     "data": {
      "text/plain": [
       "(0.5, 2.0, 2.5, 4.0)"
      ]
     },
     "execution_count": 14,
     "metadata": {},
     "output_type": "execute_result"
    }
   ],
   "source": [
    "tuple(map(half, example_list))"
   ]
  },
  {
   "cell_type": "code",
   "execution_count": 15,
   "metadata": {},
   "outputs": [
    {
     "data": {
      "text/plain": [
       "[0.5, 2.0, 2.5, 4.0]"
      ]
     },
     "execution_count": 15,
     "metadata": {},
     "output_type": "execute_result"
    }
   ],
   "source": [
    "list(map(half, example_list))"
   ]
  },
  {
   "cell_type": "code",
   "execution_count": 16,
   "metadata": {},
   "outputs": [
    {
     "name": "stdout",
     "output_type": "stream",
     "text": [
      "0.5\n",
      "2.0\n",
      "2.5\n",
      "4.0\n"
     ]
    }
   ],
   "source": [
    "for value in map(half, example_list):\n",
    "    print(value)"
   ]
  },
  {
   "cell_type": "code",
   "execution_count": 17,
   "metadata": {
    "ExecuteTime": {
     "end_time": "2020-08-31T14:06:51.223176Z",
     "start_time": "2020-08-31T14:06:51.219177Z"
    }
   },
   "outputs": [
    {
     "data": {
      "text/plain": [
       "<map at 0x1eb5c8fb880>"
      ]
     },
     "execution_count": 17,
     "metadata": {},
     "output_type": "execute_result"
    }
   ],
   "source": [
    "# utilizar o map para aplicar a função lambda à lista que acabamos de criar\n",
    "map(lambda x: x/2, example_list)"
   ]
  },
  {
   "cell_type": "code",
   "execution_count": 18,
   "metadata": {},
   "outputs": [
    {
     "data": {
      "text/plain": [
       "[0.5, 2.0, 2.5, 4.0]"
      ]
     },
     "execution_count": 18,
     "metadata": {},
     "output_type": "execute_result"
    }
   ],
   "source": [
    "list(map(lambda x: x/2, example_list))"
   ]
  },
  {
   "cell_type": "markdown",
   "metadata": {},
   "source": [
    "## Define a lambda function using more than 1 argument"
   ]
  },
  {
   "cell_type": "code",
   "execution_count": 19,
   "metadata": {
    "ExecuteTime": {
     "end_time": "2020-08-31T14:07:26.139062Z",
     "start_time": "2020-08-31T14:07:26.135063Z"
    }
   },
   "outputs": [],
   "source": [
    "# Crie uma função convencional que soma dois valores\n",
    "def my_sum(a , b):\n",
    "    return a + b"
   ]
  },
  {
   "cell_type": "code",
   "execution_count": 20,
   "metadata": {
    "ExecuteTime": {
     "end_time": "2020-11-02T01:06:05.767245Z",
     "start_time": "2020-11-02T01:06:05.749257Z"
    }
   },
   "outputs": [
    {
     "data": {
      "text/plain": [
       "20"
      ]
     },
     "execution_count": 20,
     "metadata": {},
     "output_type": "execute_result"
    }
   ],
   "source": [
    "# Crie a mesma função mas agora utilizando lambda function\n",
    "# Atribua essa função anônima a uma variável a chame a\n",
    "func2 = lambda a, b: a+b\n",
    "func2(10, 10)"
   ]
  },
  {
   "cell_type": "code",
   "execution_count": 21,
   "metadata": {
    "ExecuteTime": {
     "end_time": "2020-11-02T00:58:03.460255Z",
     "start_time": "2020-11-02T00:58:03.429275Z"
    }
   },
   "outputs": [
    {
     "data": {
      "text/plain": [
       "20"
      ]
     },
     "execution_count": 21,
     "metadata": {},
     "output_type": "execute_result"
    }
   ],
   "source": [
    "# Chame a mesma função utilizando parênteses logo depois\n",
    "(lambda a, b: a+b)(10, 10)"
   ]
  },
  {
   "cell_type": "markdown",
   "metadata": {},
   "source": [
    "## Adding Conditions"
   ]
  },
  {
   "cell_type": "code",
   "execution_count": 22,
   "metadata": {
    "ExecuteTime": {
     "end_time": "2020-08-31T14:11:43.420569Z",
     "start_time": "2020-08-31T14:11:43.416567Z"
    }
   },
   "outputs": [
    {
     "data": {
      "text/plain": [
       "<function __main__.<lambda>(num, dem)>"
      ]
     },
     "execution_count": 22,
     "metadata": {},
     "output_type": "execute_result"
    }
   ],
   "source": [
    "# Criando uma função Lambda para evitar divisão por zero\n",
    "example_list = [(10, 2), (4, 2), (6, 0)]\n",
    "lambda num, dem: num/dem if dem!=0 else 0"
   ]
  },
  {
   "cell_type": "code",
   "execution_count": 23,
   "metadata": {},
   "outputs": [
    {
     "data": {
      "text/plain": [
       "<map at 0x1eb5cd7d940>"
      ]
     },
     "execution_count": 23,
     "metadata": {},
     "output_type": "execute_result"
    }
   ],
   "source": [
    "map(lambda num, dem: num/dem if dem!=0 else 0, example_list)"
   ]
  },
  {
   "cell_type": "code",
   "execution_count": 26,
   "metadata": {},
   "outputs": [
    {
     "data": {
      "text/plain": [
       "[5.0, 2.0, 0]"
      ]
     },
     "execution_count": 26,
     "metadata": {},
     "output_type": "execute_result"
    }
   ],
   "source": [
    "safe_div = lambda num, dem: num/dem if dem!=0 else 0\n",
    "[safe_div(a, b) for a, b in example_list]"
   ]
  },
  {
   "cell_type": "code",
   "execution_count": 30,
   "metadata": {},
   "outputs": [
    {
     "data": {
      "text/plain": [
       "array([[10,  2],\n",
       "       [ 4,  2],\n",
       "       [ 6,  0]])"
      ]
     },
     "execution_count": 30,
     "metadata": {},
     "output_type": "execute_result"
    }
   ],
   "source": [
    "np_array = np.array(example_list)\n",
    "np_array"
   ]
  },
  {
   "cell_type": "code",
   "execution_count": 29,
   "metadata": {},
   "outputs": [
    {
     "data": {
      "text/plain": [
       "[5.0, 2.0, 0]"
      ]
     },
     "execution_count": 29,
     "metadata": {},
     "output_type": "execute_result"
    }
   ],
   "source": [
    "list(map(lambda num, dem: num/dem if dem!=0 else 0, np_array[:, 0], np_array[: , 1]))"
   ]
  },
  {
   "cell_type": "markdown",
   "metadata": {},
   "source": [
    "## Applications"
   ]
  },
  {
   "cell_type": "markdown",
   "metadata": {},
   "source": [
    "### Python"
   ]
  },
  {
   "cell_type": "markdown",
   "metadata": {},
   "source": [
    "#### Map"
   ]
  },
  {
   "cell_type": "code",
   "execution_count": 37,
   "metadata": {
    "ExecuteTime": {
     "end_time": "2020-08-31T14:13:37.341961Z",
     "start_time": "2020-08-31T14:13:37.338958Z"
    }
   },
   "outputs": [],
   "source": [
    "# Criar variável example_list com os valores [1,4,6,7,10,31,13]\n",
    "\n",
    "example_list2 = [1,4,6,7,10,31,13]"
   ]
  },
  {
   "cell_type": "code",
   "execution_count": null,
   "metadata": {
    "ExecuteTime": {
     "end_time": "2020-08-31T14:13:39.051564Z",
     "start_time": "2020-08-31T14:13:39.048564Z"
    }
   },
   "outputs": [],
   "source": [
    "# Podemos criar uma função concenvional `half`\n",
    "def half(x):\n",
    "    return x/2"
   ]
  },
  {
   "cell_type": "code",
   "execution_count": null,
   "metadata": {
    "ExecuteTime": {
     "end_time": "2020-08-31T14:13:43.773599Z",
     "start_time": "2020-08-31T14:13:43.770597Z"
    }
   },
   "outputs": [],
   "source": [
    "# E aplicar essa funcão a esa lista"
   ]
  },
  {
   "cell_type": "code",
   "execution_count": null,
   "metadata": {
    "ExecuteTime": {
     "end_time": "2020-08-31T14:13:46.711082Z",
     "start_time": "2020-08-31T14:13:46.706081Z"
    }
   },
   "outputs": [],
   "source": [
    "# Ou não criamos a função e aplicamos a lambda function nessa lista utilizando map"
   ]
  },
  {
   "cell_type": "markdown",
   "metadata": {},
   "source": [
    "#### Filter"
   ]
  },
  {
   "cell_type": "code",
   "execution_count": 36,
   "metadata": {
    "ExecuteTime": {
     "end_time": "2020-08-31T14:14:00.219150Z",
     "start_time": "2020-08-31T14:14:00.216122Z"
    }
   },
   "outputs": [],
   "source": [
    "# Podemos criar uma função convencional que retorna verdadeiro ou falso\n",
    "def check_if_even(x):\n",
    "    if x % 2 == 0:\n",
    "        return True\n",
    "    else:\n",
    "        return False"
   ]
  },
  {
   "cell_type": "code",
   "execution_count": 39,
   "metadata": {
    "ExecuteTime": {
     "end_time": "2020-08-31T14:14:04.107367Z",
     "start_time": "2020-08-31T14:14:04.104366Z"
    },
    "scrolled": true
   },
   "outputs": [
    {
     "data": {
      "text/plain": [
       "[4, 6, 10]"
      ]
     },
     "execution_count": 39,
     "metadata": {},
     "output_type": "execute_result"
    }
   ],
   "source": [
    "# E aplicar essa função convencional a uma lista utilizando filter\n",
    "list(filter(check_if_even, example_list2))"
   ]
  },
  {
   "cell_type": "code",
   "execution_count": 41,
   "metadata": {
    "ExecuteTime": {
     "end_time": "2020-08-31T14:15:01.077211Z",
     "start_time": "2020-08-31T14:15:01.074248Z"
    }
   },
   "outputs": [
    {
     "data": {
      "text/plain": [
       "[4, 6, 10]"
      ]
     },
     "execution_count": 41,
     "metadata": {},
     "output_type": "execute_result"
    }
   ],
   "source": [
    "# Ou criamos uma lambda function para aplicar essa lógica lá\n",
    "list(filter(lambda x: x%2==0, example_list2))"
   ]
  },
  {
   "cell_type": "markdown",
   "metadata": {},
   "source": [
    "#### Ordering a dictionary by its values"
   ]
  },
  {
   "cell_type": "code",
   "execution_count": 42,
   "metadata": {
    "ExecuteTime": {
     "end_time": "2020-08-31T14:33:10.674116Z",
     "start_time": "2020-08-31T14:33:10.671146Z"
    }
   },
   "outputs": [],
   "source": [
    "# Criar um dicionário que relacione frutas e suas quantidades\n",
    "\n",
    "frutas_diferentonas = {\n",
    "    'Atemoia': 10, \n",
    "    'Kiwi Gold' : 30, \n",
    "    'Romã': 15, \n",
    "    'Pitaya': 5}"
   ]
  },
  {
   "cell_type": "code",
   "execution_count": 43,
   "metadata": {},
   "outputs": [
    {
     "data": {
      "text/plain": [
       "['Atemoia', 'Kiwi Gold', 'Pitaya', 'Romã']"
      ]
     },
     "execution_count": 43,
     "metadata": {},
     "output_type": "execute_result"
    }
   ],
   "source": [
    "# Fazer um sort irá ordenar apenas as chaves\n",
    "sorted(frutas_diferentonas)"
   ]
  },
  {
   "cell_type": "code",
   "execution_count": 44,
   "metadata": {
    "ExecuteTime": {
     "end_time": "2020-08-31T14:33:17.191656Z",
     "start_time": "2020-08-31T14:33:17.187689Z"
    }
   },
   "outputs": [
    {
     "data": {
      "text/plain": [
       "dict_items([('Atemoia', 10), ('Kiwi Gold', 30), ('Romã', 15), ('Pitaya', 5)])"
      ]
     },
     "execution_count": 44,
     "metadata": {},
     "output_type": "execute_result"
    }
   ],
   "source": [
    "# O dicionário tem um método chamado items que transforma em tupla os valores que temos ali\n",
    "frutas_diferentonas.items()"
   ]
  },
  {
   "cell_type": "code",
   "execution_count": 45,
   "metadata": {
    "ExecuteTime": {
     "end_time": "2020-08-31T14:34:34.567912Z",
     "start_time": "2020-08-31T14:34:34.563910Z"
    }
   },
   "outputs": [
    {
     "data": {
      "text/plain": [
       "[('Pitaya', 5), ('Atemoia', 10), ('Romã', 15), ('Kiwi Gold', 30)]"
      ]
     },
     "execution_count": 45,
     "metadata": {},
     "output_type": "execute_result"
    }
   ],
   "source": [
    "# Podemos trazer como chave da ordenação o segundo item da tupla\n",
    "sorted(frutas_diferentonas.items(), key=lambda x: x[1])"
   ]
  },
  {
   "cell_type": "markdown",
   "metadata": {},
   "source": [
    "#### Apply with Lambda"
   ]
  },
  {
   "cell_type": "code",
   "execution_count": 46,
   "metadata": {},
   "outputs": [],
   "source": [
    "import pandas as pd"
   ]
  },
  {
   "cell_type": "code",
   "execution_count": 4,
   "metadata": {},
   "outputs": [
    {
     "data": {
      "text/html": [
       "<div>\n",
       "<style scoped>\n",
       "    .dataframe tbody tr th:only-of-type {\n",
       "        vertical-align: middle;\n",
       "    }\n",
       "\n",
       "    .dataframe tbody tr th {\n",
       "        vertical-align: top;\n",
       "    }\n",
       "\n",
       "    .dataframe thead th {\n",
       "        text-align: right;\n",
       "    }\n",
       "</style>\n",
       "<table border=\"1\" class=\"dataframe\">\n",
       "  <thead>\n",
       "    <tr style=\"text-align: right;\">\n",
       "      <th></th>\n",
       "      <th>grade</th>\n",
       "      <th>user_name</th>\n",
       "      <th>text</th>\n",
       "      <th>date</th>\n",
       "    </tr>\n",
       "  </thead>\n",
       "  <tbody>\n",
       "    <tr>\n",
       "      <th>0</th>\n",
       "      <td>4</td>\n",
       "      <td>mds27272</td>\n",
       "      <td>My gf started playing before me. No option to ...</td>\n",
       "      <td>2020-03-20</td>\n",
       "    </tr>\n",
       "    <tr>\n",
       "      <th>1</th>\n",
       "      <td>5</td>\n",
       "      <td>lolo2178</td>\n",
       "      <td>While the game itself is great, really relaxin...</td>\n",
       "      <td>2020-03-20</td>\n",
       "    </tr>\n",
       "    <tr>\n",
       "      <th>2</th>\n",
       "      <td>0</td>\n",
       "      <td>Roachant</td>\n",
       "      <td>My wife and I were looking forward to playing ...</td>\n",
       "      <td>2020-03-20</td>\n",
       "    </tr>\n",
       "    <tr>\n",
       "      <th>3</th>\n",
       "      <td>0</td>\n",
       "      <td>Houndf</td>\n",
       "      <td>We need equal values and opportunities for all...</td>\n",
       "      <td>2020-03-20</td>\n",
       "    </tr>\n",
       "    <tr>\n",
       "      <th>4</th>\n",
       "      <td>0</td>\n",
       "      <td>ProfessorFox</td>\n",
       "      <td>BEWARE!  If you have multiple people in your h...</td>\n",
       "      <td>2020-03-20</td>\n",
       "    </tr>\n",
       "    <tr>\n",
       "      <th>...</th>\n",
       "      <td>...</td>\n",
       "      <td>...</td>\n",
       "      <td>...</td>\n",
       "      <td>...</td>\n",
       "    </tr>\n",
       "    <tr>\n",
       "      <th>2994</th>\n",
       "      <td>1</td>\n",
       "      <td>TakezoShinmen</td>\n",
       "      <td>1 Island for console limitation.I cannot play ...</td>\n",
       "      <td>2020-05-03</td>\n",
       "    </tr>\n",
       "    <tr>\n",
       "      <th>2995</th>\n",
       "      <td>1</td>\n",
       "      <td>Pikey17</td>\n",
       "      <td>Per giocare con figli o fidanzate, mogli o per...</td>\n",
       "      <td>2020-05-03</td>\n",
       "    </tr>\n",
       "    <tr>\n",
       "      <th>2996</th>\n",
       "      <td>0</td>\n",
       "      <td>Lemmeadem</td>\n",
       "      <td>One island per console is a pathetic limitatio...</td>\n",
       "      <td>2020-05-03</td>\n",
       "    </tr>\n",
       "    <tr>\n",
       "      <th>2997</th>\n",
       "      <td>2</td>\n",
       "      <td>TandemTester938</td>\n",
       "      <td>Even though it seems like a great game with ma...</td>\n",
       "      <td>2020-05-03</td>\n",
       "    </tr>\n",
       "    <tr>\n",
       "      <th>2998</th>\n",
       "      <td>4</td>\n",
       "      <td>DwerG</td>\n",
       "      <td>Game is fantastic.Nintendo deciding that you c...</td>\n",
       "      <td>2020-05-03</td>\n",
       "    </tr>\n",
       "  </tbody>\n",
       "</table>\n",
       "<p>2999 rows × 4 columns</p>\n",
       "</div>"
      ],
      "text/plain": [
       "      grade        user_name  \\\n",
       "0         4         mds27272   \n",
       "1         5         lolo2178   \n",
       "2         0         Roachant   \n",
       "3         0           Houndf   \n",
       "4         0     ProfessorFox   \n",
       "...     ...              ...   \n",
       "2994      1    TakezoShinmen   \n",
       "2995      1          Pikey17   \n",
       "2996      0        Lemmeadem   \n",
       "2997      2  TandemTester938   \n",
       "2998      4            DwerG   \n",
       "\n",
       "                                                   text        date  \n",
       "0     My gf started playing before me. No option to ...  2020-03-20  \n",
       "1     While the game itself is great, really relaxin...  2020-03-20  \n",
       "2     My wife and I were looking forward to playing ...  2020-03-20  \n",
       "3     We need equal values and opportunities for all...  2020-03-20  \n",
       "4     BEWARE!  If you have multiple people in your h...  2020-03-20  \n",
       "...                                                 ...         ...  \n",
       "2994  1 Island for console limitation.I cannot play ...  2020-05-03  \n",
       "2995  Per giocare con figli o fidanzate, mogli o per...  2020-05-03  \n",
       "2996  One island per console is a pathetic limitatio...  2020-05-03  \n",
       "2997  Even though it seems like a great game with ma...  2020-05-03  \n",
       "2998  Game is fantastic.Nintendo deciding that you c...  2020-05-03  \n",
       "\n",
       "[2999 rows x 4 columns]"
      ]
     },
     "execution_count": 4,
     "metadata": {},
     "output_type": "execute_result"
    }
   ],
   "source": [
    "df = pd.read_csv('https://raw.githubusercontent.com/rfordatascience/tidytuesday/62f97ae1f8896b6b8e4bb08dcf65a07e0502aa8a/data/2020/2020-05-05/user_reviews.tsv', sep='\\t')\n",
    "df"
   ]
  },
  {
   "cell_type": "code",
   "execution_count": 2,
   "metadata": {},
   "outputs": [],
   "source": [
    "import re\n",
    "#how can i find the warning?"
   ]
  },
  {
   "cell_type": "code",
   "execution_count": 52,
   "metadata": {},
   "outputs": [
    {
     "data": {
      "text/plain": [
       "['BEWARE!']"
      ]
     },
     "execution_count": 52,
     "metadata": {},
     "output_type": "execute_result"
    }
   ],
   "source": [
    "text = 'BEWARE! If you have multiple people in your h'\n",
    "re.findall('[A-Z]+!', text )"
   ]
  },
  {
   "cell_type": "code",
   "execution_count": 5,
   "metadata": {},
   "outputs": [
    {
     "data": {
      "text/plain": [
       "0       oiMy gf started playing before me. No option t...\n",
       "1       oiWhile the game itself is great, really relax...\n",
       "2       oiMy wife and I were looking forward to playin...\n",
       "3       oiWe need equal values and opportunities for a...\n",
       "4       oiBEWARE!  If you have multiple people in your...\n",
       "                              ...                        \n",
       "2994    oi1 Island for console limitation.I cannot pla...\n",
       "2995    oiPer giocare con figli o fidanzate, mogli o p...\n",
       "2996    oiOne island per console is a pathetic limitat...\n",
       "2997    oiEven though it seems like a great game with ...\n",
       "2998    oiGame is fantastic.Nintendo deciding that you...\n",
       "Name: text, Length: 2999, dtype: object"
      ]
     },
     "execution_count": 5,
     "metadata": {},
     "output_type": "execute_result"
    }
   ],
   "source": [
    "df.text.apply(lambda x: 'oi'+x)"
   ]
  },
  {
   "cell_type": "code",
   "execution_count": 54,
   "metadata": {},
   "outputs": [
    {
     "data": {
      "text/plain": [
       "0                               [SUCKS!]\n",
       "1                                     []\n",
       "2                                     []\n",
       "3                                     []\n",
       "4       [BEWARE!, CANT!, BEWARE!, CANT!]\n",
       "                      ...               \n",
       "2994                                  []\n",
       "2995                                  []\n",
       "2996                                  []\n",
       "2997                                  []\n",
       "2998                                  []\n",
       "Name: text, Length: 2999, dtype: object"
      ]
     },
     "execution_count": 54,
     "metadata": {},
     "output_type": "execute_result"
    }
   ],
   "source": [
    "df.text.apply(lambda x: re.findall('[A-Z]+!', x))"
   ]
  },
  {
   "cell_type": "markdown",
   "metadata": {},
   "source": [
    "#### Transform with Lambda"
   ]
  },
  {
   "cell_type": "code",
   "execution_count": 55,
   "metadata": {},
   "outputs": [],
   "source": [
    "# Ler csv disponibilizado no artigo http://www.statsci.org/data/general/sleep.txt\n",
    "# Atribuir à df\n",
    "file_address = 'http://www.statsci.org/data/general/sleep.txt'\n",
    "df = pd.read_csv(file_address, sep='\\t')"
   ]
  },
  {
   "cell_type": "code",
   "execution_count": 56,
   "metadata": {},
   "outputs": [
    {
     "data": {
      "text/plain": [
       "Exposure\n",
       "1    12.946154\n",
       "2    11.115385\n",
       "3     8.575000\n",
       "4    10.720000\n",
       "5     4.190000\n",
       "Name: TotalSleep, dtype: float64"
      ]
     },
     "execution_count": 56,
     "metadata": {},
     "output_type": "execute_result"
    }
   ],
   "source": [
    "# Aplicar a média utilizando transform para o grupo TotalSleep\n",
    "df.groupby('Exposure').TotalSleep.mean()"
   ]
  },
  {
   "cell_type": "code",
   "execution_count": 58,
   "metadata": {},
   "outputs": [
    {
     "data": {
      "text/html": [
       "<div>\n",
       "<style scoped>\n",
       "    .dataframe tbody tr th:only-of-type {\n",
       "        vertical-align: middle;\n",
       "    }\n",
       "\n",
       "    .dataframe tbody tr th {\n",
       "        vertical-align: top;\n",
       "    }\n",
       "\n",
       "    .dataframe thead th {\n",
       "        text-align: right;\n",
       "    }\n",
       "</style>\n",
       "<table border=\"1\" class=\"dataframe\">\n",
       "  <thead>\n",
       "    <tr style=\"text-align: right;\">\n",
       "      <th></th>\n",
       "      <th>Species</th>\n",
       "      <th>BodyWt</th>\n",
       "      <th>BrainWt</th>\n",
       "      <th>NonDreaming</th>\n",
       "      <th>Dreaming</th>\n",
       "      <th>TotalSleep</th>\n",
       "      <th>LifeSpan</th>\n",
       "      <th>Gestation</th>\n",
       "      <th>Predation</th>\n",
       "      <th>Exposure</th>\n",
       "      <th>Danger</th>\n",
       "    </tr>\n",
       "  </thead>\n",
       "  <tbody>\n",
       "    <tr>\n",
       "      <th>0</th>\n",
       "      <td>Africanelephant</td>\n",
       "      <td>6654.000</td>\n",
       "      <td>5712.0</td>\n",
       "      <td>NaN</td>\n",
       "      <td>NaN</td>\n",
       "      <td>3.3</td>\n",
       "      <td>38.6</td>\n",
       "      <td>645.0</td>\n",
       "      <td>3</td>\n",
       "      <td>5</td>\n",
       "      <td>3</td>\n",
       "    </tr>\n",
       "    <tr>\n",
       "      <th>1</th>\n",
       "      <td>Africangiantpouchedrat</td>\n",
       "      <td>1.000</td>\n",
       "      <td>6.6</td>\n",
       "      <td>6.3</td>\n",
       "      <td>2.0</td>\n",
       "      <td>8.3</td>\n",
       "      <td>4.5</td>\n",
       "      <td>42.0</td>\n",
       "      <td>3</td>\n",
       "      <td>1</td>\n",
       "      <td>3</td>\n",
       "    </tr>\n",
       "    <tr>\n",
       "      <th>2</th>\n",
       "      <td>ArcticFox</td>\n",
       "      <td>3.385</td>\n",
       "      <td>44.5</td>\n",
       "      <td>NaN</td>\n",
       "      <td>NaN</td>\n",
       "      <td>12.5</td>\n",
       "      <td>14.0</td>\n",
       "      <td>60.0</td>\n",
       "      <td>1</td>\n",
       "      <td>1</td>\n",
       "      <td>1</td>\n",
       "    </tr>\n",
       "    <tr>\n",
       "      <th>3</th>\n",
       "      <td>Arcticgroundsquirrel</td>\n",
       "      <td>0.920</td>\n",
       "      <td>5.7</td>\n",
       "      <td>NaN</td>\n",
       "      <td>NaN</td>\n",
       "      <td>16.5</td>\n",
       "      <td>NaN</td>\n",
       "      <td>25.0</td>\n",
       "      <td>5</td>\n",
       "      <td>2</td>\n",
       "      <td>3</td>\n",
       "    </tr>\n",
       "    <tr>\n",
       "      <th>4</th>\n",
       "      <td>Asianelephant</td>\n",
       "      <td>2547.000</td>\n",
       "      <td>4603.0</td>\n",
       "      <td>2.1</td>\n",
       "      <td>1.8</td>\n",
       "      <td>3.9</td>\n",
       "      <td>69.0</td>\n",
       "      <td>624.0</td>\n",
       "      <td>3</td>\n",
       "      <td>5</td>\n",
       "      <td>4</td>\n",
       "    </tr>\n",
       "  </tbody>\n",
       "</table>\n",
       "</div>"
      ],
      "text/plain": [
       "                  Species    BodyWt  BrainWt  NonDreaming  Dreaming  \\\n",
       "0         Africanelephant  6654.000   5712.0          NaN       NaN   \n",
       "1  Africangiantpouchedrat     1.000      6.6          6.3       2.0   \n",
       "2               ArcticFox     3.385     44.5          NaN       NaN   \n",
       "3    Arcticgroundsquirrel     0.920      5.7          NaN       NaN   \n",
       "4           Asianelephant  2547.000   4603.0          2.1       1.8   \n",
       "\n",
       "   TotalSleep  LifeSpan  Gestation  Predation  Exposure  Danger  \n",
       "0         3.3      38.6      645.0          3         5       3  \n",
       "1         8.3       4.5       42.0          3         1       3  \n",
       "2        12.5      14.0       60.0          1         1       1  \n",
       "3        16.5       NaN       25.0          5         2       3  \n",
       "4         3.9      69.0      624.0          3         5       4  "
      ]
     },
     "execution_count": 58,
     "metadata": {},
     "output_type": "execute_result"
    }
   ],
   "source": [
    "df.head()"
   ]
  },
  {
   "cell_type": "code",
   "execution_count": 57,
   "metadata": {},
   "outputs": [
    {
     "data": {
      "text/plain": [
       "0      4.190000\n",
       "1     12.946154\n",
       "2     12.946154\n",
       "3     11.115385\n",
       "4      4.190000\n",
       "        ...    \n",
       "57    12.946154\n",
       "58    11.115385\n",
       "59     8.575000\n",
       "60    12.946154\n",
       "61    12.946154\n",
       "Name: TotalSleep, Length: 62, dtype: float64"
      ]
     },
     "execution_count": 57,
     "metadata": {},
     "output_type": "execute_result"
    }
   ],
   "source": [
    "df.groupby('Exposure').TotalSleep.transform('mean') #atribui à linha qual o valor médio do grupo ao qual pertence"
   ]
  },
  {
   "cell_type": "code",
   "execution_count": 59,
   "metadata": {},
   "outputs": [
    {
     "data": {
      "text/plain": [
       "0    -0.500937\n",
       "1    -1.163249\n",
       "2    -0.111703\n",
       "3     1.360772\n",
       "4    -0.163227\n",
       "        ...   \n",
       "57   -1.889316\n",
       "58    1.183872\n",
       "59    0.954049\n",
       "60    1.615837\n",
       "61         NaN\n",
       "Name: TotalSleep, Length: 62, dtype: float64"
      ]
     },
     "execution_count": 59,
     "metadata": {},
     "output_type": "execute_result"
    }
   ],
   "source": [
    "df.groupby('Exposure').TotalSleep.transform(lambda x: (x-x.mean())/x.std())"
   ]
  },
  {
   "cell_type": "code",
   "execution_count": null,
   "metadata": {},
   "outputs": [],
   "source": [
    "# Mostrar valor da coluna utilizando transform\n"
   ]
  },
  {
   "cell_type": "code",
   "execution_count": null,
   "metadata": {},
   "outputs": [],
   "source": [
    "# Calcular z-score"
   ]
  }
 ],
 "metadata": {
  "kernelspec": {
   "display_name": "Python 3",
   "language": "python",
   "name": "python3"
  },
  "language_info": {
   "codemirror_mode": {
    "name": "ipython",
    "version": 3
   },
   "file_extension": ".py",
   "mimetype": "text/x-python",
   "name": "python",
   "nbconvert_exporter": "python",
   "pygments_lexer": "ipython3",
   "version": "3.9.4"
  },
  "toc": {
   "base_numbering": 1,
   "nav_menu": {},
   "number_sections": true,
   "sideBar": true,
   "skip_h1_title": false,
   "title_cell": "Table of Contents",
   "title_sidebar": "Contents",
   "toc_cell": false,
   "toc_position": {},
   "toc_section_display": true,
   "toc_window_display": false
  },
  "varInspector": {
   "cols": {
    "lenName": 16,
    "lenType": 16,
    "lenVar": 40
   },
   "kernels_config": {
    "python": {
     "delete_cmd_postfix": "",
     "delete_cmd_prefix": "del ",
     "library": "var_list.py",
     "varRefreshCmd": "print(var_dic_list())"
    },
    "r": {
     "delete_cmd_postfix": ") ",
     "delete_cmd_prefix": "rm(",
     "library": "var_list.r",
     "varRefreshCmd": "cat(var_dic_list()) "
    }
   },
   "types_to_exclude": [
    "module",
    "function",
    "builtin_function_or_method",
    "instance",
    "_Feature"
   ],
   "window_display": false
  }
 },
 "nbformat": 4,
 "nbformat_minor": 4
}
