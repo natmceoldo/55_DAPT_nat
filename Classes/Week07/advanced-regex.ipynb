{
 "cells": [
  {
   "cell_type": "markdown",
   "metadata": {},
   "source": [
    "# Advanced Regex"
   ]
  },
  {
   "cell_type": "markdown",
   "metadata": {},
   "source": [
    "## Regular Expression review\n",
    "\n",
    "- A powerful way to match text"
   ]
  },
  {
   "cell_type": "code",
   "execution_count": 1,
   "metadata": {
    "ExecuteTime": {
     "end_time": "2020-11-02T01:42:40.051726Z",
     "start_time": "2020-11-02T01:42:39.522030Z"
    }
   },
   "outputs": [],
   "source": [
    "import pandas as pd\n",
    "import numpy as np\n",
    "import re"
   ]
  },
  {
   "cell_type": "markdown",
   "metadata": {},
   "source": [
    "https://regexr.com/"
   ]
  },
  {
   "cell_type": "code",
   "execution_count": 2,
   "metadata": {},
   "outputs": [],
   "source": [
    "# Atribuir à variável text a frase: \"That person wears marvelous trousers.\"\n",
    "text = \"That person wears marvelous trousers.\""
   ]
  },
  {
   "cell_type": "markdown",
   "metadata": {},
   "source": [
    "### Literal Strings vs Sets"
   ]
  },
  {
   "cell_type": "markdown",
   "metadata": {},
   "source": [
    "#### literal strings: find the pattern 'person'"
   ]
  },
  {
   "cell_type": "code",
   "execution_count": 3,
   "metadata": {},
   "outputs": [
    {
     "data": {
      "text/plain": [
       "['person']"
      ]
     },
     "execution_count": 3,
     "metadata": {},
     "output_type": "execute_result"
    }
   ],
   "source": [
    "# Utilizando o método `findall` da lib de regex, \n",
    "# buscar padrão \"person\" na variável `text`\n",
    "re.findall('person', text)"
   ]
  },
  {
   "cell_type": "code",
   "execution_count": 4,
   "metadata": {},
   "outputs": [
    {
     "data": {
      "text/plain": [
       "['rs', 'rs', 'rs']"
      ]
     },
     "execution_count": 4,
     "metadata": {},
     "output_type": "execute_result"
    }
   ],
   "source": [
    "# Utilizando o método `findall` da lib regex, \n",
    "# buscar padrão \"rs\" na variável `text`\n",
    "re.findall('rs', text)"
   ]
  },
  {
   "cell_type": "code",
   "execution_count": null,
   "metadata": {},
   "outputs": [],
   "source": [
    "# Utilizando o método `findall` da lib regex, \n",
    "# buscar padrão \"rs\" na variável `text`"
   ]
  },
  {
   "cell_type": "markdown",
   "metadata": {},
   "source": [
    "#### sets: Finding the pattern `p` or `e` or `r` or ..."
   ]
  },
  {
   "cell_type": "markdown",
   "metadata": {},
   "source": [
    "##### Exemplo 1: p | e | r | s | o | n"
   ]
  },
  {
   "cell_type": "code",
   "execution_count": 6,
   "metadata": {},
   "outputs": [
    {
     "data": {
      "text/plain": [
       "['p',\n",
       " 'e',\n",
       " 'r',\n",
       " 's',\n",
       " 'o',\n",
       " 'n',\n",
       " 'e',\n",
       " 'r',\n",
       " 's',\n",
       " 'r',\n",
       " 'e',\n",
       " 'o',\n",
       " 's',\n",
       " 'r',\n",
       " 'o',\n",
       " 's',\n",
       " 'e',\n",
       " 'r',\n",
       " 's']"
      ]
     },
     "execution_count": 6,
     "metadata": {},
     "output_type": "execute_result"
    }
   ],
   "source": [
    "# Utilizando o método `findall` da lib regex, \n",
    "# buscar as letras p ou e ou r ou s ou o ou n na variável `text`\n",
    "re.findall('[person]', text)"
   ]
  },
  {
   "cell_type": "markdown",
   "metadata": {},
   "source": [
    "##### Exemplo 2: Cidade de São Paulo"
   ]
  },
  {
   "cell_type": "code",
   "execution_count": 7,
   "metadata": {},
   "outputs": [
    {
     "data": {
      "text/plain": [
       "['São Paulo',\n",
       " 'Sao Paulo',\n",
       " 'Sáo Paulo',\n",
       " 'Sun Paulo',\n",
       " 'seu paulo',\n",
       " 'san paolo',\n",
       " 'sao paulo',\n",
       " 'são paolo',\n",
       " 'sAo Paolo',\n",
       " 'sao_paulo']"
      ]
     },
     "execution_count": 7,
     "metadata": {},
     "output_type": "execute_result"
    }
   ],
   "source": [
    "# Utilizando o método `findall` da lib regex, \n",
    "# buscar os termos que contém a expressão que \n",
    "# simbolizam a cidade de São Paulo\n",
    "text = 'São Paulo Sao Paulo Sáo Paulo Sun Paulo seu paulo san paolo sao paulo são paolo sAo Paolo sao_paulo'\n",
    "\n",
    "pattern = '[Ss][ãaáàâAÃÁÀâeu][oun][ _][Pp]a[uo]lo'\n",
    "re.findall(pattern, text)"
   ]
  },
  {
   "cell_type": "code",
   "execution_count": 9,
   "metadata": {},
   "outputs": [
    {
     "name": "stdout",
     "output_type": "stream",
     "text": [
      "São Paulo\n",
      " São Paulo\n",
      " São Paulo\n",
      " São Paulo\n",
      " São Paulo\n",
      " São Paulo\n",
      " São Paulo\n",
      " São Paulo\n",
      " São Paulo\n",
      " São Paulo\n",
      "\n"
     ]
    }
   ],
   "source": [
    "# Utilizando o método `sub` da lib regex, \n",
    "# buscar os termos que contém a expressão que \n",
    "# simbolizam a cidade de São Paulo e substitua por São Paulo\n",
    "text = 'São Paulo Sao Paulo Sáo Paulo Sun Paulo seu paulo san paolo sao paulo são paolo sAo Paolo sao_paulo'\n",
    "\n",
    "pattern = '[Ss][ãaáàâAÃÁÀâeu][oun][ _˘¿][Pp]a[uo]lo'\n",
    "print(re.sub(pattern,  'São Paulo\\n', text))"
   ]
  },
  {
   "cell_type": "code",
   "execution_count": 10,
   "metadata": {},
   "outputs": [],
   "source": [
    "# Utilizando o método `sub` da lib regex, \n",
    "# buscar os termos que contém a expressão que \n",
    "# simbolizam a cidade de São Paulo dentro de uma Series\n",
    "# em Pandas e substitua por São Paulo\n",
    "\n",
    "series_sp = pd.Series(['São Paulo',\n",
    "'Sao Paulo',\n",
    "'Sáo Paulo',\n",
    "'Sun Paulo',\n",
    "'seu paulo',\n",
    "'san paolo',\n",
    "'sao paulo',\n",
    "'são paolo',\n",
    "'sAo Paolo',\n",
    "'sao_paulo',])"
   ]
  },
  {
   "cell_type": "code",
   "execution_count": 14,
   "metadata": {},
   "outputs": [
    {
     "data": {
      "text/plain": [
       "0    São Paulo\n",
       "1    São Paulo\n",
       "2    São Paulo\n",
       "3    São Paulo\n",
       "4    São Paulo\n",
       "5    São Paulo\n",
       "6    São Paulo\n",
       "7    São Paulo\n",
       "8    São Paulo\n",
       "9    São Paulo\n",
       "dtype: object"
      ]
     },
     "execution_count": 14,
     "metadata": {},
     "output_type": "execute_result"
    }
   ],
   "source": [
    "pattern = '[Ss][ãaáàâAÃÁÀâeu][oun][ _˘¿][Pp]a[uo]lo'\n",
    "series_sp.map(lambda x: re.sub(pattern,  'São Paulo', x))"
   ]
  },
  {
   "cell_type": "markdown",
   "metadata": {},
   "source": [
    "So anything within brackets `[ ]` are considered `sets` in RegEx. A set of patterns you want to find. "
   ]
  },
  {
   "cell_type": "markdown",
   "metadata": {},
   "source": [
    "## Since it is a set, you can look for complete sets"
   ]
  },
  {
   "cell_type": "code",
   "execution_count": 15,
   "metadata": {},
   "outputs": [],
   "source": [
    "text = '''\n",
    "This is an A and B conversation, \n",
    "so C your way out of it, or Even F.\n",
    "'''"
   ]
  },
  {
   "cell_type": "markdown",
   "metadata": {},
   "source": [
    "For example: The set of upper-case letters from A to C."
   ]
  },
  {
   "cell_type": "code",
   "execution_count": 16,
   "metadata": {},
   "outputs": [
    {
     "data": {
      "text/plain": [
       "['A', 'B', 'C']"
      ]
     },
     "execution_count": 16,
     "metadata": {},
     "output_type": "execute_result"
    }
   ],
   "source": [
    "# Utilizando o método `findall` da lib regex, \n",
    "# buscar os caracteres de A | B | C\n",
    "pattern = '[ABC]'\n",
    "re.findall(pattern, text)"
   ]
  },
  {
   "cell_type": "code",
   "execution_count": 17,
   "metadata": {},
   "outputs": [
    {
     "data": {
      "text/plain": [
       "['T', 'A', 'B', 'C', 'E', 'F']"
      ]
     },
     "execution_count": 17,
     "metadata": {},
     "output_type": "execute_result"
    }
   ],
   "source": [
    "# Utilizando o método `findall` da lib regex, \n",
    "# buscar os caracteres de A a Z\n",
    "re.findall('[A-Z]', text)"
   ]
  },
  {
   "cell_type": "code",
   "execution_count": 20,
   "metadata": {},
   "outputs": [
    {
     "data": {
      "text/plain": [
       "['1', '2', '3', '3']"
      ]
     },
     "execution_count": 20,
     "metadata": {},
     "output_type": "execute_result"
    }
   ],
   "source": [
    "# Utilizando o método `findall` da lib regex, \n",
    "# buscar os caracteres de 1-3\n",
    "\n",
    "text = '''I\\'m not going to 0A the party because \n",
    "1) Karen is going, 2) I don't like her, and \n",
    "3) 3B I already have a headache.'''\n",
    "re.findall('[1-3]', text)"
   ]
  },
  {
   "cell_type": "code",
   "execution_count": 21,
   "metadata": {},
   "outputs": [
    {
     "data": {
      "text/plain": [
       "['0', '1', '2', '3', '3']"
      ]
     },
     "execution_count": 21,
     "metadata": {},
     "output_type": "execute_result"
    }
   ],
   "source": [
    "# Utilizando o método `findall` da lib regex, \n",
    "# buscar os caracteres de 0-9\n",
    "re.findall('[0-9]', text)"
   ]
  },
  {
   "cell_type": "code",
   "execution_count": 23,
   "metadata": {},
   "outputs": [
    {
     "data": {
      "text/plain": [
       "['I', '0', 'A', '1', 'K', '2', 'I', '3', '3', 'B', 'I']"
      ]
     },
     "execution_count": 23,
     "metadata": {},
     "output_type": "execute_result"
    }
   ],
   "source": [
    "# Utilizando o método `findall` da lib regex, \n",
    "# buscar os números de 0 a 9 e as letras de A a Z\n",
    "re.findall('[0-9A-Z]', text)"
   ]
  },
  {
   "cell_type": "code",
   "execution_count": 24,
   "metadata": {},
   "outputs": [
    {
     "data": {
      "text/plain": [
       "['0A', '3B']"
      ]
     },
     "execution_count": 24,
     "metadata": {},
     "output_type": "execute_result"
    }
   ],
   "source": [
    "# Utilizando o método `findall` da lib regex, \n",
    "# buscar termos de dois caracteres, onde o primeiro \n",
    "# é um número de 0-9 e o segundo são letras de A-Z\n",
    "re.findall('[0-9][A-Z]', text)"
   ]
  },
  {
   "cell_type": "markdown",
   "metadata": {},
   "source": [
    "Some useful sets: \n",
    "\n",
    "* [a-z]: Any lowercase letter between a and z.\n",
    "* [A-Z]: Any uppercase letter between A and Z.\n",
    "* [0-9]: Any numeric character between 0 and 9."
   ]
  },
  {
   "cell_type": "markdown",
   "metadata": {},
   "source": [
    "# Meta characters - They means something different than the character they represent."
   ]
  },
  {
   "cell_type": "markdown",
   "metadata": {},
   "source": [
    "* `.` : Match **any character** except newline (`\\n`)\n",
    "* `^` : If used within a `set`, negates the condition\n",
    "> Careful, this pattern also represents another thing: If used <u>outside a set</u>, it represents `match if at the beginning of the line`\n",
    "* `$` : Match if at end of the line\n",
    "* `|` : \"OR\" operator"
   ]
  },
  {
   "cell_type": "markdown",
   "metadata": {},
   "source": [
    "## OR"
   ]
  },
  {
   "cell_type": "code",
   "execution_count": 25,
   "metadata": {},
   "outputs": [],
   "source": [
    "# Atribuir a variável text seu nome escrito com letra maiúscula e mínuscula\n",
    "text = 'madu MADU'"
   ]
  },
  {
   "cell_type": "code",
   "execution_count": 28,
   "metadata": {},
   "outputs": [
    {
     "data": {
      "text/plain": [
       "['m', 'M']"
      ]
     },
     "execution_count": 28,
     "metadata": {},
     "output_type": "execute_result"
    }
   ],
   "source": [
    "# Utilizando um set, crie um pattern que dê match com a primeira letra do seu nome\n",
    "pattern = '[Mm]'\n",
    "re.findall(pattern, text)"
   ]
  },
  {
   "cell_type": "code",
   "execution_count": 29,
   "metadata": {},
   "outputs": [
    {
     "data": {
      "text/plain": [
       "['m', 'M']"
      ]
     },
     "execution_count": 29,
     "metadata": {},
     "output_type": "execute_result"
    }
   ],
   "source": [
    "# Utilizando o símbolo do ou, crie um pattern que dê match com a primeira letra do seu nome\n",
    "pattern = 'M|m'\n",
    "re.findall(pattern, text)"
   ]
  },
  {
   "cell_type": "code",
   "execution_count": 30,
   "metadata": {},
   "outputs": [
    {
     "data": {
      "text/plain": [
       "['penguins', 'lions', 'penguins', 'lions']"
      ]
     },
     "execution_count": 30,
     "metadata": {},
     "output_type": "execute_result"
    }
   ],
   "source": [
    "# Utilizando o símbolo do ou, crie um pattern \n",
    "# que dê match com `penguins` ou `lions`\n",
    "\n",
    "text = '''\n",
    "I like penguins\n",
    "I like lions\n",
    "I like penguins and lions\n",
    "'''\n",
    "pattern = 'penguins|lions'\n",
    "re.findall(pattern, text)"
   ]
  },
  {
   "cell_type": "markdown",
   "metadata": {},
   "source": [
    "## Match any character"
   ]
  },
  {
   "cell_type": "code",
   "execution_count": 33,
   "metadata": {},
   "outputs": [
    {
     "name": "stdout",
     "output_type": "stream",
     "text": [
      "['M', 'y', ' ', 'b', 'o', 's', 's', ' ', 'a', 's', 'k', 'e', 'd', ' ', 'm', 'e', ' ', 't', 'o', ' ', 't', 'u', 'r', 'n', ' ', 'i', 'n', ' ', 'm', 'y', ' ', 'T', 'P', 'S', ' ', 'r', 'e', 'p', 'o', 'r', 't', 's', '.', ' ', 'I', ' ', 't', 'o', 'l', 'd', ' ', 'h', 'i', 'm', ' ', 't', 'h', 'e', 'y', ' ', 'w', 'e', 'r', 'e', ' ', 'd', 'o', 'n', 'e', ',', ' ', 'b', 'u', 't', ' ', 't', 'h', 'e', 'y', ' ', 'a', 'r', 'e', ' ', 'n', 'o', 't', '.']\n"
     ]
    }
   ],
   "source": [
    "# Crie um pattern que dê match com qualquer caracter\n",
    "\n",
    "text = '''My boss asked me to turn in my TPS reports. \n",
    "I told him they were done, but they are not.'''\n",
    "pattern = '.'\n",
    "print(re.findall(pattern, text))"
   ]
  },
  {
   "cell_type": "markdown",
   "metadata": {},
   "source": [
    "## Match everything not in specific set"
   ]
  },
  {
   "cell_type": "code",
   "execution_count": 34,
   "metadata": {},
   "outputs": [
    {
     "name": "stdout",
     "output_type": "stream",
     "text": [
      "['M', ' ', ' ', ' ', ' ', ' ', ' ', ' ', ' ', 'T', 'P', 'S', ' ', '.', ' ', '\\n', 'I', ' ', ' ', ' ', ' ', ' ', ',', ' ', ' ', ' ', ' ', '.']\n"
     ]
    }
   ],
   "source": [
    "# Crie um pattern que dê match com itens complementares\n",
    "# à valores de a à m\n",
    "\n",
    "text = \"\"\"My boss asked me to turn in my TPS reports. \n",
    "I told him they were done, but they are not.\"\"\"\n",
    "pattern = '[^a-z]'\n",
    "print(re.findall(pattern, text))"
   ]
  },
  {
   "cell_type": "markdown",
   "metadata": {},
   "source": [
    "## Match sentences `beginning with pattern`"
   ]
  },
  {
   "cell_type": "code",
   "execution_count": 35,
   "metadata": {
    "ExecuteTime": {
     "end_time": "2020-11-02T15:30:57.440610Z",
     "start_time": "2020-11-02T15:30:57.423623Z"
    }
   },
   "outputs": [],
   "source": [
    "text = '''My boss asked me to turn in my TPS reports. \n",
    "The boss told him they were done, but they are not.'''"
   ]
  },
  {
   "cell_type": "code",
   "execution_count": 36,
   "metadata": {
    "ExecuteTime": {
     "end_time": "2020-11-02T15:30:57.722176Z",
     "start_time": "2020-11-02T15:30:57.714186Z"
    }
   },
   "outputs": [
    {
     "name": "stdout",
     "output_type": "stream",
     "text": [
      "['My boss']\n"
     ]
    }
   ],
   "source": [
    "# Crie um pattern que retorne caso o texto comece com \"My boss\"\n",
    "pattern = '^My boss'\n",
    "print(re.findall(pattern, text))"
   ]
  },
  {
   "cell_type": "code",
   "execution_count": 37,
   "metadata": {
    "ExecuteTime": {
     "end_time": "2020-11-02T15:30:57.971923Z",
     "start_time": "2020-11-02T15:30:57.964910Z"
    }
   },
   "outputs": [
    {
     "name": "stdout",
     "output_type": "stream",
     "text": [
      "[]\n"
     ]
    }
   ],
   "source": [
    "# Crie um pattern que retorne caso o texto comece com \"The boss\"\n",
    "pattern = '^The boss'\n",
    "print(re.findall(pattern, text))"
   ]
  },
  {
   "cell_type": "code",
   "execution_count": 40,
   "metadata": {
    "ExecuteTime": {
     "end_time": "2020-11-02T15:31:03.846839Z",
     "start_time": "2020-11-02T15:31:03.831866Z"
    }
   },
   "outputs": [
    {
     "name": "stdout",
     "output_type": "stream",
     "text": [
      "['are not.']\n"
     ]
    }
   ],
   "source": [
    "# Crie um pattern que retorne caso o texto finalize com \"are not.\"\n",
    "pattern = 'are not.$'\n",
    "print(re.findall(pattern, text))"
   ]
  },
  {
   "cell_type": "code",
   "execution_count": 42,
   "metadata": {
    "ExecuteTime": {
     "end_time": "2020-11-02T15:31:01.908172Z",
     "start_time": "2020-11-02T15:31:01.903175Z"
    }
   },
   "outputs": [
    {
     "name": "stdout",
     "output_type": "stream",
     "text": [
      "[]\n"
     ]
    }
   ],
   "source": [
    "# Crie um pattern que retorne caso o texto finalize com \"are not.\"\n",
    "pattern = 'reports.$'\n",
    "print(re.findall(pattern, text))"
   ]
  },
  {
   "cell_type": "markdown",
   "metadata": {},
   "source": [
    "## Characters classes\n",
    "\n",
    "* `\\d`: numeric characters\n",
    "* `\\w`: alphanumeric characters \n",
    "* `\\s`: spaces\n",
    "* `\\D`: not numeric characters"
   ]
  },
  {
   "cell_type": "code",
   "execution_count": 43,
   "metadata": {},
   "outputs": [
    {
     "data": {
      "text/plain": [
       "['3', '2', '3', '2', '1', '3', '3', '1']"
      ]
     },
     "execution_count": 43,
     "metadata": {},
     "output_type": "execute_result"
    }
   ],
   "source": [
    "# Crie um pattern que retorne apenas os números\n",
    "text = 'aoijo (  $ p io x -o = 3232 13 ™¡¡™£¡Ωå 3.1 áéóãà'\n",
    "\n",
    "pattern = '\\d'\n",
    "re.findall(pattern, text)"
   ]
  },
  {
   "cell_type": "code",
   "execution_count": 47,
   "metadata": {},
   "outputs": [
    {
     "name": "stdout",
     "output_type": "stream",
     "text": [
      "['a', 'o', 'i', 'j', 'o', ' ', '(', ' ', ' ', '$', ' ', 'p', ' ', 'i', 'o', ' ', 'x', ' ', '-', 'o', ' ', '=', ' ', ' ', ' ', '™', '¡', '¡', '™', '£', '¡', 'Ω', 'å', ' ', '.', ' ', 'á', 'é', 'ó', 'ã', 'à']\n"
     ]
    }
   ],
   "source": [
    "# Crie um pattern que retorne TUDO menos os números\n",
    "pattern = '\\D'\n",
    "print(re.findall(pattern, text))"
   ]
  },
  {
   "cell_type": "markdown",
   "metadata": {},
   "source": [
    "# Quantifiers "
   ]
  },
  {
   "cell_type": "markdown",
   "metadata": {},
   "source": [
    "* *: Matches previous character 0 or more times\n",
    "* +: Matches previous character 1 or more times\n",
    "* ?: Matches previous character 0 or 1 times (optional)\n",
    "* {}: Matches previous characters however many times specified within:\n",
    "* {n} : Exactly n times\n",
    "* {n,} : At least n times\n",
    "* {n,m} : Between n and m times"
   ]
  },
  {
   "cell_type": "markdown",
   "metadata": {},
   "source": [
    "## \\d* --> Matches any numeric character that appears 0 or more times."
   ]
  },
  {
   "cell_type": "code",
   "execution_count": null,
   "metadata": {},
   "outputs": [],
   "source": [
    "\n",
    "text = 'aoijo (  $ p io x -o = 3232 13 ™¡¡™£¡Ωå 3.1 áéóãà'"
   ]
  },
  {
   "cell_type": "code",
   "execution_count": 48,
   "metadata": {},
   "outputs": [
    {
     "name": "stdout",
     "output_type": "stream",
     "text": [
      "['3232', '13', '3', '1']\n"
     ]
    }
   ],
   "source": [
    "\n",
    "text = 'aoijo (  $ p io x -o = 3232 13 ™¡¡™£¡Ωå 3.1 áéóãà'\n",
    "pattern = '\\d+'\n",
    "print(re.findall(pattern, text))"
   ]
  },
  {
   "cell_type": "code",
   "execution_count": 51,
   "metadata": {},
   "outputs": [
    {
     "name": "stdout",
     "output_type": "stream",
     "text": [
      "['3232', '13', '3.1']\n"
     ]
    }
   ],
   "source": [
    "text = 'aoijo (  $ p io x -o = 3232 13 ™¡¡™£¡Ωå 3.1 áéóãà'\n",
    "pattern = '\\d+\\.?\\d+'\n",
    "print(re.findall(pattern, text))"
   ]
  },
  {
   "cell_type": "code",
   "execution_count": 63,
   "metadata": {
    "ExecuteTime": {
     "end_time": "2020-11-02T02:00:54.253084Z",
     "start_time": "2020-11-02T02:00:54.235093Z"
    }
   },
   "outputs": [
    {
     "name": "stdout",
     "output_type": "stream",
     "text": [
      "['32', '32', '13', '3', '1']\n"
     ]
    }
   ],
   "source": [
    "text = 'aoijo (  $ p io x -o = 3232 13 ™¡¡™£¡Ωå 3.1 áéóãà'\n",
    "pattern = '\\d{1,2}'\n",
    "print(re.findall(pattern, text))"
   ]
  },
  {
   "cell_type": "markdown",
   "metadata": {},
   "source": [
    "## Application of previous example of `$` using one of the most useful quantifiers `*`"
   ]
  },
  {
   "cell_type": "code",
   "execution_count": 64,
   "metadata": {},
   "outputs": [],
   "source": [
    "import re"
   ]
  },
  {
   "cell_type": "code",
   "execution_count": 65,
   "metadata": {},
   "outputs": [],
   "source": [
    "text = '''My boss asked me to turn in my TPS reports. \n",
    "My boss told him they were done, but they are not.'''"
   ]
  },
  {
   "cell_type": "code",
   "execution_count": 66,
   "metadata": {},
   "outputs": [
    {
     "data": {
      "text/plain": [
       "['are not.']"
      ]
     },
     "execution_count": 66,
     "metadata": {},
     "output_type": "execute_result"
    }
   ],
   "source": [
    "# Criar padrão que verifica se a frase termina com \"are not.\"\n",
    "re.findall('are not.$', text)"
   ]
  },
  {
   "cell_type": "code",
   "execution_count": 67,
   "metadata": {},
   "outputs": [
    {
     "data": {
      "text/plain": [
       "[' are not.']"
      ]
     },
     "execution_count": 67,
     "metadata": {},
     "output_type": "execute_result"
    }
   ],
   "source": [
    "# Criar padrão que verifica se a frase termina com \"are not\"\n",
    "# e mais algum caracter que não sabemos qual.\n",
    "re.findall('.are not.$', text)"
   ]
  },
  {
   "cell_type": "code",
   "execution_count": 68,
   "metadata": {},
   "outputs": [
    {
     "data": {
      "text/plain": [
       "['My boss told him they were done, but they are not.']"
      ]
     },
     "execution_count": 68,
     "metadata": {},
     "output_type": "execute_result"
    }
   ],
   "source": [
    "# Criar padrão que verifica se a frase termina com \"are not\"\n",
    "# e qualquer caracter (um ou mais que não sabemos qual)\n",
    "re.findall('.*are not.$', text)"
   ]
  },
  {
   "cell_type": "code",
   "execution_count": 69,
   "metadata": {},
   "outputs": [
    {
     "data": {
      "text/plain": [
       "['My boss asked me to turn in my TPS reports. \\nMy boss told him they were done, but they are not.']"
      ]
     },
     "execution_count": 69,
     "metadata": {},
     "output_type": "execute_result"
    }
   ],
   "source": [
    "# Garantir que pegamos a primeira sentença\n",
    "re.findall('.*\\n.*are not.$', text)"
   ]
  },
  {
   "cell_type": "markdown",
   "metadata": {},
   "source": [
    "# Important Regex Concept: Greediness\n",
    "https://docs.python.org/3/howto/regex.html#greedy-versus-non-greedy"
   ]
  },
  {
   "cell_type": "code",
   "execution_count": 70,
   "metadata": {},
   "outputs": [],
   "source": [
    "text = 'You are yelling! So I will yell too! Let me yell!.'"
   ]
  },
  {
   "cell_type": "code",
   "execution_count": 73,
   "metadata": {},
   "outputs": [
    {
     "name": "stdout",
     "output_type": "stream",
     "text": [
      "['You are yelling! So I will yell too! Let me yell!']\n"
     ]
    }
   ],
   "source": [
    "# Criar padrão que dê match com uma frase que termine com exclamação\n",
    "pattern = '.*!'\n",
    "print(re.findall(pattern, text))"
   ]
  },
  {
   "cell_type": "markdown",
   "metadata": {},
   "source": [
    "When repeating a regular expression, as in a*, **the resulting action is to consume as much of the pattern as possible.**"
   ]
  },
  {
   "cell_type": "code",
   "execution_count": 74,
   "metadata": {},
   "outputs": [
    {
     "name": "stdout",
     "output_type": "stream",
     "text": [
      "['You are yelling!', ' So I will yell too!', ' Let me yell!']\n"
     ]
    }
   ],
   "source": [
    "# Criar padrão que dê match com todas as frases que terminem com exclamação\n",
    "# using a non-greedy qualifiers, which match as little text as possible\n",
    "pattern = '.*?!'\n",
    "print(re.findall(pattern, text))"
   ]
  },
  {
   "cell_type": "markdown",
   "metadata": {},
   "source": [
    "# Capturing group\n",
    "https://docs.python.org/3/howto/regex.html#grouping"
   ]
  },
  {
   "cell_type": "code",
   "execution_count": 86,
   "metadata": {},
   "outputs": [],
   "source": [
    "text = '''My boss asked, me to turn in my TPS reports. \n",
    "My boss -told him they- were done -but they- are not.'''"
   ]
  },
  {
   "cell_type": "code",
   "execution_count": 83,
   "metadata": {},
   "outputs": [
    {
     "name": "stdout",
     "output_type": "stream",
     "text": [
      "['told him they', 'but they']\n"
     ]
    }
   ],
   "source": [
    "# Criar padrão que dá match com um conteúdo que esteja entre traços\n",
    "pattern = '-(.*?)-'\n",
    "print(re.findall(pattern, text))"
   ]
  },
  {
   "cell_type": "code",
   "execution_count": 87,
   "metadata": {},
   "outputs": [
    {
     "name": "stdout",
     "output_type": "stream",
     "text": [
      "['-told him they-', '-but they-']\n"
     ]
    }
   ],
   "source": [
    "pattern = '-.*?-'\n",
    "print(re.findall(pattern, text))"
   ]
  },
  {
   "cell_type": "code",
   "execution_count": 88,
   "metadata": {},
   "outputs": [],
   "source": [
    "text = '''My boss asked, me to turn in my TPS reports. \n",
    "My boss told, him they were done, but they, are ,not.'''"
   ]
  },
  {
   "cell_type": "code",
   "execution_count": 89,
   "metadata": {},
   "outputs": [
    {
     "name": "stdout",
     "output_type": "stream",
     "text": [
      "[' him they were done', ' are ']\n"
     ]
    }
   ],
   "source": [
    "# Criar padrão que dá match com um conteúdo que esteja entre vírgulas\n",
    "pattern = ',(.*?),'\n",
    "print(re.findall(pattern, text))"
   ]
  },
  {
   "cell_type": "code",
   "execution_count": 90,
   "metadata": {},
   "outputs": [
    {
     "data": {
      "text/plain": [
       "['FaShIoN', 'fashion']"
      ]
     },
     "execution_count": 90,
     "metadata": {},
     "output_type": "execute_result"
    }
   ],
   "source": [
    "text = 'MaRiA eDuArDa FaShIoN fashion'\n",
    "pattern = 'fashion'\n",
    "re.findall(pattern, text, re.IGNORECASE)"
   ]
  }
 ],
 "metadata": {
  "kernelspec": {
   "display_name": "Python 3",
   "language": "python",
   "name": "python3"
  },
  "language_info": {
   "codemirror_mode": {
    "name": "ipython",
    "version": 3
   },
   "file_extension": ".py",
   "mimetype": "text/x-python",
   "name": "python",
   "nbconvert_exporter": "python",
   "pygments_lexer": "ipython3",
   "version": "3.9.4"
  },
  "toc": {
   "base_numbering": 1,
   "nav_menu": {},
   "number_sections": true,
   "sideBar": true,
   "skip_h1_title": false,
   "title_cell": "Table of Contents",
   "title_sidebar": "Contents",
   "toc_cell": false,
   "toc_position": {
    "height": "calc(100% - 180px)",
    "left": "10px",
    "top": "150px",
    "width": "258.182px"
   },
   "toc_section_display": true,
   "toc_window_display": false
  },
  "toc-autonumbering": false,
  "varInspector": {
   "cols": {
    "lenName": 16,
    "lenType": 16,
    "lenVar": 40
   },
   "kernels_config": {
    "python": {
     "delete_cmd_postfix": "",
     "delete_cmd_prefix": "del ",
     "library": "var_list.py",
     "varRefreshCmd": "print(var_dic_list())"
    },
    "r": {
     "delete_cmd_postfix": ") ",
     "delete_cmd_prefix": "rm(",
     "library": "var_list.r",
     "varRefreshCmd": "cat(var_dic_list()) "
    }
   },
   "types_to_exclude": [
    "module",
    "function",
    "builtin_function_or_method",
    "instance",
    "_Feature"
   ],
   "window_display": false
  }
 },
 "nbformat": 4,
 "nbformat_minor": 4
}
