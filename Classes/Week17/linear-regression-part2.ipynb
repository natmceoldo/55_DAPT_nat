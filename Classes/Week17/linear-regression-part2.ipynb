{
 "cells": [
  {
   "cell_type": "code",
   "execution_count": 5,
   "metadata": {},
   "outputs": [
    {
     "name": "stdout",
     "output_type": "stream",
     "text": [
      "Defaulting to user installation because normal site-packages is not writeable\n",
      "Collecting pandas-profiling\n",
      "  Using cached pandas_profiling-3.1.0-py2.py3-none-any.whl (261 kB)\n",
      "Requirement already satisfied: seaborn>=0.10.1 in c:\\users\\natmc\\appdata\\roaming\\python\\python39\\site-packages (from pandas-profiling) (0.11.1)\n",
      "Collecting pydantic>=1.8.1\n",
      "  Using cached pydantic-1.8.2-cp39-cp39-win_amd64.whl (1.9 MB)\n",
      "Requirement already satisfied: matplotlib>=3.2.0 in c:\\users\\natmc\\appdata\\roaming\\python\\python39\\site-packages (from pandas-profiling) (3.4.2)\n",
      "Collecting missingno>=0.4.2\n",
      "  Using cached missingno-0.5.0-py3-none-any.whl (8.8 kB)\n",
      "Collecting PyYAML>=5.0.0\n",
      "  Using cached PyYAML-6.0-cp39-cp39-win_amd64.whl (151 kB)\n",
      "Requirement already satisfied: joblib~=1.0.1 in c:\\users\\natmc\\appdata\\roaming\\python\\python39\\site-packages (from pandas-profiling) (1.0.1)\n",
      "Requirement already satisfied: numpy>=1.16.0 in c:\\users\\natmc\\appdata\\roaming\\python\\python39\\site-packages (from pandas-profiling) (1.21.1)\n",
      "Requirement already satisfied: visions[type_image_path]==0.7.4 in c:\\users\\natmc\\appdata\\roaming\\python\\python39\\site-packages (from pandas-profiling) (0.7.4)\n",
      "Collecting phik>=0.11.1\n",
      "  Using cached phik-0.12.0-cp39-cp39-win_amd64.whl (659 kB)\n",
      "Requirement already satisfied: tangled-up-in-unicode==0.1.0 in c:\\users\\natmc\\appdata\\roaming\\python\\python39\\site-packages (from pandas-profiling) (0.1.0)\n",
      "Requirement already satisfied: jinja2>=2.11.1 in c:\\users\\natmc\\appdata\\roaming\\python\\python39\\site-packages (from pandas-profiling) (2.11.3)\n",
      "Requirement already satisfied: multimethod>=1.4 in c:\\users\\natmc\\appdata\\roaming\\python\\python39\\site-packages (from pandas-profiling) (1.6)\n",
      "Requirement already satisfied: requests>=2.24.0 in c:\\users\\natmc\\appdata\\roaming\\python\\python39\\site-packages (from pandas-profiling) (2.26.0)\n",
      "Requirement already satisfied: tqdm>=4.48.2 in c:\\users\\natmc\\appdata\\roaming\\python\\python39\\site-packages (from pandas-profiling) (4.61.2)\n",
      "Requirement already satisfied: markupsafe~=2.0.1 in c:\\users\\natmc\\appdata\\roaming\\python\\python39\\site-packages (from pandas-profiling) (2.0.1)\n",
      "Requirement already satisfied: scipy>=1.4.1 in c:\\users\\natmc\\appdata\\roaming\\python\\python39\\site-packages (from pandas-profiling) (1.7.0)\n",
      "Collecting htmlmin>=0.1.12\n",
      "  Using cached htmlmin-0.1.12.tar.gz (19 kB)\n",
      "Requirement already satisfied: pandas!=1.0.0,!=1.0.1,!=1.0.2,!=1.1.0,>=0.25.3 in c:\\users\\natmc\\appdata\\roaming\\python\\python39\\site-packages (from pandas-profiling) (1.3.0)\n",
      "Requirement already satisfied: attrs>=19.3.0 in c:\\users\\natmc\\appdata\\roaming\\python\\python39\\site-packages (from visions[type_image_path]==0.7.4->pandas-profiling) (20.3.0)\n",
      "Requirement already satisfied: networkx>=2.4 in c:\\users\\natmc\\appdata\\roaming\\python\\python39\\site-packages (from visions[type_image_path]==0.7.4->pandas-profiling) (2.6.3)\n",
      "Collecting imagehash\n",
      "  Using cached ImageHash-4.2.1.tar.gz (812 kB)\n",
      "Requirement already satisfied: Pillow in c:\\users\\natmc\\appdata\\roaming\\python\\python39\\site-packages (from visions[type_image_path]==0.7.4->pandas-profiling) (8.3.1)\n",
      "Requirement already satisfied: kiwisolver>=1.0.1 in c:\\users\\natmc\\appdata\\roaming\\python\\python39\\site-packages (from matplotlib>=3.2.0->pandas-profiling) (1.3.1)\n",
      "Requirement already satisfied: python-dateutil>=2.7 in c:\\users\\natmc\\appdata\\roaming\\python\\python39\\site-packages (from matplotlib>=3.2.0->pandas-profiling) (2.8.1)\n",
      "Requirement already satisfied: pyparsing>=2.2.1 in c:\\users\\natmc\\appdata\\roaming\\python\\python39\\site-packages (from matplotlib>=3.2.0->pandas-profiling) (2.4.7)\n",
      "Requirement already satisfied: cycler>=0.10 in c:\\users\\natmc\\appdata\\roaming\\python\\python39\\site-packages (from matplotlib>=3.2.0->pandas-profiling) (0.10.0)\n",
      "Requirement already satisfied: six in c:\\users\\natmc\\appdata\\roaming\\python\\python39\\site-packages (from cycler>=0.10->matplotlib>=3.2.0->pandas-profiling) (1.15.0)\n",
      "Requirement already satisfied: pytz>=2017.3 in c:\\users\\natmc\\appdata\\roaming\\python\\python39\\site-packages (from pandas!=1.0.0,!=1.0.1,!=1.0.2,!=1.1.0,>=0.25.3->pandas-profiling) (2021.1)\n",
      "Requirement already satisfied: typing-extensions>=3.7.4.3 in c:\\users\\natmc\\appdata\\roaming\\python\\python39\\site-packages (from pydantic>=1.8.1->pandas-profiling) (3.10.0.2)\n",
      "Requirement already satisfied: urllib3<1.27,>=1.21.1 in c:\\users\\natmc\\appdata\\roaming\\python\\python39\\site-packages (from requests>=2.24.0->pandas-profiling) (1.26.6)\n"
     ]
    },
    {
     "name": "stderr",
     "output_type": "stream",
     "text": [
      "WARNING: You are using pip version 21.0.1; however, version 21.3 is available.\n",
      "You should consider upgrading via the 'c:\\program files\\python39\\python.exe -m pip install --upgrade pip' command.\n"
     ]
    },
    {
     "name": "stdout",
     "output_type": "stream",
     "text": [
      "Requirement already satisfied: charset-normalizer~=2.0.0 in c:\\users\\natmc\\appdata\\roaming\\python\\python39\\site-packages (from requests>=2.24.0->pandas-profiling) (2.0.6)\n",
      "Requirement already satisfied: idna<4,>=2.5 in c:\\users\\natmc\\appdata\\roaming\\python\\python39\\site-packages (from requests>=2.24.0->pandas-profiling) (3.2)\n",
      "Requirement already satisfied: certifi>=2017.4.17 in c:\\users\\natmc\\appdata\\roaming\\python\\python39\\site-packages (from requests>=2.24.0->pandas-profiling) (2021.5.30)\n",
      "Requirement already satisfied: colorama in c:\\users\\natmc\\appdata\\roaming\\python\\python39\\site-packages (from tqdm>=4.48.2->pandas-profiling) (0.4.4)\n",
      "Requirement already satisfied: PyWavelets in c:\\users\\natmc\\appdata\\roaming\\python\\python39\\site-packages (from imagehash->visions[type_image_path]==0.7.4->pandas-profiling) (1.1.1)\n",
      "Using legacy 'setup.py install' for htmlmin, since package 'wheel' is not installed.\n",
      "Using legacy 'setup.py install' for imagehash, since package 'wheel' is not installed.\n",
      "Installing collected packages: imagehash, PyYAML, pydantic, phik, missingno, htmlmin, pandas-profiling\n",
      "    Running setup.py install for imagehash: started\n",
      "    Running setup.py install for imagehash: finished with status 'done'\n",
      "    Running setup.py install for htmlmin: started\n",
      "    Running setup.py install for htmlmin: finished with status 'done'\n",
      "Successfully installed PyYAML-6.0 htmlmin-0.1.12 imagehash-4.2.1 missingno-0.5.0 pandas-profiling-3.1.0 phik-0.12.0 pydantic-1.8.2\n"
     ]
    }
   ],
   "source": [
    "!pip install pandas-profiling"
   ]
  },
  {
   "cell_type": "code",
   "execution_count": 2,
   "metadata": {
    "ExecuteTime": {
     "end_time": "2021-02-13T13:54:32.424028Z",
     "start_time": "2021-02-13T13:54:32.418969Z"
    }
   },
   "outputs": [],
   "source": [
    "import numpy as np\n",
    "import pandas as pd\n",
    "import seaborn as sns\n",
    "import matplotlib.pyplot as plt"
   ]
  },
  {
   "cell_type": "code",
   "execution_count": 6,
   "metadata": {
    "ExecuteTime": {
     "end_time": "2021-02-13T13:54:33.218609Z",
     "start_time": "2021-02-13T13:54:33.205218Z"
    }
   },
   "outputs": [
    {
     "data": {
      "text/html": [
       "<div>\n",
       "<style scoped>\n",
       "    .dataframe tbody tr th:only-of-type {\n",
       "        vertical-align: middle;\n",
       "    }\n",
       "\n",
       "    .dataframe tbody tr th {\n",
       "        vertical-align: top;\n",
       "    }\n",
       "\n",
       "    .dataframe thead th {\n",
       "        text-align: right;\n",
       "    }\n",
       "</style>\n",
       "<table border=\"1\" class=\"dataframe\">\n",
       "  <thead>\n",
       "    <tr style=\"text-align: right;\">\n",
       "      <th></th>\n",
       "      <th>TV</th>\n",
       "      <th>Radio</th>\n",
       "      <th>Newspaper</th>\n",
       "      <th>Sales</th>\n",
       "    </tr>\n",
       "  </thead>\n",
       "  <tbody>\n",
       "    <tr>\n",
       "      <th>0</th>\n",
       "      <td>230.1</td>\n",
       "      <td>37.8</td>\n",
       "      <td>69.2</td>\n",
       "      <td>22.1</td>\n",
       "    </tr>\n",
       "    <tr>\n",
       "      <th>1</th>\n",
       "      <td>44.5</td>\n",
       "      <td>39.3</td>\n",
       "      <td>45.1</td>\n",
       "      <td>10.4</td>\n",
       "    </tr>\n",
       "    <tr>\n",
       "      <th>2</th>\n",
       "      <td>17.2</td>\n",
       "      <td>45.9</td>\n",
       "      <td>69.3</td>\n",
       "      <td>12.0</td>\n",
       "    </tr>\n",
       "    <tr>\n",
       "      <th>3</th>\n",
       "      <td>151.5</td>\n",
       "      <td>41.3</td>\n",
       "      <td>58.5</td>\n",
       "      <td>16.5</td>\n",
       "    </tr>\n",
       "    <tr>\n",
       "      <th>4</th>\n",
       "      <td>180.8</td>\n",
       "      <td>10.8</td>\n",
       "      <td>58.4</td>\n",
       "      <td>17.9</td>\n",
       "    </tr>\n",
       "    <tr>\n",
       "      <th>...</th>\n",
       "      <td>...</td>\n",
       "      <td>...</td>\n",
       "      <td>...</td>\n",
       "      <td>...</td>\n",
       "    </tr>\n",
       "    <tr>\n",
       "      <th>195</th>\n",
       "      <td>38.2</td>\n",
       "      <td>3.7</td>\n",
       "      <td>13.8</td>\n",
       "      <td>7.6</td>\n",
       "    </tr>\n",
       "    <tr>\n",
       "      <th>196</th>\n",
       "      <td>94.2</td>\n",
       "      <td>4.9</td>\n",
       "      <td>8.1</td>\n",
       "      <td>14.0</td>\n",
       "    </tr>\n",
       "    <tr>\n",
       "      <th>197</th>\n",
       "      <td>177.0</td>\n",
       "      <td>9.3</td>\n",
       "      <td>6.4</td>\n",
       "      <td>14.8</td>\n",
       "    </tr>\n",
       "    <tr>\n",
       "      <th>198</th>\n",
       "      <td>283.6</td>\n",
       "      <td>42.0</td>\n",
       "      <td>66.2</td>\n",
       "      <td>25.5</td>\n",
       "    </tr>\n",
       "    <tr>\n",
       "      <th>199</th>\n",
       "      <td>232.1</td>\n",
       "      <td>8.6</td>\n",
       "      <td>8.7</td>\n",
       "      <td>18.4</td>\n",
       "    </tr>\n",
       "  </tbody>\n",
       "</table>\n",
       "<p>200 rows × 4 columns</p>\n",
       "</div>"
      ],
      "text/plain": [
       "        TV  Radio  Newspaper  Sales\n",
       "0    230.1   37.8       69.2   22.1\n",
       "1     44.5   39.3       45.1   10.4\n",
       "2     17.2   45.9       69.3   12.0\n",
       "3    151.5   41.3       58.5   16.5\n",
       "4    180.8   10.8       58.4   17.9\n",
       "..     ...    ...        ...    ...\n",
       "195   38.2    3.7       13.8    7.6\n",
       "196   94.2    4.9        8.1   14.0\n",
       "197  177.0    9.3        6.4   14.8\n",
       "198  283.6   42.0       66.2   25.5\n",
       "199  232.1    8.6        8.7   18.4\n",
       "\n",
       "[200 rows x 4 columns]"
      ]
     },
     "execution_count": 6,
     "metadata": {},
     "output_type": "execute_result"
    }
   ],
   "source": [
    "df = pd.read_csv('data/advertising.csv')\n",
    "df"
   ]
  },
  {
   "cell_type": "code",
   "execution_count": 7,
   "metadata": {},
   "outputs": [],
   "source": [
    "from pandas_profiling import ProfileReport\n",
    "\n",
    "profile = ProfileReport(df)"
   ]
  },
  {
   "cell_type": "code",
   "execution_count": 10,
   "metadata": {},
   "outputs": [
    {
     "data": {
      "application/vnd.jupyter.widget-view+json": {
       "model_id": "ea672d0ea06a4e3295a9baf6a7ca8de1",
       "version_major": 2,
       "version_minor": 0
      },
      "text/plain": [
       "Export report to file:   0%|          | 0/1 [00:00<?, ?it/s]"
      ]
     },
     "metadata": {},
     "output_type": "display_data"
    }
   ],
   "source": [
    "profile.to_file('pandas_profiling.html')"
   ]
  },
  {
   "cell_type": "code",
   "execution_count": 9,
   "metadata": {
    "ExecuteTime": {
     "end_time": "2021-02-13T13:54:33.496009Z",
     "start_time": "2021-02-13T13:54:33.484518Z"
    }
   },
   "outputs": [
    {
     "data": {
      "text/plain": [
       "LinearRegression()"
      ]
     },
     "execution_count": 9,
     "metadata": {},
     "output_type": "execute_result"
    }
   ],
   "source": [
    "from sklearn.linear_model import LinearRegression\n",
    "\n",
    "X = df[['TV']] # dataframe\n",
    "y = df['Sales'] # series\n",
    "\n",
    "model = LinearRegression()\n",
    "model.fit(X, y)"
   ]
  },
  {
   "cell_type": "code",
   "execution_count": 11,
   "metadata": {
    "ExecuteTime": {
     "end_time": "2021-02-13T13:54:33.698973Z",
     "start_time": "2021-02-13T13:54:33.692989Z"
    }
   },
   "outputs": [
    {
     "data": {
      "text/plain": [
       "array([0.05546477])"
      ]
     },
     "execution_count": 11,
     "metadata": {},
     "output_type": "execute_result"
    }
   ],
   "source": [
    "model.coef_"
   ]
  },
  {
   "cell_type": "code",
   "execution_count": 12,
   "metadata": {
    "ExecuteTime": {
     "end_time": "2021-02-13T13:54:34.214391Z",
     "start_time": "2021-02-13T13:54:34.202962Z"
    }
   },
   "outputs": [
    {
     "data": {
      "text/plain": [
       "6.974821488229891"
      ]
     },
     "execution_count": 12,
     "metadata": {},
     "output_type": "execute_result"
    }
   ],
   "source": [
    "model.intercept_"
   ]
  },
  {
   "cell_type": "code",
   "execution_count": 13,
   "metadata": {
    "ExecuteTime": {
     "end_time": "2021-02-13T13:54:34.386604Z",
     "start_time": "2021-02-13T13:54:34.373238Z"
    },
    "scrolled": true
   },
   "outputs": [],
   "source": [
    "y_pred=model.predict(X)"
   ]
  },
  {
   "cell_type": "code",
   "execution_count": 16,
   "metadata": {},
   "outputs": [],
   "source": [
    "%matplotlib inline"
   ]
  },
  {
   "cell_type": "code",
   "execution_count": 17,
   "metadata": {
    "ExecuteTime": {
     "end_time": "2021-02-13T13:54:34.716578Z",
     "start_time": "2021-02-13T13:54:34.539196Z"
    }
   },
   "outputs": [
    {
     "data": {
      "image/png": "[encoded data removed]",
      "text/plain": [
       "<Figure size 576x432 with 1 Axes>"
      ]
     },
     "metadata": {
      "needs_background": "light"
     },
     "output_type": "display_data"
    }
   ],
   "source": [
    "plt.figure(figsize=(8,6))\n",
    "plt.xlabel('TV')\n",
    "plt.ylabel('Sales')\n",
    "plt.scatter(X, y, color='red', label='observed')\n",
    "\n",
    "# plot the predicted values together with the observed values\n",
    "plt.scatter(X, y_pred, label='predicted')\n",
    "\n",
    "\n",
    "plt.legend();"
   ]
  },
  {
   "cell_type": "markdown",
   "metadata": {},
   "source": [
    "-----"
   ]
  },
  {
   "cell_type": "markdown",
   "metadata": {},
   "source": [
    "# Some theory"
   ]
  },
  {
   "cell_type": "markdown",
   "metadata": {},
   "source": [
    "> The regression sole purpose in life is to <b>find a curve that best fits the data points</b>. "
   ]
  },
  {
   "cell_type": "markdown",
   "metadata": {},
   "source": [
    "-----"
   ]
  },
  {
   "cell_type": "markdown",
   "metadata": {},
   "source": [
    "There are two main **applications** for finding best lines between variables:\n",
    "\n",
    "<u><b> Describe: </b></u>\n",
    "- Use <b> regression </b> to determine the strength of the relationship between the variable you are interested in and the other variables. \n",
    "\n",
    "<u><b> Predict: </b></u>\n",
    "- Use <b> regression </b> to predict values of new data points. "
   ]
  },
  {
   "cell_type": "markdown",
   "metadata": {},
   "source": [
    "------"
   ]
  },
  {
   "cell_type": "markdown",
   "metadata": {},
   "source": [
    "<u><b> Degrees of freedom </b></u>\n",
    "\n",
    "A regression line is one of the simplest models. We say it has <b>few degrees of freedom</b>. Namely, a linear regression has <b> two degrees of freedom - the slope and the intercept. </b>\n",
    "\n",
    "<u><b> Slope:</b></u> The angular coefficient of the linear regression. The greater this number is, the more impact of that specific variable on the Y variable.\n",
    "\n",
    "<u><b> Intercept:</b></u> The value of Y for which X equals 0."
   ]
  },
  {
   "cell_type": "markdown",
   "metadata": {},
   "source": [
    "$$y = a + b x$$"
   ]
  },
  {
   "cell_type": "markdown",
   "metadata": {},
   "source": [
    "$a \\rightarrow$ intercept\n",
    "\n",
    "$b \\rightarrow$ slope"
   ]
  },
  {
   "cell_type": "markdown",
   "metadata": {},
   "source": [
    "# Measuring your error."
   ]
  },
  {
   "cell_type": "markdown",
   "metadata": {},
   "source": [
    "## Error terms: \n",
    "\n",
    "<u>1. Residuals</u>\n",
    "\n",
    "$Y_{observed} - Y_{predicted}$\n",
    "\n",
    "<u>2. Sum of Residuals</u>\n",
    "\n",
    "$\\sum_{i = 1}^{n} (Y_{observed} - Y_{predicted})$\n",
    "\n",
    "- This might cancel the errors.\n",
    "\n",
    "<u>3. Sum of square of residuals</u>\n",
    "\n",
    "$\\sum_{i = 1}^{n} (Y_{observed} - Y_{predicted})^2$\n",
    "\n",
    "- Heavily penalize higher error value.\n",
    "- Not robust to outliers.\n"
   ]
  },
  {
   "cell_type": "markdown",
   "metadata": {},
   "source": [
    "Linear regression looks for optimizing the intercept and coefficients such that it minimizes the objective function. The objective function is a simple measure of error: \n",
    "\n",
    "\n",
    "## <u> Objective Function (Cost Function)</u> \n",
    "\n",
    "Minimize the objective function:\n",
    "- Objective function for **Mean** Squared Error (MSE): $\\frac{1}{n} \\sum_{i = 1}^{n} (Y_{observed} - Y_{predicted})^2$\n",
    "\n"
   ]
  },
  {
   "cell_type": "markdown",
   "metadata": {},
   "source": [
    "Since it tries to make the **mean** error as small as possible, how do you think outliers affect the linear regression?"
   ]
  },
  {
   "cell_type": "markdown",
   "metadata": {
    "ExecuteTime": {
     "end_time": "2020-04-09T12:08:33.789978Z",
     "start_time": "2020-04-09T12:08:33.749116Z"
    }
   },
   "source": [
    "<b> Outlier greatly affect the regression </b>"
   ]
  },
  {
   "cell_type": "markdown",
   "metadata": {},
   "source": [
    "In practice:"
   ]
  },
  {
   "cell_type": "code",
   "execution_count": 18,
   "metadata": {
    "ExecuteTime": {
     "end_time": "2021-02-13T13:54:39.451973Z",
     "start_time": "2021-02-13T13:54:39.436956Z"
    }
   },
   "outputs": [
    {
     "data": {
      "text/plain": [
       "LinearRegression()"
      ]
     },
     "execution_count": 18,
     "metadata": {},
     "output_type": "execute_result"
    }
   ],
   "source": [
    "from sklearn.linear_model import LinearRegression\n",
    "\n",
    "model = LinearRegression()\n",
    "\n",
    "X = df[['TV']]\n",
    "y = df['Sales']\n",
    "\n",
    "model.fit(X, y)"
   ]
  },
  {
   "cell_type": "code",
   "execution_count": 19,
   "metadata": {
    "ExecuteTime": {
     "end_time": "2021-02-13T13:54:39.930018Z",
     "start_time": "2021-02-13T13:54:39.923545Z"
    }
   },
   "outputs": [],
   "source": [
    "y_observed = df['Sales']\n",
    "y_predicted = model.predict(X)"
   ]
  },
  {
   "cell_type": "code",
   "execution_count": 20,
   "metadata": {
    "ExecuteTime": {
     "end_time": "2021-02-13T13:54:40.269665Z",
     "start_time": "2021-02-13T13:54:40.259688Z"
    }
   },
   "outputs": [
    {
     "data": {
      "text/plain": [
       "[(22.1, 19.73726517327539),\n",
       " (10.4, 9.44300377412526),\n",
       " (12.0, 7.928815540306303),\n",
       " (16.5, 15.37773421436806),\n",
       " (17.9, 17.002851989126135),\n",
       " (7.2, 7.457364991315053),\n",
       " (11.8, 10.164045790229526),\n",
       " (13.2, 13.641686898670867),\n",
       " (4.8, 7.451818514268097),\n",
       " (15.6, 18.056682628047753),\n",
       " (12.6, 10.641042816267731),\n",
       " (17.4, 18.88310770804418),\n",
       " (9.2, 8.294883025405392),\n",
       " (13.7, 12.38263660901188),\n",
       " (19.0, 18.295181141066855),\n",
       " (22.4, 17.812637637981695),\n",
       " (12.5, 10.735332926065983),\n",
       " (24.4, 22.582607898363754),\n",
       " (11.3, 10.812983604723364),\n",
       " (14.6, 15.144782178395914),\n",
       " (18.0, 19.088327358781548),\n",
       " (17.5, 20.142157997703166),\n",
       " (5.6, 7.706956458428068),\n",
       " (20.5, 19.637428586430183),\n",
       " (9.7, 10.430276688483408),\n",
       " (17.0, 21.556509644676918),\n",
       " (15.0, 14.900737188329854),\n",
       " (20.9, 20.291912877970976),\n",
       " (18.9, 20.77445638105614),\n",
       " (10.5, 10.890634283380747),\n",
       " (21.4, 23.220452758763685),\n",
       " (11.9, 13.236794074243088),\n",
       " (13.2, 12.365997177871012),\n",
       " (17.4, 21.70626452494473),\n",
       " (11.9, 12.282800022166676),\n",
       " (17.8, 23.098430263730656),\n",
       " (25.4, 21.77836872655515),\n",
       " (14.7, 11.118039842305938),\n",
       " (10.1, 9.365353095467878),\n",
       " (21.5, 19.620789155289316),\n",
       " (16.6, 18.206437508315563),\n",
       " (17.1, 16.79208586134181),\n",
       " (20.7, 23.25927809809238),\n",
       " (17.9, 18.45048249838162),\n",
       " (8.5, 8.36698722701582),\n",
       " (16.1, 16.686702797449648),\n",
       " (10.6, 11.950011399349322),\n",
       " (23.2, 20.280819923877065),\n",
       " (19.8, 19.576417338913664),\n",
       " (9.7, 10.68541463264338),\n",
       " (16.4, 18.056682628047753),\n",
       " (10.7, 12.543484443373602),\n",
       " (22.6, 18.97739781784243),\n",
       " (21.2, 17.102688575971342),\n",
       " (20.2, 21.545416690583007),\n",
       " (23.7, 18.006764334625153),\n",
       " (5.5, 7.37971431265767),\n",
       " (13.2, 14.52912322618381),\n",
       " (23.8, 18.666795103212902),\n",
       " (18.4, 18.661248626165943),\n",
       " (8.1, 9.94218670835129),\n",
       " (24.2, 21.467766011925626),\n",
       " (20.7, 20.247541061595328),\n",
       " (14.0, 12.671053415453589),\n",
       " (16.0, 14.24625289678906),\n",
       " (11.3, 10.801890650629453),\n",
       " (11.0, 8.721961758020996),\n",
       " (13.4, 14.701064014639442),\n",
       " (18.9, 20.142157997703166),\n",
       " (22.3, 18.999583726030256),\n",
       " (18.3, 18.017857288719064),\n",
       " (12.4, 13.064853285787455),\n",
       " (8.8, 8.461277336814069),\n",
       " (11.0, 14.15196278699081),\n",
       " (17.0, 18.811003506433757),\n",
       " (8.7, 7.9121761091654355),\n",
       " (6.9, 8.50010267614276),\n",
       " (14.2, 13.658326329811736),\n",
       " (5.3, 7.274331248765509),\n",
       " (11.0, 13.40873486269872),\n",
       " (11.8, 11.212329952104188),\n",
       " (17.3, 20.27527344683011),\n",
       " (11.3, 11.151318704587673),\n",
       " (13.6, 10.768611788347718),\n",
       " (21.7, 18.816549983480712),\n",
       " (20.2, 17.690615142948666),\n",
       " (12.0, 11.206783475057232),\n",
       " (16.0, 13.114771579210057),\n",
       " (12.9, 11.87236072069194),\n",
       " (16.7, 13.064853285787455),\n",
       " (14.0, 14.423740162291647),\n",
       " (7.3, 8.561113923659274),\n",
       " (19.4, 19.04950201945286),\n",
       " (22.2, 20.890932399042214),\n",
       " (11.5, 12.931737836660513),\n",
       " (16.9, 16.032218505908855),\n",
       " (16.7, 17.934660133014724),\n",
       " (20.5, 17.230257548051327),\n",
       " (25.4, 23.042965493261093),\n",
       " (17.2, 14.47365845571425),\n",
       " (16.7, 19.310186440659784),\n",
       " (23.8, 23.414579455407143),\n",
       " (19.8, 22.516050173800288),\n",
       " (19.7, 17.396651859460004),\n",
       " (20.7, 20.186529814078813),\n",
       " (15.0, 14.623413335982061),\n",
       " (7.2, 8.361440749968862),\n",
       " (12.0, 11.988836738678014),\n",
       " (5.3, 7.701409981381111),\n",
       " (19.8, 21.140523866155227),\n",
       " (18.4, 19.498766660256287),\n",
       " (21.8, 20.380656510722268),\n",
       " (17.1, 16.719981659731385),\n",
       " (20.9, 18.60023737864943),\n",
       " (14.6, 11.312166538949395),\n",
       " (12.6, 11.140225750493762),\n",
       " (12.2, 14.695517537592487),\n",
       " (9.4, 11.212329952104188),\n",
       " (15.9, 13.946743136253442),\n",
       " (6.6, 8.050838035339332),\n",
       " (15.5, 14.81199355557856),\n",
       " (7.0, 8.017559173057597),\n",
       " (16.6, 19.39893007341108),\n",
       " (15.2, 13.802534733032587),\n",
       " (19.7, 19.703986310993653),\n",
       " (10.6, 11.811349473175426),\n",
       " (6.6, 7.40744669789245),\n",
       " (11.9, 11.423096079888513),\n",
       " (24.7, 19.19371042267371),\n",
       " (9.7, 10.2805218082156),\n",
       " (1.6, 7.013646827558582),\n",
       " (17.7, 21.684078616756903),\n",
       " (5.7, 7.440725560174185),\n",
       " (19.6, 19.165978037438933),\n",
       " (10.8, 9.021471518556613),\n",
       " (11.6, 9.653769901909584),\n",
       " (9.5, 8.394719612250597),\n",
       " (20.8, 22.155529165748156),\n",
       " (9.6, 9.359806618420922),\n",
       " (20.7, 17.230257548051327),\n",
       " (10.9, 11.045935640695513),\n",
       " (19.2, 17.718347528183443),\n",
       " (20.1, 19.20480337676762),\n",
       " (10.4, 12.776436479345747),\n",
       " (12.3, 12.310532407401453),\n",
       " (10.3, 14.756528785109001),\n",
       " (18.2, 20.291912877970976),\n",
       " (25.4, 20.46385366642661),\n",
       " (10.9, 9.082482766073127),\n",
       " (10.1, 9.454096728219172),\n",
       " (16.1, 22.543782559035066),\n",
       " (11.6, 13.686058715046514),\n",
       " (16.6, 17.934660133014724),\n",
       " (16.0, 16.475936669665327),\n",
       " (20.6, 17.39110538241305),\n",
       " (3.2, 7.202227047155082),\n",
       " (15.3, 12.182963435321469),\n",
       " (10.1, 15.28344410456981),\n",
       " (7.3, 7.623759302723729),\n",
       " (12.9, 14.279531759070794),\n",
       " (16.4, 16.542494394228797),\n",
       " (13.3, 11.728152317471086),\n",
       " (19.9, 17.424384244694785),\n",
       " (18.0, 16.04331146000277),\n",
       " (11.9, 13.47529258726219),\n",
       " (16.9, 19.981310163341448),\n",
       " (8.0, 7.9676408796349945),\n",
       " (17.2, 18.444936021334666),\n",
       " (17.1, 18.921933047372875),\n",
       " (20.0, 22.74345573272548),\n",
       " (8.4, 9.748060011707835),\n",
       " (17.5, 16.098776230472325),\n",
       " (7.6, 8.061930989433245),\n",
       " (16.7, 16.315088835303605),\n",
       " (16.5, 19.310186440659784),\n",
       " (27.0, 22.33301643125074),\n",
       " (20.2, 20.752270472868318),\n",
       " (16.7, 16.414925422148812),\n",
       " (16.8, 22.32192347715683),\n",
       " (17.6, 16.15978747798884),\n",
       " (15.5, 15.66060454376281),\n",
       " (17.2, 19.093873835828504),\n",
       " (8.7, 10.0919415886191),\n",
       " (26.2, 22.926489475275027),\n",
       " (17.6, 21.05178023340393),\n",
       " (22.6, 18.345099434489462),\n",
       " (10.3, 14.712156968733353),\n",
       " (17.3, 17.574139124962592),\n",
       " (20.9, 22.83774584252373),\n",
       " (6.7, 8.012012696010641),\n",
       " (10.8, 9.165679921777466),\n",
       " (11.9, 11.162411658681584),\n",
       " (5.9, 7.928815540306303),\n",
       " (19.6, 16.22634520255231),\n",
       " (17.3, 15.277897627522854),\n",
       " (7.6, 9.09357572016704),\n",
       " (14.0, 12.199602866462337),\n",
       " (14.8, 16.79208586134181),\n",
       " (25.5, 22.70463039339679),\n",
       " (18.4, 19.848194714214507)]"
      ]
     },
     "execution_count": 20,
     "metadata": {},
     "output_type": "execute_result"
    }
   ],
   "source": [
    "list(zip(y_observed, y_predicted))"
   ]
  },
  {
   "cell_type": "code",
   "execution_count": 21,
   "metadata": {
    "ExecuteTime": {
     "end_time": "2021-02-13T13:54:40.486905Z",
     "start_time": "2021-02-13T13:54:40.475752Z"
    }
   },
   "outputs": [],
   "source": [
    "residual_squared = []\n",
    "\n",
    "for y_o, y_p in list(zip(y_observed, y_predicted)):\n",
    "    residual = y_o - y_p\n",
    "    residual_squared.append(residual ** 2)"
   ]
  },
  {
   "cell_type": "code",
   "execution_count": 22,
   "metadata": {
    "ExecuteTime": {
     "end_time": "2021-02-13T13:54:40.767321Z",
     "start_time": "2021-02-13T13:54:40.755693Z"
    }
   },
   "outputs": [
    {
     "name": "stdout",
     "output_type": "stream",
     "text": [
      "Max error 41.52233366812448, min error 1.5890675338121314e-05, mean error 5.2177438977951285\n"
     ]
    }
   ],
   "source": [
    "np.max(residual_squared)\n",
    "print(f'Max error {np.max(residual_squared)}, min error {np.min(residual_squared)}, mean error {np.mean(residual_squared)}')"
   ]
  },
  {
   "cell_type": "code",
   "execution_count": 23,
   "metadata": {
    "ExecuteTime": {
     "end_time": "2021-02-13T13:54:41.032014Z",
     "start_time": "2021-02-13T13:54:41.027311Z"
    }
   },
   "outputs": [],
   "source": [
    "from sklearn.metrics import mean_squared_error"
   ]
  },
  {
   "cell_type": "code",
   "execution_count": 24,
   "metadata": {
    "ExecuteTime": {
     "end_time": "2021-02-13T13:54:41.358602Z",
     "start_time": "2021-02-13T13:54:41.348636Z"
    }
   },
   "outputs": [
    {
     "data": {
      "text/plain": [
       "5.2177438977951285"
      ]
     },
     "execution_count": 24,
     "metadata": {},
     "output_type": "execute_result"
    }
   ],
   "source": [
    "mean_squared_error(y_observed, y_predicted)"
   ]
  },
  {
   "cell_type": "markdown",
   "metadata": {},
   "source": [
    "## Root Mean Squared Error (RMSE)\n",
    "desvio médio quadrático ou erro quadrático médio"
   ]
  },
  {
   "cell_type": "markdown",
   "metadata": {},
   "source": [
    "### interpreting the mean squared error\n",
    "\n",
    "5.2 sales² $\\rightarrow$ out of our variable scale\n",
    "\n",
    "2.28 sales\n",
    "\n",
    "The average mean error I will have in my prediction in sales is 2.28 if I use only the TV as my predictive variable."
   ]
  },
  {
   "cell_type": "code",
   "execution_count": 25,
   "metadata": {
    "ExecuteTime": {
     "end_time": "2021-02-13T13:54:42.122967Z",
     "start_time": "2021-02-13T13:54:42.115986Z"
    }
   },
   "outputs": [
    {
     "data": {
      "text/plain": [
       "2.2842381438447106"
      ]
     },
     "execution_count": 25,
     "metadata": {},
     "output_type": "execute_result"
    }
   ],
   "source": [
    "# na média eu sei que errei tanto, o quadrado não dá o erro real\n",
    "np.sqrt(mean_squared_error(y_observed, y_predicted))"
   ]
  },
  {
   "cell_type": "markdown",
   "metadata": {},
   "source": [
    "## Coefficient of Determination $R^2$"
   ]
  },
  {
   "cell_type": "markdown",
   "metadata": {},
   "source": [
    "What is important to understand?\n",
    "\n",
    "> $R^2$ is a measure of how much information of our Y-variable is explained by our X-variable.\n",
    "\n",
    "<font size=\"5\">\n",
    "\n",
    "$R^2 = 1 - \\frac{\\sum_{i = 1}^{n}(y_{observed} - y_{predicted})^2}{\\sum_{i = 1}^{n}(y_{observed} - y_{mean})^2}$\n",
    "    \n",
    "</font>\n",
    "\n",
    "- Numerator: ~variance of model's prediction\n",
    "- Denominator: ~variance\n",
    "\n",
    "\n",
    "\n",
    "For example: if you measure your error considering your model and it result in 90. And you measure your error using only the mean you obtain 100, the R² will be:\n",
    "\n",
    "$R² = 1 - \\frac{90}{100} = 1 - 0.9 = 0.1$\n",
    "\n",
    "This means that your model is 10% better than using only the average. This means that using the variable TV increased your performance by 10%\n",
    "\n",
    "Moreover, remember that $(y_{obs} - y_{mean})^2$ is the variance. So it is also a measure of how much information that adding this variable brought to your model."
   ]
  },
  {
   "cell_type": "markdown",
   "metadata": {},
   "source": [
    "### In practice\n",
    "\n",
    "- `r2_score`\n",
    "\n",
    "- `model.score()`"
   ]
  },
  {
   "cell_type": "code",
   "execution_count": 26,
   "metadata": {
    "ExecuteTime": {
     "end_time": "2021-02-13T13:54:45.872622Z",
     "start_time": "2021-02-13T13:54:45.867619Z"
    }
   },
   "outputs": [],
   "source": [
    "from sklearn.metrics import r2_score"
   ]
  },
  {
   "cell_type": "markdown",
   "metadata": {},
   "source": [
    "The `r2_score` method expects you to pass the `y_observed` (that comes from the real data) and the values you predicted, `y_predicted` (that comes from the `model.predict(X)` method)."
   ]
  },
  {
   "cell_type": "code",
   "execution_count": 27,
   "metadata": {},
   "outputs": [
    {
     "data": {
      "text/plain": [
       "0      22.1\n",
       "1      10.4\n",
       "2      12.0\n",
       "3      16.5\n",
       "4      17.9\n",
       "       ... \n",
       "195     7.6\n",
       "196    14.0\n",
       "197    14.8\n",
       "198    25.5\n",
       "199    18.4\n",
       "Name: Sales, Length: 200, dtype: float64"
      ]
     },
     "execution_count": 27,
     "metadata": {},
     "output_type": "execute_result"
    }
   ],
   "source": [
    "y_observed"
   ]
  },
  {
   "cell_type": "code",
   "execution_count": 28,
   "metadata": {},
   "outputs": [
    {
     "data": {
      "text/plain": [
       "array([19.73726517,  9.44300377,  7.92881554, 15.37773421, 17.00285199,\n",
       "        7.45736499, 10.16404579, 13.6416869 ,  7.45181851, 18.05668263,\n",
       "       10.64104282, 18.88310771,  8.29488303, 12.38263661, 18.29518114,\n",
       "       17.81263764, 10.73533293, 22.5826079 , 10.8129836 , 15.14478218,\n",
       "       19.08832736, 20.142158  ,  7.70695646, 19.63742859, 10.43027669,\n",
       "       21.55650964, 14.90073719, 20.29191288, 20.77445638, 10.89063428,\n",
       "       23.22045276, 13.23679407, 12.36599718, 21.70626452, 12.28280002,\n",
       "       23.09843026, 21.77836873, 11.11803984,  9.3653531 , 19.62078916,\n",
       "       18.20643751, 16.79208586, 23.2592781 , 18.4504825 ,  8.36698723,\n",
       "       16.6867028 , 11.9500114 , 20.28081992, 19.57641734, 10.68541463,\n",
       "       18.05668263, 12.54348444, 18.97739782, 17.10268858, 21.54541669,\n",
       "       18.00676433,  7.37971431, 14.52912323, 18.6667951 , 18.66124863,\n",
       "        9.94218671, 21.46776601, 20.24754106, 12.67105342, 14.2462529 ,\n",
       "       10.80189065,  8.72196176, 14.70106401, 20.142158  , 18.99958373,\n",
       "       18.01785729, 13.06485329,  8.46127734, 14.15196279, 18.81100351,\n",
       "        7.91217611,  8.50010268, 13.65832633,  7.27433125, 13.40873486,\n",
       "       11.21232995, 20.27527345, 11.1513187 , 10.76861179, 18.81654998,\n",
       "       17.69061514, 11.20678348, 13.11477158, 11.87236072, 13.06485329,\n",
       "       14.42374016,  8.56111392, 19.04950202, 20.8909324 , 12.93173784,\n",
       "       16.03221851, 17.93466013, 17.23025755, 23.04296549, 14.47365846,\n",
       "       19.31018644, 23.41457946, 22.51605017, 17.39665186, 20.18652981,\n",
       "       14.62341334,  8.36144075, 11.98883674,  7.70140998, 21.14052387,\n",
       "       19.49876666, 20.38065651, 16.71998166, 18.60023738, 11.31216654,\n",
       "       11.14022575, 14.69551754, 11.21232995, 13.94674314,  8.05083804,\n",
       "       14.81199356,  8.01755917, 19.39893007, 13.80253473, 19.70398631,\n",
       "       11.81134947,  7.4074467 , 11.42309608, 19.19371042, 10.28052181,\n",
       "        7.01364683, 21.68407862,  7.44072556, 19.16597804,  9.02147152,\n",
       "        9.6537699 ,  8.39471961, 22.15552917,  9.35980662, 17.23025755,\n",
       "       11.04593564, 17.71834753, 19.20480338, 12.77643648, 12.31053241,\n",
       "       14.75652879, 20.29191288, 20.46385367,  9.08248277,  9.45409673,\n",
       "       22.54378256, 13.68605872, 17.93466013, 16.47593667, 17.39110538,\n",
       "        7.20222705, 12.18296344, 15.2834441 ,  7.6237593 , 14.27953176,\n",
       "       16.54249439, 11.72815232, 17.42438424, 16.04331146, 13.47529259,\n",
       "       19.98131016,  7.96764088, 18.44493602, 18.92193305, 22.74345573,\n",
       "        9.74806001, 16.09877623,  8.06193099, 16.31508884, 19.31018644,\n",
       "       22.33301643, 20.75227047, 16.41492542, 22.32192348, 16.15978748,\n",
       "       15.66060454, 19.09387384, 10.09194159, 22.92648948, 21.05178023,\n",
       "       18.34509943, 14.71215697, 17.57413912, 22.83774584,  8.0120127 ,\n",
       "        9.16567992, 11.16241166,  7.92881554, 16.2263452 , 15.27789763,\n",
       "        9.09357572, 12.19960287, 16.79208586, 22.70463039, 19.84819471])"
      ]
     },
     "execution_count": 28,
     "metadata": {},
     "output_type": "execute_result"
    }
   ],
   "source": [
    "y_predicted"
   ]
  },
  {
   "cell_type": "code",
   "execution_count": 29,
   "metadata": {},
   "outputs": [
    {
     "data": {
      "text/plain": [
       "pandas.core.series.Series"
      ]
     },
     "execution_count": 29,
     "metadata": {},
     "output_type": "execute_result"
    }
   ],
   "source": [
    "type(y_observed)"
   ]
  },
  {
   "cell_type": "code",
   "execution_count": 30,
   "metadata": {},
   "outputs": [
    {
     "data": {
      "text/plain": [
       "numpy.ndarray"
      ]
     },
     "execution_count": 30,
     "metadata": {},
     "output_type": "execute_result"
    }
   ],
   "source": [
    "type(y_predicted)"
   ]
  },
  {
   "cell_type": "code",
   "execution_count": 31,
   "metadata": {},
   "outputs": [
    {
     "data": {
      "text/plain": [
       "(200,)"
      ]
     },
     "execution_count": 31,
     "metadata": {},
     "output_type": "execute_result"
    }
   ],
   "source": [
    "y_predicted.shape"
   ]
  },
  {
   "cell_type": "code",
   "execution_count": 32,
   "metadata": {
    "ExecuteTime": {
     "end_time": "2021-02-13T13:54:46.758995Z",
     "start_time": "2021-02-13T13:54:46.739892Z"
    }
   },
   "outputs": [
    {
     "data": {
      "text/plain": [
       "0.8121757029987414"
      ]
     },
     "execution_count": 32,
     "metadata": {},
     "output_type": "execute_result"
    }
   ],
   "source": [
    "r2_score(y_observed, y_predicted)"
   ]
  },
  {
   "cell_type": "markdown",
   "metadata": {},
   "source": [
    "Also, you could use the model's  `model.score(X, y)` method."
   ]
  },
  {
   "cell_type": "code",
   "execution_count": 33,
   "metadata": {
    "ExecuteTime": {
     "end_time": "2021-02-13T13:54:47.683683Z",
     "start_time": "2021-02-13T13:54:47.676141Z"
    }
   },
   "outputs": [
    {
     "data": {
      "text/plain": [
       "0.8121757029987414"
      ]
     },
     "execution_count": 33,
     "metadata": {},
     "output_type": "execute_result"
    }
   ],
   "source": [
    "model.score(X, y)"
   ]
  },
  {
   "cell_type": "markdown",
   "metadata": {},
   "source": [
    "## Using Newspaper"
   ]
  },
  {
   "cell_type": "code",
   "execution_count": 34,
   "metadata": {
    "ExecuteTime": {
     "end_time": "2021-02-13T13:54:48.598595Z",
     "start_time": "2021-02-13T13:54:48.396087Z"
    }
   },
   "outputs": [
    {
     "name": "stderr",
     "output_type": "stream",
     "text": [
      "C:\\Users\\natmc\\AppData\\Roaming\\Python\\Python39\\site-packages\\seaborn\\_decorators.py:36: FutureWarning: Pass the following variables as keyword args: x, y. From version 0.12, the only valid positional argument will be `data`, and passing other arguments without an explicit keyword will result in an error or misinterpretation.\n",
      "  warnings.warn(\n"
     ]
    },
    {
     "data": {
      "image/png": "[encoded data removed]",
      "text/plain": [
       "<Figure size 432x288 with 1 Axes>"
      ]
     },
     "metadata": {
      "needs_background": "light"
     },
     "output_type": "display_data"
    }
   ],
   "source": [
    "sns.regplot(df['Newspaper'], df['Sales']);"
   ]
  },
  {
   "cell_type": "code",
   "execution_count": 35,
   "metadata": {
    "ExecuteTime": {
     "end_time": "2021-02-13T13:54:49.265942Z",
     "start_time": "2021-02-13T13:54:49.243915Z"
    }
   },
   "outputs": [
    {
     "data": {
      "text/plain": [
       "0.024951369862864836"
      ]
     },
     "execution_count": 35,
     "metadata": {},
     "output_type": "execute_result"
    }
   ],
   "source": [
    "model = LinearRegression()\n",
    "\n",
    "model.fit(df[['Newspaper']], df['Sales'])\n",
    "\n",
    "model.score(df[['Newspaper']], df['Sales']) "
   ]
  },
  {
   "cell_type": "code",
   "execution_count": 36,
   "metadata": {
    "ExecuteTime": {
     "end_time": "2021-02-13T13:54:49.607879Z",
     "start_time": "2021-02-13T13:54:49.602903Z"
    }
   },
   "outputs": [
    {
     "data": {
      "text/plain": [
       "array([0.038324])"
      ]
     },
     "execution_count": 36,
     "metadata": {},
     "output_type": "execute_result"
    }
   ],
   "source": [
    "model.coef_"
   ]
  },
  {
   "cell_type": "markdown",
   "metadata": {},
   "source": [
    "----"
   ]
  },
  {
   "cell_type": "markdown",
   "metadata": {},
   "source": [
    "# Multiple Linear Regression\n",
    "\n",
    "Same thing, except that now we'll use more than 1 predictor variable"
   ]
  },
  {
   "cell_type": "markdown",
   "metadata": {},
   "source": [
    "$$y = a_0 + a_1 x_1 + a_2 x_2 + ... + a_n x_n$$"
   ]
  },
  {
   "cell_type": "code",
   "execution_count": 37,
   "metadata": {
    "ExecuteTime": {
     "end_time": "2021-02-13T14:00:00.818043Z",
     "start_time": "2021-02-13T14:00:00.797589Z"
    },
    "scrolled": true
   },
   "outputs": [
    {
     "data": {
      "text/plain": [
       "array([0.05444896, 0.10717457])"
      ]
     },
     "execution_count": 37,
     "metadata": {},
     "output_type": "execute_result"
    }
   ],
   "source": [
    "X = df[['TV','Radio']]\n",
    "y = df['Sales']\n",
    "\n",
    "model.fit(X,y)\n",
    "\n",
    "model.coef_ "
   ]
  },
  {
   "cell_type": "code",
   "execution_count": 38,
   "metadata": {
    "ExecuteTime": {
     "end_time": "2021-02-13T13:54:53.010094Z",
     "start_time": "2021-02-13T13:54:53.004098Z"
    }
   },
   "outputs": [
    {
     "data": {
      "text/plain": [
       "4.63087946409777"
      ]
     },
     "execution_count": 38,
     "metadata": {},
     "output_type": "execute_result"
    }
   ],
   "source": [
    "model.intercept_"
   ]
  },
  {
   "cell_type": "code",
   "execution_count": 39,
   "metadata": {
    "ExecuteTime": {
     "end_time": "2021-02-13T14:00:05.215737Z",
     "start_time": "2021-02-13T14:00:05.198407Z"
    }
   },
   "outputs": [
    {
     "data": {
      "text/plain": [
       "0.9025896186081139"
      ]
     },
     "execution_count": 39,
     "metadata": {},
     "output_type": "execute_result"
    }
   ],
   "source": [
    "model.score(X, y)"
   ]
  },
  {
   "cell_type": "code",
   "execution_count": 40,
   "metadata": {
    "ExecuteTime": {
     "end_time": "2020-11-24T17:28:37.332679Z",
     "start_time": "2020-11-24T17:28:37.314190Z"
    }
   },
   "outputs": [
    {
     "data": {
      "text/plain": [
       "1.6450083823140502"
      ]
     },
     "execution_count": 40,
     "metadata": {},
     "output_type": "execute_result"
    }
   ],
   "source": [
    "np.sqrt(mean_squared_error(y, model.predict(X)))"
   ]
  },
  {
   "cell_type": "markdown",
   "metadata": {},
   "source": [
    "> Any number of variables can be used. It doesn't mean you should."
   ]
  },
  {
   "cell_type": "code",
   "execution_count": 41,
   "metadata": {
    "ExecuteTime": {
     "end_time": "2020-11-24T17:31:24.875726Z",
     "start_time": "2020-11-24T17:31:24.854771Z"
    }
   },
   "outputs": [
    {
     "data": {
      "text/html": [
       "<div>\n",
       "<style scoped>\n",
       "    .dataframe tbody tr th:only-of-type {\n",
       "        vertical-align: middle;\n",
       "    }\n",
       "\n",
       "    .dataframe tbody tr th {\n",
       "        vertical-align: top;\n",
       "    }\n",
       "\n",
       "    .dataframe thead th {\n",
       "        text-align: right;\n",
       "    }\n",
       "</style>\n",
       "<table border=\"1\" class=\"dataframe\">\n",
       "  <thead>\n",
       "    <tr style=\"text-align: right;\">\n",
       "      <th></th>\n",
       "      <th>TV</th>\n",
       "      <th>Radio</th>\n",
       "      <th>Newspaper</th>\n",
       "    </tr>\n",
       "  </thead>\n",
       "  <tbody>\n",
       "    <tr>\n",
       "      <th>0</th>\n",
       "      <td>230.1</td>\n",
       "      <td>37.8</td>\n",
       "      <td>69.2</td>\n",
       "    </tr>\n",
       "    <tr>\n",
       "      <th>1</th>\n",
       "      <td>44.5</td>\n",
       "      <td>39.3</td>\n",
       "      <td>45.1</td>\n",
       "    </tr>\n",
       "    <tr>\n",
       "      <th>2</th>\n",
       "      <td>17.2</td>\n",
       "      <td>45.9</td>\n",
       "      <td>69.3</td>\n",
       "    </tr>\n",
       "    <tr>\n",
       "      <th>3</th>\n",
       "      <td>151.5</td>\n",
       "      <td>41.3</td>\n",
       "      <td>58.5</td>\n",
       "    </tr>\n",
       "    <tr>\n",
       "      <th>4</th>\n",
       "      <td>180.8</td>\n",
       "      <td>10.8</td>\n",
       "      <td>58.4</td>\n",
       "    </tr>\n",
       "    <tr>\n",
       "      <th>...</th>\n",
       "      <td>...</td>\n",
       "      <td>...</td>\n",
       "      <td>...</td>\n",
       "    </tr>\n",
       "    <tr>\n",
       "      <th>195</th>\n",
       "      <td>38.2</td>\n",
       "      <td>3.7</td>\n",
       "      <td>13.8</td>\n",
       "    </tr>\n",
       "    <tr>\n",
       "      <th>196</th>\n",
       "      <td>94.2</td>\n",
       "      <td>4.9</td>\n",
       "      <td>8.1</td>\n",
       "    </tr>\n",
       "    <tr>\n",
       "      <th>197</th>\n",
       "      <td>177.0</td>\n",
       "      <td>9.3</td>\n",
       "      <td>6.4</td>\n",
       "    </tr>\n",
       "    <tr>\n",
       "      <th>198</th>\n",
       "      <td>283.6</td>\n",
       "      <td>42.0</td>\n",
       "      <td>66.2</td>\n",
       "    </tr>\n",
       "    <tr>\n",
       "      <th>199</th>\n",
       "      <td>232.1</td>\n",
       "      <td>8.6</td>\n",
       "      <td>8.7</td>\n",
       "    </tr>\n",
       "  </tbody>\n",
       "</table>\n",
       "<p>200 rows × 3 columns</p>\n",
       "</div>"
      ],
      "text/plain": [
       "        TV  Radio  Newspaper\n",
       "0    230.1   37.8       69.2\n",
       "1     44.5   39.3       45.1\n",
       "2     17.2   45.9       69.3\n",
       "3    151.5   41.3       58.5\n",
       "4    180.8   10.8       58.4\n",
       "..     ...    ...        ...\n",
       "195   38.2    3.7       13.8\n",
       "196   94.2    4.9        8.1\n",
       "197  177.0    9.3        6.4\n",
       "198  283.6   42.0       66.2\n",
       "199  232.1    8.6        8.7\n",
       "\n",
       "[200 rows x 3 columns]"
      ]
     },
     "execution_count": 41,
     "metadata": {},
     "output_type": "execute_result"
    }
   ],
   "source": [
    "X = df[['TV','Radio','Newspaper']]\n",
    "y = df['Sales']\n",
    "\n",
    "X"
   ]
  },
  {
   "cell_type": "code",
   "execution_count": 42,
   "metadata": {
    "ExecuteTime": {
     "end_time": "2020-11-24T17:31:28.792159Z",
     "start_time": "2020-11-24T17:31:28.784180Z"
    }
   },
   "outputs": [
    {
     "data": {
      "text/plain": [
       "LinearRegression()"
      ]
     },
     "execution_count": 42,
     "metadata": {},
     "output_type": "execute_result"
    }
   ],
   "source": [
    "model.fit(X,y)"
   ]
  },
  {
   "cell_type": "code",
   "execution_count": 43,
   "metadata": {
    "ExecuteTime": {
     "end_time": "2020-11-24T17:31:30.394145Z",
     "start_time": "2020-11-24T17:31:30.384130Z"
    }
   },
   "outputs": [
    {
     "data": {
      "text/plain": [
       "array([0.05444578, 0.10700123, 0.00033566])"
      ]
     },
     "execution_count": 43,
     "metadata": {},
     "output_type": "execute_result"
    }
   ],
   "source": [
    "model.coef_"
   ]
  },
  {
   "cell_type": "code",
   "execution_count": 44,
   "metadata": {
    "ExecuteTime": {
     "end_time": "2020-11-24T17:31:32.964769Z",
     "start_time": "2020-11-24T17:31:32.960489Z"
    }
   },
   "outputs": [
    {
     "data": {
      "text/plain": [
       "0.9025912899684558"
      ]
     },
     "execution_count": 44,
     "metadata": {},
     "output_type": "execute_result"
    }
   ],
   "source": [
    "model.score(X, y)"
   ]
  },
  {
   "cell_type": "code",
   "execution_count": 45,
   "metadata": {
    "ExecuteTime": {
     "end_time": "2020-04-25T19:10:14.659813Z",
     "start_time": "2020-04-25T19:10:14.650838Z"
    }
   },
   "outputs": [
    {
     "data": {
      "text/html": [
       "<div>\n",
       "<style scoped>\n",
       "    .dataframe tbody tr th:only-of-type {\n",
       "        vertical-align: middle;\n",
       "    }\n",
       "\n",
       "    .dataframe tbody tr th {\n",
       "        vertical-align: top;\n",
       "    }\n",
       "\n",
       "    .dataframe thead th {\n",
       "        text-align: right;\n",
       "    }\n",
       "</style>\n",
       "<table border=\"1\" class=\"dataframe\">\n",
       "  <thead>\n",
       "    <tr style=\"text-align: right;\">\n",
       "      <th></th>\n",
       "      <th>TV</th>\n",
       "      <th>Radio</th>\n",
       "      <th>Newspaper</th>\n",
       "    </tr>\n",
       "  </thead>\n",
       "  <tbody>\n",
       "    <tr>\n",
       "      <th>0</th>\n",
       "      <td>230.1</td>\n",
       "      <td>37.8</td>\n",
       "      <td>69.2</td>\n",
       "    </tr>\n",
       "    <tr>\n",
       "      <th>1</th>\n",
       "      <td>44.5</td>\n",
       "      <td>39.3</td>\n",
       "      <td>45.1</td>\n",
       "    </tr>\n",
       "    <tr>\n",
       "      <th>2</th>\n",
       "      <td>17.2</td>\n",
       "      <td>45.9</td>\n",
       "      <td>69.3</td>\n",
       "    </tr>\n",
       "    <tr>\n",
       "      <th>3</th>\n",
       "      <td>151.5</td>\n",
       "      <td>41.3</td>\n",
       "      <td>58.5</td>\n",
       "    </tr>\n",
       "    <tr>\n",
       "      <th>4</th>\n",
       "      <td>180.8</td>\n",
       "      <td>10.8</td>\n",
       "      <td>58.4</td>\n",
       "    </tr>\n",
       "  </tbody>\n",
       "</table>\n",
       "</div>"
      ],
      "text/plain": [
       "      TV  Radio  Newspaper\n",
       "0  230.1   37.8       69.2\n",
       "1   44.5   39.3       45.1\n",
       "2   17.2   45.9       69.3\n",
       "3  151.5   41.3       58.5\n",
       "4  180.8   10.8       58.4"
      ]
     },
     "execution_count": 45,
     "metadata": {},
     "output_type": "execute_result"
    }
   ],
   "source": [
    "X.head()"
   ]
  },
  {
   "cell_type": "markdown",
   "metadata": {},
   "source": [
    "0.9025896186081139"
   ]
  },
  {
   "cell_type": "code",
   "execution_count": 46,
   "metadata": {
    "ExecuteTime": {
     "end_time": "2021-02-13T14:01:32.916975Z",
     "start_time": "2021-02-13T14:01:32.902961Z"
    }
   },
   "outputs": [
    {
     "data": {
      "text/html": [
       "<div>\n",
       "<style scoped>\n",
       "    .dataframe tbody tr th:only-of-type {\n",
       "        vertical-align: middle;\n",
       "    }\n",
       "\n",
       "    .dataframe tbody tr th {\n",
       "        vertical-align: top;\n",
       "    }\n",
       "\n",
       "    .dataframe thead th {\n",
       "        text-align: right;\n",
       "    }\n",
       "</style>\n",
       "<table border=\"1\" class=\"dataframe\">\n",
       "  <thead>\n",
       "    <tr style=\"text-align: right;\">\n",
       "      <th></th>\n",
       "      <th>TV</th>\n",
       "      <th>Radio</th>\n",
       "      <th>Newspaper</th>\n",
       "    </tr>\n",
       "  </thead>\n",
       "  <tbody>\n",
       "    <tr>\n",
       "      <th>TV</th>\n",
       "      <td>1.000000</td>\n",
       "      <td>0.054809</td>\n",
       "      <td>0.056648</td>\n",
       "    </tr>\n",
       "    <tr>\n",
       "      <th>Radio</th>\n",
       "      <td>0.054809</td>\n",
       "      <td>1.000000</td>\n",
       "      <td>0.354104</td>\n",
       "    </tr>\n",
       "    <tr>\n",
       "      <th>Newspaper</th>\n",
       "      <td>0.056648</td>\n",
       "      <td>0.354104</td>\n",
       "      <td>1.000000</td>\n",
       "    </tr>\n",
       "  </tbody>\n",
       "</table>\n",
       "</div>"
      ],
      "text/plain": [
       "                 TV     Radio  Newspaper\n",
       "TV         1.000000  0.054809   0.056648\n",
       "Radio      0.054809  1.000000   0.354104\n",
       "Newspaper  0.056648  0.354104   1.000000"
      ]
     },
     "execution_count": 46,
     "metadata": {},
     "output_type": "execute_result"
    }
   ],
   "source": [
    "X.corr()"
   ]
  },
  {
   "cell_type": "code",
   "execution_count": 47,
   "metadata": {},
   "outputs": [
    {
     "data": {
      "text/html": [
       "<div>\n",
       "<style scoped>\n",
       "    .dataframe tbody tr th:only-of-type {\n",
       "        vertical-align: middle;\n",
       "    }\n",
       "\n",
       "    .dataframe tbody tr th {\n",
       "        vertical-align: top;\n",
       "    }\n",
       "\n",
       "    .dataframe thead th {\n",
       "        text-align: right;\n",
       "    }\n",
       "</style>\n",
       "<table border=\"1\" class=\"dataframe\">\n",
       "  <thead>\n",
       "    <tr style=\"text-align: right;\">\n",
       "      <th></th>\n",
       "      <th>TV</th>\n",
       "      <th>Radio</th>\n",
       "      <th>Newspaper</th>\n",
       "    </tr>\n",
       "  </thead>\n",
       "  <tbody>\n",
       "    <tr>\n",
       "      <th>0</th>\n",
       "      <td>230.1</td>\n",
       "      <td>37.8</td>\n",
       "      <td>69.2</td>\n",
       "    </tr>\n",
       "    <tr>\n",
       "      <th>1</th>\n",
       "      <td>44.5</td>\n",
       "      <td>39.3</td>\n",
       "      <td>45.1</td>\n",
       "    </tr>\n",
       "    <tr>\n",
       "      <th>2</th>\n",
       "      <td>17.2</td>\n",
       "      <td>45.9</td>\n",
       "      <td>69.3</td>\n",
       "    </tr>\n",
       "    <tr>\n",
       "      <th>3</th>\n",
       "      <td>151.5</td>\n",
       "      <td>41.3</td>\n",
       "      <td>58.5</td>\n",
       "    </tr>\n",
       "    <tr>\n",
       "      <th>4</th>\n",
       "      <td>180.8</td>\n",
       "      <td>10.8</td>\n",
       "      <td>58.4</td>\n",
       "    </tr>\n",
       "    <tr>\n",
       "      <th>...</th>\n",
       "      <td>...</td>\n",
       "      <td>...</td>\n",
       "      <td>...</td>\n",
       "    </tr>\n",
       "    <tr>\n",
       "      <th>195</th>\n",
       "      <td>38.2</td>\n",
       "      <td>3.7</td>\n",
       "      <td>13.8</td>\n",
       "    </tr>\n",
       "    <tr>\n",
       "      <th>196</th>\n",
       "      <td>94.2</td>\n",
       "      <td>4.9</td>\n",
       "      <td>8.1</td>\n",
       "    </tr>\n",
       "    <tr>\n",
       "      <th>197</th>\n",
       "      <td>177.0</td>\n",
       "      <td>9.3</td>\n",
       "      <td>6.4</td>\n",
       "    </tr>\n",
       "    <tr>\n",
       "      <th>198</th>\n",
       "      <td>283.6</td>\n",
       "      <td>42.0</td>\n",
       "      <td>66.2</td>\n",
       "    </tr>\n",
       "    <tr>\n",
       "      <th>199</th>\n",
       "      <td>232.1</td>\n",
       "      <td>8.6</td>\n",
       "      <td>8.7</td>\n",
       "    </tr>\n",
       "  </tbody>\n",
       "</table>\n",
       "<p>200 rows × 3 columns</p>\n",
       "</div>"
      ],
      "text/plain": [
       "        TV  Radio  Newspaper\n",
       "0    230.1   37.8       69.2\n",
       "1     44.5   39.3       45.1\n",
       "2     17.2   45.9       69.3\n",
       "3    151.5   41.3       58.5\n",
       "4    180.8   10.8       58.4\n",
       "..     ...    ...        ...\n",
       "195   38.2    3.7       13.8\n",
       "196   94.2    4.9        8.1\n",
       "197  177.0    9.3        6.4\n",
       "198  283.6   42.0       66.2\n",
       "199  232.1    8.6        8.7\n",
       "\n",
       "[200 rows x 3 columns]"
      ]
     },
     "execution_count": 47,
     "metadata": {},
     "output_type": "execute_result"
    }
   ],
   "source": [
    "X"
   ]
  },
  {
   "cell_type": "code",
   "execution_count": 48,
   "metadata": {
    "ExecuteTime": {
     "end_time": "2020-11-24T15:46:30.536420Z",
     "start_time": "2020-11-24T15:46:30.522948Z"
    },
    "scrolled": true
   },
   "outputs": [
    {
     "data": {
      "text/html": [
       "<div>\n",
       "<style scoped>\n",
       "    .dataframe tbody tr th:only-of-type {\n",
       "        vertical-align: middle;\n",
       "    }\n",
       "\n",
       "    .dataframe tbody tr th {\n",
       "        vertical-align: top;\n",
       "    }\n",
       "\n",
       "    .dataframe thead th {\n",
       "        text-align: right;\n",
       "    }\n",
       "</style>\n",
       "<table border=\"1\" class=\"dataframe\">\n",
       "  <thead>\n",
       "    <tr style=\"text-align: right;\">\n",
       "      <th></th>\n",
       "      <th>coefs</th>\n",
       "      <th>Columns</th>\n",
       "    </tr>\n",
       "  </thead>\n",
       "  <tbody>\n",
       "    <tr>\n",
       "      <th>0</th>\n",
       "      <td>0.054446</td>\n",
       "      <td>TV</td>\n",
       "    </tr>\n",
       "    <tr>\n",
       "      <th>1</th>\n",
       "      <td>0.107001</td>\n",
       "      <td>Radio</td>\n",
       "    </tr>\n",
       "    <tr>\n",
       "      <th>2</th>\n",
       "      <td>0.000336</td>\n",
       "      <td>Newspaper</td>\n",
       "    </tr>\n",
       "  </tbody>\n",
       "</table>\n",
       "</div>"
      ],
      "text/plain": [
       "      coefs    Columns\n",
       "0  0.054446         TV\n",
       "1  0.107001      Radio\n",
       "2  0.000336  Newspaper"
      ]
     },
     "execution_count": 48,
     "metadata": {},
     "output_type": "execute_result"
    }
   ],
   "source": [
    "pd.DataFrame({'coefs':model.coef_,'Columns':X.columns})"
   ]
  },
  {
   "cell_type": "code",
   "execution_count": 49,
   "metadata": {
    "ExecuteTime": {
     "end_time": "2020-11-24T18:50:01.667991Z",
     "start_time": "2020-11-24T18:50:01.658018Z"
    }
   },
   "outputs": [
    {
     "data": {
      "text/html": [
       "<div>\n",
       "<style scoped>\n",
       "    .dataframe tbody tr th:only-of-type {\n",
       "        vertical-align: middle;\n",
       "    }\n",
       "\n",
       "    .dataframe tbody tr th {\n",
       "        vertical-align: top;\n",
       "    }\n",
       "\n",
       "    .dataframe thead th {\n",
       "        text-align: right;\n",
       "    }\n",
       "</style>\n",
       "<table border=\"1\" class=\"dataframe\">\n",
       "  <thead>\n",
       "    <tr style=\"text-align: right;\">\n",
       "      <th></th>\n",
       "      <th>TV</th>\n",
       "      <th>Radio</th>\n",
       "      <th>Newspaper</th>\n",
       "      <th>Sales</th>\n",
       "    </tr>\n",
       "  </thead>\n",
       "  <tbody>\n",
       "    <tr>\n",
       "      <th>0</th>\n",
       "      <td>230.1</td>\n",
       "      <td>37.8</td>\n",
       "      <td>69.2</td>\n",
       "      <td>22.1</td>\n",
       "    </tr>\n",
       "    <tr>\n",
       "      <th>1</th>\n",
       "      <td>44.5</td>\n",
       "      <td>39.3</td>\n",
       "      <td>45.1</td>\n",
       "      <td>10.4</td>\n",
       "    </tr>\n",
       "    <tr>\n",
       "      <th>2</th>\n",
       "      <td>17.2</td>\n",
       "      <td>45.9</td>\n",
       "      <td>69.3</td>\n",
       "      <td>12.0</td>\n",
       "    </tr>\n",
       "    <tr>\n",
       "      <th>3</th>\n",
       "      <td>151.5</td>\n",
       "      <td>41.3</td>\n",
       "      <td>58.5</td>\n",
       "      <td>16.5</td>\n",
       "    </tr>\n",
       "    <tr>\n",
       "      <th>4</th>\n",
       "      <td>180.8</td>\n",
       "      <td>10.8</td>\n",
       "      <td>58.4</td>\n",
       "      <td>17.9</td>\n",
       "    </tr>\n",
       "  </tbody>\n",
       "</table>\n",
       "</div>"
      ],
      "text/plain": [
       "      TV  Radio  Newspaper  Sales\n",
       "0  230.1   37.8       69.2   22.1\n",
       "1   44.5   39.3       45.1   10.4\n",
       "2   17.2   45.9       69.3   12.0\n",
       "3  151.5   41.3       58.5   16.5\n",
       "4  180.8   10.8       58.4   17.9"
      ]
     },
     "execution_count": 49,
     "metadata": {},
     "output_type": "execute_result"
    }
   ],
   "source": [
    "df.head()"
   ]
  },
  {
   "cell_type": "markdown",
   "metadata": {},
   "source": [
    "# Standardization (Z-score)"
   ]
  },
  {
   "cell_type": "markdown",
   "metadata": {},
   "source": [
    "Standardize a variables means: transform it into a variable that has **mean = 0** and **standard deviation = 1**. In this manner, all variables are scaled to the same scale!\n",
    "\n",
    "$$X_{std} = \\frac{X - \\mu}{\\sigma}$$\n",
    "\n",
    "$\\mu \\rightarrow$ média\n",
    "\n",
    "$\\sigma \\rightarrow$ desvio padrão\n",
    "\n",
    "<br><br>\n",
    "<b>Understanding:</b>\n",
    "\n",
    "If $X_{std}$ > 0 $\\rightarrow$ it means that that specific observation is <u>above average</u>\n",
    "\n",
    "If $X_{std}$ < 0 $\\rightarrow$ it means that that specific observation is <u>below average</u>\n",
    "\n",
    "If $X_{std}$ = 0 $\\rightarrow$ it means that that specific observation is <u>the average</u>\n",
    "\n",
    "If $X_{std}$ = 1 $\\rightarrow$ it means that that specific observation is <u>1 standard deviation above average</u>\n",
    "\n",
    "If $X_{std}$ = -2 $\\rightarrow$ it means that that specific observation is <u>2 standard deviations below average</u>\n"
   ]
  },
  {
   "cell_type": "code",
   "execution_count": 50,
   "metadata": {
    "ExecuteTime": {
     "end_time": "2020-11-24T18:44:09.745656Z",
     "start_time": "2020-11-24T18:44:09.726288Z"
    }
   },
   "outputs": [],
   "source": [
    "X_std = (X - X.mean())/X.std()"
   ]
  },
  {
   "cell_type": "code",
   "execution_count": 51,
   "metadata": {
    "ExecuteTime": {
     "end_time": "2020-11-24T18:44:13.088737Z",
     "start_time": "2020-11-24T18:44:13.081232Z"
    }
   },
   "outputs": [
    {
     "data": {
      "text/plain": [
       "LinearRegression()"
      ]
     },
     "execution_count": 51,
     "metadata": {},
     "output_type": "execute_result"
    }
   ],
   "source": [
    "model.fit(X_std, y)"
   ]
  },
  {
   "cell_type": "code",
   "execution_count": 52,
   "metadata": {
    "ExecuteTime": {
     "end_time": "2020-11-24T18:44:19.626454Z",
     "start_time": "2020-11-24T18:44:19.608980Z"
    }
   },
   "outputs": [
    {
     "data": {
      "text/plain": [
       "array([4.67440089, 1.58862682, 0.00731017])"
      ]
     },
     "execution_count": 52,
     "metadata": {},
     "output_type": "execute_result"
    }
   ],
   "source": [
    "model.coef_"
   ]
  },
  {
   "cell_type": "code",
   "execution_count": 53,
   "metadata": {},
   "outputs": [
    {
     "data": {
      "text/plain": [
       "[(37.8, 0.9790655909643112),\n",
       " (39.3, 1.0800974007088397),\n",
       " (45.9, 1.5246373635847659),\n",
       " (41.3, 1.2148064803682113),\n",
       " (10.8, -0.8395069844372034)]"
      ]
     },
     "execution_count": 53,
     "metadata": {},
     "output_type": "execute_result"
    }
   ],
   "source": [
    "list(zip(X['Radio'].head(), X_std['Radio'].head()))"
   ]
  },
  {
   "cell_type": "code",
   "execution_count": 54,
   "metadata": {},
   "outputs": [
    {
     "data": {
      "text/plain": [
       "[(230.1, 0.967424597376304),\n",
       " (44.5, -1.1943790359264321),\n",
       " (17.2, -1.5123598505232247),\n",
       " (151.5, 0.05191939491081341),\n",
       " (180.8, 0.39319550728026487)]"
      ]
     },
     "execution_count": 54,
     "metadata": {},
     "output_type": "execute_result"
    }
   ],
   "source": [
    "list(zip(X['TV'].head(), X_std['TV'].head()))"
   ]
  },
  {
   "cell_type": "code",
   "execution_count": 55,
   "metadata": {
    "ExecuteTime": {
     "end_time": "2020-11-24T18:45:39.211564Z",
     "start_time": "2020-11-24T18:45:39.207321Z"
    }
   },
   "outputs": [
    {
     "data": {
      "text/plain": [
       "StandardScaler()"
      ]
     },
     "execution_count": 55,
     "metadata": {},
     "output_type": "execute_result"
    }
   ],
   "source": [
    "# good way to Standardize\n",
    "\n",
    "from sklearn.preprocessing import StandardScaler\n",
    "\n",
    "scaler = StandardScaler()\n",
    "scaler.fit(X) "
   ]
  },
  {
   "cell_type": "code",
   "execution_count": 56,
   "metadata": {
    "ExecuteTime": {
     "end_time": "2020-11-24T18:45:40.297550Z",
     "start_time": "2020-11-24T18:45:40.282084Z"
    }
   },
   "outputs": [
    {
     "data": {
      "text/plain": [
       "array([[ 9.69852266e-01,  9.81522472e-01,  1.77894547e+00],\n",
       "       [-1.19737623e+00,  1.08280781e+00,  6.69578760e-01],\n",
       "       [-1.51615499e+00,  1.52846331e+00,  1.78354865e+00],\n",
       "       [ 5.20496822e-02,  1.21785493e+00,  1.28640506e+00],\n",
       "       [ 3.94182198e-01, -8.41613655e-01,  1.28180188e+00],\n",
       "       [-1.61540845e+00,  1.73103399e+00,  2.04592999e+00],\n",
       "       [-1.04557682e+00,  6.43904671e-01, -3.24708413e-01],\n",
       "       [-3.13436589e-01, -2.47406325e-01, -8.72486994e-01],\n",
       "       [-1.61657614e+00, -1.42906863e+00, -1.36042422e+00],\n",
       "       [ 6.16042873e-01, -1.39530685e+00, -4.30581584e-01],\n",
       "       [-9.45155670e-01, -1.17923146e+00, -2.92486143e-01],\n",
       "       [ 7.90028350e-01,  4.96973404e-02, -1.22232878e+00],\n",
       "       [-1.43908760e+00,  7.99208859e-01,  1.62704048e+00],\n",
       "       [-5.78501712e-01, -1.05768905e+00, -1.07502697e+00],\n",
       "       [ 6.66253447e-01,  6.50657027e-01,  7.11007392e-01],\n",
       "       [ 5.64664612e-01,  1.65000572e+00,  1.02862691e+00],\n",
       "       [-9.25304978e-01,  9.00494200e-01,  3.84117072e+00],\n",
       "       [ 1.56887609e+00,  1.10306488e+00,  1.16211917e+00],\n",
       "       [-9.08957349e-01, -1.86635121e-01, -5.64073843e-01],\n",
       "       [ 3.00679600e-03,  4.29449843e-02, -5.27248393e-01],\n",
       "       [ 8.33232798e-01,  2.99534513e-01,  1.05164281e+00],\n",
       "       [ 1.05509347e+00, -1.22649795e+00, -3.24708413e-01],\n",
       "       [-1.56286250e+00, -4.97243498e-01,  8.76721921e-01],\n",
       "       [ 9.48833887e-01, -4.29719938e-01, -2.00422516e-01],\n",
       "       [-9.89527805e-01, -7.20071247e-01, -5.64073843e-01],\n",
       "       [ 1.35285385e+00, -1.33453565e+00, -5.08835667e-01],\n",
       "       [-4.83714657e-02,  4.07572210e-01, -8.26455181e-01],\n",
       "       [ 1.08662104e+00, -4.43224650e-01, -3.52327501e-01],\n",
       "       [ 1.18820988e+00,  2.59020377e-01, -3.52327501e-01],\n",
       "       [-8.92609721e-01, -4.90491142e-01,  4.71641962e-01],\n",
       "       [ 1.70316018e+00,  3.40048650e-01,  5.82118314e-01],\n",
       "       [-3.98677796e-01, -3.95958157e-01,  3.70371972e-01],\n",
       "       [-5.82004775e-01, -1.46958277e+00, -2.55016247e-02],\n",
       "       [ 1.38438142e+00, -2.20396901e-01, -1.39264649e+00],\n",
       "       [-5.99520091e-01, -1.47633512e+00, -1.06582061e+00],\n",
       "       [ 1.67747105e+00, -1.29402151e+00, -1.01518562e+00],\n",
       "       [ 1.39956136e+00,  1.38666383e+00, -1.17629696e+00],\n",
       "       [-8.44734522e-01,  1.76479577e+00,  6.97197848e-01],\n",
       "       [-1.21372386e+00,  2.32010953e-01,  2.09260624e-01],\n",
       "       [ 9.45330823e-01,  9.74770116e-01,  6.65620024e-02],\n",
       "       [ 6.47570443e-01, -6.50927121e-02,  4.81492770e-02],\n",
       "       [ 3.49810063e-01,  6.84418807e-01,  3.74975153e-01],\n",
       "       [ 1.71133400e+00,  2.99534513e-01, -1.32359877e+00],\n",
       "       [ 6.98948705e-01, -1.00367020e+00, -1.91216154e-01],\n",
       "       [-1.42390765e+00,  1.64487393e-01,  5.86721496e-01],\n",
       "       [ 3.27623995e-01, -5.15880000e-02,  4.35460956e-02],\n",
       "       [-6.69581357e-01, -9.02384859e-01,  2.36879713e-01],\n",
       "       [ 1.08428567e+00,  1.23135965e+00, -5.54867481e-01],\n",
       "       [ 9.35989321e-01, -5.03995854e-01,  8.90531465e-01],\n",
       "       [-9.35814168e-01, -7.80842451e-01,  2.87514708e-01],\n",
       "       [ 6.16042873e-01, -1.36154507e+00,  1.86244718e-01],\n",
       "       [-5.44638766e-01, -9.22641928e-01, -1.24074150e+00],\n",
       "       [ 8.09879042e-01,  1.24486436e+00,  4.16403786e-01],\n",
       "       [ 4.15200577e-01,  1.54872038e+00,  1.29561142e+00],\n",
       "       [ 1.35051848e+00,  3.73810430e-01, -6.74550196e-01],\n",
       "       [ 6.05533683e-01,  1.76479577e+00,  1.35545278e+00],\n",
       "       [-1.63175608e+00,  3.26543937e-01,  4.99261050e-01],\n",
       "       [-1.26606546e-01, -2.74415749e-01, -6.42327927e-01],\n",
       "       [ 7.44488528e-01,  1.77830048e+00,  3.28943340e-01],\n",
       "       [ 7.43320840e-01,  4.21076922e-01, -9.78360166e-01],\n",
       "       [-1.09228433e+00, -1.43582099e+00, -4.21375221e-01],\n",
       "       [ 1.33417085e+00,  1.31238792e+00,  1.11148417e+00],\n",
       "       [ 1.07727954e+00, -5.24252922e-01, -1.49787521e-01],\n",
       "       [-5.17781948e-01,  4.27829278e-01, -1.01978880e+00],\n",
       "       [-1.86158622e-01,  1.31914027e+00, -7.61366196e-02],\n",
       "       [-9.11292725e-01, -9.42898996e-01, -1.36502740e+00],\n",
       "       [-1.34917564e+00,  9.02114765e-02, -1.30518604e+00],\n",
       "       [-9.04082253e-02, -5.91776482e-01, -9.36931533e-01],\n",
       "       [ 1.05509347e+00,  2.86029801e-01, -9.00106083e-01],\n",
       "       [ 8.14549794e-01,  1.39341619e+00, -1.54390703e-01],\n",
       "       [ 6.07869059e-01,  4.95352838e-01,  3.74975153e-01],\n",
       "       [-4.34876116e-01, -6.05281194e-01,  5.27524584e-02],\n",
       "       [-1.40405696e+00,  6.57409383e-01, -5.18042030e-01],\n",
       "       [-2.06009314e-01, -1.18598381e+00,  3.43397329e-02],\n",
       "       [ 7.74848409e-01,  9.02114765e-02, -8.03439274e-01],\n",
       "       [-1.51965805e+00,  1.37991148e+00,  2.70878810e+00],\n",
       "       [-1.39588315e+00, -1.46283041e+00, -4.53597491e-01],\n",
       "       [-3.09933525e-01,  3.53553362e-01, -7.52804279e-01],\n",
       "       [-1.65394214e+00,  4.48086346e-01, -9.73756984e-01],\n",
       "       [-3.62479475e-01, -1.05093669e+00, -3.43121138e-01],\n",
       "       [-8.24883830e-01,  2.32010953e-01, -3.79946589e-01],\n",
       "       [ 1.08311798e+00, -1.29402151e+00,  2.92117889e-01],\n",
       "       [-8.37728396e-01, -2.00139833e-01,  8.95779092e-02],\n",
       "       [-9.18298852e-01,  1.43393033e+00,  2.32276531e-01],\n",
       "       [ 7.76016097e-01,  1.33264499e+00,  1.49419267e-01],\n",
       "       [ 5.38975481e-01, -3.28434597e-01,  1.61783412e+00],\n",
       "       [-8.26051518e-01,  2.86029801e-01, -6.69947015e-01],\n",
       "       [-4.24366926e-01,  1.17058844e+00,  1.50275459e+00],\n",
       "       [-6.85928986e-01,  1.50982681e-01,  1.97227908e+00],\n",
       "       [-4.34876116e-01,  1.65675807e+00,  9.59579186e-01],\n",
       "       [-1.48792614e-01, -1.24000266e+00, -9.78360166e-01],\n",
       "       [-1.38303858e+00, -1.46958277e+00,  1.12593816e-01],\n",
       "       [ 8.25058983e-01,  6.91171163e-01,  1.30942097e+00],\n",
       "       [ 1.21273132e+00,  8.93741844e-01,  1.92164409e+00],\n",
       "       [-4.62900623e-01, -6.25538262e-01, -9.04709264e-01],\n",
       "       [ 1.89836839e-01,  5.62876398e-01,  1.02862691e+00],\n",
       "       [ 5.90353742e-01, -1.33453565e+00, -1.13486833e+00],\n",
       "       [ 4.42057396e-01, -1.52873340e-01, -3.93756133e-01],\n",
       "       [ 1.66579418e+00,  1.28537849e+00,  9.50372823e-01],\n",
       "       [-1.38283424e-01,  1.24486436e+00,  7.06404211e-01],\n",
       "       [ 8.79940308e-01, -1.28051680e+00,  8.85928284e-01],\n",
       "       [ 1.74402926e+00,  8.80237132e-01,  3.23815396e+00],\n",
       "       [ 1.55486384e+00, -8.88880147e-01, -4.21375221e-01],\n",
       "       [ 4.77088029e-01, -4.09462869e-01, -5.82486569e-01],\n",
       "       [ 1.06443498e+00,  7.45190011e-01, -1.16248742e+00],\n",
       "       [-1.06755854e-01,  1.56222509e+00,  1.30942097e+00],\n",
       "       [-1.42507534e+00, -8.28108943e-01, -3.93111688e-02],\n",
       "       [-6.61407543e-01, -1.55061104e+00, -3.38517957e-01],\n",
       "       [-1.56403019e+00, -1.54385868e+00, -2.28041604e-01],\n",
       "       [ 1.26527727e+00,  2.45515665e-01, -1.15328106e+00],\n",
       "       [ 9.19641692e-01, -1.01717491e+00,  1.19434143e+00],\n",
       "       [ 1.10530405e+00,  9.95027184e-01, -3.38517957e-01],\n",
       "       [ 3.34630122e-01, -5.31005278e-01, -1.29597968e+00],\n",
       "       [ 7.30476274e-01, -1.79882765e-01, -9.13915627e-01],\n",
       "       [-8.03865450e-01,  1.58923451e+00,  1.81641536e-01],\n",
       "       [-8.40063771e-01,  7.92456503e-01,  1.01942054e+00],\n",
       "       [-9.15759131e-02, -6.05281194e-01, -2.28041604e-01],\n",
       "       [-8.24883830e-01, -1.51684926e+00, -7.25185191e-01],\n",
       "       [-2.49213762e-01,  9.20751268e-01,  2.23926360e+00],\n",
       "       [-1.49046586e+00, -4.90491142e-01, -3.79946589e-01],\n",
       "       [-6.70544700e-02,  2.38763309e-01,  7.20213755e-01],\n",
       "       [-1.49747198e+00, -1.05606848e-01,  9.13547372e-01],\n",
       "       [ 8.98623313e-01, -1.40881156e+00, -6.88359740e-01],\n",
       "       [-2.79573643e-01,  7.65447079e-01, -8.35661544e-01],\n",
       "       [ 9.62846140e-01,  6.10142891e-01,  2.00910454e+00],\n",
       "       [-6.98773552e-01, -7.74090095e-01, -2.14232060e-01],\n",
       "       [-1.62591764e+00,  1.05579839e+00,  9.22753735e-01],\n",
       "       [-7.80511695e-01, -1.57086811e+00, -9.82963347e-01],\n",
       "       [ 8.55418865e-01,  1.73778635e+00, -1.25915423e+00],\n",
       "       [-1.02105537e+00, -7.60585383e-01,  5.77515133e-01],\n",
       "       [-1.70882347e+00,  1.10306488e+00, -1.00597925e+00],\n",
       "       [ 1.37971067e+00, -1.37504978e+00,  5.72911952e-01],\n",
       "       [-1.61891151e+00,  2.65772733e-01, -1.30978922e+00],\n",
       "       [ 8.49580427e-01,  6.91171163e-01,  6.69578760e-01],\n",
       "       [-1.28612050e+00,  1.03554132e+00,  1.61323094e+00],\n",
       "       [-1.15300409e+00,  1.60273923e+00, -1.01518562e+00],\n",
       "       [-1.41806922e+00,  1.06255074e+00, -9.78360166e-01],\n",
       "       [ 1.47896413e+00,  3.80562786e-01,  1.34164324e+00],\n",
       "       [-1.21489154e+00,  1.77992105e-01, -4.62803854e-01],\n",
       "       [ 4.42057396e-01,  1.39341619e+00, -1.32820195e+00],\n",
       "       [-8.59914463e-01, -4.22967582e-01, -8.12645637e-01],\n",
       "       [ 5.44813920e-01,  8.19465927e-01,  2.07354907e+00],\n",
       "       [ 8.57754241e-01,  6.70914095e-01,  3.38149702e-01],\n",
       "       [-4.95595880e-01, -1.18598381e+00,  1.77038355e-01],\n",
       "       [-5.93681653e-01, -5.71519414e-01,  3.84181516e-01],\n",
       "       [-7.87313476e-02, -1.44257334e+00, -9.92169710e-01],\n",
       "       [ 1.08662104e+00, -1.07794612e+00, -1.00597925e+00],\n",
       "       [ 1.12281936e+00,  1.73778635e+00,  6.32753309e-01],\n",
       "       [-1.27327593e+00,  1.15033137e+00, -8.58677450e-01],\n",
       "       [-1.19504085e+00,  1.71239749e-01, -4.58200672e-01],\n",
       "       [ 1.56070228e+00, -6.32290618e-01,  2.96721070e-01],\n",
       "       [-3.04095087e-01, -1.00367020e+00,  8.35293289e-01],\n",
       "       [ 5.90353742e-01,  2.43084817e-03, -7.52804279e-01],\n",
       "       [ 2.83251860e-01,  1.10981724e+00,  3.28943340e-01],\n",
       "       [ 4.75920341e-01, -1.46120984e-01, -9.69153803e-01],\n",
       "       [-1.66912209e+00, -7.87594807e-01, -1.14407469e+00],\n",
       "       [-6.20538471e-01,  1.36640677e+00,  9.18150553e-01],\n",
       "       [ 3.21989902e-02, -1.48308748e+00, -2.87882962e-01],\n",
       "       [-1.58037782e+00,  9.20751268e-01,  6.74181942e-01],\n",
       "       [-1.79152496e-01, -3.28434597e-01,  1.86244718e-01],\n",
       "       [ 2.97264113e-01, -3.48691665e-01,  6.72064478e-03],\n",
       "       [-7.16288868e-01,  8.46475352e-01,  8.62912377e-01],\n",
       "       [ 4.82926468e-01, -3.48691665e-01, -2.28041604e-01],\n",
       "       [ 1.92172214e-01,  9.13998912e-01, -1.06582061e+00],\n",
       "       [-3.48467222e-01, -5.78271770e-01, -1.15788424e+00],\n",
       "       [ 1.02123053e+00, -1.34128800e+00,  2.49704176e+00],\n",
       "       [-1.50798117e+00,  9.68017760e-01, -4.12168859e-01],\n",
       "       [ 6.97781017e-01, -1.21974559e+00, -5.13438849e-01],\n",
       "       [ 7.98202165e-01,  2.26879163e-02,  1.24497643e+00],\n",
       "       [ 1.60273904e+00, -8.55118367e-01, -1.11185242e+00],\n",
       "       [-1.13315340e+00, -7.87594807e-01, -5.59470662e-01],\n",
       "       [ 2.03849092e-01, -1.59625696e-01,  7.75451931e-01],\n",
       "       [-1.48813048e+00, -2.13644545e-01, -6.23915201e-01],\n",
       "       [ 2.49388915e-01, -1.09145083e+00, -8.17248818e-01],\n",
       "       [ 8.79940308e-01, -1.34128800e+00, -8.03439274e-01],\n",
       "       [ 1.51633014e+00,  1.73103399e+00,  5.17673775e-01],\n",
       "       [ 1.18353913e+00,  4.68343414e-01, -4.72010216e-01],\n",
       "       [ 2.70407294e-01, -1.04418434e+00,  2.13863806e-01],\n",
       "       [ 1.51399477e+00, -1.41556392e+00, -3.15502050e-01],\n",
       "       [ 2.16693657e-01, -8.95632503e-01, -5.96296113e-01],\n",
       "       [ 1.11601758e-01, -1.39530685e+00, -1.02439198e+00],\n",
       "       [ 8.34400486e-01, -1.20624088e+00, -1.45184340e-01],\n",
       "       [-1.06075676e+00, -1.18598381e+00, -3.93111688e-02],\n",
       "       [ 1.64127273e+00,  1.33264499e+00,  1.89862818e+00],\n",
       "       [ 1.24659427e+00, -1.32616272e-01, -2.55016247e-02],\n",
       "       [ 6.76762637e-01,  1.47444446e+00, -5.04232486e-01],\n",
       "       [-8.80728498e-02, -1.42906863e+00, -1.82009791e-01],\n",
       "       [ 5.14454038e-01,  3.67058074e-01, -5.68677025e-01],\n",
       "       [ 1.62258973e+00, -6.32290618e-01, -1.23613832e+00],\n",
       "       [-1.49863967e+00, -7.53833027e-01, -3.29311594e-01],\n",
       "       [-1.25576062e+00,  1.20435022e+00, -1.13947151e+00],\n",
       "       [-8.35393020e-01, -8.41613655e-01, -1.13026515e+00],\n",
       "       [-1.51615499e+00, -1.29402151e+00,  4.81492770e-02],\n",
       "       [ 2.30705910e-01,  1.26512143e+00, -1.24074150e+00],\n",
       "       [ 3.10313024e-02,  8.32970639e-01, -1.13026515e+00],\n",
       "       [-1.27094056e+00, -1.32103093e+00, -7.71217005e-01],\n",
       "       [-6.17035408e-01, -1.24000266e+00, -1.03359834e+00],\n",
       "       [ 3.49810063e-01, -9.42898996e-01, -1.11185242e+00],\n",
       "       [ 1.59456522e+00,  1.26512143e+00,  1.64085003e+00],\n",
       "       [ 9.93206022e-01, -9.90165488e-01, -1.00597925e+00]])"
      ]
     },
     "execution_count": 56,
     "metadata": {},
     "output_type": "execute_result"
    }
   ],
   "source": [
    "scaler.transform(X) "
   ]
  },
  {
   "cell_type": "code",
   "execution_count": 57,
   "metadata": {
    "ExecuteTime": {
     "end_time": "2020-07-07T19:43:01.203690Z",
     "start_time": "2020-07-07T19:43:01.192720Z"
    }
   },
   "outputs": [
    {
     "data": {
      "text/plain": [
       "array([[ 9.69852266e-01,  9.81522472e-01,  1.77894547e+00],\n",
       "       [-1.19737623e+00,  1.08280781e+00,  6.69578760e-01],\n",
       "       [-1.51615499e+00,  1.52846331e+00,  1.78354865e+00],\n",
       "       [ 5.20496822e-02,  1.21785493e+00,  1.28640506e+00],\n",
       "       [ 3.94182198e-01, -8.41613655e-01,  1.28180188e+00],\n",
       "       [-1.61540845e+00,  1.73103399e+00,  2.04592999e+00],\n",
       "       [-1.04557682e+00,  6.43904671e-01, -3.24708413e-01],\n",
       "       [-3.13436589e-01, -2.47406325e-01, -8.72486994e-01],\n",
       "       [-1.61657614e+00, -1.42906863e+00, -1.36042422e+00],\n",
       "       [ 6.16042873e-01, -1.39530685e+00, -4.30581584e-01],\n",
       "       [-9.45155670e-01, -1.17923146e+00, -2.92486143e-01],\n",
       "       [ 7.90028350e-01,  4.96973404e-02, -1.22232878e+00],\n",
       "       [-1.43908760e+00,  7.99208859e-01,  1.62704048e+00],\n",
       "       [-5.78501712e-01, -1.05768905e+00, -1.07502697e+00],\n",
       "       [ 6.66253447e-01,  6.50657027e-01,  7.11007392e-01],\n",
       "       [ 5.64664612e-01,  1.65000572e+00,  1.02862691e+00],\n",
       "       [-9.25304978e-01,  9.00494200e-01,  3.84117072e+00],\n",
       "       [ 1.56887609e+00,  1.10306488e+00,  1.16211917e+00],\n",
       "       [-9.08957349e-01, -1.86635121e-01, -5.64073843e-01],\n",
       "       [ 3.00679600e-03,  4.29449843e-02, -5.27248393e-01],\n",
       "       [ 8.33232798e-01,  2.99534513e-01,  1.05164281e+00],\n",
       "       [ 1.05509347e+00, -1.22649795e+00, -3.24708413e-01],\n",
       "       [-1.56286250e+00, -4.97243498e-01,  8.76721921e-01],\n",
       "       [ 9.48833887e-01, -4.29719938e-01, -2.00422516e-01],\n",
       "       [-9.89527805e-01, -7.20071247e-01, -5.64073843e-01],\n",
       "       [ 1.35285385e+00, -1.33453565e+00, -5.08835667e-01],\n",
       "       [-4.83714657e-02,  4.07572210e-01, -8.26455181e-01],\n",
       "       [ 1.08662104e+00, -4.43224650e-01, -3.52327501e-01],\n",
       "       [ 1.18820988e+00,  2.59020377e-01, -3.52327501e-01],\n",
       "       [-8.92609721e-01, -4.90491142e-01,  4.71641962e-01],\n",
       "       [ 1.70316018e+00,  3.40048650e-01,  5.82118314e-01],\n",
       "       [-3.98677796e-01, -3.95958157e-01,  3.70371972e-01],\n",
       "       [-5.82004775e-01, -1.46958277e+00, -2.55016247e-02],\n",
       "       [ 1.38438142e+00, -2.20396901e-01, -1.39264649e+00],\n",
       "       [-5.99520091e-01, -1.47633512e+00, -1.06582061e+00],\n",
       "       [ 1.67747105e+00, -1.29402151e+00, -1.01518562e+00],\n",
       "       [ 1.39956136e+00,  1.38666383e+00, -1.17629696e+00],\n",
       "       [-8.44734522e-01,  1.76479577e+00,  6.97197848e-01],\n",
       "       [-1.21372386e+00,  2.32010953e-01,  2.09260624e-01],\n",
       "       [ 9.45330823e-01,  9.74770116e-01,  6.65620024e-02],\n",
       "       [ 6.47570443e-01, -6.50927121e-02,  4.81492770e-02],\n",
       "       [ 3.49810063e-01,  6.84418807e-01,  3.74975153e-01],\n",
       "       [ 1.71133400e+00,  2.99534513e-01, -1.32359877e+00],\n",
       "       [ 6.98948705e-01, -1.00367020e+00, -1.91216154e-01],\n",
       "       [-1.42390765e+00,  1.64487393e-01,  5.86721496e-01],\n",
       "       [ 3.27623995e-01, -5.15880000e-02,  4.35460956e-02],\n",
       "       [-6.69581357e-01, -9.02384859e-01,  2.36879713e-01],\n",
       "       [ 1.08428567e+00,  1.23135965e+00, -5.54867481e-01],\n",
       "       [ 9.35989321e-01, -5.03995854e-01,  8.90531465e-01],\n",
       "       [-9.35814168e-01, -7.80842451e-01,  2.87514708e-01],\n",
       "       [ 6.16042873e-01, -1.36154507e+00,  1.86244718e-01],\n",
       "       [-5.44638766e-01, -9.22641928e-01, -1.24074150e+00],\n",
       "       [ 8.09879042e-01,  1.24486436e+00,  4.16403786e-01],\n",
       "       [ 4.15200577e-01,  1.54872038e+00,  1.29561142e+00],\n",
       "       [ 1.35051848e+00,  3.73810430e-01, -6.74550196e-01],\n",
       "       [ 6.05533683e-01,  1.76479577e+00,  1.35545278e+00],\n",
       "       [-1.63175608e+00,  3.26543937e-01,  4.99261050e-01],\n",
       "       [-1.26606546e-01, -2.74415749e-01, -6.42327927e-01],\n",
       "       [ 7.44488528e-01,  1.77830048e+00,  3.28943340e-01],\n",
       "       [ 7.43320840e-01,  4.21076922e-01, -9.78360166e-01],\n",
       "       [-1.09228433e+00, -1.43582099e+00, -4.21375221e-01],\n",
       "       [ 1.33417085e+00,  1.31238792e+00,  1.11148417e+00],\n",
       "       [ 1.07727954e+00, -5.24252922e-01, -1.49787521e-01],\n",
       "       [-5.17781948e-01,  4.27829278e-01, -1.01978880e+00],\n",
       "       [-1.86158622e-01,  1.31914027e+00, -7.61366196e-02],\n",
       "       [-9.11292725e-01, -9.42898996e-01, -1.36502740e+00],\n",
       "       [-1.34917564e+00,  9.02114765e-02, -1.30518604e+00],\n",
       "       [-9.04082253e-02, -5.91776482e-01, -9.36931533e-01],\n",
       "       [ 1.05509347e+00,  2.86029801e-01, -9.00106083e-01],\n",
       "       [ 8.14549794e-01,  1.39341619e+00, -1.54390703e-01],\n",
       "       [ 6.07869059e-01,  4.95352838e-01,  3.74975153e-01],\n",
       "       [-4.34876116e-01, -6.05281194e-01,  5.27524584e-02],\n",
       "       [-1.40405696e+00,  6.57409383e-01, -5.18042030e-01],\n",
       "       [-2.06009314e-01, -1.18598381e+00,  3.43397329e-02],\n",
       "       [ 7.74848409e-01,  9.02114765e-02, -8.03439274e-01],\n",
       "       [-1.51965805e+00,  1.37991148e+00,  2.70878810e+00],\n",
       "       [-1.39588315e+00, -1.46283041e+00, -4.53597491e-01],\n",
       "       [-3.09933525e-01,  3.53553362e-01, -7.52804279e-01],\n",
       "       [-1.65394214e+00,  4.48086346e-01, -9.73756984e-01],\n",
       "       [-3.62479475e-01, -1.05093669e+00, -3.43121138e-01],\n",
       "       [-8.24883830e-01,  2.32010953e-01, -3.79946589e-01],\n",
       "       [ 1.08311798e+00, -1.29402151e+00,  2.92117889e-01],\n",
       "       [-8.37728396e-01, -2.00139833e-01,  8.95779092e-02],\n",
       "       [-9.18298852e-01,  1.43393033e+00,  2.32276531e-01],\n",
       "       [ 7.76016097e-01,  1.33264499e+00,  1.49419267e-01],\n",
       "       [ 5.38975481e-01, -3.28434597e-01,  1.61783412e+00],\n",
       "       [-8.26051518e-01,  2.86029801e-01, -6.69947015e-01],\n",
       "       [-4.24366926e-01,  1.17058844e+00,  1.50275459e+00],\n",
       "       [-6.85928986e-01,  1.50982681e-01,  1.97227908e+00],\n",
       "       [-4.34876116e-01,  1.65675807e+00,  9.59579186e-01],\n",
       "       [-1.48792614e-01, -1.24000266e+00, -9.78360166e-01],\n",
       "       [-1.38303858e+00, -1.46958277e+00,  1.12593816e-01],\n",
       "       [ 8.25058983e-01,  6.91171163e-01,  1.30942097e+00],\n",
       "       [ 1.21273132e+00,  8.93741844e-01,  1.92164409e+00],\n",
       "       [-4.62900623e-01, -6.25538262e-01, -9.04709264e-01],\n",
       "       [ 1.89836839e-01,  5.62876398e-01,  1.02862691e+00],\n",
       "       [ 5.90353742e-01, -1.33453565e+00, -1.13486833e+00],\n",
       "       [ 4.42057396e-01, -1.52873340e-01, -3.93756133e-01],\n",
       "       [ 1.66579418e+00,  1.28537849e+00,  9.50372823e-01],\n",
       "       [-1.38283424e-01,  1.24486436e+00,  7.06404211e-01],\n",
       "       [ 8.79940308e-01, -1.28051680e+00,  8.85928284e-01],\n",
       "       [ 1.74402926e+00,  8.80237132e-01,  3.23815396e+00],\n",
       "       [ 1.55486384e+00, -8.88880147e-01, -4.21375221e-01],\n",
       "       [ 4.77088029e-01, -4.09462869e-01, -5.82486569e-01],\n",
       "       [ 1.06443498e+00,  7.45190011e-01, -1.16248742e+00],\n",
       "       [-1.06755854e-01,  1.56222509e+00,  1.30942097e+00],\n",
       "       [-1.42507534e+00, -8.28108943e-01, -3.93111688e-02],\n",
       "       [-6.61407543e-01, -1.55061104e+00, -3.38517957e-01],\n",
       "       [-1.56403019e+00, -1.54385868e+00, -2.28041604e-01],\n",
       "       [ 1.26527727e+00,  2.45515665e-01, -1.15328106e+00],\n",
       "       [ 9.19641692e-01, -1.01717491e+00,  1.19434143e+00],\n",
       "       [ 1.10530405e+00,  9.95027184e-01, -3.38517957e-01],\n",
       "       [ 3.34630122e-01, -5.31005278e-01, -1.29597968e+00],\n",
       "       [ 7.30476274e-01, -1.79882765e-01, -9.13915627e-01],\n",
       "       [-8.03865450e-01,  1.58923451e+00,  1.81641536e-01],\n",
       "       [-8.40063771e-01,  7.92456503e-01,  1.01942054e+00],\n",
       "       [-9.15759131e-02, -6.05281194e-01, -2.28041604e-01],\n",
       "       [-8.24883830e-01, -1.51684926e+00, -7.25185191e-01],\n",
       "       [-2.49213762e-01,  9.20751268e-01,  2.23926360e+00],\n",
       "       [-1.49046586e+00, -4.90491142e-01, -3.79946589e-01],\n",
       "       [-6.70544700e-02,  2.38763309e-01,  7.20213755e-01],\n",
       "       [-1.49747198e+00, -1.05606848e-01,  9.13547372e-01],\n",
       "       [ 8.98623313e-01, -1.40881156e+00, -6.88359740e-01],\n",
       "       [-2.79573643e-01,  7.65447079e-01, -8.35661544e-01],\n",
       "       [ 9.62846140e-01,  6.10142891e-01,  2.00910454e+00],\n",
       "       [-6.98773552e-01, -7.74090095e-01, -2.14232060e-01],\n",
       "       [-1.62591764e+00,  1.05579839e+00,  9.22753735e-01],\n",
       "       [-7.80511695e-01, -1.57086811e+00, -9.82963347e-01],\n",
       "       [ 8.55418865e-01,  1.73778635e+00, -1.25915423e+00],\n",
       "       [-1.02105537e+00, -7.60585383e-01,  5.77515133e-01],\n",
       "       [-1.70882347e+00,  1.10306488e+00, -1.00597925e+00],\n",
       "       [ 1.37971067e+00, -1.37504978e+00,  5.72911952e-01],\n",
       "       [-1.61891151e+00,  2.65772733e-01, -1.30978922e+00],\n",
       "       [ 8.49580427e-01,  6.91171163e-01,  6.69578760e-01],\n",
       "       [-1.28612050e+00,  1.03554132e+00,  1.61323094e+00],\n",
       "       [-1.15300409e+00,  1.60273923e+00, -1.01518562e+00],\n",
       "       [-1.41806922e+00,  1.06255074e+00, -9.78360166e-01],\n",
       "       [ 1.47896413e+00,  3.80562786e-01,  1.34164324e+00],\n",
       "       [-1.21489154e+00,  1.77992105e-01, -4.62803854e-01],\n",
       "       [ 4.42057396e-01,  1.39341619e+00, -1.32820195e+00],\n",
       "       [-8.59914463e-01, -4.22967582e-01, -8.12645637e-01],\n",
       "       [ 5.44813920e-01,  8.19465927e-01,  2.07354907e+00],\n",
       "       [ 8.57754241e-01,  6.70914095e-01,  3.38149702e-01],\n",
       "       [-4.95595880e-01, -1.18598381e+00,  1.77038355e-01],\n",
       "       [-5.93681653e-01, -5.71519414e-01,  3.84181516e-01],\n",
       "       [-7.87313476e-02, -1.44257334e+00, -9.92169710e-01],\n",
       "       [ 1.08662104e+00, -1.07794612e+00, -1.00597925e+00],\n",
       "       [ 1.12281936e+00,  1.73778635e+00,  6.32753309e-01],\n",
       "       [-1.27327593e+00,  1.15033137e+00, -8.58677450e-01],\n",
       "       [-1.19504085e+00,  1.71239749e-01, -4.58200672e-01],\n",
       "       [ 1.56070228e+00, -6.32290618e-01,  2.96721070e-01],\n",
       "       [-3.04095087e-01, -1.00367020e+00,  8.35293289e-01],\n",
       "       [ 5.90353742e-01,  2.43084817e-03, -7.52804279e-01],\n",
       "       [ 2.83251860e-01,  1.10981724e+00,  3.28943340e-01],\n",
       "       [ 4.75920341e-01, -1.46120984e-01, -9.69153803e-01],\n",
       "       [-1.66912209e+00, -7.87594807e-01, -1.14407469e+00],\n",
       "       [-6.20538471e-01,  1.36640677e+00,  9.18150553e-01],\n",
       "       [ 3.21989902e-02, -1.48308748e+00, -2.87882962e-01],\n",
       "       [-1.58037782e+00,  9.20751268e-01,  6.74181942e-01],\n",
       "       [-1.79152496e-01, -3.28434597e-01,  1.86244718e-01],\n",
       "       [ 2.97264113e-01, -3.48691665e-01,  6.72064478e-03],\n",
       "       [-7.16288868e-01,  8.46475352e-01,  8.62912377e-01],\n",
       "       [ 4.82926468e-01, -3.48691665e-01, -2.28041604e-01],\n",
       "       [ 1.92172214e-01,  9.13998912e-01, -1.06582061e+00],\n",
       "       [-3.48467222e-01, -5.78271770e-01, -1.15788424e+00],\n",
       "       [ 1.02123053e+00, -1.34128800e+00,  2.49704176e+00],\n",
       "       [-1.50798117e+00,  9.68017760e-01, -4.12168859e-01],\n",
       "       [ 6.97781017e-01, -1.21974559e+00, -5.13438849e-01],\n",
       "       [ 7.98202165e-01,  2.26879163e-02,  1.24497643e+00],\n",
       "       [ 1.60273904e+00, -8.55118367e-01, -1.11185242e+00],\n",
       "       [-1.13315340e+00, -7.87594807e-01, -5.59470662e-01],\n",
       "       [ 2.03849092e-01, -1.59625696e-01,  7.75451931e-01],\n",
       "       [-1.48813048e+00, -2.13644545e-01, -6.23915201e-01],\n",
       "       [ 2.49388915e-01, -1.09145083e+00, -8.17248818e-01],\n",
       "       [ 8.79940308e-01, -1.34128800e+00, -8.03439274e-01],\n",
       "       [ 1.51633014e+00,  1.73103399e+00,  5.17673775e-01],\n",
       "       [ 1.18353913e+00,  4.68343414e-01, -4.72010216e-01],\n",
       "       [ 2.70407294e-01, -1.04418434e+00,  2.13863806e-01],\n",
       "       [ 1.51399477e+00, -1.41556392e+00, -3.15502050e-01],\n",
       "       [ 2.16693657e-01, -8.95632503e-01, -5.96296113e-01],\n",
       "       [ 1.11601758e-01, -1.39530685e+00, -1.02439198e+00],\n",
       "       [ 8.34400486e-01, -1.20624088e+00, -1.45184340e-01],\n",
       "       [-1.06075676e+00, -1.18598381e+00, -3.93111688e-02],\n",
       "       [ 1.64127273e+00,  1.33264499e+00,  1.89862818e+00],\n",
       "       [ 1.24659427e+00, -1.32616272e-01, -2.55016247e-02],\n",
       "       [ 6.76762637e-01,  1.47444446e+00, -5.04232486e-01],\n",
       "       [-8.80728498e-02, -1.42906863e+00, -1.82009791e-01],\n",
       "       [ 5.14454038e-01,  3.67058074e-01, -5.68677025e-01],\n",
       "       [ 1.62258973e+00, -6.32290618e-01, -1.23613832e+00],\n",
       "       [-1.49863967e+00, -7.53833027e-01, -3.29311594e-01],\n",
       "       [-1.25576062e+00,  1.20435022e+00, -1.13947151e+00],\n",
       "       [-8.35393020e-01, -8.41613655e-01, -1.13026515e+00],\n",
       "       [-1.51615499e+00, -1.29402151e+00,  4.81492770e-02],\n",
       "       [ 2.30705910e-01,  1.26512143e+00, -1.24074150e+00],\n",
       "       [ 3.10313024e-02,  8.32970639e-01, -1.13026515e+00],\n",
       "       [-1.27094056e+00, -1.32103093e+00, -7.71217005e-01],\n",
       "       [-6.17035408e-01, -1.24000266e+00, -1.03359834e+00],\n",
       "       [ 3.49810063e-01, -9.42898996e-01, -1.11185242e+00],\n",
       "       [ 1.59456522e+00,  1.26512143e+00,  1.64085003e+00],\n",
       "       [ 9.93206022e-01, -9.90165488e-01, -1.00597925e+00]])"
      ]
     },
     "execution_count": 57,
     "metadata": {},
     "output_type": "execute_result"
    }
   ],
   "source": [
    "X_std = scaler.transform(X) \n",
    "X_std"
   ]
  },
  {
   "cell_type": "code",
   "execution_count": 58,
   "metadata": {
    "ExecuteTime": {
     "end_time": "2020-11-24T18:46:04.540544Z",
     "start_time": "2020-11-24T18:46:04.529658Z"
    }
   },
   "outputs": [
    {
     "data": {
      "text/plain": [
       "LinearRegression()"
      ]
     },
     "execution_count": 58,
     "metadata": {},
     "output_type": "execute_result"
    }
   ],
   "source": [
    "model = LinearRegression()\n",
    "\n",
    "model.fit(X_std, y)"
   ]
  },
  {
   "cell_type": "code",
   "execution_count": 59,
   "metadata": {
    "ExecuteTime": {
     "end_time": "2020-11-24T18:46:07.020365Z",
     "start_time": "2020-11-24T18:46:07.003420Z"
    }
   },
   "outputs": [
    {
     "data": {
      "text/plain": [
       "array([4.66270025, 1.58465027, 0.00729187])"
      ]
     },
     "execution_count": 59,
     "metadata": {},
     "output_type": "execute_result"
    }
   ],
   "source": [
    "model.coef_"
   ]
  },
  {
   "cell_type": "code",
   "execution_count": 60,
   "metadata": {
    "ExecuteTime": {
     "end_time": "2020-07-07T19:43:09.333212Z",
     "start_time": "2020-07-07T19:43:09.329222Z"
    }
   },
   "outputs": [
    {
     "data": {
      "text/plain": [
       "15.130500000000001"
      ]
     },
     "execution_count": 60,
     "metadata": {},
     "output_type": "execute_result"
    }
   ],
   "source": [
    "model.intercept_"
   ]
  },
  {
   "cell_type": "code",
   "execution_count": 61,
   "metadata": {
    "ExecuteTime": {
     "end_time": "2020-07-07T19:43:16.048870Z",
     "start_time": "2020-07-07T19:43:16.044881Z"
    }
   },
   "outputs": [
    {
     "data": {
      "text/plain": [
       "1.6449942697855562"
      ]
     },
     "execution_count": 61,
     "metadata": {},
     "output_type": "execute_result"
    }
   ],
   "source": [
    "# the mean error I would have in sales is:\n",
    "np.sqrt(mean_squared_error(y_observed, model.predict(X_std)))"
   ]
  },
  {
   "cell_type": "code",
   "execution_count": 62,
   "metadata": {},
   "outputs": [
    {
     "data": {
      "text/plain": [
       "array([[ 9.69852266e-01,  9.81522472e-01,  1.77894547e+00],\n",
       "       [-1.19737623e+00,  1.08280781e+00,  6.69578760e-01],\n",
       "       [-1.51615499e+00,  1.52846331e+00,  1.78354865e+00],\n",
       "       [ 5.20496822e-02,  1.21785493e+00,  1.28640506e+00],\n",
       "       [ 3.94182198e-01, -8.41613655e-01,  1.28180188e+00],\n",
       "       [-1.61540845e+00,  1.73103399e+00,  2.04592999e+00],\n",
       "       [-1.04557682e+00,  6.43904671e-01, -3.24708413e-01],\n",
       "       [-3.13436589e-01, -2.47406325e-01, -8.72486994e-01],\n",
       "       [-1.61657614e+00, -1.42906863e+00, -1.36042422e+00],\n",
       "       [ 6.16042873e-01, -1.39530685e+00, -4.30581584e-01],\n",
       "       [-9.45155670e-01, -1.17923146e+00, -2.92486143e-01],\n",
       "       [ 7.90028350e-01,  4.96973404e-02, -1.22232878e+00],\n",
       "       [-1.43908760e+00,  7.99208859e-01,  1.62704048e+00],\n",
       "       [-5.78501712e-01, -1.05768905e+00, -1.07502697e+00],\n",
       "       [ 6.66253447e-01,  6.50657027e-01,  7.11007392e-01],\n",
       "       [ 5.64664612e-01,  1.65000572e+00,  1.02862691e+00],\n",
       "       [-9.25304978e-01,  9.00494200e-01,  3.84117072e+00],\n",
       "       [ 1.56887609e+00,  1.10306488e+00,  1.16211917e+00],\n",
       "       [-9.08957349e-01, -1.86635121e-01, -5.64073843e-01],\n",
       "       [ 3.00679600e-03,  4.29449843e-02, -5.27248393e-01],\n",
       "       [ 8.33232798e-01,  2.99534513e-01,  1.05164281e+00],\n",
       "       [ 1.05509347e+00, -1.22649795e+00, -3.24708413e-01],\n",
       "       [-1.56286250e+00, -4.97243498e-01,  8.76721921e-01],\n",
       "       [ 9.48833887e-01, -4.29719938e-01, -2.00422516e-01],\n",
       "       [-9.89527805e-01, -7.20071247e-01, -5.64073843e-01],\n",
       "       [ 1.35285385e+00, -1.33453565e+00, -5.08835667e-01],\n",
       "       [-4.83714657e-02,  4.07572210e-01, -8.26455181e-01],\n",
       "       [ 1.08662104e+00, -4.43224650e-01, -3.52327501e-01],\n",
       "       [ 1.18820988e+00,  2.59020377e-01, -3.52327501e-01],\n",
       "       [-8.92609721e-01, -4.90491142e-01,  4.71641962e-01],\n",
       "       [ 1.70316018e+00,  3.40048650e-01,  5.82118314e-01],\n",
       "       [-3.98677796e-01, -3.95958157e-01,  3.70371972e-01],\n",
       "       [-5.82004775e-01, -1.46958277e+00, -2.55016247e-02],\n",
       "       [ 1.38438142e+00, -2.20396901e-01, -1.39264649e+00],\n",
       "       [-5.99520091e-01, -1.47633512e+00, -1.06582061e+00],\n",
       "       [ 1.67747105e+00, -1.29402151e+00, -1.01518562e+00],\n",
       "       [ 1.39956136e+00,  1.38666383e+00, -1.17629696e+00],\n",
       "       [-8.44734522e-01,  1.76479577e+00,  6.97197848e-01],\n",
       "       [-1.21372386e+00,  2.32010953e-01,  2.09260624e-01],\n",
       "       [ 9.45330823e-01,  9.74770116e-01,  6.65620024e-02],\n",
       "       [ 6.47570443e-01, -6.50927121e-02,  4.81492770e-02],\n",
       "       [ 3.49810063e-01,  6.84418807e-01,  3.74975153e-01],\n",
       "       [ 1.71133400e+00,  2.99534513e-01, -1.32359877e+00],\n",
       "       [ 6.98948705e-01, -1.00367020e+00, -1.91216154e-01],\n",
       "       [-1.42390765e+00,  1.64487393e-01,  5.86721496e-01],\n",
       "       [ 3.27623995e-01, -5.15880000e-02,  4.35460956e-02],\n",
       "       [-6.69581357e-01, -9.02384859e-01,  2.36879713e-01],\n",
       "       [ 1.08428567e+00,  1.23135965e+00, -5.54867481e-01],\n",
       "       [ 9.35989321e-01, -5.03995854e-01,  8.90531465e-01],\n",
       "       [-9.35814168e-01, -7.80842451e-01,  2.87514708e-01],\n",
       "       [ 6.16042873e-01, -1.36154507e+00,  1.86244718e-01],\n",
       "       [-5.44638766e-01, -9.22641928e-01, -1.24074150e+00],\n",
       "       [ 8.09879042e-01,  1.24486436e+00,  4.16403786e-01],\n",
       "       [ 4.15200577e-01,  1.54872038e+00,  1.29561142e+00],\n",
       "       [ 1.35051848e+00,  3.73810430e-01, -6.74550196e-01],\n",
       "       [ 6.05533683e-01,  1.76479577e+00,  1.35545278e+00],\n",
       "       [-1.63175608e+00,  3.26543937e-01,  4.99261050e-01],\n",
       "       [-1.26606546e-01, -2.74415749e-01, -6.42327927e-01],\n",
       "       [ 7.44488528e-01,  1.77830048e+00,  3.28943340e-01],\n",
       "       [ 7.43320840e-01,  4.21076922e-01, -9.78360166e-01],\n",
       "       [-1.09228433e+00, -1.43582099e+00, -4.21375221e-01],\n",
       "       [ 1.33417085e+00,  1.31238792e+00,  1.11148417e+00],\n",
       "       [ 1.07727954e+00, -5.24252922e-01, -1.49787521e-01],\n",
       "       [-5.17781948e-01,  4.27829278e-01, -1.01978880e+00],\n",
       "       [-1.86158622e-01,  1.31914027e+00, -7.61366196e-02],\n",
       "       [-9.11292725e-01, -9.42898996e-01, -1.36502740e+00],\n",
       "       [-1.34917564e+00,  9.02114765e-02, -1.30518604e+00],\n",
       "       [-9.04082253e-02, -5.91776482e-01, -9.36931533e-01],\n",
       "       [ 1.05509347e+00,  2.86029801e-01, -9.00106083e-01],\n",
       "       [ 8.14549794e-01,  1.39341619e+00, -1.54390703e-01],\n",
       "       [ 6.07869059e-01,  4.95352838e-01,  3.74975153e-01],\n",
       "       [-4.34876116e-01, -6.05281194e-01,  5.27524584e-02],\n",
       "       [-1.40405696e+00,  6.57409383e-01, -5.18042030e-01],\n",
       "       [-2.06009314e-01, -1.18598381e+00,  3.43397329e-02],\n",
       "       [ 7.74848409e-01,  9.02114765e-02, -8.03439274e-01],\n",
       "       [-1.51965805e+00,  1.37991148e+00,  2.70878810e+00],\n",
       "       [-1.39588315e+00, -1.46283041e+00, -4.53597491e-01],\n",
       "       [-3.09933525e-01,  3.53553362e-01, -7.52804279e-01],\n",
       "       [-1.65394214e+00,  4.48086346e-01, -9.73756984e-01],\n",
       "       [-3.62479475e-01, -1.05093669e+00, -3.43121138e-01],\n",
       "       [-8.24883830e-01,  2.32010953e-01, -3.79946589e-01],\n",
       "       [ 1.08311798e+00, -1.29402151e+00,  2.92117889e-01],\n",
       "       [-8.37728396e-01, -2.00139833e-01,  8.95779092e-02],\n",
       "       [-9.18298852e-01,  1.43393033e+00,  2.32276531e-01],\n",
       "       [ 7.76016097e-01,  1.33264499e+00,  1.49419267e-01],\n",
       "       [ 5.38975481e-01, -3.28434597e-01,  1.61783412e+00],\n",
       "       [-8.26051518e-01,  2.86029801e-01, -6.69947015e-01],\n",
       "       [-4.24366926e-01,  1.17058844e+00,  1.50275459e+00],\n",
       "       [-6.85928986e-01,  1.50982681e-01,  1.97227908e+00],\n",
       "       [-4.34876116e-01,  1.65675807e+00,  9.59579186e-01],\n",
       "       [-1.48792614e-01, -1.24000266e+00, -9.78360166e-01],\n",
       "       [-1.38303858e+00, -1.46958277e+00,  1.12593816e-01],\n",
       "       [ 8.25058983e-01,  6.91171163e-01,  1.30942097e+00],\n",
       "       [ 1.21273132e+00,  8.93741844e-01,  1.92164409e+00],\n",
       "       [-4.62900623e-01, -6.25538262e-01, -9.04709264e-01],\n",
       "       [ 1.89836839e-01,  5.62876398e-01,  1.02862691e+00],\n",
       "       [ 5.90353742e-01, -1.33453565e+00, -1.13486833e+00],\n",
       "       [ 4.42057396e-01, -1.52873340e-01, -3.93756133e-01],\n",
       "       [ 1.66579418e+00,  1.28537849e+00,  9.50372823e-01],\n",
       "       [-1.38283424e-01,  1.24486436e+00,  7.06404211e-01],\n",
       "       [ 8.79940308e-01, -1.28051680e+00,  8.85928284e-01],\n",
       "       [ 1.74402926e+00,  8.80237132e-01,  3.23815396e+00],\n",
       "       [ 1.55486384e+00, -8.88880147e-01, -4.21375221e-01],\n",
       "       [ 4.77088029e-01, -4.09462869e-01, -5.82486569e-01],\n",
       "       [ 1.06443498e+00,  7.45190011e-01, -1.16248742e+00],\n",
       "       [-1.06755854e-01,  1.56222509e+00,  1.30942097e+00],\n",
       "       [-1.42507534e+00, -8.28108943e-01, -3.93111688e-02],\n",
       "       [-6.61407543e-01, -1.55061104e+00, -3.38517957e-01],\n",
       "       [-1.56403019e+00, -1.54385868e+00, -2.28041604e-01],\n",
       "       [ 1.26527727e+00,  2.45515665e-01, -1.15328106e+00],\n",
       "       [ 9.19641692e-01, -1.01717491e+00,  1.19434143e+00],\n",
       "       [ 1.10530405e+00,  9.95027184e-01, -3.38517957e-01],\n",
       "       [ 3.34630122e-01, -5.31005278e-01, -1.29597968e+00],\n",
       "       [ 7.30476274e-01, -1.79882765e-01, -9.13915627e-01],\n",
       "       [-8.03865450e-01,  1.58923451e+00,  1.81641536e-01],\n",
       "       [-8.40063771e-01,  7.92456503e-01,  1.01942054e+00],\n",
       "       [-9.15759131e-02, -6.05281194e-01, -2.28041604e-01],\n",
       "       [-8.24883830e-01, -1.51684926e+00, -7.25185191e-01],\n",
       "       [-2.49213762e-01,  9.20751268e-01,  2.23926360e+00],\n",
       "       [-1.49046586e+00, -4.90491142e-01, -3.79946589e-01],\n",
       "       [-6.70544700e-02,  2.38763309e-01,  7.20213755e-01],\n",
       "       [-1.49747198e+00, -1.05606848e-01,  9.13547372e-01],\n",
       "       [ 8.98623313e-01, -1.40881156e+00, -6.88359740e-01],\n",
       "       [-2.79573643e-01,  7.65447079e-01, -8.35661544e-01],\n",
       "       [ 9.62846140e-01,  6.10142891e-01,  2.00910454e+00],\n",
       "       [-6.98773552e-01, -7.74090095e-01, -2.14232060e-01],\n",
       "       [-1.62591764e+00,  1.05579839e+00,  9.22753735e-01],\n",
       "       [-7.80511695e-01, -1.57086811e+00, -9.82963347e-01],\n",
       "       [ 8.55418865e-01,  1.73778635e+00, -1.25915423e+00],\n",
       "       [-1.02105537e+00, -7.60585383e-01,  5.77515133e-01],\n",
       "       [-1.70882347e+00,  1.10306488e+00, -1.00597925e+00],\n",
       "       [ 1.37971067e+00, -1.37504978e+00,  5.72911952e-01],\n",
       "       [-1.61891151e+00,  2.65772733e-01, -1.30978922e+00],\n",
       "       [ 8.49580427e-01,  6.91171163e-01,  6.69578760e-01],\n",
       "       [-1.28612050e+00,  1.03554132e+00,  1.61323094e+00],\n",
       "       [-1.15300409e+00,  1.60273923e+00, -1.01518562e+00],\n",
       "       [-1.41806922e+00,  1.06255074e+00, -9.78360166e-01],\n",
       "       [ 1.47896413e+00,  3.80562786e-01,  1.34164324e+00],\n",
       "       [-1.21489154e+00,  1.77992105e-01, -4.62803854e-01],\n",
       "       [ 4.42057396e-01,  1.39341619e+00, -1.32820195e+00],\n",
       "       [-8.59914463e-01, -4.22967582e-01, -8.12645637e-01],\n",
       "       [ 5.44813920e-01,  8.19465927e-01,  2.07354907e+00],\n",
       "       [ 8.57754241e-01,  6.70914095e-01,  3.38149702e-01],\n",
       "       [-4.95595880e-01, -1.18598381e+00,  1.77038355e-01],\n",
       "       [-5.93681653e-01, -5.71519414e-01,  3.84181516e-01],\n",
       "       [-7.87313476e-02, -1.44257334e+00, -9.92169710e-01],\n",
       "       [ 1.08662104e+00, -1.07794612e+00, -1.00597925e+00],\n",
       "       [ 1.12281936e+00,  1.73778635e+00,  6.32753309e-01],\n",
       "       [-1.27327593e+00,  1.15033137e+00, -8.58677450e-01],\n",
       "       [-1.19504085e+00,  1.71239749e-01, -4.58200672e-01],\n",
       "       [ 1.56070228e+00, -6.32290618e-01,  2.96721070e-01],\n",
       "       [-3.04095087e-01, -1.00367020e+00,  8.35293289e-01],\n",
       "       [ 5.90353742e-01,  2.43084817e-03, -7.52804279e-01],\n",
       "       [ 2.83251860e-01,  1.10981724e+00,  3.28943340e-01],\n",
       "       [ 4.75920341e-01, -1.46120984e-01, -9.69153803e-01],\n",
       "       [-1.66912209e+00, -7.87594807e-01, -1.14407469e+00],\n",
       "       [-6.20538471e-01,  1.36640677e+00,  9.18150553e-01],\n",
       "       [ 3.21989902e-02, -1.48308748e+00, -2.87882962e-01],\n",
       "       [-1.58037782e+00,  9.20751268e-01,  6.74181942e-01],\n",
       "       [-1.79152496e-01, -3.28434597e-01,  1.86244718e-01],\n",
       "       [ 2.97264113e-01, -3.48691665e-01,  6.72064478e-03],\n",
       "       [-7.16288868e-01,  8.46475352e-01,  8.62912377e-01],\n",
       "       [ 4.82926468e-01, -3.48691665e-01, -2.28041604e-01],\n",
       "       [ 1.92172214e-01,  9.13998912e-01, -1.06582061e+00],\n",
       "       [-3.48467222e-01, -5.78271770e-01, -1.15788424e+00],\n",
       "       [ 1.02123053e+00, -1.34128800e+00,  2.49704176e+00],\n",
       "       [-1.50798117e+00,  9.68017760e-01, -4.12168859e-01],\n",
       "       [ 6.97781017e-01, -1.21974559e+00, -5.13438849e-01],\n",
       "       [ 7.98202165e-01,  2.26879163e-02,  1.24497643e+00],\n",
       "       [ 1.60273904e+00, -8.55118367e-01, -1.11185242e+00],\n",
       "       [-1.13315340e+00, -7.87594807e-01, -5.59470662e-01],\n",
       "       [ 2.03849092e-01, -1.59625696e-01,  7.75451931e-01],\n",
       "       [-1.48813048e+00, -2.13644545e-01, -6.23915201e-01],\n",
       "       [ 2.49388915e-01, -1.09145083e+00, -8.17248818e-01],\n",
       "       [ 8.79940308e-01, -1.34128800e+00, -8.03439274e-01],\n",
       "       [ 1.51633014e+00,  1.73103399e+00,  5.17673775e-01],\n",
       "       [ 1.18353913e+00,  4.68343414e-01, -4.72010216e-01],\n",
       "       [ 2.70407294e-01, -1.04418434e+00,  2.13863806e-01],\n",
       "       [ 1.51399477e+00, -1.41556392e+00, -3.15502050e-01],\n",
       "       [ 2.16693657e-01, -8.95632503e-01, -5.96296113e-01],\n",
       "       [ 1.11601758e-01, -1.39530685e+00, -1.02439198e+00],\n",
       "       [ 8.34400486e-01, -1.20624088e+00, -1.45184340e-01],\n",
       "       [-1.06075676e+00, -1.18598381e+00, -3.93111688e-02],\n",
       "       [ 1.64127273e+00,  1.33264499e+00,  1.89862818e+00],\n",
       "       [ 1.24659427e+00, -1.32616272e-01, -2.55016247e-02],\n",
       "       [ 6.76762637e-01,  1.47444446e+00, -5.04232486e-01],\n",
       "       [-8.80728498e-02, -1.42906863e+00, -1.82009791e-01],\n",
       "       [ 5.14454038e-01,  3.67058074e-01, -5.68677025e-01],\n",
       "       [ 1.62258973e+00, -6.32290618e-01, -1.23613832e+00],\n",
       "       [-1.49863967e+00, -7.53833027e-01, -3.29311594e-01],\n",
       "       [-1.25576062e+00,  1.20435022e+00, -1.13947151e+00],\n",
       "       [-8.35393020e-01, -8.41613655e-01, -1.13026515e+00],\n",
       "       [-1.51615499e+00, -1.29402151e+00,  4.81492770e-02],\n",
       "       [ 2.30705910e-01,  1.26512143e+00, -1.24074150e+00],\n",
       "       [ 3.10313024e-02,  8.32970639e-01, -1.13026515e+00],\n",
       "       [-1.27094056e+00, -1.32103093e+00, -7.71217005e-01],\n",
       "       [-6.17035408e-01, -1.24000266e+00, -1.03359834e+00],\n",
       "       [ 3.49810063e-01, -9.42898996e-01, -1.11185242e+00],\n",
       "       [ 1.59456522e+00,  1.26512143e+00,  1.64085003e+00],\n",
       "       [ 9.93206022e-01, -9.90165488e-01, -1.00597925e+00]])"
      ]
     },
     "execution_count": 62,
     "metadata": {},
     "output_type": "execute_result"
    }
   ],
   "source": [
    "X_std"
   ]
  },
  {
   "cell_type": "code",
   "execution_count": 63,
   "metadata": {},
   "outputs": [
    {
     "data": {
      "text/plain": [
       "0      22.1\n",
       "1      10.4\n",
       "2      12.0\n",
       "3      16.5\n",
       "4      17.9\n",
       "       ... \n",
       "195     7.6\n",
       "196    14.0\n",
       "197    14.8\n",
       "198    25.5\n",
       "199    18.4\n",
       "Name: Sales, Length: 200, dtype: float64"
      ]
     },
     "execution_count": 63,
     "metadata": {},
     "output_type": "execute_result"
    }
   ],
   "source": [
    "y"
   ]
  },
  {
   "cell_type": "code",
   "execution_count": 64,
   "metadata": {
    "ExecuteTime": {
     "end_time": "2020-11-24T18:48:05.931056Z",
     "start_time": "2020-11-24T18:48:05.921558Z"
    }
   },
   "outputs": [
    {
     "data": {
      "text/plain": [
       "0.9025912899684558"
      ]
     },
     "execution_count": 64,
     "metadata": {},
     "output_type": "execute_result"
    }
   ],
   "source": [
    "model.score(X_std, y)"
   ]
  }
 ],
 "metadata": {
  "kernelspec": {
   "display_name": "Python 3",
   "language": "python",
   "name": "python3"
  },
  "language_info": {
   "codemirror_mode": {
    "name": "ipython",
    "version": 3
   },
   "file_extension": ".py",
   "mimetype": "text/x-python",
   "name": "python",
   "nbconvert_exporter": "python",
   "pygments_lexer": "ipython3",
   "version": "3.9.4"
  },
  "toc": {
   "base_numbering": 1,
   "nav_menu": {},
   "number_sections": true,
   "sideBar": true,
   "skip_h1_title": false,
   "title_cell": "Table of Contents",
   "title_sidebar": "Contents",
   "toc_cell": false,
   "toc_position": {},
   "toc_section_display": true,
   "toc_window_display": false
  },
  "varInspector": {
   "cols": {
    "lenName": 16,
    "lenType": 16,
    "lenVar": 40
   },
   "kernels_config": {
    "python": {
     "delete_cmd_postfix": "",
     "delete_cmd_prefix": "del ",
     "library": "var_list.py",
     "varRefreshCmd": "print(var_dic_list())"
    },
    "r": {
     "delete_cmd_postfix": ") ",
     "delete_cmd_prefix": "rm(",
     "library": "var_list.r",
     "varRefreshCmd": "cat(var_dic_list()) "
    }
   },
   "types_to_exclude": [
    "module",
    "function",
    "builtin_function_or_method",
    "instance",
    "_Feature"
   ],
   "window_display": false
  }
 },
 "nbformat": 4,
 "nbformat_minor": 4
}
