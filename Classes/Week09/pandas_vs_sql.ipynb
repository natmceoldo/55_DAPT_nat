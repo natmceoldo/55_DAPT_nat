{
 "cells": [
  {
   "cell_type": "markdown",
   "id": "gross-circuit",
   "metadata": {},
   "source": [
    "# Pandas vs SQL"
   ]
  },
  {
   "cell_type": "markdown",
   "id": "internal-optics",
   "metadata": {},
   "source": [
    "## Instruções\n",
    "1. Abra o http://sqlfiddle.com;\n",
    "1. Construa o um schema utilizando PostgreSQL 9.3. Para isso, utilize esse script [aqui](https://grupozap-code-challenge.s3.amazonaws.com/analytics/ddl.sql);\n",
    "1. Pronto, já podemos simular algumas queries! Mas antes, vamos criar um ambiente similar no Pandas;\n",
    "1. Entre [neste docs](https://docs.google.com/spreadsheets/d/1co7DZT9qwUkrKb3_2qMxWFDy1BcvnlDeZAx8Ntz7mQc/edit?usp=sharing), nele temos duas abas: Anúncios e Contatos;\n",
    "1. Carregue cada uma dessas bases em Pandas DataFrames distintos utilizando o comando `pd.read_clipboard()`;\n",
    "1. Pronto! Agora conseguimos comparar Pandas com SQL para uma maior compreensão da linguagem."
   ]
  },
  {
   "cell_type": "markdown",
   "id": "smart-wisconsin",
   "metadata": {},
   "source": [
    "https://pandas.pydata.org/docs/getting_started/comparison/comparison_with_sql.html"
   ]
  },
  {
   "cell_type": "markdown",
   "id": "laughing-retention",
   "metadata": {},
   "source": [
    "## Comandos"
   ]
  },
  {
   "cell_type": "markdown",
   "id": "nominated-founder",
   "metadata": {},
   "source": [
    "Iremos nos basear nos seguintes comandos para fazer as comparações entre as duas ferramentas:"
   ]
  },
  {
   "cell_type": "markdown",
   "id": "ordered-notice",
   "metadata": {},
   "source": [
    "* `SELECT`\n",
    "* `LIMIT`\n",
    "* `WHERE`\n",
    "* `GROUP BY`\n",
    "* `JOIN`\n",
    "* `UNION`\n",
    "* `ORDER BY`"
   ]
  },
  {
   "cell_type": "code",
   "execution_count": 1,
   "id": "acquired-granny",
   "metadata": {},
   "outputs": [],
   "source": [
    "import pandas as pd"
   ]
  },
  {
   "cell_type": "code",
   "execution_count": 2,
   "id": "dependent-theology",
   "metadata": {},
   "outputs": [],
   "source": [
    "tb_listings = pd.read_clipboard()"
   ]
  },
  {
   "cell_type": "code",
   "execution_count": 3,
   "id": "fifteen-kelly",
   "metadata": {},
   "outputs": [],
   "source": [
    "tb_leads = pd.read_clipboard()"
   ]
  },
  {
   "cell_type": "code",
   "execution_count": 4,
   "id": "61719417",
   "metadata": {},
   "outputs": [
    {
     "data": {
      "text/html": [
       "<div>\n",
       "<style scoped>\n",
       "    .dataframe tbody tr th:only-of-type {\n",
       "        vertical-align: middle;\n",
       "    }\n",
       "\n",
       "    .dataframe tbody tr th {\n",
       "        vertical-align: top;\n",
       "    }\n",
       "\n",
       "    .dataframe thead th {\n",
       "        text-align: right;\n",
       "    }\n",
       "</style>\n",
       "<table border=\"1\" class=\"dataframe\">\n",
       "  <thead>\n",
       "    <tr style=\"text-align: right;\">\n",
       "      <th></th>\n",
       "      <th>advertiser_id</th>\n",
       "      <th>listing_id</th>\n",
       "      <th>portal</th>\n",
       "      <th>city</th>\n",
       "      <th>neighborhood</th>\n",
       "    </tr>\n",
       "  </thead>\n",
       "  <tbody>\n",
       "    <tr>\n",
       "      <th>0</th>\n",
       "      <td>07c25ae8-b878-0a80-4776-f3a301ab09cf</td>\n",
       "      <td>b41ddcec38f323c</td>\n",
       "      <td>VIVAREAL</td>\n",
       "      <td>Rio de Janeiro</td>\n",
       "      <td>Jacarepaguá</td>\n",
       "    </tr>\n",
       "    <tr>\n",
       "      <th>1</th>\n",
       "      <td>08d660eb-8769-f8c5-1ce0-58521c584a31</td>\n",
       "      <td>3b51cc54000df82</td>\n",
       "      <td>ZAP</td>\n",
       "      <td>Rio de Janeiro</td>\n",
       "      <td>Barra da Tijuca</td>\n",
       "    </tr>\n",
       "    <tr>\n",
       "      <th>2</th>\n",
       "      <td>0a70b984-43ed-6cb1-20c3-e27b8e9e494d</td>\n",
       "      <td>8afe42027b396ab</td>\n",
       "      <td>ZAP</td>\n",
       "      <td>Rio de Janeiro</td>\n",
       "      <td>Botafogo</td>\n",
       "    </tr>\n",
       "    <tr>\n",
       "      <th>3</th>\n",
       "      <td>0dbdfe30-174a-7a78-2f64-27843f91c98e</td>\n",
       "      <td>c5339b423fc2353</td>\n",
       "      <td>VIVAREAL</td>\n",
       "      <td>Rio de Janeiro</td>\n",
       "      <td>Botafogo</td>\n",
       "    </tr>\n",
       "    <tr>\n",
       "      <th>4</th>\n",
       "      <td>0fb716c4-073a-b274-60a8-3640b2458f46</td>\n",
       "      <td>fa7591050f410d6</td>\n",
       "      <td>VIVAREAL</td>\n",
       "      <td>São Bernardo do Campo</td>\n",
       "      <td>Planalto</td>\n",
       "    </tr>\n",
       "  </tbody>\n",
       "</table>\n",
       "</div>"
      ],
      "text/plain": [
       "                          advertiser_id       listing_id    portal  \\\n",
       "0  07c25ae8-b878-0a80-4776-f3a301ab09cf  b41ddcec38f323c  VIVAREAL   \n",
       "1  08d660eb-8769-f8c5-1ce0-58521c584a31  3b51cc54000df82       ZAP   \n",
       "2  0a70b984-43ed-6cb1-20c3-e27b8e9e494d  8afe42027b396ab       ZAP   \n",
       "3  0dbdfe30-174a-7a78-2f64-27843f91c98e  c5339b423fc2353  VIVAREAL   \n",
       "4  0fb716c4-073a-b274-60a8-3640b2458f46  fa7591050f410d6  VIVAREAL   \n",
       "\n",
       "                    city     neighborhood  \n",
       "0         Rio de Janeiro      Jacarepaguá  \n",
       "1         Rio de Janeiro  Barra da Tijuca  \n",
       "2         Rio de Janeiro         Botafogo  \n",
       "3         Rio de Janeiro         Botafogo  \n",
       "4  São Bernardo do Campo         Planalto  "
      ]
     },
     "execution_count": 4,
     "metadata": {},
     "output_type": "execute_result"
    }
   ],
   "source": [
    "tb_listings.head()"
   ]
  },
  {
   "cell_type": "code",
   "execution_count": 5,
   "id": "da4369b0",
   "metadata": {},
   "outputs": [
    {
     "data": {
      "text/html": [
       "<div>\n",
       "<style scoped>\n",
       "    .dataframe tbody tr th:only-of-type {\n",
       "        vertical-align: middle;\n",
       "    }\n",
       "\n",
       "    .dataframe tbody tr th {\n",
       "        vertical-align: top;\n",
       "    }\n",
       "\n",
       "    .dataframe thead th {\n",
       "        text-align: right;\n",
       "    }\n",
       "</style>\n",
       "<table border=\"1\" class=\"dataframe\">\n",
       "  <thead>\n",
       "    <tr style=\"text-align: right;\">\n",
       "      <th></th>\n",
       "      <th>listing_id</th>\n",
       "      <th>leads</th>\n",
       "    </tr>\n",
       "  </thead>\n",
       "  <tbody>\n",
       "    <tr>\n",
       "      <th>0</th>\n",
       "      <td>048a0a8d01843e2</td>\n",
       "      <td>5</td>\n",
       "    </tr>\n",
       "    <tr>\n",
       "      <th>1</th>\n",
       "      <td>08438825a78ee95</td>\n",
       "      <td>13</td>\n",
       "    </tr>\n",
       "    <tr>\n",
       "      <th>2</th>\n",
       "      <td>fdf8cc57abc6295</td>\n",
       "      <td>1</td>\n",
       "    </tr>\n",
       "    <tr>\n",
       "      <th>3</th>\n",
       "      <td>e26e785a6330801</td>\n",
       "      <td>1</td>\n",
       "    </tr>\n",
       "    <tr>\n",
       "      <th>4</th>\n",
       "      <td>08c6aa2798c42c6</td>\n",
       "      <td>7</td>\n",
       "    </tr>\n",
       "  </tbody>\n",
       "</table>\n",
       "</div>"
      ],
      "text/plain": [
       "        listing_id  leads\n",
       "0  048a0a8d01843e2      5\n",
       "1  08438825a78ee95     13\n",
       "2  fdf8cc57abc6295      1\n",
       "3  e26e785a6330801      1\n",
       "4  08c6aa2798c42c6      7"
      ]
     },
     "execution_count": 5,
     "metadata": {},
     "output_type": "execute_result"
    }
   ],
   "source": [
    "tb_leads.head()"
   ]
  },
  {
   "cell_type": "markdown",
   "id": "heavy-sentence",
   "metadata": {},
   "source": [
    "-----"
   ]
  },
  {
   "cell_type": "markdown",
   "id": "33aeb85f",
   "metadata": {},
   "source": [
    "```sql\n",
    "SELECT \n",
    "  tb_listings.city,\n",
    "  tb_listings.portal,\n",
    "  sum(leads) as total_leads,\n",
    "  count(tb_listings.listing_id) as total_listings\n",
    "FROM \n",
    "  tb_listings\n",
    "    LEFT JOIN\n",
    "  tb_leads ON tb_listings.listing_id=tb_leads.listing_id\n",
    "WHERE city in ('Santo André', 'São Bernardo do Campo', 'São Caetano do Sul')\n",
    "GROUP BY \n",
    "  tb_listings.city, tb_listings.portal\n",
    "ORDER BY\n",
    "  tb_listings.city, tb_listings.portal\n",
    "```\n"
   ]
  },
  {
   "cell_type": "code",
   "execution_count": 16,
   "id": "mature-colleague",
   "metadata": {},
   "outputs": [
    {
     "data": {
      "text/html": [
       "<div>\n",
       "<style scoped>\n",
       "    .dataframe tbody tr th:only-of-type {\n",
       "        vertical-align: middle;\n",
       "    }\n",
       "\n",
       "    .dataframe tbody tr th {\n",
       "        vertical-align: top;\n",
       "    }\n",
       "\n",
       "    .dataframe thead th {\n",
       "        text-align: right;\n",
       "    }\n",
       "</style>\n",
       "<table border=\"1\" class=\"dataframe\">\n",
       "  <thead>\n",
       "    <tr style=\"text-align: right;\">\n",
       "      <th></th>\n",
       "      <th>city</th>\n",
       "      <th>portal</th>\n",
       "      <th>total_leads</th>\n",
       "      <th>total_listing</th>\n",
       "    </tr>\n",
       "  </thead>\n",
       "  <tbody>\n",
       "    <tr>\n",
       "      <th>0</th>\n",
       "      <td>Santo André</td>\n",
       "      <td>VIVAREAL</td>\n",
       "      <td>2.0</td>\n",
       "      <td>9</td>\n",
       "    </tr>\n",
       "    <tr>\n",
       "      <th>1</th>\n",
       "      <td>São Bernardo do Campo</td>\n",
       "      <td>VIVAREAL</td>\n",
       "      <td>0.0</td>\n",
       "      <td>3</td>\n",
       "    </tr>\n",
       "    <tr>\n",
       "      <th>2</th>\n",
       "      <td>São Bernardo do Campo</td>\n",
       "      <td>ZAP</td>\n",
       "      <td>0.0</td>\n",
       "      <td>1</td>\n",
       "    </tr>\n",
       "    <tr>\n",
       "      <th>3</th>\n",
       "      <td>São Caetano do Sul</td>\n",
       "      <td>VIVAREAL</td>\n",
       "      <td>0.0</td>\n",
       "      <td>3</td>\n",
       "    </tr>\n",
       "  </tbody>\n",
       "</table>\n",
       "</div>"
      ],
      "text/plain": [
       "                    city    portal  total_leads  total_listing\n",
       "0            Santo André  VIVAREAL          2.0              9\n",
       "1  São Bernardo do Campo  VIVAREAL          0.0              3\n",
       "2  São Bernardo do Campo       ZAP          0.0              1\n",
       "3     São Caetano do Sul  VIVAREAL          0.0              3"
      ]
     },
     "execution_count": 16,
     "metadata": {},
     "output_type": "execute_result"
    }
   ],
   "source": [
    "### Your code here!\n",
    "pd.merge(left=tb_listings[tb_listings.city.isin(['Santo André', 'São Bernardo do Campo', 'São Caetano do Sul'])], right=tb_leads, how='left', on='listing_id')\\\n",
    "    .groupby(['city', 'portal'])\\\n",
    "    .agg(total_leads = ('leads', 'sum'),\n",
    "      total_listing = ('listing_id', 'count'))\\\n",
    "    .sort_index().reset_index()"
   ]
  },
  {
   "cell_type": "markdown",
   "id": "saving-robinson",
   "metadata": {},
   "source": [
    "```sql\n",
    "SELECT ...\n",
    "```"
   ]
  },
  {
   "cell_type": "code",
   "execution_count": null,
   "id": "modern-deputy",
   "metadata": {},
   "outputs": [],
   "source": [
    "### Your code here!"
   ]
  },
  {
   "cell_type": "markdown",
   "id": "spare-ending",
   "metadata": {},
   "source": [
    "```sql\n",
    "SELECT ...\n",
    "```"
   ]
  },
  {
   "cell_type": "code",
   "execution_count": null,
   "id": "realistic-compilation",
   "metadata": {},
   "outputs": [],
   "source": [
    "### Your code here!"
   ]
  },
  {
   "cell_type": "markdown",
   "id": "consistent-interference",
   "metadata": {},
   "source": [
    "```sql\n",
    "SELECT ...\n",
    "```"
   ]
  },
  {
   "cell_type": "code",
   "execution_count": null,
   "id": "standard-router",
   "metadata": {},
   "outputs": [],
   "source": [
    "### Your code here!"
   ]
  },
  {
   "cell_type": "markdown",
   "id": "prerequisite-insulin",
   "metadata": {},
   "source": [
    "```sql\n",
    "SELECT ...\n",
    "```"
   ]
  },
  {
   "cell_type": "code",
   "execution_count": null,
   "id": "speaking-evans",
   "metadata": {},
   "outputs": [],
   "source": [
    "### Your code here!"
   ]
  },
  {
   "cell_type": "markdown",
   "id": "emerging-scholarship",
   "metadata": {},
   "source": [
    "```sql\n",
    "SELECT ...\n",
    "```"
   ]
  },
  {
   "cell_type": "code",
   "execution_count": null,
   "id": "small-delay",
   "metadata": {},
   "outputs": [],
   "source": [
    "### Your code here!"
   ]
  },
  {
   "cell_type": "markdown",
   "id": "accepting-korean",
   "metadata": {},
   "source": [
    "```sql\n",
    "SELECT ...\n",
    "```"
   ]
  },
  {
   "cell_type": "code",
   "execution_count": null,
   "id": "conceptual-breakdown",
   "metadata": {},
   "outputs": [],
   "source": [
    "### Your code here!"
   ]
  },
  {
   "cell_type": "markdown",
   "id": "knowing-zoning",
   "metadata": {},
   "source": [
    "```sql\n",
    "SELECT ...\n",
    "```"
   ]
  },
  {
   "cell_type": "code",
   "execution_count": null,
   "id": "heated-bernard",
   "metadata": {},
   "outputs": [],
   "source": [
    "### Your code here!"
   ]
  },
  {
   "cell_type": "markdown",
   "id": "mental-orientation",
   "metadata": {},
   "source": [
    "```sql\n",
    "SELECT ...\n",
    "```"
   ]
  },
  {
   "cell_type": "code",
   "execution_count": null,
   "id": "hydraulic-cooling",
   "metadata": {},
   "outputs": [],
   "source": [
    "### Your code here!"
   ]
  },
  {
   "cell_type": "markdown",
   "id": "preceding-egyptian",
   "metadata": {},
   "source": [
    "```sql\n",
    "SELECT ...\n",
    "```"
   ]
  },
  {
   "cell_type": "code",
   "execution_count": null,
   "id": "derived-lindsay",
   "metadata": {},
   "outputs": [],
   "source": [
    "### Your code here!"
   ]
  },
  {
   "cell_type": "markdown",
   "id": "static-boundary",
   "metadata": {},
   "source": [
    "```sql\n",
    "SELECT ...\n",
    "```"
   ]
  },
  {
   "cell_type": "code",
   "execution_count": null,
   "id": "involved-nightmare",
   "metadata": {},
   "outputs": [],
   "source": [
    "### Your code here!"
   ]
  },
  {
   "cell_type": "markdown",
   "id": "overall-bennett",
   "metadata": {},
   "source": [
    "```sql\n",
    "SELECT ...\n",
    "```"
   ]
  },
  {
   "cell_type": "code",
   "execution_count": null,
   "id": "sitting-thompson",
   "metadata": {},
   "outputs": [],
   "source": [
    "### Your code here!"
   ]
  }
 ],
 "metadata": {
  "kernelspec": {
   "display_name": "Python 3",
   "language": "python",
   "name": "python3"
  },
  "language_info": {
   "codemirror_mode": {
    "name": "ipython",
    "version": 3
   },
   "file_extension": ".py",
   "mimetype": "text/x-python",
   "name": "python",
   "nbconvert_exporter": "python",
   "pygments_lexer": "ipython3",
   "version": "3.9.4"
  }
 },
 "nbformat": 4,
 "nbformat_minor": 5
}
