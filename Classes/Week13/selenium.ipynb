{
 "cells": [
  {
   "cell_type": "markdown",
   "metadata": {},
   "source": [
    "# Scraping Dynamic Content: Selenium"
   ]
  },
  {
   "cell_type": "markdown",
   "metadata": {},
   "source": [
    "Need to download a Chrome's drive, available at: https://sites.google.com/chromium.org/driver/"
   ]
  },
  {
   "cell_type": "code",
   "execution_count": 1,
   "metadata": {},
   "outputs": [
    {
     "name": "stdout",
     "output_type": "stream",
     "text": [
      "Defaulting to user installation because normal site-packages is not writeable\n",
      "Collecting selenium\n",
      "  Downloading selenium-3.141.0-py2.py3-none-any.whl (904 kB)\n",
      "Requirement already satisfied: urllib3 in c:\\users\\natmc\\appdata\\roaming\\python\\python39\\site-packages (from selenium) (1.26.6)\n",
      "Installing collected packages: selenium\n",
      "Successfully installed selenium-3.141.0\n"
     ]
    },
    {
     "name": "stderr",
     "output_type": "stream",
     "text": [
      "WARNING: You are using pip version 21.0.1; however, version 21.2.4 is available.\n",
      "You should consider upgrading via the 'c:\\program files\\python39\\python.exe -m pip install --upgrade pip' command.\n"
     ]
    }
   ],
   "source": [
    "!pip3 install selenium"
   ]
  },
  {
   "cell_type": "code",
   "execution_count": 2,
   "metadata": {
    "ExecuteTime": {
     "end_time": "2021-01-30T19:25:06.708633Z",
     "start_time": "2021-01-30T19:25:06.690132Z"
    }
   },
   "outputs": [],
   "source": [
    "import pandas as pd\n",
    "from selenium import webdriver"
   ]
  },
  {
   "cell_type": "markdown",
   "metadata": {},
   "source": [
    "Install Selenium: \n",
    "\n",
    "`!pip install selenium`"
   ]
  },
  {
   "cell_type": "markdown",
   "metadata": {},
   "source": [
    "# First Steps"
   ]
  },
  {
   "cell_type": "code",
   "execution_count": 6,
   "metadata": {},
   "outputs": [],
   "source": [
    "# Your code here!\n",
    "chrome_path = 'chromedriver_win32/chromedriver.exe'"
   ]
  },
  {
   "cell_type": "code",
   "execution_count": 12,
   "metadata": {},
   "outputs": [],
   "source": [
    "driver = webdriver.Chrome(executable_path=chrome_path)"
   ]
  },
  {
   "cell_type": "code",
   "execution_count": 8,
   "metadata": {},
   "outputs": [
    {
     "data": {
      "text/plain": [
       "selenium.webdriver.chrome.webdriver.WebDriver"
      ]
     },
     "execution_count": 8,
     "metadata": {},
     "output_type": "execute_result"
    }
   ],
   "source": [
    "type(driver)"
   ]
  },
  {
   "cell_type": "code",
   "execution_count": 9,
   "metadata": {},
   "outputs": [],
   "source": [
    "driver.close()"
   ]
  },
  {
   "cell_type": "code",
   "execution_count": 14,
   "metadata": {},
   "outputs": [],
   "source": [
    "driver.get('https://www.wunderground.com/weather/br/ribeir%C3%A3o-preto')"
   ]
  },
  {
   "cell_type": "code",
   "execution_count": 15,
   "metadata": {},
   "outputs": [
    {
     "data": {
      "text/plain": [
       "'https://www.wunderground.com/weather/br/ribeir%C3%A3o-preto'"
      ]
     },
     "execution_count": 15,
     "metadata": {},
     "output_type": "execute_result"
    }
   ],
   "source": [
    "driver.current_url"
   ]
  },
  {
   "cell_type": "code",
   "execution_count": 16,
   "metadata": {},
   "outputs": [],
   "source": [
    "driver.get('https://pt.wikipedia.org/wiki/Brasil')"
   ]
  },
  {
   "cell_type": "code",
   "execution_count": 17,
   "metadata": {},
   "outputs": [],
   "source": [
    "element = driver.find_element_by_tag_name('h1')"
   ]
  },
  {
   "cell_type": "code",
   "execution_count": 18,
   "metadata": {},
   "outputs": [
    {
     "data": {
      "text/plain": [
       "'Brasil'"
      ]
     },
     "execution_count": 18,
     "metadata": {},
     "output_type": "execute_result"
    }
   ],
   "source": [
    "element.text"
   ]
  },
  {
   "cell_type": "code",
   "execution_count": 19,
   "metadata": {},
   "outputs": [],
   "source": [
    "element2 = driver.find_element_by_tag_name('table')"
   ]
  },
  {
   "cell_type": "code",
   "execution_count": 21,
   "metadata": {},
   "outputs": [
    {
     "name": "stdout",
     "output_type": "stream",
     "text": [
      "Brasil\n",
      "República Federativa do Brasil\n",
      "Bandeira Brasão de armas\n",
      "Lema: Ordem e Progresso\n",
      "Hino nacional: Hino Nacional Brasileiro\n",
      "MENU\n",
      "0:00\n",
      "Gentílico: brasileiro(a)\n",
      "\n",
      "\n",
      "Localização do Brasil no mundo\n",
      "Capital Brasília\n",
      "15°47'56\"S 47°52'00\"O\n",
      "Cidade mais populosa São Paulo\n",
      "Língua oficial Português[a]\n",
      "Governo República federativa presidencialista\n",
      " - Presidente Jair Bolsonaro\n",
      " - Vice-presidente Hamilton Mourão\n",
      " - Presidente da Câmara dos Deputados Arthur Lira\n",
      " - Presidente do Senado Federal Rodrigo Pacheco\n",
      " - Presidente do Supremo Tribunal Federal Luiz Fux\n",
      " - Número de ministérios 22[1]\n",
      "Formação  \n",
      " - Instituição da Administração Colonial 17 de Dezembro de 1548 \n",
      " - Transferência da corte portuguesa para o Brasil 8 de março de 1808 \n",
      " - Proclamação da Independência 7 de setembro de 1822 \n",
      " - Reconhecimento da Independência 29 de agosto de 1825 \n",
      " - Proclamação da República 15 de novembro de 1889 \n",
      " - Constituição 5 de outubro de 1988 \n",
      "Área  \n",
      " - Total 8 510 345,538[2] km² (5.º)\n",
      " - Água (%) 0,65\n",
      " Fronteira Argentina, Bolívia, Colômbia, Guiana Francesa (França), Guiana, Paraguai, Peru, Suriname, Uruguai e Venezuela\n",
      "População  \n",
      " - Estimativa para 2021 213 317 639[2] hab. (6.º)\n",
      " - Censo 2010 190 755 799[3] hab. \n",
      " - Densidade 23,8 hab./km² (182.º)\n",
      "PIB (base PPC) Estimativa de 2020\n",
      " - Total US$ 3,078 trilhões*[4] (8.º)\n",
      " - Per capita US$ 14 563[4] (83.º)\n",
      "PIB (nominal) Estimativa de 2020\n",
      " - Total US$ 1,363 trilhão*[4] (12.º)\n",
      " - Per capita US$ 6 450[4] (83.º)\n",
      "IDH (2019) 0,765 (84.º) – alto[5]\n",
      "Gini (2018) 53,9[6] (10.º)\n",
      "Moeda Real (BRL)\n",
      "Fuso horário UTC −5 a UTC −2 (oficial: UTC −3)[7]\n",
      "Clima Equatorial, árido, semiárido, subtropical oceânico, subtropical de altitude, subtropical úmido, tropical savânico e tropical monçônico\n",
      "Org. internacionais ONU (OMC), Mercosul, OEA, CPLP, Aladi, OTCA, CI-A, UL e OIE.\n",
      "Cód. ISO BRA\n",
      "Cód. Internet .br\n",
      "Cód. telef. +55\n",
      "Website governamental www.gov.br\n"
     ]
    }
   ],
   "source": [
    "print(element2.text)"
   ]
  },
  {
   "cell_type": "code",
   "execution_count": 25,
   "metadata": {},
   "outputs": [],
   "source": [
    "element3 = driver.find_elements_by_tag_name('table')"
   ]
  },
  {
   "cell_type": "code",
   "execution_count": 26,
   "metadata": {},
   "outputs": [
    {
     "data": {
      "text/plain": [
       "[<selenium.webdriver.remote.webelement.WebElement (session=\"938c3bd29476b4de1f60f759bc35de23\", element=\"b2ccffe5-d54c-4156-ad32-cd3cda7dc20b\")>,\n",
       " <selenium.webdriver.remote.webelement.WebElement (session=\"938c3bd29476b4de1f60f759bc35de23\", element=\"3e9e64e4-f3ba-4cbe-9e6d-d0afa3b61df9\")>,\n",
       " <selenium.webdriver.remote.webelement.WebElement (session=\"938c3bd29476b4de1f60f759bc35de23\", element=\"d5e992ab-b3d9-4217-b6f0-dad97cb55ee3\")>,\n",
       " <selenium.webdriver.remote.webelement.WebElement (session=\"938c3bd29476b4de1f60f759bc35de23\", element=\"7646433e-2b77-4dea-8b97-f6c2ca5e5e39\")>,\n",
       " <selenium.webdriver.remote.webelement.WebElement (session=\"938c3bd29476b4de1f60f759bc35de23\", element=\"0d384ccb-e17d-4af5-add9-61d5756c1ab1\")>,\n",
       " <selenium.webdriver.remote.webelement.WebElement (session=\"938c3bd29476b4de1f60f759bc35de23\", element=\"2793a2db-73cc-4bfe-9fa8-a330b10354e7\")>,\n",
       " <selenium.webdriver.remote.webelement.WebElement (session=\"938c3bd29476b4de1f60f759bc35de23\", element=\"e8e694d0-de20-4561-b982-177d3ece8f5c\")>,\n",
       " <selenium.webdriver.remote.webelement.WebElement (session=\"938c3bd29476b4de1f60f759bc35de23\", element=\"c7c12e26-05a6-434d-8526-61595b1a5a5f\")>,\n",
       " <selenium.webdriver.remote.webelement.WebElement (session=\"938c3bd29476b4de1f60f759bc35de23\", element=\"ba088c1f-06cd-40b5-ae74-d10a95c4107d\")>,\n",
       " <selenium.webdriver.remote.webelement.WebElement (session=\"938c3bd29476b4de1f60f759bc35de23\", element=\"27e7d818-98b8-43f1-bbdc-1e6fc34e7ff0\")>,\n",
       " <selenium.webdriver.remote.webelement.WebElement (session=\"938c3bd29476b4de1f60f759bc35de23\", element=\"57139091-d833-47fc-8260-bacf26083361\")>,\n",
       " <selenium.webdriver.remote.webelement.WebElement (session=\"938c3bd29476b4de1f60f759bc35de23\", element=\"dc4fcf33-2673-4e41-abad-77193d4edd93\")>,\n",
       " <selenium.webdriver.remote.webelement.WebElement (session=\"938c3bd29476b4de1f60f759bc35de23\", element=\"620e5ebb-7c94-4288-9779-ea22ce18180f\")>,\n",
       " <selenium.webdriver.remote.webelement.WebElement (session=\"938c3bd29476b4de1f60f759bc35de23\", element=\"ea102727-7833-4c9b-a3d3-6354f8c1fda6\")>,\n",
       " <selenium.webdriver.remote.webelement.WebElement (session=\"938c3bd29476b4de1f60f759bc35de23\", element=\"638ecaf3-273c-4884-a641-e6671997cae6\")>,\n",
       " <selenium.webdriver.remote.webelement.WebElement (session=\"938c3bd29476b4de1f60f759bc35de23\", element=\"c4b4c4d5-c677-49c6-be60-c130ac616fdf\")>,\n",
       " <selenium.webdriver.remote.webelement.WebElement (session=\"938c3bd29476b4de1f60f759bc35de23\", element=\"32a0417b-8fb7-4d0c-b7a6-541e1da6b0f5\")>,\n",
       " <selenium.webdriver.remote.webelement.WebElement (session=\"938c3bd29476b4de1f60f759bc35de23\", element=\"8d4c084b-9ed7-4eec-b822-6dab9a370dc4\")>,\n",
       " <selenium.webdriver.remote.webelement.WebElement (session=\"938c3bd29476b4de1f60f759bc35de23\", element=\"c96002f4-0151-4b64-9861-791039a334fa\")>,\n",
       " <selenium.webdriver.remote.webelement.WebElement (session=\"938c3bd29476b4de1f60f759bc35de23\", element=\"ad386ce0-4385-427e-944a-143b6afd0816\")>,\n",
       " <selenium.webdriver.remote.webelement.WebElement (session=\"938c3bd29476b4de1f60f759bc35de23\", element=\"a3f7928b-07ba-4d41-b7c1-626718b87a0d\")>,\n",
       " <selenium.webdriver.remote.webelement.WebElement (session=\"938c3bd29476b4de1f60f759bc35de23\", element=\"62bd88ce-1049-4174-a9c8-fac1836c3e7f\")>,\n",
       " <selenium.webdriver.remote.webelement.WebElement (session=\"938c3bd29476b4de1f60f759bc35de23\", element=\"7dc09af1-b1c7-434c-802d-56d1d73bfe44\")>,\n",
       " <selenium.webdriver.remote.webelement.WebElement (session=\"938c3bd29476b4de1f60f759bc35de23\", element=\"03e91601-e7bd-49aa-b467-540e747d6181\")>,\n",
       " <selenium.webdriver.remote.webelement.WebElement (session=\"938c3bd29476b4de1f60f759bc35de23\", element=\"a69edf15-3740-4c03-bc25-29be98a2bb79\")>,\n",
       " <selenium.webdriver.remote.webelement.WebElement (session=\"938c3bd29476b4de1f60f759bc35de23\", element=\"1a555437-71cb-4e35-97fc-8713d1c2112c\")>,\n",
       " <selenium.webdriver.remote.webelement.WebElement (session=\"938c3bd29476b4de1f60f759bc35de23\", element=\"6cc95360-f686-4f88-99fd-c4b0ec9382d5\")>,\n",
       " <selenium.webdriver.remote.webelement.WebElement (session=\"938c3bd29476b4de1f60f759bc35de23\", element=\"4c58688a-acc0-4b02-8c44-0773a0ee0c53\")>,\n",
       " <selenium.webdriver.remote.webelement.WebElement (session=\"938c3bd29476b4de1f60f759bc35de23\", element=\"d3fe15b3-8ca3-465e-b295-9b4ff80a4bd5\")>,\n",
       " <selenium.webdriver.remote.webelement.WebElement (session=\"938c3bd29476b4de1f60f759bc35de23\", element=\"b7f0362e-0ad7-4028-a2f8-54ecab81b30f\")>,\n",
       " <selenium.webdriver.remote.webelement.WebElement (session=\"938c3bd29476b4de1f60f759bc35de23\", element=\"cc3d4530-4036-42d7-9cc8-df61db52c5a5\")>]"
      ]
     },
     "execution_count": 26,
     "metadata": {},
     "output_type": "execute_result"
    }
   ],
   "source": [
    "element3"
   ]
  },
  {
   "cell_type": "code",
   "execution_count": 27,
   "metadata": {},
   "outputs": [],
   "source": [
    "driver.get('https://en.wikipedia.org/wiki/Python_(programming_language)')"
   ]
  },
  {
   "cell_type": "code",
   "execution_count": 30,
   "metadata": {},
   "outputs": [],
   "source": [
    "element4 = driver.find_element_by_id('searchInput')"
   ]
  },
  {
   "cell_type": "code",
   "execution_count": 33,
   "metadata": {},
   "outputs": [],
   "source": [
    "element4.send_keys('Ironhack')"
   ]
  },
  {
   "cell_type": "code",
   "execution_count": 34,
   "metadata": {},
   "outputs": [],
   "source": [
    "element4.clear()"
   ]
  },
  {
   "cell_type": "code",
   "execution_count": 35,
   "metadata": {},
   "outputs": [],
   "source": [
    "element4.send_keys('Ruby on Rails')"
   ]
  },
  {
   "cell_type": "code",
   "execution_count": 36,
   "metadata": {},
   "outputs": [],
   "source": [
    "from selenium.webdriver.common.keys import Keys"
   ]
  },
  {
   "cell_type": "code",
   "execution_count": 37,
   "metadata": {},
   "outputs": [],
   "source": [
    "element4.send_keys(Keys.RETURN)"
   ]
  },
  {
   "cell_type": "code",
   "execution_count": 39,
   "metadata": {},
   "outputs": [],
   "source": [
    "button = driver.find_element_by_xpath('//*[@id=\"searchButton\"]')"
   ]
  },
  {
   "cell_type": "markdown",
   "metadata": {},
   "source": [
    "# Interactive content\n",
    "\n",
    "## Forms"
   ]
  },
  {
   "cell_type": "code",
   "execution_count": 40,
   "metadata": {
    "ExecuteTime": {
     "end_time": "2021-02-02T23:34:43.425237Z",
     "start_time": "2021-02-02T23:34:33.785527Z"
    }
   },
   "outputs": [],
   "source": [
    "# Your code here!\n",
    "driver.get('https://forms.gle/v1jzZRf6LTATd2eX6')"
   ]
  },
  {
   "cell_type": "code",
   "execution_count": 42,
   "metadata": {},
   "outputs": [],
   "source": [
    "my_name_field = driver.find_element_by_xpath('//*[@id=\"mG61Hd\"]/div[2]/div/div[2]/div[1]/div/div/div[2]/div/div[1]/div/div[1]/input')\n",
    "my_name_field.send_keys('Natália')"
   ]
  },
  {
   "cell_type": "code",
   "execution_count": 43,
   "metadata": {},
   "outputs": [],
   "source": [
    "age_field = driver.find_element_by_xpath('//*[@id=\"i18\"]/div[3]/div')\n",
    "age_field.click()"
   ]
  },
  {
   "cell_type": "code",
   "execution_count": 44,
   "metadata": {},
   "outputs": [],
   "source": [
    "rating = driver.find_element_by_xpath('//*[@id=\"mG61Hd\"]/div[2]/div/div[2]/div[3]/div/div/div[2]/div[1]/span/div/label[11]/div[2]/div/div/div[3]/div')\n",
    "rating.click()"
   ]
  },
  {
   "cell_type": "code",
   "execution_count": 45,
   "metadata": {},
   "outputs": [],
   "source": [
    "send_button = driver.find_element_by_xpath('//*[@id=\"mG61Hd\"]/div[2]/div/div[3]/div[1]/div[1]/div/span')\n",
    "send_button.click()"
   ]
  },
  {
   "cell_type": "markdown",
   "metadata": {},
   "source": [
    "## Website interaction"
   ]
  },
  {
   "cell_type": "code",
   "execution_count": null,
   "metadata": {
    "ExecuteTime": {
     "end_time": "2021-02-03T00:54:10.339821Z",
     "start_time": "2021-02-03T00:53:59.954610Z"
    },
    "scrolled": true
   },
   "outputs": [],
   "source": [
    "# Your code here!\n"
   ]
  },
  {
   "cell_type": "markdown",
   "metadata": {},
   "source": [
    "# Headless Chrome"
   ]
  },
  {
   "cell_type": "code",
   "execution_count": 48,
   "metadata": {},
   "outputs": [],
   "source": [
    "from selenium.webdriver.chrome.options import Options"
   ]
  },
  {
   "cell_type": "code",
   "execution_count": 49,
   "metadata": {},
   "outputs": [],
   "source": [
    "chrome_options = Options()\n",
    "chrome_options.headless = True"
   ]
  },
  {
   "cell_type": "code",
   "execution_count": 50,
   "metadata": {
    "ExecuteTime": {
     "end_time": "2021-02-03T00:32:34.339041Z",
     "start_time": "2021-02-03T00:32:34.333058Z"
    }
   },
   "outputs": [],
   "source": [
    "# Your code here!\n",
    "headless_driver = webdriver.Chrome(executable_path=chrome_path, options=chrome_options)"
   ]
  },
  {
   "cell_type": "code",
   "execution_count": 51,
   "metadata": {},
   "outputs": [],
   "source": [
    "headless_driver.get('https://uol.com.br')"
   ]
  },
  {
   "cell_type": "code",
   "execution_count": 52,
   "metadata": {},
   "outputs": [
    {
     "data": {
      "text/plain": [
       "'UOL - Seu universo online'"
      ]
     },
     "execution_count": 52,
     "metadata": {},
     "output_type": "execute_result"
    }
   ],
   "source": [
    "headless_driver.find_element_by_tag_name('h1').text"
   ]
  },
  {
   "cell_type": "code",
   "execution_count": 54,
   "metadata": {},
   "outputs": [
    {
     "data": {
      "text/plain": [
       "'Nº 5670'"
      ]
     },
     "execution_count": 54,
     "metadata": {},
     "output_type": "execute_result"
    }
   ],
   "source": [
    "headless_driver.find_elements_by_tag_name('h2')[4].text"
   ]
  }
 ],
 "metadata": {
  "kernelspec": {
   "display_name": "Python 3",
   "language": "python",
   "name": "python3"
  },
  "language_info": {
   "codemirror_mode": {
    "name": "ipython",
    "version": 3
   },
   "file_extension": ".py",
   "mimetype": "text/x-python",
   "name": "python",
   "nbconvert_exporter": "python",
   "pygments_lexer": "ipython3",
   "version": "3.9.4"
  },
  "toc": {
   "base_numbering": 1,
   "nav_menu": {},
   "number_sections": true,
   "sideBar": true,
   "skip_h1_title": false,
   "title_cell": "Table of Contents",
   "title_sidebar": "Contents",
   "toc_cell": false,
   "toc_position": {},
   "toc_section_display": true,
   "toc_window_display": false
  },
  "varInspector": {
   "cols": {
    "lenName": 16,
    "lenType": 16,
    "lenVar": 40
   },
   "kernels_config": {
    "python": {
     "delete_cmd_postfix": "",
     "delete_cmd_prefix": "del ",
     "library": "var_list.py",
     "varRefreshCmd": "print(var_dic_list())"
    },
    "r": {
     "delete_cmd_postfix": ") ",
     "delete_cmd_prefix": "rm(",
     "library": "var_list.r",
     "varRefreshCmd": "cat(var_dic_list()) "
    }
   },
   "types_to_exclude": [
    "module",
    "function",
    "builtin_function_or_method",
    "instance",
    "_Feature"
   ],
   "window_display": false
  }
 },
 "nbformat": 4,
 "nbformat_minor": 4
}
