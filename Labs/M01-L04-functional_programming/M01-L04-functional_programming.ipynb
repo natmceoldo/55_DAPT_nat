{
 "cells": [
  {
   "cell_type": "markdown",
   "metadata": {
    "colab_type": "text",
    "id": "6I1W1y5zDCIN"
   },
   "source": [
    "# Before your start:\n",
    "- Comment as much as you can\n",
    "- Happy learning!"
   ]
  },
  {
   "cell_type": "code",
   "execution_count": 2,
   "metadata": {},
   "outputs": [
    {
     "name": "stdout",
     "output_type": "stream",
     "text": [
      "Defaulting to user installation because normal site-packages is not writeable\n",
      "Collecting numpy\n",
      "  Downloading numpy-1.21.0-cp39-cp39-win_amd64.whl (14.0 MB)\n",
      "Installing collected packages: numpy\n",
      "Successfully installed numpy-1.21.0\n"
     ]
    },
    {
     "name": "stderr",
     "output_type": "stream",
     "text": [
      "WARNING: You are using pip version 21.0.1; however, version 21.1.3 is available.\n",
      "You should consider upgrading via the 'c:\\program files\\python39\\python.exe -m pip install --upgrade pip' command.\n"
     ]
    }
   ],
   "source": [
    "#!pip install numpy"
   ]
  },
  {
   "cell_type": "code",
   "execution_count": 3,
   "metadata": {},
   "outputs": [
    {
     "name": "stdout",
     "output_type": "stream",
     "text": [
      "Defaulting to user installation because normal site-packages is not writeable\n",
      "Collecting pandas\n",
      "  Downloading pandas-1.3.0-cp39-cp39-win_amd64.whl (10.2 MB)\n",
      "Requirement already satisfied: numpy>=1.17.3 in c:\\users\\natmc\\appdata\\roaming\\python\\python39\\site-packages (from pandas) (1.21.0)\n",
      "Collecting pytz>=2017.3\n",
      "  Downloading pytz-2021.1-py2.py3-none-any.whl (510 kB)\n",
      "Requirement already satisfied: python-dateutil>=2.7.3 in c:\\users\\natmc\\appdata\\roaming\\python\\python39\\site-packages (from pandas) (2.8.1)\n",
      "Requirement already satisfied: six>=1.5 in c:\\users\\natmc\\appdata\\roaming\\python\\python39\\site-packages (from python-dateutil>=2.7.3->pandas) (1.15.0)\n",
      "Installing collected packages: pytz, pandas\n",
      "Successfully installed pandas-1.3.0 pytz-2021.1\n"
     ]
    },
    {
     "name": "stderr",
     "output_type": "stream",
     "text": [
      "WARNING: You are using pip version 21.0.1; however, version 21.1.3 is available.\n",
      "You should consider upgrading via the 'c:\\program files\\python39\\python.exe -m pip install --upgrade pip' command.\n"
     ]
    }
   ],
   "source": [
    "#!pip install pandas"
   ]
  },
  {
   "cell_type": "code",
   "execution_count": 4,
   "metadata": {
    "colab": {},
    "colab_type": "code",
    "id": "1t-NDi5NDCIW"
   },
   "outputs": [],
   "source": [
    "import numpy as np\n",
    "import pandas as pd"
   ]
  },
  {
   "cell_type": "markdown",
   "metadata": {
    "colab_type": "text",
    "id": "P53qCn3xDCIg"
   },
   "source": [
    "# Inside a function\n",
    "You are already familiar with several built in functions on python as well as libraries.  \n",
    "Let's try to figure out how they are made in pure python. "
   ]
  },
  {
   "cell_type": "markdown",
   "metadata": {
    "colab_type": "text",
    "id": "7Vq9tOLcDCIi"
   },
   "source": [
    "Create a function that `returns the count` of a list of numbers"
   ]
  },
  {
   "cell_type": "code",
   "execution_count": 44,
   "metadata": {},
   "outputs": [],
   "source": [
    "test_list = [1,2,3,4,5,6,7,8,9,10,12,13]"
   ]
  },
  {
   "cell_type": "code",
   "execution_count": 36,
   "metadata": {},
   "outputs": [
    {
     "name": "stdout",
     "output_type": "stream",
     "text": [
      "12\n"
     ]
    }
   ],
   "source": [
    "# Your code here\n",
    "def count_function (the_list):\n",
    "    \"\"\"Retorna o número de valores dentro de uma lista.\"\"\"\n",
    "    if type(the_list) == list:\n",
    "        return len(the_list)\n",
    "    else:\n",
    "        print(\"lista inválida: argumento não é uma lista.\")\n",
    "        \n",
    "x = count_function(test_list)\n",
    "print(x)"
   ]
  },
  {
   "cell_type": "markdown",
   "metadata": {
    "colab_type": "text",
    "id": "02PYrNc5DCIt"
   },
   "source": [
    "Create a function that `returns the mean` of a list of numbers"
   ]
  },
  {
   "cell_type": "code",
   "execution_count": 71,
   "metadata": {},
   "outputs": [
    {
     "name": "stdout",
     "output_type": "stream",
     "text": [
      "6.666666666666667\n"
     ]
    }
   ],
   "source": [
    "# Your code here\n",
    "\n",
    "def  mean_of_list (the_list):\n",
    "    \"\"\"Retorna o valor médio de uma lista numérica\"\"\"\n",
    "    \n",
    "    soma = 0\n",
    "    if type(the_list) == list:\n",
    "        for number in the_list:\n",
    "            \n",
    "            if type(number) == int or type(number) == float:\n",
    "                soma += number\n",
    "            else:\n",
    "                print(\"lista inválida: contém elemento não numérico.\")\n",
    "                return None\n",
    "            \n",
    "        return soma/len(the_list)\n",
    "    else:\n",
    "        print(\"lista inválida: argumento não é uma lista.\")\n",
    "\n",
    "print(mean_of_list(test_list))"
   ]
  },
  {
   "cell_type": "markdown",
   "metadata": {
    "colab_type": "text",
    "id": "xy1rA4EeDCI5"
   },
   "source": [
    "Create a function that `returns the standard deviation` of a list of numbers using the previous functions you created. "
   ]
  },
  {
   "cell_type": "code",
   "execution_count": 81,
   "metadata": {},
   "outputs": [
    {
     "data": {
      "text/plain": [
       "1.671296296296296"
      ]
     },
     "execution_count": 81,
     "metadata": {},
     "output_type": "execute_result"
    }
   ],
   "source": [
    "# Your code here\n",
    "\n",
    "def std_deviation (the_list, std = 0):\n",
    "    \"\"\"Retorna o desvio padrão de uma lista numérica.\n",
    "    Argumentos:\n",
    "        the_list: lista numérica\n",
    "        std: [OPCIONAL] 0 para desvio padrão população e 1 para desvio padrão amostral. Default = 0\n",
    "    \"\"\"\n",
    "    if std != 1 and std != 0:\n",
    "        print(\"Argumento std inválido.\")\n",
    "        return None\n",
    "    \n",
    "    sample_len = count_function(the_list)\n",
    "    mean = mean_of_list(the_list)\n",
    "    squared_var = 0\n",
    "    \n",
    "    for sample in the_list:\n",
    "        squared_var = (sample - mean)**2\n",
    "    return (squared_var/(sample_len - std))**1/2\n",
    "\n",
    "\n",
    "std_deviation(test_list)"
   ]
  },
  {
   "cell_type": "markdown",
   "metadata": {
    "colab_type": "text",
    "id": "Dro2ll4WDCJB"
   },
   "source": [
    "Create a function that `returns the count, mean and standard deviation` of a given list.  \n",
    "`Document this function` using triple quotes, your documentation should have description, parameters, returns and examples. "
   ]
  },
  {
   "cell_type": "code",
   "execution_count": 138,
   "metadata": {},
   "outputs": [
    {
     "data": {
      "text/plain": [
       "(12, 6.666666666666667, 1.671296296296296)"
      ]
     },
     "execution_count": 138,
     "metadata": {},
     "output_type": "execute_result"
    }
   ],
   "source": [
    "# Your code here\n",
    "def list_statistics (the_list, std=0):\n",
    "    \"\"\"Retorna dados estatísticos da lista.\n",
    "    Argumentos:\n",
    "        the_list: lista numérica\n",
    "        std: [OPCIONAL] 0 para desvio padrão população e 1 para desvio padrão amostral. Default = 0\n",
    "    Retorno:\n",
    "        (count, mean, std_)\n",
    "        count: número de elementos da lista.\n",
    "        mean: média aritmética\n",
    "        std: desvio padrão (população ou amostra)\n",
    "    \"\"\"    \n",
    "    count = count_function(the_list)\n",
    "    mean = mean_of_list(the_list)\n",
    "    std_ = std_deviation (the_list, std)\n",
    "    return count, mean, std_\n",
    "\n",
    "list_statistics(test_list)"
   ]
  },
  {
   "cell_type": "markdown",
   "metadata": {
    "colab_type": "text",
    "id": "-_YUdHo7DCJJ"
   },
   "source": [
    "\n",
    "# String Cleaning\n",
    "When working with textual data you will often have to clean it before being able to analyze it.  \n",
    "Create a function that receives a string and `returns that string in all lower case, without special characters and in alphabetical order`. "
   ]
  },
  {
   "cell_type": "code",
   "execution_count": 139,
   "metadata": {},
   "outputs": [],
   "source": [
    "test_string = \"xnsiAAx_vcdsmc oB.,/?xedxmew\""
   ]
  },
  {
   "cell_type": "code",
   "execution_count": 140,
   "metadata": {},
   "outputs": [
    {
     "name": "stdout",
     "output_type": "stream",
     "text": [
      "aabccddeeimmnossvwxxxx\n"
     ]
    }
   ],
   "source": [
    "# Your code here\n",
    "import re\n",
    "\n",
    "def clean_string(string):\n",
    "    \"\"\"reorganiza strings: coloca todos caracteres em minúsculo, limpa caracteres não alfanuméricos, e organiza em ordem alfabética \"\"\"\n",
    "    \n",
    "    string = string.lower()\n",
    "    #print(string)\n",
    "    string = re.findall('[a-z\\d]', string)\n",
    "    #print(string)\n",
    "    string.sort()\n",
    "    #print(string)\n",
    "    new_string = ''.join(string)\n",
    "    #print(string)\n",
    "    return new_string\n",
    "    \n",
    "print(clean_string(test_string))"
   ]
  },
  {
   "cell_type": "markdown",
   "metadata": {
    "colab_type": "text",
    "id": "23s3vEQ-DCJO"
   },
   "source": [
    "# Classification\n",
    "Sometimes datasets provide very good and precise information but not in the way we need to use it.  \n",
    "In this challenge, `make a function` that takes the list below and turns it into a category list. \n",
    "You can use the median to set the center of your  scale:  \n",
    "`\"above the median\", \"median\", \"below the median\"`."
   ]
  },
  {
   "cell_type": "code",
   "execution_count": 141,
   "metadata": {},
   "outputs": [],
   "source": [
    "list_for_classification = [ 50, 120, 30, 10, 90, 70, 10]"
   ]
  },
  {
   "cell_type": "code",
   "execution_count": 149,
   "metadata": {},
   "outputs": [
    {
     "name": "stdout",
     "output_type": "stream",
     "text": [
      "['median', 'above median', 'below median', 'below median', 'above median', 'above median', 'below median']\n"
     ]
    }
   ],
   "source": [
    "# Your code here\n",
    "\n",
    "def classify_numerical_list (the_list):\n",
    "    median = np.median(the_list)\n",
    "    classification = [('median' if number == median else 'below median' if number < median else 'above median' ) for number in the_list]\n",
    "    return classification\n",
    "\n",
    "print(classify_numerical_list (list_for_classification))\n",
    "        "
   ]
  },
  {
   "cell_type": "markdown",
   "metadata": {
    "colab_type": "text",
    "id": "qgCz4w1XDCJU"
   },
   "source": [
    "# Recursion \n",
    "In some cases it is interesting to build a function that calls itself.  \n",
    "Use a `recursive function` that asks for an `input` from the users age.  \n",
    "Keeps asking it until the input is a `number between 0 and 150`. "
   ]
  },
  {
   "cell_type": "code",
   "execution_count": 165,
   "metadata": {},
   "outputs": [
    {
     "name": "stdout",
     "output_type": "stream",
     "text": [
      "informe sua idade: 10\n"
     ]
    }
   ],
   "source": [
    "# Your code here\n",
    "def input_age():\n",
    "    age = (int(input('informe sua idade: ')))\n",
    "    if (age > 150) or (age < 0):\n",
    "        print('idade inválida. tente de novo.')\n",
    "        input_age()\n",
    "\n",
    "input_age()"
   ]
  },
  {
   "cell_type": "markdown",
   "metadata": {
    "colab_type": "text",
    "id": "k0oT8Xo2DCJa"
   },
   "source": [
    "# Global and local variables "
   ]
  },
  {
   "cell_type": "markdown",
   "metadata": {},
   "source": [
    "Make a function sort as words in alphabetical order.  \n",
    "Expected output:\n",
    "````python\n",
    "'AI Big Data Data Warehouse Machine Learning Pipeline'\n",
    "````"
   ]
  },
  {
   "cell_type": "markdown",
   "metadata": {},
   "source": [
    "Make the function using local variables"
   ]
  },
  {
   "cell_type": "code",
   "execution_count": 170,
   "metadata": {},
   "outputs": [
    {
     "data": {
      "text/plain": [
       "'AI, Big Data, Data Warehouse, Machine Learning, Pipeline'"
      ]
     },
     "execution_count": 170,
     "metadata": {},
     "output_type": "execute_result"
    }
   ],
   "source": [
    "# Your code here\n",
    "def alphabetical_order_local():\n",
    "    local_variable =  \"Big Data, Machine Learning, AI, Data Warehouse, Pipeline\"\n",
    "    string_list = re.split(', ', local_variable)\n",
    "    string_list.sort()\n",
    "    new_string = ', '.join(string_list)\n",
    "    return new_string\n",
    "\n",
    "alphabetical_order_local()"
   ]
  },
  {
   "cell_type": "markdown",
   "metadata": {},
   "source": [
    "Make the function using global variables"
   ]
  },
  {
   "cell_type": "code",
   "execution_count": null,
   "metadata": {},
   "outputs": [],
   "source": [
    "# Your code here"
   ]
  },
  {
   "cell_type": "code",
   "execution_count": 183,
   "metadata": {},
   "outputs": [
    {
     "data": {
      "text/plain": [
       "'AI, Big Data, Data Warehouse, Machine Learning, Pipeline'"
      ]
     },
     "execution_count": 183,
     "metadata": {},
     "output_type": "execute_result"
    }
   ],
   "source": [
    "global_variable = \"Big Data, Machine Learning, AI, Data Warehouse, Pipeline\"\n",
    "\n",
    "def alphabetical_order_global(local_variable):\n",
    "    string_list = re.split(', ', local_variable)\n",
    "    string_list.sort()\n",
    "    local_variable = ', '.join(string_list)\n",
    "    return local_variable\n",
    "\n",
    "global_variable = alphabetical_order_global(global_variable)\n",
    "global_variable"
   ]
  }
 ],
 "metadata": {
  "colab": {
   "name": "functional_programming.ipynb",
   "provenance": []
  },
  "kernelspec": {
   "display_name": "Python 3",
   "language": "python",
   "name": "python3"
  },
  "language_info": {
   "codemirror_mode": {
    "name": "ipython",
    "version": 3
   },
   "file_extension": ".py",
   "mimetype": "text/x-python",
   "name": "python",
   "nbconvert_exporter": "python",
   "pygments_lexer": "ipython3",
   "version": "3.9.4"
  },
  "toc": {
   "base_numbering": 1,
   "nav_menu": {},
   "number_sections": true,
   "sideBar": true,
   "skip_h1_title": false,
   "title_cell": "Table of Contents",
   "title_sidebar": "Contents",
   "toc_cell": false,
   "toc_position": {},
   "toc_section_display": true,
   "toc_window_display": false
  },
  "varInspector": {
   "cols": {
    "lenName": 16,
    "lenType": 16,
    "lenVar": 40
   },
   "kernels_config": {
    "python": {
     "delete_cmd_postfix": "",
     "delete_cmd_prefix": "del ",
     "library": "var_list.py",
     "varRefreshCmd": "print(var_dic_list())"
    },
    "r": {
     "delete_cmd_postfix": ") ",
     "delete_cmd_prefix": "rm(",
     "library": "var_list.r",
     "varRefreshCmd": "cat(var_dic_list()) "
    }
   },
   "types_to_exclude": [
    "module",
    "function",
    "builtin_function_or_method",
    "instance",
    "_Feature"
   ],
   "window_display": false
  }
 },
 "nbformat": 4,
 "nbformat_minor": 1
}
