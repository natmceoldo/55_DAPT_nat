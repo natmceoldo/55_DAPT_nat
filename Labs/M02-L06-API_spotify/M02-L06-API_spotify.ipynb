{
 "cells": [
  {
   "cell_type": "markdown",
   "metadata": {},
   "source": [
    "# LAB | API spotify"
   ]
  },
  {
   "cell_type": "markdown",
   "metadata": {},
   "source": [
    "- In this Lab we will work with Spotify API and the library [Spotipy](https://spotipy.readthedocs.io/en/2.19.0/)"
   ]
  },
  {
   "cell_type": "markdown",
   "metadata": {},
   "source": [
    "## Getting access to the API\n",
    "- Create an Spotify account [here](https://developer.spotify.com/documentation/general/guides/app-settings/) and follow these steps to register an app. \n",
    "- After create the app you will be able to see it on your [dashboard](https://developer.spotify.com/dashboard/applications).\n",
    "- Click in the app that you created to see your `client id` and `client secret`. \n",
    "- Save each one in the `client_id_spotify.txt` and `client_secret_spotify.txt` files.\n",
    "- **Be careful: Do not upload your key to a public repository on github**\n",
    "- After save you key in the `client_id_spotify.txt` and `client_secret_spotify.txt` you can use the code below to open the files:"
   ]
  },
  {
   "cell_type": "code",
   "execution_count": 1,
   "metadata": {},
   "outputs": [],
   "source": [
    "spotify_client_id = open('client_id_spotify.txt', 'r').read()\n",
    "spotify_client_secret = open('client_secret_spotify.txt', 'r').read()"
   ]
  },
  {
   "cell_type": "markdown",
   "metadata": {},
   "source": [
    "## Initialize SpotiPy\n",
    "- The firt step to use the API is getting the autentication from Spotify, to help us with that we will use the `spotipy` library.\n",
    "- You may need install the library.\n",
    "```python\n",
    "!pip install spotipy\n",
    "```\n",
    "- After that you will need to run the following code:\n",
    "```python\n",
    "import spotipy\n",
    "from spotipy.oauth2 import SpotifyClientCredentials\n",
    "sp = spotipy.Spotify(auth_manager=SpotifyClientCredentials(client_id=spotify_client_id,client_secret=spotify_client_secret))\n",
    "```"
   ]
  },
  {
   "cell_type": "code",
   "execution_count": null,
   "metadata": {},
   "outputs": [],
   "source": [
    "# Your code here"
   ]
  },
  {
   "cell_type": "markdown",
   "metadata": {},
   "source": [
    "## Searching by artist\n",
    "-  You can use `sp.search` get info.\n",
    "- Save the search in a variable.\n",
    "```python\n",
    "sp.search(q='Lady Gaga', limit=50)\n",
    "```"
   ]
  },
  {
   "cell_type": "code",
   "execution_count": null,
   "metadata": {},
   "outputs": [],
   "source": [
    "# Your code here"
   ]
  },
  {
   "cell_type": "markdown",
   "metadata": {},
   "source": [
    "- After run the code above, explore the object returned.\n",
    "- You can use `.keys()` to find the keys in your object.\n",
    "- Explore the result untill you find the track names"
   ]
  },
  {
   "cell_type": "code",
   "execution_count": null,
   "metadata": {},
   "outputs": [],
   "source": [
    "# Your code here"
   ]
  },
  {
   "cell_type": "markdown",
   "metadata": {},
   "source": [
    "## Searching multiple artists\n",
    "- Using the following list and the command `.search` , find the results for each artist.\n",
    "- Create a loop to go through the list.\n",
    "```python\n",
    "artists = [\"Shawn Mendes\", \"Billie Eilish\", \"IZA\", \"Duda Beat\"]\n",
    "```"
   ]
  },
  {
   "cell_type": "code",
   "execution_count": null,
   "metadata": {},
   "outputs": [],
   "source": [
    "# Your code here"
   ]
  },
  {
   "cell_type": "markdown",
   "metadata": {},
   "source": [
    "- Create a unique dataframe with all the results.\n",
    "- You will need to enter in some keys from your results.\n",
    "- The shape of your dataframe should be (200, 17)\n",
    "- You can also add a new column with the name of the artist"
   ]
  },
  {
   "cell_type": "code",
   "execution_count": null,
   "metadata": {},
   "outputs": [],
   "source": [
    "# Your code here"
   ]
  },
  {
   "cell_type": "markdown",
   "metadata": {},
   "source": [
    "## Get audio features\n",
    "- We will extract some measures that Spotify works, this is called audio features.\n",
    "- You can check the documentation [here](https://developer.spotify.com/documentation/web-api/reference/#object-audiofeaturesobject)."
   ]
  },
  {
   "cell_type": "markdown",
   "metadata": {},
   "source": [
    "### Seach a music\n",
    "- We will start seaching for a music\n",
    "- Use the code below:\n",
    "```python\n",
    "music_dsn = sp.search(q='dont start now', limit=1)\n",
    "```"
   ]
  },
  {
   "cell_type": "code",
   "execution_count": null,
   "metadata": {},
   "outputs": [],
   "source": [
    "# Your code here"
   ]
  },
  {
   "cell_type": "markdown",
   "metadata": {},
   "source": [
    "### Find the `uri`\n",
    "- Using the returned json you will need to find the music `uri` \n",
    "- Example of uri: `spotify:track:XXXxXxxXxxXxxXXXxxXx`"
   ]
  },
  {
   "cell_type": "code",
   "execution_count": null,
   "metadata": {},
   "outputs": [],
   "source": [
    "# Your code here"
   ]
  },
  {
   "cell_type": "markdown",
   "metadata": {},
   "source": [
    "- Use `sp.audio_features` to find the audio features, you will need to use the uri as a parameter."
   ]
  },
  {
   "cell_type": "code",
   "execution_count": null,
   "metadata": {},
   "outputs": [],
   "source": [
    "# Your code here"
   ]
  },
  {
   "cell_type": "markdown",
   "metadata": {},
   "source": [
    "# Bonus:\n",
    "- Explore more the API!\n",
    "- Try to find some info from a playlist.\n",
    "- Try to get the audio feature from others songs and compare results."
   ]
  },
  {
   "cell_type": "code",
   "execution_count": null,
   "metadata": {},
   "outputs": [],
   "source": []
  }
 ],
 "metadata": {
  "kernelspec": {
   "display_name": "Python 3",
   "language": "python",
   "name": "python3"
  },
  "language_info": {
   "codemirror_mode": {
    "name": "ipython",
    "version": 3
   },
   "file_extension": ".py",
   "mimetype": "text/x-python",
   "name": "python",
   "nbconvert_exporter": "python",
   "pygments_lexer": "ipython3",
   "version": "3.8.3"
  }
 },
 "nbformat": 4,
 "nbformat_minor": 4
}
