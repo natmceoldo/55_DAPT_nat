{
 "cells": [
  {
   "cell_type": "markdown",
   "metadata": {
    "id": "yLuALiyCkUJ3"
   },
   "source": [
    "# Combining Strings\n",
    "\n",
    "Combining strings is an important skill to acquire. There are multiple ways of combining strings in Python, as well as combining strings with variables. We will explore this in the first challenge. In the cell below, combine the strings in the list and add spaces between the strings (do not add a space after the last string). Insert a period after the last string."
   ]
  },
  {
   "cell_type": "code",
   "execution_count": 58,
   "metadata": {},
   "outputs": [],
   "source": [
    "str_list = ['Durante', 'un', 'tiempo', 'no', 'estuvo', 'segura', 'de', 'si', 'su', 'marido', 'era', 'su', 'marido']"
   ]
  },
  {
   "cell_type": "code",
   "execution_count": 59,
   "metadata": {
    "id": "n0LxSL1tkUJ4"
   },
   "outputs": [
    {
     "name": "stdout",
     "output_type": "stream",
     "text": [
      " Durante un tiempo no estuvo segura de si su marido era su marido.\n"
     ]
    }
   ],
   "source": [
    "# Your code here\n",
    "str_list.append('.')\n",
    "#str_list\n",
    "str_conc = ''\n",
    "for i in range(len(str_list)-1):\n",
    "    str_conc += ' '+str_list[i]\n",
    "\n",
    "str_conc += str_list[-1]   \n",
    "print(str_conc)\n"
   ]
  },
  {
   "cell_type": "markdown",
   "metadata": {
    "id": "jjnjuDhbkUJ6"
   },
   "source": [
    "In the cell below, use the list of strings to create a grocery list. Start the list with the string `Grocery list: ` and include a comma and a space between each item except for the last one. Include a period at the end. Only include foods in the list that start with the letter 'b' and ensure all foods are lower case.  \n",
    "You should have something like this:  \n",
    "*`Grocery list: bananas, bread, brownie mix, broccoli.`*"
   ]
  },
  {
   "cell_type": "code",
   "execution_count": 26,
   "metadata": {},
   "outputs": [],
   "source": [
    "food_list = ['Bananas', 'Chocolate', 'bread', 'diapers', 'Ice Cream', 'Brownie Mix', 'broccoli']"
   ]
  },
  {
   "cell_type": "code",
   "execution_count": 28,
   "metadata": {
    "id": "D9EWG-9YkUJ6"
   },
   "outputs": [
    {
     "name": "stdout",
     "output_type": "stream",
     "text": [
      "Grocery list: bananas, bread, brownie mix, broccoli.\n"
     ]
    }
   ],
   "source": [
    "# Your code here\n",
    "grocery_list = 'Grocery list:'\n",
    "b_list = []\n",
    "\n",
    "for food in food_list:\n",
    "    if food.lower().startswith('b'):\n",
    "        b_list.append(food.lower())\n",
    "\n",
    "\n",
    "for i in range(0, len(b_list)-1):\n",
    "    grocery_list += ' '+b_list[i]+','\n",
    "\n",
    "grocery_list += ' '+b_list[-1]+'.'\n",
    "print(grocery_list)"
   ]
  },
  {
   "cell_type": "markdown",
   "metadata": {
    "id": "5wUx1N0gkUJ_"
   },
   "source": [
    "# Splitting Strings\n",
    "\n",
    "We have first looked at combining strings into one long string. There are times where we need to do the opposite and split the string into smaller components for further analysis. \n",
    "\n",
    "In the cell below, split the string into a list of strings using the space delimiter. Count the frequency of each word in the string in a dictionary. Strip the periods, line breaks and commas from the text. Make sure to remove empty strings from your dictionary."
   ]
  },
  {
   "cell_type": "code",
   "execution_count": 1,
   "metadata": {
    "id": "5kCqHBEUkUKA"
   },
   "outputs": [],
   "source": [
    "poem = \"\"\"Some say the world will end in fire,\n",
    "Some say in ice.\n",
    "From what I’ve tasted of desire\n",
    "I hold with those who favor fire.\n",
    "But if it had to perish twice,\n",
    "I think I know enough of hate\n",
    "To say that for destruction ice\n",
    "Is also great\n",
    "And would suffice.\"\"\""
   ]
  },
  {
   "cell_type": "code",
   "execution_count": 41,
   "metadata": {},
   "outputs": [
    {
     "name": "stdout",
     "output_type": "stream",
     "text": [
      "['some', 'say', 'the', 'world', 'will', 'end', 'in', 'fire,\\nsome', 'say', 'in', 'ice.\\nfrom', 'what', 'i’ve', 'tasted', 'of', 'desire\\ni', 'hold', 'with', 'those', 'who', 'favor', 'fire.\\nbut', 'if', 'it', 'had', 'to', 'perish', 'twice,\\ni', 'think', 'i', 'know', 'enough', 'of', 'hate\\nto', 'say', 'that', 'for', 'destruction', 'ice\\nis', 'also', 'great\\nand', 'would', 'suffice.']\n",
      "-----\n",
      "['some', 'say', 'the', 'world', 'will', 'end', 'in', 'say', 'in', 'what', 'i’ve', 'tasted', 'of', 'hold', 'with', 'those', 'who', 'favor', 'if', 'it', 'had', 'to', 'perish', 'think', 'i', 'know', 'enough', 'of', 'say', 'that', 'for', 'destruction', 'also', 'would', 'suffice.', 'fire,', 'some', 'ice.', 'from', 'desire', 'i', 'fire.', 'but', 'twice,', 'i', 'hate', 'to', 'ice', 'is', 'great', 'and']\n",
      "-----\n",
      "['some', 'say', 'the', 'world', 'will', 'end', 'in', 'say', 'in', 'what', 'i’ve', 'tasted', 'of', 'hold', 'with', 'those', 'who', 'favor', 'if', 'it', 'had', 'to', 'perish', 'think', 'i', 'know', 'enough', 'of', 'say', 'that', 'for', 'destruction', 'also', 'would', 'suffice', 'fire', 'some', 'ice', 'from', 'desire', 'i', 'fire', 'but', 'twice', 'i', 'hate', 'to', 'ice', 'is', 'great', 'and']\n",
      "-----\n",
      "{'fire', 'those', 'twice', 'i’ve', 'if', 'desire', 'will', 'in', 'say', 'to', 'would', 'is', 'perish', 'think', 'and', 'from', 'had', 'world', 'what', 'some', 'also', 'end', 'that', 'tasted', 'of', 'great', 'who', 'know', 'favor', 'with', 'suffice', 'ice', 'enough', 'destruction', 'but', 'it', 'i', 'hold', 'the', 'for', 'hate'}\n",
      "-----\n",
      "{'fire': 2, 'those': 1, 'twice': 1, 'i’ve': 1, 'if': 1, 'desire': 1, 'will': 1, 'in': 2, 'say': 3, 'to': 2, 'would': 1, 'is': 1, 'perish': 1, 'think': 1, 'and': 1, 'from': 1, 'had': 1, 'world': 1, 'what': 1, 'some': 2, 'also': 1, 'end': 1, 'that': 1, 'tasted': 1, 'of': 2, 'great': 1, 'who': 1, 'know': 1, 'favor': 1, 'with': 1, 'suffice': 1, 'ice': 2, 'enough': 1, 'destruction': 1, 'but': 1, 'it': 1, 'i': 3, 'hold': 1, 'the': 1, 'for': 1, 'hate': 1}\n"
     ]
    }
   ],
   "source": [
    "# Your code here\n",
    "poem_words = poem.lower().split(' ')\n",
    "remove_dupes_index = []\n",
    "\n",
    "print(poem_words)\n",
    "print('-----')\n",
    "\n",
    "for i in range(0, len(poem_words)):\n",
    "    if '\\n' in poem_words[i]:\n",
    "        poem_words.append(poem_words[i].split('\\n')[0])\n",
    "        poem_words.append(poem_words[i].split('\\n')[1])\n",
    "        remove_dupes_index.append(i)\n",
    "\n",
    "#print(poem_words)\n",
    "remove_dupes_index.reverse()\n",
    "#print(remove_dupes_index)\n",
    "#print('-----')\n",
    "        \n",
    "for index in remove_dupes_index:\n",
    "         poem_words.pop(index)\n",
    "\n",
    "print(poem_words)\n",
    "print('-----')\n",
    "\n",
    "for i in range(0, len(poem_words)):\n",
    "    if '.' in poem_words[i]:\n",
    "        poem_words[i] = (poem_words[i].strip('.'))\n",
    "    elif ',' in poem_words[i]:\n",
    "        poem_words[i] = (poem_words[i].strip(','))\n",
    "\n",
    "print(poem_words)\n",
    "print('-----')\n",
    "\n",
    "\n",
    "poem_words_set = set(poem_words)\n",
    "print(poem_words_set)\n",
    "print('-----')\n",
    "\n",
    "poem_dict = {}\n",
    "\n",
    "for words in poem_words_set:\n",
    "    poem_dict.update({words : poem_words.count(words)})\n",
    "    \n",
    "print(poem_dict)\n",
    "\n"
   ]
  },
  {
   "cell_type": "markdown",
   "metadata": {
    "id": "84q3YtTEkUKC"
   },
   "source": [
    "In the cell below, find all the words that appear in the text and do not appear in the `reject_list`.  \n",
    "You must parse the string but can choose any data structure you wish for the words that do not appear in the `reject_list`.  \n",
    "Remove all non letter characters and convert all words to lower case."
   ]
  },
  {
   "cell_type": "code",
   "execution_count": 56,
   "metadata": {
    "id": "Xx0iP3skkUKE"
   },
   "outputs": [],
   "source": [
    "reject_list = ['and', 'as', 'an', 'a', 'the', 'in', 'it']\n",
    "\n",
    "poem2 = \"\"\"I was angry with my friend; \n",
    "I told my wrath, my wrath did end.\n",
    "I was angry with my foe: \n",
    "I told it not, my wrath did grow. \n",
    "\n",
    "And I waterd it in fears,\n",
    "Night & morning with my tears: \n",
    "And I sunned it with smiles,\n",
    "And with soft deceitful wiles. \n",
    "\n",
    "And it grew both day and night. \n",
    "Till it bore an apple bright. \n",
    "And my foe beheld it shine,\n",
    "And he knew that it was mine. \n",
    "\n",
    "And into my garden stole, \n",
    "When the night had veild the pole; \n",
    "In the morning glad I see; \n",
    "My foe outstretched beneath the tree.\"\"\""
   ]
  },
  {
   "cell_type": "code",
   "execution_count": 65,
   "metadata": {},
   "outputs": [
    {
     "name": "stdout",
     "output_type": "stream",
     "text": [
      "i was angry with my friend i told my wrath my wrath did end i was angry with my foe i told it not my wrath did grow and i waterd it in fears night and morning with my tears and i sunned it with smiles and with soft deceitful wiles and it grew both day and night till it bore an apple bright and my foe beheld it shine and he knew that it was mine and into my garden stole when the night had veild the pole in the morning glad i see my foe outstretched beneath the tree\n",
      "----\n",
      "['i', 'was', 'angry', 'with', 'my', 'friend', 'i', 'told', 'my', 'wrath', 'my', 'wrath', 'did', 'end', 'i', 'was', 'angry', 'with', 'my', 'foe', 'i', 'told', 'it', 'not', 'my', 'wrath', 'did', 'grow', 'and', 'i', 'waterd', 'it', 'in', 'fears', 'night', 'and', 'morning', 'with', 'my', 'tears', 'and', 'i', 'sunned', 'it', 'with', 'smiles', 'and', 'with', 'soft', 'deceitful', 'wiles', 'and', 'it', 'grew', 'both', 'day', 'and', 'night', 'till', 'it', 'bore', 'an', 'apple', 'bright', 'and', 'my', 'foe', 'beheld', 'it', 'shine', 'and', 'he', 'knew', 'that', 'it', 'was', 'mine', 'and', 'into', 'my', 'garden', 'stole', 'when', 'the', 'night', 'had', 'veild', 'the', 'pole', 'in', 'the', 'morning', 'glad', 'i', 'see', 'my', 'foe', 'outstretched', 'beneath', 'the', 'tree']\n",
      "101\n",
      "----\n",
      "['i', 'was', 'angry', 'with', 'my', 'friend', 'i', 'told', 'my', 'wrath', 'my', 'wrath', 'did', 'end', 'i', 'was', 'angry', 'with', 'my', 'foe', 'i', 'told', 'not', 'my', 'wrath', 'did', 'grow', 'i', 'waterd', 'fears', 'night', 'morning', 'with', 'my', 'tears', 'i', 'sunned', 'with', 'smiles', 'with', 'soft', 'deceitful', 'wiles', 'grew', 'both', 'day', 'night', 'till', 'bore', 'apple', 'bright', 'my', 'foe', 'beheld', 'shine', 'he', 'knew', 'that', 'was', 'mine', 'into', 'my', 'garden', 'stole', 'when', 'night', 'had', 'veild', 'pole', 'morning', 'glad', 'i', 'see', 'my', 'foe', 'outstretched', 'beneath', 'tree']\n",
      "78\n",
      "----\n",
      "{'beheld', 'tree', 'did', 'he', 'into', 'pole', 'outstretched', 'waterd', 'morning', 'deceitful', 'apple', 'knew', 'day', 'beneath', 'grew', 'tears', 'night', 'wrath', 'shine', 'had', 'veild', 'mine', 'was', 'bright', 'my', 'end', 'soft', 'wiles', 'friend', 'till', 'that', 'fears', 'angry', 'grow', 'with', 'sunned', 'smiles', 'not', 'i', 'told', 'foe', 'stole', 'both', 'when', 'see', 'bore', 'glad', 'garden'}\n",
      "48\n",
      "----\n"
     ]
    }
   ],
   "source": [
    "# Your code here\n",
    "remove_char_list = [',', '.', '\\n', ':', ';']\n",
    "\n",
    "for chars in remove_char_list:\n",
    "    poem2 = poem2.replace(chars, ' ')\n",
    "    \n",
    "poem2 = poem2.lower().replace('&', 'and')\n",
    "poem2 = ' '.join(poem2.split())\n",
    "    \n",
    "print(poem2)\n",
    "print('----')\n",
    "\n",
    "remove_rejected_index = []\n",
    "\n",
    "poem2_words = poem2.split()\n",
    "print(poem2_words)\n",
    "print(len(poem2_words))\n",
    "print('----')\n",
    "\n",
    "for words in reject_list:\n",
    "    for i in range(0, len(poem2_words)):\n",
    "        if poem2_words[i] == words:\n",
    "            remove_rejected_index.append(i)\n",
    "\n",
    "remove_rejected_index.sort(reverse = True)\n",
    "\n",
    "\n",
    "for i in remove_rejected_index:\n",
    "    poem2_words.pop(i)\n",
    "    \n",
    "print(poem2_words)\n",
    "print(len(poem2_words))\n",
    "print('----')\n",
    "\n",
    "set_poem2_words = set(poem2_words)\n",
    "print(set_poem2_words)\n",
    "print(len(set_poem2_words))\n",
    "print('----')"
   ]
  },
  {
   "cell_type": "markdown",
   "metadata": {
    "id": "LKji8o7ayAba"
   },
   "source": [
    "# Regular Expressions - regex"
   ]
  },
  {
   "cell_type": "markdown",
   "metadata": {},
   "source": [
    "First of all, `import regex` module."
   ]
  },
  {
   "cell_type": "code",
   "execution_count": 1,
   "metadata": {},
   "outputs": [],
   "source": [
    "import re"
   ]
  },
  {
   "cell_type": "markdown",
   "metadata": {},
   "source": [
    "Obtain a list containing all phone numbers in the text below:  \n",
    "*Note: There should be 5 of them.*"
   ]
  },
  {
   "cell_type": "code",
   "execution_count": 13,
   "metadata": {
    "id": "wM4v-225yBNP"
   },
   "outputs": [],
   "source": [
    "text = \"\"\"\n",
    "Henry's phone number is 9789-0984\n",
    "Darlene's phone number is 4222-0901\n",
    "Andrew's phone number is 4312-5701\n",
    "James' phone number is 9413 1383\n",
    "Erica's phone number is 8993-1031\n",
    "\"\"\""
   ]
  },
  {
   "cell_type": "code",
   "execution_count": 16,
   "metadata": {},
   "outputs": [
    {
     "data": {
      "text/plain": [
       "['9789-0984', '4222-0901', '4312-5701', '9413 1383', '8993-1031']"
      ]
     },
     "execution_count": 16,
     "metadata": {},
     "output_type": "execute_result"
    }
   ],
   "source": [
    "# Your code here\n",
    "phone_list = re.findall('[0-9]{4}[- ][0-9]{4}', text)\n",
    "#phone_list = re.findall('\\d+[- ]\\d+', text)\n",
    "phone_list"
   ]
  },
  {
   "cell_type": "markdown",
   "metadata": {
    "id": "N7UZNc5lxSzZ"
   },
   "source": [
    "\n",
    "In the cell below, filter the list provided and return all elements of the list containing a number.   \n",
    "To filter the list, use the `re.search` function.  \n",
    "Check if the function does not return None.   \n",
    "You can read more about the `re.search` function [here](https://docs.python.org/3/library/re.html)."
   ]
  },
  {
   "cell_type": "code",
   "execution_count": 50,
   "metadata": {
    "id": "EzUBZKGqxX-A"
   },
   "outputs": [],
   "source": [
    "data = ['123abc', 'abc123', 'JohnSmith1', 'ABBY4', 'JANE']"
   ]
  },
  {
   "cell_type": "code",
   "execution_count": 54,
   "metadata": {},
   "outputs": [
    {
     "data": {
      "text/plain": [
       "[['123'], ['123'], ['1'], ['4']]"
      ]
     },
     "execution_count": 54,
     "metadata": {},
     "output_type": "execute_result"
    }
   ],
   "source": [
    "# Your code here\n",
    "\n",
    "filtered_list = []\n",
    "\n",
    "for words in data:\n",
    "    if re.search('\\d+', words) != None:\n",
    "        filtered_list.append(re.findall('\\d+', words))\n",
    "        #filtered_list.append(re.findall('\\d+', words)[0])\n",
    "        \n",
    "filtered_list"
   ]
  },
  {
   "cell_type": "markdown",
   "metadata": {},
   "source": [
    "# Bonus "
   ]
  },
  {
   "cell_type": "markdown",
   "metadata": {},
   "source": [
    "### Strings\n",
    "Based on this `reviews` list we want to know the frequency of words that are in the `keywords_list`.  \n",
    "*Pay attention to lower and upper letters, this can change your frequency counting.*\n"
   ]
  },
  {
   "cell_type": "code",
   "execution_count": 18,
   "metadata": {},
   "outputs": [],
   "source": [
    "reviews = [\"Anacell provides the best services in the city whereas betacellular is the best of the world\",\n",
    "  \"cetracular has awesome services, cetracular is good, cetracular is awesome!\",\n",
    "  \"Best services provided by anacell, everyone should use anacell\",\n",
    "  \"Wow, betacellular services are good.\",]\n",
    "keywords_list = [\"anacell\", \"cetracular\", \"betacellular\"]"
   ]
  },
  {
   "cell_type": "code",
   "execution_count": 41,
   "metadata": {},
   "outputs": [
    {
     "name": "stdout",
     "output_type": "stream",
     "text": [
      "anacell: 3\n",
      "cetracular: 3\n",
      "betacellular: 2\n"
     ]
    }
   ],
   "source": [
    "# Your code here\n",
    "\n",
    "keywords_counts = [0, 0, 0]\n",
    "\n",
    "for quotes in reviews:\n",
    "    i=0\n",
    "    for words in keywords_list:\n",
    "        keywords_counts[i] += (len(re.findall(words, quotes.lower())))\n",
    "        i += 1\n",
    "\n",
    "\n",
    "for i in range(0, len(keywords_counts)):\n",
    "    print(f'{keywords_list[i]}: {keywords_counts[i]}')\n",
    "        "
   ]
  },
  {
   "cell_type": "markdown",
   "metadata": {
    "id": "A2T86JzMwoLT"
   },
   "source": [
    "### Regular Expressions - regex\n",
    "\n",
    "In the cell below, filter the list provided to keep only strings containing `at least one digit` and `at least one lower case letter`.  \n",
    "As in the previous question, use the `re.search` function and check that the result is not `None`."
   ]
  },
  {
   "cell_type": "code",
   "execution_count": 46,
   "metadata": {
    "id": "rcVk3Gabwomy"
   },
   "outputs": [],
   "source": [
    "data = ['123abc', 'abc123', 'JohnSmith1', 'ABBY4', 'JANE']"
   ]
  },
  {
   "cell_type": "code",
   "execution_count": 44,
   "metadata": {},
   "outputs": [
    {
     "data": {
      "text/plain": [
       "['123abc', 'abc123', 'JohnSmith1']"
      ]
     },
     "execution_count": 44,
     "metadata": {},
     "output_type": "execute_result"
    }
   ],
   "source": [
    "# Your code here\n",
    "\n",
    "filtered_list = []\n",
    "\n",
    "for words in data:\n",
    "    if (re.search('\\d+', words) != None) & (re.search('[a-z]', words) != None) :\n",
    "        filtered_list.append(words)\n",
    "\n",
    "\n",
    "filtered_list"
   ]
  },
  {
   "cell_type": "code",
   "execution_count": 47,
   "metadata": {},
   "outputs": [
    {
     "data": {
      "text/plain": [
       "[['123abc'], ['abc123'], ['JohnSmith1']]"
      ]
     },
     "execution_count": 47,
     "metadata": {},
     "output_type": "execute_result"
    }
   ],
   "source": [
    "filtered_list = []\n",
    "\n",
    "for words in data:\n",
    "    if re.search('[\\w]*[a-z]+.?[\\d]+[\\w]*|[\\w]*[\\d]+.?[a-z]+[\\w]', words) != None:\n",
    "        filtered_list.append(re.findall('[\\w]*[a-z]+.?[\\d]+[\\w]*|[\\w]*[\\d]+.?[a-z]+[\\w]',words))\n",
    "\n",
    "filtered_list"
   ]
  }
 ],
 "metadata": {
  "colab": {
   "collapsed_sections": [],
   "name": "main.ipynb",
   "provenance": []
  },
  "kernelspec": {
   "display_name": "Python 3",
   "language": "python",
   "name": "python3"
  },
  "language_info": {
   "codemirror_mode": {
    "name": "ipython",
    "version": 3
   },
   "file_extension": ".py",
   "mimetype": "text/x-python",
   "name": "python",
   "nbconvert_exporter": "python",
   "pygments_lexer": "ipython3",
   "version": "3.9.4"
  },
  "toc": {
   "base_numbering": 1,
   "nav_menu": {},
   "number_sections": true,
   "sideBar": true,
   "skip_h1_title": false,
   "title_cell": "Table of Contents",
   "title_sidebar": "Contents",
   "toc_cell": false,
   "toc_position": {},
   "toc_section_display": true,
   "toc_window_display": false
  },
  "varInspector": {
   "cols": {
    "lenName": 16,
    "lenType": 16,
    "lenVar": 40
   },
   "kernels_config": {
    "python": {
     "delete_cmd_postfix": "",
     "delete_cmd_prefix": "del ",
     "library": "var_list.py",
     "varRefreshCmd": "print(var_dic_list())"
    },
    "r": {
     "delete_cmd_postfix": ") ",
     "delete_cmd_prefix": "rm(",
     "library": "var_list.r",
     "varRefreshCmd": "cat(var_dic_list()) "
    }
   },
   "types_to_exclude": [
    "module",
    "function",
    "builtin_function_or_method",
    "instance",
    "_Feature"
   ],
   "window_display": false
  }
 },
 "nbformat": 4,
 "nbformat_minor": 1
}
