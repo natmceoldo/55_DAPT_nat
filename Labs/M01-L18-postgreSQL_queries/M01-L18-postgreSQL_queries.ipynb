{
 "cells": [
  {
   "cell_type": "markdown",
   "id": "1e7bba51",
   "metadata": {},
   "source": [
    "# Lab | PostgreSQL queries\n",
    "\n",
    "- Open the PgAdmin server from PostgreSQL.\n",
    "- Create a database called **applestore**  and a table called **apple_table**. Use code from `applesotre_DATABASE.sql` to create table and insert data. \n",
    "\n",
    "Here is the description of columns for your knowledge:\n",
    "\n",
    "- `id` : App ID\n",
    "- `track_name`: App Name\n",
    "- `size_bytes`: Size (in Bytes)\n",
    "- `currency`: Currency Type\n",
    "- `price`: Price amount\n",
    "- `rating_count_tot`: User Rating counts (for all version)\n",
    "- `rating_count_ver`: User Rating counts (for current version)\n",
    "- `user_rating`: Average User Rating value (for all version)\n",
    "- `user_rating_ver`: Average User Rating value (for current version)\n",
    "- `ver`: Latest version code\n",
    "- `cont_rating`: Content Rating\n",
    "- `prime_genre`: Primary Genre\n",
    "- `sup_devicesnum`: Number of supporting devices\n",
    "- `ipadSc_urlsnum`: Number of screenshots showed for display\n",
    "- `langnum`: Number of supported languages\n",
    "- `vpp_lic`: Vpp Device Based Licensing Enabled"
   ]
  },
  {
   "cell_type": "code",
   "execution_count": 2,
   "id": "c70f6e47",
   "metadata": {},
   "outputs": [],
   "source": [
    "#importing libraries\n",
    "import pandas as pd\n",
    "import sqlalchemy as db"
   ]
  },
  {
   "cell_type": "code",
   "execution_count": 5,
   "id": "dbbf5e70",
   "metadata": {},
   "outputs": [
    {
     "data": {
      "text/plain": [
       "<sqlalchemy.engine.base.Connection at 0x14b9688d520>"
      ]
     },
     "execution_count": 5,
     "metadata": {},
     "output_type": "execute_result"
    }
   ],
   "source": [
    "#creating connection with database\n",
    "\n",
    "db_server = 'postgresql'\n",
    "db_user = 'postgres'\n",
    "db_password = 'admin'\n",
    "db_host = 'localhost'\n",
    "db_database = 'LAB-M01-L18'\n",
    "\n",
    "# create the engine\n",
    "\n",
    "engine = db.create_engine(f'{db_server}://{db_user}:{db_password}@{db_host}/{db_database}')\n",
    "\n",
    "# open the connection\n",
    "\n",
    "conn = engine.connect()\n",
    "conn\n",
    "\n",
    "# Close the connection\n",
    "#conn.close()"
   ]
  },
  {
   "cell_type": "markdown",
   "id": "16f0010c",
   "metadata": {},
   "source": [
    "Answer the following questions using the **apple_table**:\n",
    "\n",
    "**1. What are the different genres?**  \n",
    "\n",
    "- Use `prime_genre` column."
   ]
  },
  {
   "cell_type": "markdown",
   "id": "83ae9c5f",
   "metadata": {},
   "source": [
    "```SQL\n",
    "-- ---------------\n",
    "-- query01\n",
    "-- ---------------\n",
    "\n",
    "SELECT\n",
    "\tdistinct prime_genre\n",
    "FROM\n",
    "\tapple_table\n",
    "```"
   ]
  },
  {
   "cell_type": "code",
   "execution_count": 42,
   "id": "1608e814",
   "metadata": {},
   "outputs": [
    {
     "name": "stdout",
     "output_type": "stream",
     "text": [
      "['Shopping', 'Games', 'Education', 'Reference', 'Business', 'Social Networking', 'Food & Drink', 'Sports', 'Catalogs', 'Weather', 'Book', 'Music', 'Entertainment', 'Medical', 'Utilities', 'Travel', 'Navigation', 'Photo & Video', 'Finance', 'Health & Fitness', 'News', 'Productivity', 'Lifestyle']\n"
     ]
    }
   ],
   "source": [
    "query01 = '''\n",
    "SELECT\n",
    "\tdistinct prime_genre\n",
    "FROM\n",
    "\tapple_table\n",
    "'''\n",
    "\n",
    "print(list(pd.read_sql(query01, conn).values[:, 0]))"
   ]
  },
  {
   "cell_type": "markdown",
   "id": "0131ccf9",
   "metadata": {},
   "source": [
    "**2. Which is the genre with the highest number of ratings?**\n",
    "\n",
    "- To sum the rating use `rating_count_tot` column."
   ]
  },
  {
   "cell_type": "markdown",
   "id": "5c776bdc",
   "metadata": {},
   "source": [
    "```SQL\n",
    "-- ---------------\n",
    "-- query02\n",
    "-- ---------------\n",
    "SELECT\n",
    "\t*\n",
    "FROM\n",
    "\t(SELECT\n",
    "\t\tprime_genre,\n",
    "\t\tsum(rating_count_tot) as rating_count\n",
    "\tFROM\n",
    "\t\tapple_table\n",
    "\tGROUP BY\n",
    "\t\tprime_genre) as temptable\n",
    "ORDER BY rating_count DESC\n",
    "LIMIT 1;\n",
    "```"
   ]
  },
  {
   "cell_type": "code",
   "execution_count": 45,
   "id": "e4329005",
   "metadata": {},
   "outputs": [
    {
     "data": {
      "text/html": [
       "<div>\n",
       "<style scoped>\n",
       "    .dataframe tbody tr th:only-of-type {\n",
       "        vertical-align: middle;\n",
       "    }\n",
       "\n",
       "    .dataframe tbody tr th {\n",
       "        vertical-align: top;\n",
       "    }\n",
       "\n",
       "    .dataframe thead th {\n",
       "        text-align: right;\n",
       "    }\n",
       "</style>\n",
       "<table border=\"1\" class=\"dataframe\">\n",
       "  <thead>\n",
       "    <tr style=\"text-align: right;\">\n",
       "      <th></th>\n",
       "      <th>prime_genre</th>\n",
       "      <th>rating_count</th>\n",
       "    </tr>\n",
       "  </thead>\n",
       "  <tbody>\n",
       "    <tr>\n",
       "      <th>0</th>\n",
       "      <td>Games</td>\n",
       "      <td>52878491</td>\n",
       "    </tr>\n",
       "  </tbody>\n",
       "</table>\n",
       "</div>"
      ],
      "text/plain": [
       "  prime_genre  rating_count\n",
       "0       Games      52878491"
      ]
     },
     "execution_count": 45,
     "metadata": {},
     "output_type": "execute_result"
    }
   ],
   "source": [
    "query02 = '''\n",
    "SELECT\n",
    "\t*\n",
    "FROM\n",
    "\t(SELECT\n",
    "\t\tprime_genre,\n",
    "\t\tsum(rating_count_tot) as rating_count\n",
    "\tFROM\n",
    "\t\tapple_table\n",
    "\tGROUP BY\n",
    "\t\tprime_genre) as temptable\n",
    "ORDER BY rating_count DESC\n",
    "LIMIT 1;\n",
    "\n",
    "'''\n",
    "\n",
    "pd.read_sql(query02, conn)"
   ]
  },
  {
   "cell_type": "markdown",
   "id": "edf56b31",
   "metadata": {},
   "source": [
    "**3. Which is the genre with most apps?**\n",
    "\n",
    "- Use `prime_genre` column."
   ]
  },
  {
   "cell_type": "code",
   "execution_count": null,
   "id": "2efd348e",
   "metadata": {},
   "outputs": [],
   "source": []
  },
  {
   "cell_type": "markdown",
   "id": "28f7f0ff",
   "metadata": {},
   "source": [
    "**4. Which is the genre with the fewest apps?**\n",
    "\n",
    "- Use `prime_genre` column."
   ]
  },
  {
   "cell_type": "code",
   "execution_count": null,
   "id": "967f2069",
   "metadata": {},
   "outputs": [],
   "source": []
  },
  {
   "cell_type": "markdown",
   "id": "72b6c31c",
   "metadata": {},
   "source": [
    "**5. Find the top 10 apps most rated.**\n",
    "\n",
    "- Use `track_name` and `rating_count_tot` column."
   ]
  },
  {
   "cell_type": "code",
   "execution_count": null,
   "id": "fb5fa3d5",
   "metadata": {},
   "outputs": [],
   "source": []
  },
  {
   "cell_type": "markdown",
   "id": "3138ed55",
   "metadata": {},
   "source": [
    "**6. Find the top 10 apps best rated by users.**\n",
    "\n",
    "- Use `track_name` and `user_rating` column."
   ]
  },
  {
   "cell_type": "code",
   "execution_count": null,
   "id": "25819ee8",
   "metadata": {},
   "outputs": [],
   "source": []
  },
  {
   "cell_type": "markdown",
   "id": "b38597ab",
   "metadata": {},
   "source": [
    "**7. Using the same query from the previous exercise add the column `rating_count_tot`.**\n",
    "\n",
    "- You'll notice that some of the top-rated don't have many reviews.\n",
    "- Use `track_name`, `user_rating` and `rating_count_tot`."
   ]
  },
  {
   "cell_type": "code",
   "execution_count": null,
   "id": "5171dd70",
   "metadata": {},
   "outputs": [],
   "source": []
  },
  {
   "cell_type": "markdown",
   "id": "1949d08c",
   "metadata": {},
   "source": [
    "**8. Now, find the top 5 ordering by ratings and number of votes.**\n",
    "\n",
    "- Use `track_name`, `user_rating` and `rating_count_tot` columns."
   ]
  },
  {
   "cell_type": "code",
   "execution_count": null,
   "id": "dfa4c45a",
   "metadata": {},
   "outputs": [],
   "source": []
  },
  {
   "cell_type": "markdown",
   "id": "362d5290",
   "metadata": {},
   "source": [
    "**9. Find the total number of games available in more than 1 language.**\n",
    "\n",
    "- Use `track_name` and `langnum` columns."
   ]
  },
  {
   "cell_type": "code",
   "execution_count": null,
   "id": "9251ceaa",
   "metadata": {},
   "outputs": [],
   "source": []
  },
  {
   "cell_type": "markdown",
   "id": "a828f45d",
   "metadata": {},
   "source": [
    "**10. Find the number of free vs paid apps.**\n",
    "\n",
    "- Use `price` column.\n",
    "- You can use `CASE WHEN` to filter free or paid apps."
   ]
  },
  {
   "cell_type": "code",
   "execution_count": null,
   "id": "d48a6842",
   "metadata": {},
   "outputs": [],
   "source": []
  },
  {
   "cell_type": "markdown",
   "id": "be26865f",
   "metadata": {},
   "source": [
    "**11. Find the number of free vs paid apps for each genre.**\n",
    "\n",
    "- Use `price` and `prime_genre` column.\n",
    "- You can use `CASE WHEN` to filter free or paid apps."
   ]
  },
  {
   "cell_type": "code",
   "execution_count": null,
   "id": "8f7c8787",
   "metadata": {},
   "outputs": [],
   "source": []
  }
 ],
 "metadata": {
  "kernelspec": {
   "display_name": "Python 3",
   "language": "python",
   "name": "python3"
  },
  "language_info": {
   "codemirror_mode": {
    "name": "ipython",
    "version": 3
   },
   "file_extension": ".py",
   "mimetype": "text/x-python",
   "name": "python",
   "nbconvert_exporter": "python",
   "pygments_lexer": "ipython3",
   "version": "3.9.4"
  }
 },
 "nbformat": 4,
 "nbformat_minor": 5
}
