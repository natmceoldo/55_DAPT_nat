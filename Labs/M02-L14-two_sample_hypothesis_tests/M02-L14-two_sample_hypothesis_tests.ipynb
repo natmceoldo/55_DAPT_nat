{
 "cells": [
  {
   "cell_type": "markdown",
   "metadata": {},
   "source": [
    "# LAB | Two sample hypothesis test"
   ]
  },
  {
   "cell_type": "markdown",
   "metadata": {},
   "source": [
    "### Import libraries here:"
   ]
  },
  {
   "cell_type": "code",
   "execution_count": null,
   "metadata": {},
   "outputs": [],
   "source": [
    "# Your code here"
   ]
  },
  {
   "cell_type": "code",
   "execution_count": null,
   "metadata": {
    "colab": {},
    "colab_type": "code",
    "id": "rP39dRpdyLfS"
   },
   "outputs": [],
   "source": [
    "import pandas as pd"
   ]
  },
  {
   "cell_type": "markdown",
   "metadata": {},
   "source": [
    "# Exploring the data"
   ]
  },
  {
   "cell_type": "markdown",
   "metadata": {
    "colab_type": "text",
    "id": "aXbuNLgVyLfU"
   },
   "source": [
    "- In this LAB, we will examine all salaries of employees of the City of Chicago. \n",
    "- We will start by loading the dataset and examining its contents.\n",
    "- Read the `Employees_advanced.csv` dataset and store in a variable called `salaries`"
   ]
  },
  {
   "cell_type": "code",
   "execution_count": null,
   "metadata": {},
   "outputs": [],
   "source": [
    "# Your code here"
   ]
  },
  {
   "cell_type": "markdown",
   "metadata": {
    "colab_type": "text",
    "id": "0qmm0QC6yLfX"
   },
   "source": [
    "- Examine the dataset using the `head` function."
   ]
  },
  {
   "cell_type": "code",
   "execution_count": null,
   "metadata": {},
   "outputs": [],
   "source": [
    "# Your code here"
   ]
  },
  {
   "cell_type": "markdown",
   "metadata": {},
   "source": [
    "- The column `Salary or Hourly`  indicate two types of employees: salary and hourly.\n",
    "- Count how many employees are `salary` and `hourly`."
   ]
  },
  {
   "cell_type": "code",
   "execution_count": null,
   "metadata": {},
   "outputs": [],
   "source": [
    "# Your code here"
   ]
  },
  {
   "cell_type": "markdown",
   "metadata": {
    "colab_type": "text",
    "id": "RSjxsgI8yLff"
   },
   "source": [
    "- There are different `departments` in the city. \n",
    "- List all departments and the count of employees in each department."
   ]
  },
  {
   "cell_type": "code",
   "execution_count": null,
   "metadata": {},
   "outputs": [],
   "source": [
    "# Your code here"
   ]
  },
  {
   "cell_type": "markdown",
   "metadata": {},
   "source": [
    "# Hypothesis tests"
   ]
  },
  {
   "cell_type": "markdown",
   "metadata": {
    "colab_type": "text",
    "id": "DOsiez5TyLfh"
   },
   "source": [
    "- In this section of the lab, we will test if the hourly wage of all hourly workers is significantly different from \\$30/hr.\n",
    "- Perform the hypothesis test for a 95% two sided confidence interval.\n",
    "- Our null hypothesis is that the mean hourly wage of all hourly workers is \\$30/hr.\n",
    "> - Use `salaries` dataset and filter the rows with `Hourly` values.  \n",
    "> - Use the `ttest_1samp`\n",
    "\n",
    "```python\n",
    "from scipy.stats import ttest_1samp\n",
    "```"
   ]
  },
  {
   "cell_type": "code",
   "execution_count": null,
   "metadata": {},
   "outputs": [],
   "source": [
    "# Your code here"
   ]
  },
  {
   "cell_type": "markdown",
   "metadata": {
    "colab_type": "text",
    "id": "OiFJS9_PyLfk"
   },
   "source": [
    "- We are also curious about salaries in the police force. The chief of police in Chicago claimed in a press briefing that salaries this year are higher than last year's mean of \\$86000/year a year for all salaried employees. \n",
    "- Test this one sided hypothesis using a 95% confidence interval.\n",
    "> - Filter only rows with `Salary` in the `Salary or Hourly` column and `POLICE` in the `Department` column.\n",
    "> - Use the `ttest_1samp`\n",
    "\n",
    "```python\n",
    "from scipy.stats import ttest_ind\n",
    "```"
   ]
  },
  {
   "cell_type": "code",
   "execution_count": null,
   "metadata": {},
   "outputs": [],
   "source": [
    "# Your code here"
   ]
  },
  {
   "cell_type": "markdown",
   "metadata": {
    "colab_type": "text",
    "id": "hTYbXjbhyLfr"
   },
   "source": [
    "# Confidence Intervals\n",
    "- While testing our hypothesis is a great way to gather empirical evidence for accepting or rejecting the hypothesis, another way to gather evidence is by creating a confidence interval. \n",
    "- A confidence interval gives us information about the true mean of the population. So for a 95% confidence interval, we are 95% sure that the mean of the population is within the confidence interval. \n",
    "- In the cell below, we will construct a 95% confidence interval for the mean hourly wage of all hourly workers. \n",
    "\n",
    "```python\n",
    "from scipy.stats import t\n",
    "t.interval(confidence_level, df=degree_of_freedom, loc=location_parameter, scale=standard_error)\n",
    "```\n",
    "\n",
    "To compute the confidence interval of the hourly wage use:\n",
    "> - `0.95` for the confidence level\n",
    "> - Number of `rows - 1` for degrees of freedom \n",
    "> - The `mean` of the sample for the location parameter\n",
    "> - The `standard error for` the scale \n",
    "The standard error can be computed using [this](https://docs.scipy.org/doc/scipy/reference/generated/scipy.stats.sem.html) function in SciPy."
   ]
  },
  {
   "cell_type": "code",
   "execution_count": null,
   "metadata": {},
   "outputs": [],
   "source": [
    "# Your code here"
   ]
  },
  {
   "cell_type": "markdown",
   "metadata": {
    "colab_type": "text",
    "id": "QYJw1wREyLfv"
   },
   "source": [
    "- Now construct the 95% confidence interval for all salaried employees in the police in the cell below."
   ]
  },
  {
   "cell_type": "code",
   "execution_count": null,
   "metadata": {},
   "outputs": [],
   "source": [
    "# Your code here"
   ]
  },
  {
   "cell_type": "markdown",
   "metadata": {},
   "source": [
    "# Bonus -  Hypothesis Tests of Proportions"
   ]
  },
  {
   "cell_type": "markdown",
   "metadata": {
    "colab_type": "text",
    "id": "kOhGOmrCyLfx"
   },
   "source": [
    "- Another type of one sample test is a hypothesis test of proportions. \n",
    "- In this test, we examine whether the proportion of a group in our sample is significantly different than a fraction. \n",
    "- You can read more about one sample proportion tests [here](http://sphweb.bumc.bu.edu/otlt/MPH-Modules/BS/SAS/SAS6-CategoricalData/SAS6-CategoricalData2.html).\n",
    "- In the cell below, use the `proportions_ztest` function from `statsmodels` to perform a hypothesis test that will determine whether the number of hourly workers in the City of Chicago is significantly different from 25% at the 95% confidence level.\n",
    "```python\n",
    "from statsmodels.stats.proportion import proportions_ztest\n",
    "```"
   ]
  },
  {
   "cell_type": "code",
   "execution_count": null,
   "metadata": {},
   "outputs": [],
   "source": [
    "# Your code here"
   ]
  }
 ],
 "metadata": {
  "colab": {
   "name": "main.ipynb",
   "provenance": []
  },
  "kernelspec": {
   "display_name": "Python 3",
   "language": "python",
   "name": "python3"
  },
  "language_info": {
   "codemirror_mode": {
    "name": "ipython",
    "version": 3
   },
   "file_extension": ".py",
   "mimetype": "text/x-python",
   "name": "python",
   "nbconvert_exporter": "python",
   "pygments_lexer": "ipython3",
   "version": "3.8.3"
  },
  "toc": {
   "base_numbering": 1,
   "nav_menu": {},
   "number_sections": true,
   "sideBar": true,
   "skip_h1_title": false,
   "title_cell": "Table of Contents",
   "title_sidebar": "Contents",
   "toc_cell": false,
   "toc_position": {},
   "toc_section_display": true,
   "toc_window_display": false
  }
 },
 "nbformat": 4,
 "nbformat_minor": 1
}
